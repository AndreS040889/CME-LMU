{
 "cells": [
  {
   "cell_type": "markdown",
   "metadata": {
    "slideshow": {
     "slide_type": "slide"
    }
   },
   "source": [
    "# Computational Methods in Economics (winter term 2018/19)\n",
    "\n",
    "## Lecture 1 - Introduction"
   ]
  },
  {
   "cell_type": "markdown",
   "metadata": {
    "slideshow": {
     "slide_type": "slide"
    }
   },
   "source": [
    "## This Lecture\n",
    "\n",
    "- [This Course: Logistics](#logistics)\n",
    "- [What is \"Computational Economics\" and why do we need it?](#compecon)\n",
    "- [Python: An Overview](#python)"
   ]
  },
  {
   "cell_type": "markdown",
   "metadata": {
    "slideshow": {
     "slide_type": "skip"
    }
   },
   "source": [
    "--------------------------------------------------------------------------------------------------------------------------------\n",
    "<a id ='logistics'></a>"
   ]
  },
  {
   "cell_type": "markdown",
   "metadata": {
    "slideshow": {
     "slide_type": "slide"
    }
   },
   "source": [
    "## This Course: Logistics"
   ]
  },
  {
   "cell_type": "markdown",
   "metadata": {
    "slideshow": {
     "slide_type": "subslide"
    }
   },
   "source": [
    "### Who?\n",
    "\n",
    "Alex Schmitt, Ph.D.\n",
    "- Economist at the ifo Institute, Center for Energy, Climate and Resources\n",
    "- Web: http://www.cesifo-group.de/ifoHome/CESifo-Group/ifo/ifo-Mitarbeiter/cvifo-schmitt_a.html \n",
    "- Email: schmitt@ifo.de\n",
    "- Phone: 089 9224 1408\n",
    "- Office Hours: On appointment! "
   ]
  },
  {
   "cell_type": "markdown",
   "metadata": {
    "slideshow": {
     "slide_type": "subslide"
    }
   },
   "source": [
    "Christina Littlejohn\n",
    "\n",
    "- PhD Student at the ifo Institute, Center for Energy, Climate and Resources\n",
    "- Web: http://www.cesifo-group.de/ifoHome/CESifo-Group/ifo/ifo-Mitarbeiter/cvifo-littlejohn_c.html \n",
    "- Email: littlejohn@ifo.de\n",
    "- Phone: 089 9224 1433\n",
    "- Office Hours: On appointment! "
   ]
  },
  {
   "cell_type": "markdown",
   "metadata": {
    "collapsed": true,
    "slideshow": {
     "slide_type": "subslide"
    }
   },
   "source": [
    "### When and Where? \n",
    "- 6 ECTS course (2h + 2h per week)\n",
    "- Lecture: Wednesday, 16-18 c.t., M 101\n",
    "- Tutorial: Friday 10-12 c.t., A 015\n",
    "- Examination: **Oral** exam, date TBA"
   ]
  },
  {
   "cell_type": "markdown",
   "metadata": {
    "slideshow": {
     "slide_type": "subslide"
    }
   },
   "source": [
    "### Material \n",
    "\n",
    "- The Jupyter notebooks used in the lecture can be found on Github and downloaded either directly or using Git (more on that in the first tutorial session!):\n",
    "\n",
    "    https://github.com/Moony2D/CME-LMU\n",
    "    \n",
    "\n",
    "- The (partially) mandatory textbook for this class is **Mario J. Miranda and Paul L. Fackler (2004), *Applied Computational Economics and Finance*, MIT Press**"
   ]
  },
  {
   "cell_type": "markdown",
   "metadata": {
    "slideshow": {
     "slide_type": "subslide"
    }
   },
   "source": [
    "- Other textbooks that I will refer to as background reading (not required):\n",
    "    - Kenneth Judd (1998), *Numerical Methods in Economics*, MIT Press\n",
    "\n",
    "    - John Stachurski (2009), *Economic Dynamics - Theory and Computation*, MIT Press. \n",
    "\n",
    "- Some sections will also have papers, as either required or recommended reading (compare syllabus). "
   ]
  },
  {
   "cell_type": "markdown",
   "metadata": {
    "slideshow": {
     "slide_type": "subslide"
    }
   },
   "source": [
    "### Objectives\n",
    "\n",
    "The goal of this course is to provide an introduction to computational tools for conducting numerical analysis of economic models; hence, \n",
    "- to provide you with a basic understanding of some fundamental techniques and algorithms used in numerical analysis and economic modeling  \n",
    "- to give you \"hands-on\" experience on how to implement these techniques in Python"
   ]
  },
  {
   "cell_type": "markdown",
   "metadata": {
    "slideshow": {
     "slide_type": "subslide"
    }
   },
   "source": [
    "\"Computers and mathematics are like beer and potato chips: two fine tastes that are best enjoyed together\" (John Stachurski)"
   ]
  },
  {
   "cell_type": "markdown",
   "metadata": {
    "slideshow": {
     "slide_type": "subslide"
    }
   },
   "source": [
    "That said, it is important to note that \n",
    " - this is neither a math class nor a CS course!\n",
    " - the balance between hands-on coding and mathematical background may at times be tilted in the direction of the former!  \n"
   ]
  },
  {
   "cell_type": "markdown",
   "metadata": {
    "slideshow": {
     "slide_type": "subslide"
    }
   },
   "source": [
    "### Programming\n",
    "\n",
    "Consider this course an opportunity to get familiar with programming in general and a specific language in particular.\n",
    "- Indispensable skill in the context of economic modeling\n",
    "- Programming has become increasingly important in all fields of economics\n",
    "- Great skill to have for the (academic and non-academic) job market\n",
    "- It is fun!"
   ]
  },
  {
   "cell_type": "markdown",
   "metadata": {
    "slideshow": {
     "slide_type": "skip"
    }
   },
   "source": [
    "--------------------------------------------------------------------------------------------------------------------------------\n",
    "<a id ='compecon'></a>"
   ]
  },
  {
   "cell_type": "markdown",
   "metadata": {
    "slideshow": {
     "slide_type": "slide"
    }
   },
   "source": [
    "## What is \"Computational Economics\" and why do we need it?"
   ]
  },
  {
   "cell_type": "markdown",
   "metadata": {
    "slideshow": {
     "slide_type": "subslide"
    }
   },
   "source": [
    "When do we use computers in economic analysis?"
   ]
  },
  {
   "cell_type": "markdown",
   "metadata": {
    "slideshow": {
     "slide_type": "subslide"
    }
   },
   "source": [
    "- Working with data\n",
    "    - econometrics, machine learning\n",
    "    - \"black box\" applications (e.g. STATA)\n",
    "    - what happens in the box are implementations of numerical algorithms discussed in this course"
   ]
  },
  {
   "cell_type": "markdown",
   "metadata": {
    "slideshow": {
     "slide_type": "subslide"
    }
   },
   "source": [
    "- Illustration of theoretical \"pen-and-paper\" results \n",
    "    - usually, the main result of a \"deductive theory\" paper is a general statement or closed-form expressions (*theorems*)\n",
    "    - numerical analysis is used to illustrate this result for a given set of parameters\n",
    "    - check for quantitative importance of (specific instances of) a result (e.g. the relative sizes of opposing effects)"
   ]
  },
  {
   "cell_type": "markdown",
   "metadata": {
    "slideshow": {
     "slide_type": "subslide"
    }
   },
   "source": [
    "Side note: in mathematics, a closed-form expression is a mathematical expression that can be evaluated in a finite number of operations (algebra and calculus)"
   ]
  },
  {
   "cell_type": "markdown",
   "metadata": {
    "slideshow": {
     "slide_type": "subslide"
    }
   },
   "source": [
    "- Solving models\n",
    "    - in economics, a model can be solved analytically if a solution can be derived from a closed-form expression\n",
    "    - many models (in particular dynamic ones) and hence many interesting problems lack a closed-form/analytical solution\n",
    "    - therefore, computers have become an indispensable tool for conducting quantitative research in economics"
   ]
  },
  {
   "cell_type": "markdown",
   "metadata": {
    "slideshow": {
     "slide_type": "subslide"
    }
   },
   "source": [
    "#### Example\n",
    "\n",
    "An agent maximizes her utility over two consumption goods. She has an initial endowment $x$ for good 1. Moreover, she can convert good 1 in good 2, using a decreasing-returns-to-scale technology. Formally,\n",
    "\n",
    "\\begin{equation*}\n",
    "    u(c_1, c_2) = \\frac{c_1^{1 - \\nu}}{1 - \\nu} + \\frac{c_2^{1 - \\nu}}{1 - \\nu}.\n",
    "\\end{equation*}\n",
    "\n",
    "s.t. \n",
    "\n",
    "\\begin{equation*}\n",
    "    c_2 = (x - c_1)^\\alpha.\n",
    "\\end{equation*}"
   ]
  },
  {
   "cell_type": "markdown",
   "metadata": {
    "slideshow": {
     "slide_type": "subslide"
    }
   },
   "source": [
    "Taking first-order conditions and rearranging, we can find an optimality condition, that is, an expression in $c_1$:\n",
    "\n",
    "\\begin{equation*}\n",
    "    (x - c_1)^{\\alpha\\nu - \\alpha + 1} = \\alpha c_1^\\nu. \n",
    "\\end{equation*}\n",
    "\n",
    "In the special case $\\nu = 1$, it is easy to verify that\n",
    "\n",
    "\\begin{equation*}\n",
    "    c_1^* = (1 + \\alpha)^{-1} x\n",
    "\\end{equation*}"
   ]
  },
  {
   "cell_type": "markdown",
   "metadata": {
    "slideshow": {
     "slide_type": "subslide"
    }
   },
   "source": [
    "In the general case $\\nu \\neq 1$, we are not able to find a closed-form solution for $c_1$.\n",
    "\n",
    "This indicates a *trade-off*: do we rely exclusively to analytical methods at the cost of limiting ourselves to special (and potentially not that relevant) cases? Or do we embrace numerical methods to be able to deal with more general problems?"
   ]
  },
  {
   "cell_type": "markdown",
   "metadata": {
    "slideshow": {
     "slide_type": "subslide"
    }
   },
   "source": [
    "#### Computational Economics - Defined\n",
    "\n",
    "*Wikipedia*: \"Computational economics is a research discipline at the interface of computer science, economics, and management science. This subject encompasses computational modeling of economic systems, whether agent-based, general-equilibrium, macroeconomic, or rational-expectations, computational econometrics and statistics, computational finance, computational tools for the design of automated internet markets, [...]. Some of these areas are unique to computational economics, while others extend traditional areas of economics by solving problems that are difficult to study without the use of computers and associated numerical methods.''"
   ]
  },
  {
   "cell_type": "markdown",
   "metadata": {
    "slideshow": {
     "slide_type": "subslide"
    }
   },
   "source": [
    "More narrow: \"Computational economics uses computer-based economic modeling for the solution of analytically and statistically formulated economic problems.\""
   ]
  },
  {
   "cell_type": "markdown",
   "metadata": {
    "slideshow": {
     "slide_type": "subslide"
    }
   },
   "source": [
    "#### Deductive Theory vs. Computational Methods\n",
    "\n",
    "Compare Judd (1997)"
   ]
  },
  {
   "cell_type": "markdown",
   "metadata": {
    "slideshow": {
     "slide_type": "skip"
    }
   },
   "source": [
    "What is a theory?\n",
    "  - collection of concepts, definitions and assumptions\n",
    "  - a *theoretical analysis* determines the implications of a theory\n",
    "  \n",
    "  \n",
    "*Deductive* (conventional) theory...\n",
    "  - is concerned with \"proving theorems\" (or lemmas, or propositions), i.e. \"pen-and-paper results\"\n",
    "  - can determine the \"qualitative structure of a model\" \n",
    "  - can rarely answer all important questions; if the theorist is unable to prove general results, she needs to turn to special cases which are tractable\n",
    "    \n",
    "Drawbacks of deductive theory:\n",
    "  - special cases may sacrifice model elements of first-order importance\n",
    "  - nonquantitative, i.e. no indication about the relevance of a result\n",
    "\n",
    "\n",
    "Deductive theory is one approach to theoretical analysis, but is not a synonym.\n",
    "\n",
    "Distinguish between \"mathematical economics and economic theory\"."
   ]
  },
  {
   "cell_type": "markdown",
   "metadata": {
    "slideshow": {
     "slide_type": "subslide"
    }
   },
   "source": [
    "Computation is an alternative way to conduct theoretical analysis.\n",
    "\n",
    "Consider Hamming's motto: *The Goal of Computing is Insight, Not Numbers*.    "
   ]
  },
  {
   "cell_type": "markdown",
   "metadata": {
    "slideshow": {
     "slide_type": "skip"
    }
   },
   "source": [
    "Arguments against \"computational theory\": \n",
    "\n",
    "- Computer programs as a ``black box''\n",
    "    - Easy remedy: better exposition\n",
    "    - Einstein: a model should be ``as simple as possible, but not simpler''\n",
    "\n",
    "- Numerical analysis contains approximation errors\n",
    "     - \"in economic theory, [...] the issue is not whether we use approximation methods, but where in our analysis we make approximations, what kind of approximation errors we tolerate and which ones we avoid, and how we interpret the inevitable approximation errors.\" (Judd 1997, p. 918)\n",
    "     - simple cases in deductive analysis also make approximation errors\n",
    "     - of course, even very complex computer models are simplifications of the real world\n",
    "\n",
    "- Solving a model numerically also considers a special case, e.g. a given calibration\n",
    "    - importance of sensitivity analysis/robustness checks\n",
    "    - computation allows the modeler to consider a (finite) set of specific instances of a theory, not just one special case"
   ]
  },
  {
   "cell_type": "markdown",
   "metadata": {
    "slideshow": {
     "slide_type": "subslide"
    }
   },
   "source": [
    "*In a nutshell*: \"[S]ince any theoretical analysis is really an approximation of the economic reality we are trying to model, we have to ask which is more important: the development of theories simple enough for theorem-proving, or examining more reasonable theories using less precise numerical methods.\" (Judd 1997, p. 909)"
   ]
  },
  {
   "cell_type": "markdown",
   "metadata": {
    "slideshow": {
     "slide_type": "subslide"
    }
   },
   "source": [
    "At the end of the day, computational methods are another useful instrument in your economist's \"toolbox\".\n",
    "\n",
    "As with any tool, they will not be applicable to *every* problem, but may be the best (and sometimes the only) way forward for *some* problems."
   ]
  },
  {
   "cell_type": "markdown",
   "metadata": {
    "slideshow": {
     "slide_type": "subslide"
    }
   },
   "source": [
    "*If all you have is a hammer, everything looks like a nail.*"
   ]
  },
  {
   "cell_type": "markdown",
   "metadata": {
    "slideshow": {
     "slide_type": "subslide"
    }
   },
   "source": [
    "### Rules of Thumb for Doing Good Computational Work in Economics (via Tony Smith)\n",
    "\n",
    "- Start with the simplest possible model, preferably one with an analytical solution.\n",
    "\n",
    "- Add features incrementally.\n",
    "\n",
    "- Never add another feature until you are confident of your current results."
   ]
  },
  {
   "cell_type": "markdown",
   "metadata": {
    "slideshow": {
     "slide_type": "subslide"
    }
   },
   "source": [
    "- Use the simplest possible methods. Use one-dimensional algorithms as much as possible.\n",
    "\n",
    "- Accuracy is more important than speed or elegance.\n",
    "\n",
    "- Use methods that are as transparent as possible (i.e., methods for which the computer code reflects as closely as possible the economic structure of the problem)."
   ]
  },
  {
   "cell_type": "markdown",
   "metadata": {
    "slideshow": {
     "slide_type": "subslide"
    }
   },
   "source": [
    "- When you learn (or develop) a new method, test it on the simplest possible problem, preferably one with an analytical solution.\n",
    "\n",
    "- Dan Bernhardt's rule: If you have n errors in a piece of code and you remove one, you still have n errors. Scrutinize your results, even if they look right. Look for anomalies. *Assume your code is wrong until proven otherwise.*\n",
    "\n",
    "- Graph, graph, graph. Two-dimensional graphs are more informative than three-dimensional graphs."
   ]
  },
  {
   "cell_type": "markdown",
   "metadata": {
    "slideshow": {
     "slide_type": "subslide"
    }
   },
   "source": [
    "\n",
    "- Be able to replicate all of your intermediate and final results instantly. Save exact copies of the code used for each run, together with inputs and outputs (*version control*!).\n",
    "\n",
    "- Watch the computations as they proceed.\n",
    "\n",
    "- Look for hidden structure. Always compute (and print out) a few more numbers than you need.\n"
   ]
  },
  {
   "cell_type": "markdown",
   "metadata": {
    "slideshow": {
     "slide_type": "skip"
    }
   },
   "source": [
    "--------------------------------------------------------------------------------------------------------------------------------\n",
    "<a id ='python'></a>"
   ]
  },
  {
   "cell_type": "markdown",
   "metadata": {
    "slideshow": {
     "slide_type": "slide"
    }
   },
   "source": [
    "## Python: An Overview"
   ]
  },
  {
   "cell_type": "markdown",
   "metadata": {
    "slideshow": {
     "slide_type": "subslide"
    }
   },
   "source": [
    "In this course, we're going to use exclusively **Python** the lectures and tutorials; in other words, examples, exercises, solutions etc. will be provided only in Python.\n",
    "\n",
    "You are required to work on the exam in Python as well. "
   ]
  },
  {
   "cell_type": "markdown",
   "metadata": {
    "slideshow": {
     "slide_type": "subslide"
    }
   },
   "source": [
    "*Wikipedia*: \"Python is a widely used **high-level programming language** for **general-purpose** programming, created by Guido van Rossum and first released in 1991. An **interpreted language**, Python has a design philosophy which emphasizes **code readability** (notably using whitespace indentation to delimit code blocks rather than curly braces or keywords), and a syntax which allows programmers to **express concepts in fewer lines of code** than possible in languages such as C++ or Java. The language provides constructs intended to enable writing clear programs on both a small and large scale.\""
   ]
  },
  {
   "cell_type": "markdown",
   "metadata": {
    "slideshow": {
     "slide_type": "subslide"
    }
   },
   "source": [
    "Fun fact: Python is not named after the animal, but after *Monty Python's Flying Circus*."
   ]
  },
  {
   "cell_type": "markdown",
   "metadata": {
    "slideshow": {
     "slide_type": "subslide"
    }
   },
   "source": [
    "#### Some characteristics\n",
    "\n",
    "- High-level programming language\n",
    "    - emphasis on readability\n",
    "    - easy to learn and easy to use"
   ]
  },
  {
   "cell_type": "markdown",
   "metadata": {
    "slideshow": {
     "slide_type": "subslide"
    }
   },
   "source": [
    "\"I have this hope that there is a better way. Higher-level tools that actually let you see the structure of the software more clearly will be of tremendous value.\" (Guido van Rossum)"
   ]
  },
  {
   "cell_type": "markdown",
   "metadata": {
    "slideshow": {
     "slide_type": "subslide"
    }
   },
   "source": [
    "- Interpreted / dynamically typed\n",
    "     - no explicit compilation step (as e.g. in C++ or Fortran)\n",
    "     - inefficient memory access\n",
    "     - As a result, running an application in Python is (typically) slower than in lower-level, compiled languages"
   ]
  },
  {
   "cell_type": "markdown",
   "metadata": {
    "slideshow": {
     "slide_type": "subslide"
    }
   },
   "source": [
    "\"Given this inherent inefficiency, why would we even think about using Python? Well, it comes down to this: Dynamic typing makes Python easier to use than C. It's extremely flexible and forgiving, this flexibility leads to efficient use of development time, and on those occasions that you really need the optimization of C or Fortran, Python offers easy hooks into compiled libraries. It's why Python use within many scientific communities has been continually growing. With all that put together, **Python ends up being an extremely efficient language for the overall task of doing science with code**.\" (https://jakevdp.github.io/blog/2014/05/09/why-python-is-slow/)"
   ]
  },
  {
   "cell_type": "markdown",
   "metadata": {
    "slideshow": {
     "slide_type": "subslide"
    }
   },
   "source": [
    "Keep it in mind: *programming time is the sum of coding time and running time!*"
   ]
  },
  {
   "cell_type": "markdown",
   "metadata": {
    "slideshow": {
     "slide_type": "subslide"
    }
   },
   "source": [
    "- Free and open-source\n",
    "    - large community of users and developers (\"Pythonistas\"); many applications have been implemented in packages which are easy to downloaded and import\n",
    "    - extensive documentation"
   ]
  },
  {
   "cell_type": "markdown",
   "metadata": {
    "slideshow": {
     "slide_type": "subslide"
    }
   },
   "source": [
    "- General-purpose language\n",
    "    - examples for applications include:\n",
    "        - \"Scientific Computing\" (**Numpy/Scipy**, **Matplotlib**: matrix operations, optimization, root finding, plotting, etc.) \n",
    "        - Working with data (**Pandas**, **Statsmodel**)\n",
    "        - Parsing text files\n",
    "        - Web scraping (**Beautiful Soup**) \n",
    "        - Machine Learning (**Scikit-Learn**)\n",
    "        - Games\n",
    "        - Creation of GUIs, web services etc. \n"
   ]
  },
  {
   "cell_type": "markdown",
   "metadata": {
    "slideshow": {
     "slide_type": "subslide"
    }
   },
   "source": [
    "#### Why Should You Learn Python?"
   ]
  },
  {
   "cell_type": "markdown",
   "metadata": {
    "slideshow": {
     "slide_type": "fragment"
    }
   },
   "source": [
    "Easy Answer: because it is required for the course! :)"
   ]
  },
  {
   "cell_type": "markdown",
   "metadata": {
    "slideshow": {
     "slide_type": "subslide"
    }
   },
   "source": [
    "General answer: \"trifecta of greatness\"\n",
    "  - ease of use\n",
    "  - open source with a large dev community\n",
    "  - general purpose"
   ]
  },
  {
   "cell_type": "markdown",
   "metadata": {
    "slideshow": {
     "slide_type": "subslide"
    }
   },
   "source": [
    "If you have no or very little experience with programming and scripting languages:\n",
    "- programming skills are highly useful and valuable both on the academic and non-academic job market\n",
    "- due to its emphasis on readability and simple syntax, Python is (most likely) the easiest way to get into programming while still being a powerful language"
   ]
  },
  {
   "cell_type": "markdown",
   "metadata": {
    "slideshow": {
     "slide_type": "subslide"
    }
   },
   "source": [
    "#### Why should you learn Python *in addition* or *instead of* another programming language?"
   ]
  },
  {
   "cell_type": "markdown",
   "metadata": {
    "slideshow": {
     "slide_type": "subslide"
    }
   },
   "source": [
    "General point 1: having more tools at your disposal is never a bad idea!\n",
    "\n",
    "*If all you have is a hammer, everything looks like a nail.*"
   ]
  },
  {
   "cell_type": "markdown",
   "metadata": {
    "slideshow": {
     "slide_type": "subslide"
    }
   },
   "source": [
    "General point 2: there is no such thing as the \"best programming language\"\n",
    "   - what a \"right\" language is depends very much on the task(s) at hand\n"
   ]
  },
  {
   "cell_type": "markdown",
   "metadata": {
    "slideshow": {
     "slide_type": "skip"
    }
   },
   "source": [
    "\"To be honest, I really hate those types of questions: *Which _ is the best?* (_ insert *programming language, text editor, IDE, operating system, computer manufacturer* here). This is really a nonsense question and discussion. Sometimes it can be fun and entertaining though, but I recommend saving this question for our occasional after-work beer or coffee with friends and colleagues.\" (https://sebastianraschka.com/blog/2015/why-python.html)"
   ]
  },
  {
   "cell_type": "markdown",
   "metadata": {
    "slideshow": {
     "slide_type": "subslide"
    }
   },
   "source": [
    "General point 3: if you are experienced in another programming language, the cost of learning Python is probably small"
   ]
  },
  {
   "cell_type": "markdown",
   "metadata": {
    "slideshow": {
     "slide_type": "subslide"
    }
   },
   "source": [
    "\"Just think about, you learned how to swing a hammer to drive the nail in, how hard can it possibly be to pick up a hammer from a different manufacturer?\" (https://sebastianraschka.com/blog/2015/why-python.html)"
   ]
  },
  {
   "cell_type": "markdown",
   "metadata": {
    "slideshow": {
     "slide_type": "skip"
    }
   },
   "source": [
    "#### Python vs. MATLAB\n",
    "\n",
    "  - Everything that you can do in (basic) MATLAB (scientific computing, graphics) you can also do in Python (using packages like Numpy, Scipy, Matplotlib), with little adjustment cost\n",
    "\n",
    "  - Not everything that you can do in Python you can do in MATLAB (e.g. data analysis)\n",
    "\n",
    "  - Data Science/Big Data Analysis: Python and R seem to be the most popular languages by a mile\n",
    "  \n",
    "  - No general speed advantages: http://julialang.org/benchmarks/ \n",
    "  \n",
    "  - \"Knockout blow\": MATLAB is rather pricey, Python is open source \n",
    "\n",
    "  - More arguments: https://folk.uio.no/jeanra/Informatics/UsePythonNotMatlab.html\n",
    "  \n",
    "Main advantages of MATLAB:\n",
    "  - Quality of (some) algorithms and routines  \n",
    "  - Slightly easier syntax than Python/Numpy\n",
    "  - \"Networking\" aspect: (still) predominant language in computational economics  "
   ]
  },
  {
   "cell_type": "markdown",
   "metadata": {
    "slideshow": {
     "slide_type": "skip"
    }
   },
   "source": [
    "#### Python vs. R\n",
    "\n",
    "Disclaimer: I have no experience with R, so all of the following is based on Google and hearsay :)\n",
    "\n",
    "- R has a more narrow application spectrum: data science/data analysis $\\Rightarrow$ not general purpose\n",
    "- In the realm of data science/data analysis, both are very close substitutes\n",
    "- If you don't know either, Python seems to have considerably lower learning cost"
   ]
  },
  {
   "cell_type": "markdown",
   "metadata": {
    "slideshow": {
     "slide_type": "subslide"
    }
   },
   "source": [
    "#### Installing Python\n",
    "\n",
    "- There exist different Python *distributions*; your computer may already have a Python version installed\n",
    "\n",
    "- For this course, I recommend to use the **Anaconda** distribution\n",
    "    - download for free at https://www.continuum.io/downloads\n",
    "    - easy to install, manage and update\n",
    "    - contains all relevant packages (Numpy, Scipy, Pandas, etc.)\n",
    "    \n",
    "- After downloading for Windows or Mac, install Anaconda3 by following the instructions    "
   ]
  },
  {
   "cell_type": "markdown",
   "metadata": {
    "slideshow": {
     "slide_type": "subslide"
    }
   },
   "source": [
    "#### Python 2 or Python 3?\n",
    "\n",
    "- \"Python 2.x is legacy, Python 3.x is the present and future of the language\"\n",
    "    - Python 2.7 is no longer actively developed, but still widely used; some packages are written exclusively for Python 2\n",
    "    - There are some differences with respect to the syntax\n",
    "    - When writing new code, it is relatively easy to write it in a way so that it runs under both Python 2 and Python 3"
   ]
  },
  {
   "cell_type": "markdown",
   "metadata": {
    "slideshow": {
     "slide_type": "subslide"
    }
   },
   "source": [
    "- For this course, it doesn't matter too much which one we use; since **Python 3.6** is the \"current\" version, we go this way\n",
    "\n",
    "- With Anaconda, it is fairly straightforward to have an environment for each of them, and switch between them as need be (see https://conda.io/docs/py2or3.html)"
   ]
  },
  {
   "cell_type": "markdown",
   "metadata": {
    "slideshow": {
     "slide_type": "skip"
    }
   },
   "source": [
    "For more information, compare for example \n",
    "- https://wiki.python.org/moin/Python2orPython3\n",
    "- http://sebastianraschka.com/Articles/2014_python_2_3_key_diff.html"
   ]
  },
  {
   "cell_type": "markdown",
   "metadata": {
    "slideshow": {
     "slide_type": "subslide"
    }
   },
   "source": [
    "#### How to Use Python\n",
    "\n",
    "- command line (**Ipython**)\n",
    "\n",
    "- scripts; make sure to get a \"good\" text editor (e.g. Sublime Text 2/3, Notepad++, etc.)!\n",
    "\n",
    "- **IDLE** (Integrated Development and Learning Environment); simple GUI (outdated?)\n",
    "\n",
    "- **Spyder** (Scientific Python Development Environment) \n",
    "    - Spyder is included in Anaconda"
   ]
  },
  {
   "cell_type": "markdown",
   "metadata": {
    "slideshow": {
     "slide_type": "subslide"
    }
   },
   "source": [
    "- Jupyter notebooks\n",
    "    - *Ju*lia, *Pyt*hon and *R*\n",
    "    - interactive environment for running code in your browser (Google Chrome, Mozilla)\n",
    "    - great tool for writing and documenting code, as well as for teaching"
   ]
  },
  {
   "cell_type": "markdown",
   "metadata": {
    "slideshow": {
     "slide_type": "skip"
    }
   },
   "source": [
    "For an overview, see https://lectures.quantecon.org/py/getting_started.html#jupyter-notebooks."
   ]
  },
  {
   "cell_type": "markdown",
   "metadata": {
    "slideshow": {
     "slide_type": "subslide"
    }
   },
   "source": [
    "To start a Jupyter notebook on Windows: \n",
    "- use the Anaconda navigator (can be found via *Start*, *Programs*, *Anaconda3*)\n",
    "- open a command window (\"Eingabeaufforderung\") and type **Jupyter notebook**      \n",
    "   \n",
    "You can then navigate to your working directory.   "
   ]
  },
  {
   "cell_type": "markdown",
   "metadata": {
    "slideshow": {
     "slide_type": "subslide"
    }
   },
   "source": [
    "To start a Jupyter notebook on Mac:\n",
    "- use the Anaconda navigator (via the Launchpad)\n",
    "- open a terminal window and type **Jupyter notebook**        \n",
    "   \n",
    "You can then navigate to your working directory.   "
   ]
  },
  {
   "cell_type": "markdown",
   "metadata": {
    "slideshow": {
     "slide_type": "subslide"
    }
   },
   "source": [
    "- Note that all course materials (lecture notes, exercises, solutions) are provided as Jupyter notebooks\n",
    "\n",
    "- For the exam, you will be asked to submit a Juypter notebook as well!"
   ]
  },
  {
   "cell_type": "markdown",
   "metadata": {
    "slideshow": {
     "slide_type": "subslide"
    }
   },
   "source": [
    "Please try to install Anaconda3 and open a Jupyter notebook until Friday's Tutorial session! If you run into problems, let me know!"
   ]
  }
 ],
 "metadata": {
  "celltoolbar": "Slideshow",
  "kernelspec": {
   "display_name": "Python 3",
   "language": "python",
   "name": "python3"
  },
  "language_info": {
   "codemirror_mode": {
    "name": "ipython",
    "version": 3
   },
   "file_extension": ".py",
   "mimetype": "text/x-python",
   "name": "python",
   "nbconvert_exporter": "python",
   "pygments_lexer": "ipython3",
   "version": "3.6.6"
  }
 },
 "nbformat": 4,
 "nbformat_minor": 2
}
