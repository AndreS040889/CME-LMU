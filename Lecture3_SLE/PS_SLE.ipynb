{
 "cells": [
  {
   "cell_type": "markdown",
   "metadata": {},
   "source": [
    "# Computational Methods in Economics\n",
    "\n",
    "## Problem Set - Solving Systems of Linear Equations"
   ]
  },
  {
   "cell_type": "code",
   "execution_count": 1,
   "metadata": {
    "collapsed": false
   },
   "outputs": [
    {
     "name": "stdout",
     "output_type": "stream",
     "text": [
      "Last update: 2017-11-01 16:44:45.105699\n"
     ]
    }
   ],
   "source": [
    "# Author: Alex Schmitt (schmitt@ifo.de)\n",
    "\n",
    "import datetime\n",
    "print('Last update: ' + str(datetime.datetime.today()))"
   ]
  },
  {
   "cell_type": "markdown",
   "metadata": {},
   "source": [
    "### Preliminaries\n",
    "\n",
    "#### Import Modules"
   ]
  },
  {
   "cell_type": "code",
   "execution_count": 2,
   "metadata": {
    "collapsed": true
   },
   "outputs": [],
   "source": [
    "import numpy as np\n",
    "import scipy.optimize\n",
    "\n",
    "import matplotlib.pyplot as plt\n",
    "%matplotlib inline\n",
    "import seaborn\n",
    "\n",
    "import numpy as np\n",
    "import scipy.optimize\n",
    "import scipy.linalg\n",
    "\n",
    "\n",
    "# import sys\n",
    "from importlib import reload"
   ]
  },
  {
   "cell_type": "markdown",
   "metadata": {},
   "source": [
    "## Question 1 (A)\n",
    "\n",
    "(a) Find the largest positive integer $n$ such that $2^n - 1$ is a DP number.\n",
    "\n",
    "(b) Show that the distance between two adjacent DP numbers $y_1$ and $y_2$ with $y_1 < y_2$ that, \n",
    "\n",
    "\\begin{equation}\n",
    "   | y_2 - y_1 | = \\epsilon_{DP} 2^{e(y_1) - 1023}. \n",
    "\\end{equation}\n",
    "\n",
    "Hint: Consider two cases for $e$ and $f$ that make two DP numbers adjacent.\n"
   ]
  },
  {
   "cell_type": "markdown",
   "metadata": {},
   "source": [
    "## Question 2 (N)\n",
    "\n",
    "Write a function **backward_sub** that implements the backward-substitution algorithm to solve an upper triangular system of equations in Python. As a first step, derive an expression for $x_i$, analogous to the case of forward-substitution in the lecture."
   ]
  },
  {
   "cell_type": "code",
   "execution_count": null,
   "metadata": {
    "collapsed": true
   },
   "outputs": [],
   "source": []
  },
  {
   "cell_type": "markdown",
   "metadata": {},
   "source": [
    "## Question 3 (A)\n",
    "\n",
    "In Miranda & Fackler, p. 11, you find an example for Gaussian elimination, specifically for the matrix:"
   ]
  },
  {
   "cell_type": "code",
   "execution_count": 4,
   "metadata": {
    "collapsed": true
   },
   "outputs": [],
   "source": [
    "A = np.array([[2, 0, -1, 2],\n",
    "              [4, 2, -1, 4],\n",
    "              [2, -2, -2, 3],\n",
    "              [-2, 2, 7, -3]])"
   ]
  },
  {
   "cell_type": "markdown",
   "metadata": {},
   "source": [
    "In their implementation of LU factorization (which is difference from ours!) they find"
   ]
  },
  {
   "cell_type": "code",
   "execution_count": 5,
   "metadata": {
    "collapsed": true
   },
   "outputs": [],
   "source": [
    "pl = np.array([[1, 0, 0, 0],\n",
    "              [2, 1, 0, 0],\n",
    "              [1, -1, 0, 1],\n",
    "              [-1, 1, 1, 0]])\n",
    "u = np.array([[2, 0, -1, 2],\n",
    "              [0, 2, 1, 0],\n",
    "              [0, 0, 5, -1],\n",
    "              [0, 0, 0, 1]])"
   ]
  },
  {
   "cell_type": "markdown",
   "metadata": {},
   "source": [
    "It is easy to verify that this is a valid LU factorization:"
   ]
  },
  {
   "cell_type": "code",
   "execution_count": 8,
   "metadata": {
    "collapsed": false
   },
   "outputs": [
    {
     "data": {
      "text/plain": [
       "True"
      ]
     },
     "execution_count": 8,
     "metadata": {},
     "output_type": "execute_result"
    }
   ],
   "source": [
    "np.allclose(pl @ u, A)"
   ]
  },
  {
   "cell_type": "markdown",
   "metadata": {},
   "source": [
    "Using Scipy's **linalg.lu** function, we get different matrices for **pl** and **u**:"
   ]
  },
  {
   "cell_type": "code",
   "execution_count": 14,
   "metadata": {
    "collapsed": false
   },
   "outputs": [
    {
     "name": "stdout",
     "output_type": "stream",
     "text": [
      "True\n"
     ]
    },
    {
     "data": {
      "text/plain": [
       "(array([[  5.00000000e-01,   3.33333333e-01,  -5.55111512e-18,\n",
       "           1.00000000e+00],\n",
       "        [  1.00000000e+00,   0.00000000e+00,   0.00000000e+00,\n",
       "           0.00000000e+00],\n",
       "        [  5.00000000e-01,   1.00000000e+00,   0.00000000e+00,\n",
       "           0.00000000e+00],\n",
       "        [ -5.00000000e-01,  -1.00000000e+00,   1.00000000e+00,\n",
       "           0.00000000e+00]]),\n",
       " array([[ 4.        ,  2.        , -1.        ,  4.        ],\n",
       "        [ 0.        , -3.        , -1.5       ,  1.        ],\n",
       "        [ 0.        ,  0.        ,  5.        ,  0.        ],\n",
       "        [ 0.        ,  0.        ,  0.        , -0.33333333]]))"
      ]
     },
     "execution_count": 14,
     "metadata": {},
     "output_type": "execute_result"
    }
   ],
   "source": [
    "pl, u = scipy.linalg.lu(A, permute_l=True)\n",
    "print( np.allclose(pl @ u, A) )\n",
    "pl, u"
   ]
  },
  {
   "cell_type": "markdown",
   "metadata": {},
   "source": [
    "One important takeaway from this is that there multiple ways to factor a matrix into LU components, and hence multiple valid LU representations. Use our PA = LU factorization algorithm from the lecture on matrix $A$, i.e. find $pl$ and $u$ analytically."
   ]
  },
  {
   "cell_type": "markdown",
   "metadata": {},
   "source": [
    "## Question 4 (N)\n",
    "\n",
    "Solve Exercise 2.2 in Miranda and Fackler. That is, find the solution to a SLE with"
   ]
  },
  {
   "cell_type": "code",
   "execution_count": null,
   "metadata": {
    "collapsed": true
   },
   "outputs": [],
   "source": [
    "A = np.array([[54, 14, -11, 2], \n",
    "              [14, 50, -4, 29],\n",
    "              [-11, -4, 55, 22],\n",
    "              [2, 29, 22, 95]]\n",
    "            )\n",
    "b = np.array([1, 1, 1, 1])"
   ]
  },
  {
   "cell_type": "markdown",
   "metadata": {},
   "source": [
    "numerically, using\n",
    "a) LU factorization,\n",
    "b) Gauss-Jacobi,\n",
    "c) Gauss-Seidel.\n",
    "\n",
    "For LU factorization, do not use the **linalg.solve** functions in Numpy or Scipy. However, you can use Scipy's **linalg.lu** function."
   ]
  }
 ],
 "metadata": {
  "kernelspec": {
   "display_name": "Python 3",
   "language": "python",
   "name": "python3"
  },
  "language_info": {
   "codemirror_mode": {
    "name": "ipython",
    "version": 3
   },
   "file_extension": ".py",
   "mimetype": "text/x-python",
   "name": "python",
   "nbconvert_exporter": "python",
   "pygments_lexer": "ipython3",
   "version": "3.6.0"
  }
 },
 "nbformat": 4,
 "nbformat_minor": 0
}
