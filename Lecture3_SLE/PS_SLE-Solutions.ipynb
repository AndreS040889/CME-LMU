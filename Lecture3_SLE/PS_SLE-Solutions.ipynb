{
 "cells": [
  {
   "cell_type": "markdown",
   "metadata": {},
   "source": [
    "# Computational Methods in Economics\n",
    "\n",
    "## Problem Set - Solving Systems of Linear Equations: Suggested Solutions"
   ]
  },
  {
   "cell_type": "code",
   "execution_count": 1,
   "metadata": {
    "collapsed": false
   },
   "outputs": [
    {
     "name": "stdout",
     "output_type": "stream",
     "text": [
      "Last update: 2017-11-24 13:51:29.082321\n"
     ]
    }
   ],
   "source": [
    "# Author: Alex Schmitt (schmitt@ifo.de)\n",
    "\n",
    "import datetime\n",
    "print('Last update: ' + str(datetime.datetime.today()))"
   ]
  },
  {
   "cell_type": "markdown",
   "metadata": {},
   "source": [
    "### Preliminaries\n",
    "\n",
    "#### Import Modules"
   ]
  },
  {
   "cell_type": "code",
   "execution_count": 2,
   "metadata": {
    "collapsed": true
   },
   "outputs": [],
   "source": [
    "import numpy as np\n",
    "import scipy.optimize\n",
    "\n",
    "import matplotlib.pyplot as plt\n",
    "%matplotlib inline\n",
    "import seaborn\n",
    "\n",
    "import numpy as np\n",
    "import scipy.optimize\n",
    "import scipy.linalg\n",
    "\n",
    "\n",
    "# import sys\n",
    "from importlib import reload"
   ]
  },
  {
   "cell_type": "markdown",
   "metadata": {},
   "source": [
    "## Question 1 (A)\n",
    "\n",
    "(a) Find the largest positive integer $n$ such that $2^n - 1$ is a DP number.\n",
    "\n",
    "(b) Show that the distance between two adjacent DP numbers $y_1$ and $y_2$ with $y_1 < y_2$ that, \n",
    "\n",
    "\\begin{equation}\n",
    "   | y_2 - y_1 | = \\epsilon_{DP} 2^{e(y_1) - 1023}. \n",
    "\\end{equation}\n",
    "\n",
    "Hint: Consider two cases for $e$ and $f$ that make two DP numbers adjacent.\n"
   ]
  },
  {
   "cell_type": "markdown",
   "metadata": {},
   "source": [
    "## Question 2 (N)\n",
    "\n",
    "Write a function **backward_sub** that implements the backward-substitution algorithm to solve an upper triangular system of equations in Python. As a first step, derive an expression for $x_i$, analogous to the case of forward-substitution in the lecture."
   ]
  },
  {
   "cell_type": "code",
   "execution_count": 3,
   "metadata": {
    "collapsed": true
   },
   "outputs": [],
   "source": [
    "def backward_sub(A, b):\n",
    "    \"\"\"\n",
    "    Implements the backward-substitution algorithm to solve an upper triangular system of equations\n",
    "    \n",
    "    For doctest:\n",
    "    \n",
    "    >>> backward_sub( np.array([[1, 1], [0, 1]]), np.array([2, 1])  )\n",
    "    array([ 1.,  1.])\n",
    "    \n",
    "    >>> backward_sub( np.array([[1, 2, 3], [0, 5, 7], [0, 0, 9]]), np.array([1, 2, 3])  )\n",
    "    array([ 0.13333333, -0.06666667,  0.33333333])\n",
    "    \n",
    "     \n",
    "    \"\"\"\n",
    "    ## check input: is A a square matrix?\n",
    "    n, m = A.shape\n",
    "    assert n == m, \"A must be a square matrix\"\n",
    "    \n",
    "    ## initialize solution vector\n",
    "    x = np.zeros(n)\n",
    "    \n",
    "    ## fill solution vector using a for loop\n",
    "    for i in range(n):\n",
    "        \n",
    "        ## compute sum on numerator of recursive rule\n",
    "        summ = 0\n",
    "        for j in range(i):\n",
    "            summ += A[(n-1)-i, (n-1)-j] * x[(n-1)-j]\n",
    "        \n",
    "        ## use rule; NB: start at the last element in x!\n",
    "        x[(n-1)-i] = (b[(n-1)-i] - summ) / A[(n-1)-i, (n-1)-i]\n",
    "        \n",
    "    return x        "
   ]
  },
  {
   "cell_type": "code",
   "execution_count": 4,
   "metadata": {
    "collapsed": true
   },
   "outputs": [],
   "source": [
    "## alternative: use vector multiplication for sum (instead of inner loop)\n",
    "\n",
    "def backward_sub2(A, b):\n",
    "    \"\"\"\n",
    "    Implements the backward-substitution algorithm to solve an upper triangular system of equations\n",
    "    \n",
    "    For doctest:\n",
    "    \n",
    "    >>> backward_sub( np.array([[1, 1], [0, 1]]), np.array([2, 1])  )\n",
    "    array([ 1.,  1.])\n",
    "    \n",
    "    >>> backward_sub( np.array([[1, 2, 3], [0, 5, 7], [0, 0, 9]]), np.array([1, 2, 3])  )\n",
    "    array([ 0.13333333, -0.06666667,  0.33333333])\n",
    "    \n",
    "    \n",
    "    \"\"\"\n",
    "    ## check input: is A a square matrix?\n",
    "    n, m = A.shape\n",
    "    assert n == m, \"A must be a square matrix\"\n",
    "    \n",
    "    ## initialize solution vector\n",
    "    x = np.zeros(n)\n",
    "    \n",
    "    ## fill solution vector using a for loop\n",
    "    for i in range(n):\n",
    "        \n",
    "        ## compute sum on numerator of recursive rule \n",
    "        summ = A[(n-1)-i, (n-1) - (i-1):] @ x[(n-1) - (i-1):]\n",
    "        \n",
    "        ## use rule; NB: start at the last element in x!\n",
    "        x[(n-1)-i] = (b[(n-1)-i] - summ) / A[(n-1)-i, (n-1)-i]\n",
    "        \n",
    "    return x\n",
    "        "
   ]
  },
  {
   "cell_type": "code",
   "execution_count": 5,
   "metadata": {
    "collapsed": true
   },
   "outputs": [],
   "source": [
    "## test case\n",
    "A = np.array([[1, 2, 3],\n",
    "              [0, 5, 7],\n",
    "              [0, 0, 9]])\n",
    "\n",
    "b = np.array([1, 2, 3])"
   ]
  },
  {
   "cell_type": "code",
   "execution_count": 6,
   "metadata": {
    "collapsed": false
   },
   "outputs": [
    {
     "data": {
      "text/plain": [
       "array([ 0.13333333, -0.06666667,  0.33333333])"
      ]
     },
     "execution_count": 6,
     "metadata": {},
     "output_type": "execute_result"
    }
   ],
   "source": [
    "backward_sub(A, b)"
   ]
  },
  {
   "cell_type": "code",
   "execution_count": 7,
   "metadata": {
    "collapsed": false
   },
   "outputs": [
    {
     "data": {
      "text/plain": [
       "array([ 0.13333333, -0.06666667,  0.33333333])"
      ]
     },
     "execution_count": 7,
     "metadata": {},
     "output_type": "execute_result"
    }
   ],
   "source": [
    "backward_sub2(A, b)"
   ]
  },
  {
   "cell_type": "code",
   "execution_count": 8,
   "metadata": {
    "collapsed": false
   },
   "outputs": [
    {
     "data": {
      "text/plain": [
       "array([ 0.13333333, -0.06666667,  0.33333333])"
      ]
     },
     "execution_count": 8,
     "metadata": {},
     "output_type": "execute_result"
    }
   ],
   "source": [
    "## check our result\n",
    "np.linalg.solve(A, b)"
   ]
  },
  {
   "cell_type": "code",
   "execution_count": 9,
   "metadata": {
    "collapsed": false
   },
   "outputs": [
    {
     "data": {
      "text/plain": [
       "TestResults(failed=0, attempted=4)"
      ]
     },
     "execution_count": 9,
     "metadata": {},
     "output_type": "execute_result"
    }
   ],
   "source": [
    "## Alternative: use doctest\n",
    "import doctest\n",
    "doctest.testmod()"
   ]
  },
  {
   "cell_type": "markdown",
   "metadata": {},
   "source": [
    "## Question 3 (A)\n",
    "\n",
    "In Miranda & Fackler, p. 11, you find an example for Gaussian elimination, specifically for the matrix:"
   ]
  },
  {
   "cell_type": "code",
   "execution_count": 10,
   "metadata": {
    "collapsed": true
   },
   "outputs": [],
   "source": [
    "A = np.array([[2, 0, -1, 2],\n",
    "              [4, 2, -1, 4],\n",
    "              [2, -2, -2, 3],\n",
    "              [-2, 2, 7, -3]])"
   ]
  },
  {
   "cell_type": "markdown",
   "metadata": {},
   "source": [
    "In their implementation of LU factorization (which is difference from ours!) they find"
   ]
  },
  {
   "cell_type": "code",
   "execution_count": 11,
   "metadata": {
    "collapsed": true
   },
   "outputs": [],
   "source": [
    "pl = np.array([[1, 0, 0, 0],\n",
    "              [2, 1, 0, 0],\n",
    "              [1, -1, 0, 1],\n",
    "              [-1, 1, 1, 0]])\n",
    "u = np.array([[2, 0, -1, 2],\n",
    "              [0, 2, 1, 0],\n",
    "              [0, 0, 5, -1],\n",
    "              [0, 0, 0, 1]])"
   ]
  },
  {
   "cell_type": "markdown",
   "metadata": {},
   "source": [
    "It is easy to verify that this is a valid LU factorization:"
   ]
  },
  {
   "cell_type": "code",
   "execution_count": 12,
   "metadata": {
    "collapsed": false
   },
   "outputs": [
    {
     "data": {
      "text/plain": [
       "True"
      ]
     },
     "execution_count": 12,
     "metadata": {},
     "output_type": "execute_result"
    }
   ],
   "source": [
    "np.allclose(pl @ u, A)"
   ]
  },
  {
   "cell_type": "markdown",
   "metadata": {},
   "source": [
    "Using Scipy's **linalg.lu** function, we get different matrices for **pl** and **u**:"
   ]
  },
  {
   "cell_type": "code",
   "execution_count": 13,
   "metadata": {
    "collapsed": false
   },
   "outputs": [
    {
     "name": "stdout",
     "output_type": "stream",
     "text": [
      "True\n"
     ]
    },
    {
     "data": {
      "text/plain": [
       "(array([[  5.00000000e-01,   3.33333333e-01,  -5.55111512e-18,\n",
       "           1.00000000e+00],\n",
       "        [  1.00000000e+00,   0.00000000e+00,   0.00000000e+00,\n",
       "           0.00000000e+00],\n",
       "        [  5.00000000e-01,   1.00000000e+00,   0.00000000e+00,\n",
       "           0.00000000e+00],\n",
       "        [ -5.00000000e-01,  -1.00000000e+00,   1.00000000e+00,\n",
       "           0.00000000e+00]]),\n",
       " array([[ 4.        ,  2.        , -1.        ,  4.        ],\n",
       "        [ 0.        , -3.        , -1.5       ,  1.        ],\n",
       "        [ 0.        ,  0.        ,  5.        ,  0.        ],\n",
       "        [ 0.        ,  0.        ,  0.        , -0.33333333]]))"
      ]
     },
     "execution_count": 13,
     "metadata": {},
     "output_type": "execute_result"
    }
   ],
   "source": [
    "pl, u = scipy.linalg.lu(A, permute_l=True)\n",
    "print( np.allclose(pl @ u, A) )\n",
    "pl, u"
   ]
  },
  {
   "cell_type": "markdown",
   "metadata": {},
   "source": [
    "One important takeaway from this is that there multiple ways to factor a matrix into LU components, and hence multiple valid LU representations. Use our PA = LU factorization algorithm from the lecture on matrix $A$, i.e. find $pl$ and $u$ analytically."
   ]
  },
  {
   "cell_type": "markdown",
   "metadata": {},
   "source": [
    "## Question 4 (N)\n",
    "\n",
    "Solve Exercise 2.2 in Miranda and Fackler. That is, find the solution to a SLE with"
   ]
  },
  {
   "cell_type": "code",
   "execution_count": 15,
   "metadata": {
    "collapsed": true
   },
   "outputs": [],
   "source": [
    "A = np.array([[54, 14, -11, 2], \n",
    "              [14, 50, -4, 29],\n",
    "              [-11, -4, 55, 22],\n",
    "              [2, 29, 22, 95]]\n",
    "            )\n",
    "b = np.array([1, 1, 1, 1])"
   ]
  },
  {
   "cell_type": "markdown",
   "metadata": {},
   "source": [
    "numerically, using\n",
    "a) LU factorization,\n",
    "b) Gauss-Jacobi,\n",
    "c) Gauss-Seidel.\n",
    "\n",
    "For LU factorization, do not use the **linalg.solve** functions in Numpy or Scipy. However, you can use Scipy's **linalg.lu** function."
   ]
  },
  {
   "cell_type": "code",
   "execution_count": null,
   "metadata": {
    "collapsed": true
   },
   "outputs": [],
   "source": []
  },
  {
   "cell_type": "markdown",
   "metadata": {},
   "source": [
    "## Question 5 (A)\n",
    "\n",
    "Show that the relativ absolute difference between a real number $z$ and the DP number closest to it, $z_{DP}$, is bounded above by halt machine epsilon, i.e.\n",
    "\\begin{equation}\n",
    "   \\left| \\frac{z_{DP} - z}{z} \\right| \\le \\frac{1}{2} \\epsilon_{DP}.\n",
    "\\end{equation}\n",
    "\n",
    "Hint: Use what you have showed in question 1, namely that\n",
    "\\begin{equation}\n",
    "   | y_2 - y_1 | = \\epsilon_{DP} 2^{e(y_1) - 1023}, \n",
    "\\end{equation}\n",
    "where $y_1$ and $y_2$ are DP numbers."
   ]
  },
  {
   "cell_type": "markdown",
   "metadata": {},
   "source": [
    "## Question 6 (N)\n",
    "\n",
    "\n",
    "From Judd (1998), chapter 3. Suppose that demand for good $i$ is \n",
    "\n",
    "\\begin{equation}\n",
    "    d_i(p) = a_i \\sum_{j \\neq i} p_j - b_ip_i + c_i,\\ \\ i = 1, ..., n\n",
    "\\end{equation}\n",
    "\n",
    "where $a_i > b_i > 0$, and that supply is \n",
    "\n",
    "\\begin{equation}\n",
    "    s_i(p) = A_i + B_i p_i, \\ \\ i = 1, ..., n \n",
    "\\end{equation}\n",
    "\n",
    "where $B_i > 0$. Write a program to solve for equilibrium with sensible choices of $a_i$, $b_i$, $A_i$ and $B_i$. That means read in the parameters, check that they are consistent with commonsense economics (downward sloping demand curves, increasing supply curves and concave utility) and output the equilibrium prices and outputs. Your code should work for any number $n \\ge 1$."
   ]
  },
  {
   "cell_type": "code",
   "execution_count": null,
   "metadata": {
    "collapsed": true
   },
   "outputs": [],
   "source": []
  }
 ],
 "metadata": {
  "kernelspec": {
   "display_name": "Python 3",
   "language": "python",
   "name": "python3"
  },
  "language_info": {
   "codemirror_mode": {
    "name": "ipython",
    "version": 3
   },
   "file_extension": ".py",
   "mimetype": "text/x-python",
   "name": "python",
   "nbconvert_exporter": "python",
   "pygments_lexer": "ipython3",
   "version": "3.6.0"
  }
 },
 "nbformat": 4,
 "nbformat_minor": 0
}
