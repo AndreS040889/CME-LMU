{
 "cells": [
  {
   "cell_type": "markdown",
   "metadata": {},
   "source": [
    "# Computational Methods in Economics\n",
    "\n",
    "## Problem Set - Solving Systems of Linear Equations: Suggested Solutions"
   ]
  },
  {
   "cell_type": "code",
   "execution_count": 1,
   "metadata": {},
   "outputs": [
    {
     "name": "stdout",
     "output_type": "stream",
     "text": [
      "Last update: 2017-12-04 19:24:07.876947\n"
     ]
    }
   ],
   "source": [
    "# Author: Alex Schmitt (schmitt@ifo.de), Christina Littlejohn (littlejohn@ifo.de)\n",
    "\n",
    "import datetime\n",
    "print('Last update: ' + str(datetime.datetime.today()))"
   ]
  },
  {
   "cell_type": "markdown",
   "metadata": {},
   "source": [
    "### Preliminaries\n",
    "\n",
    "#### Import Modules"
   ]
  },
  {
   "cell_type": "code",
   "execution_count": 2,
   "metadata": {
    "collapsed": true
   },
   "outputs": [],
   "source": [
    "import numpy as np\n",
    "import scipy.optimize\n",
    "\n",
    "import matplotlib.pyplot as plt\n",
    "%matplotlib inline\n",
    "import seaborn\n",
    "\n",
    "import numpy as np\n",
    "import scipy.optimize\n",
    "import scipy.linalg\n",
    "\n",
    "\n",
    "# import sys\n",
    "from importlib import reload"
   ]
  },
  {
   "cell_type": "markdown",
   "metadata": {},
   "source": [
    "## Question 1 (A)\n",
    "\n",
    "(a) Find the largest positive integer $n$ such that $2^n - 1$ is a DP number.\n",
    "\n",
    "(b) Show that the distance between two adjacent DP numbers $y_1$ and $y_2$ with $y_1 < y_2$ that, \n",
    "\n",
    "\\begin{equation}\n",
    "   | y_2 - y_1 | = \\epsilon_{DP} 2^{e(y_1) - 1023}. \n",
    "\\end{equation}\n",
    "\n",
    "Hint: Consider two cases for $e$ and $f$ that make two DP numbers adjacent.\n"
   ]
  },
  {
   "cell_type": "markdown",
   "metadata": {},
   "source": [
    "## Question 2 (N)\n",
    "\n",
    "Write a function **backward_sub** that implements the backward-substitution algorithm to solve an upper triangular system of equations in Python. As a first step, derive an expression for $x_i$, analogous to the case of forward-substitution in the lecture."
   ]
  },
  {
   "cell_type": "code",
   "execution_count": 3,
   "metadata": {
    "collapsed": true
   },
   "outputs": [],
   "source": [
    "def backward_sub(A, b):\n",
    "    \"\"\"\n",
    "    Implements the backward-substitution algorithm to solve an upper triangular system of equations\n",
    "    \n",
    "    For doctest:\n",
    "    \n",
    "    >>> backward_sub( np.array([[1, 1], [0, 1]]), np.array([2, 1])  )\n",
    "    array([ 1.,  1.])\n",
    "    \n",
    "    >>> backward_sub( np.array([[1, 2, 3], [0, 5, 7], [0, 0, 9]]), np.array([1, 2, 3])  )\n",
    "    array([ 0.13333333, -0.06666667,  0.33333333])\n",
    "    \n",
    "     \n",
    "    \"\"\"\n",
    "    ## check input: is A a square matrix?\n",
    "    n, m = A.shape\n",
    "    assert n == m, \"A must be a square matrix\"\n",
    "    \n",
    "    ## initialize solution vector\n",
    "    x = np.zeros(n)\n",
    "    \n",
    "    ## fill solution vector using a for loop\n",
    "    for i in range(n):\n",
    "        \n",
    "        ## compute sum on numerator of recursive rule\n",
    "        summ = 0\n",
    "        for j in range(i):\n",
    "            summ += A[(n-1)-i, (n-1)-j] * x[(n-1)-j]\n",
    "        \n",
    "        ## use rule; NB: start at the last element in x!\n",
    "        x[(n-1)-i] = (b[(n-1)-i] - summ) / A[(n-1)-i, (n-1)-i]\n",
    "        \n",
    "    return x        "
   ]
  },
  {
   "cell_type": "code",
   "execution_count": 4,
   "metadata": {
    "collapsed": true
   },
   "outputs": [],
   "source": [
    "## alternative: use vector multiplication for sum (instead of inner loop)\n",
    "\n",
    "def backward_sub2(A, b):\n",
    "    \"\"\"\n",
    "    Implements the backward-substitution algorithm to solve an upper triangular system of equations\n",
    "    \n",
    "    For doctest:\n",
    "    \n",
    "    >>> backward_sub( np.array([[1, 1], [0, 1]]), np.array([2, 1])  )\n",
    "    array([ 1.,  1.])\n",
    "    \n",
    "    >>> backward_sub( np.array([[1, 2, 3], [0, 5, 7], [0, 0, 9]]), np.array([1, 2, 3])  )\n",
    "    array([ 0.13333333, -0.06666667,  0.33333333])\n",
    "    \n",
    "    \n",
    "    \"\"\"\n",
    "    ## check input: is A a square matrix?\n",
    "    n, m = A.shape\n",
    "    assert n == m, \"A must be a square matrix\"\n",
    "    \n",
    "    ## initialize solution vector\n",
    "    x = np.zeros(n)\n",
    "    \n",
    "    ## fill solution vector using a for loop\n",
    "    for i in range(n):\n",
    "        \n",
    "        ## compute sum on numerator of recursive rule \n",
    "        summ = A[(n-1)-i, (n-1) - (i-1):] @ x[(n-1) - (i-1):]\n",
    "        \n",
    "        ## use rule; NB: start at the last element in x!\n",
    "        x[(n-1)-i] = (b[(n-1)-i] - summ) / A[(n-1)-i, (n-1)-i]\n",
    "        \n",
    "    return x\n",
    "        "
   ]
  },
  {
   "cell_type": "code",
   "execution_count": 5,
   "metadata": {
    "collapsed": true
   },
   "outputs": [],
   "source": [
    "## test case\n",
    "A = np.array([[1, 2, 3],\n",
    "              [0, 5, 7],\n",
    "              [0, 0, 9]])\n",
    "\n",
    "b = np.array([1, 2, 3])"
   ]
  },
  {
   "cell_type": "code",
   "execution_count": 6,
   "metadata": {},
   "outputs": [
    {
     "data": {
      "text/plain": [
       "array([ 0.13333333, -0.06666667,  0.33333333])"
      ]
     },
     "execution_count": 6,
     "metadata": {},
     "output_type": "execute_result"
    }
   ],
   "source": [
    "backward_sub(A, b)"
   ]
  },
  {
   "cell_type": "code",
   "execution_count": 7,
   "metadata": {},
   "outputs": [
    {
     "data": {
      "text/plain": [
       "array([ 0.13333333, -0.06666667,  0.33333333])"
      ]
     },
     "execution_count": 7,
     "metadata": {},
     "output_type": "execute_result"
    }
   ],
   "source": [
    "backward_sub2(A, b)"
   ]
  },
  {
   "cell_type": "code",
   "execution_count": 8,
   "metadata": {},
   "outputs": [
    {
     "data": {
      "text/plain": [
       "array([ 0.13333333, -0.06666667,  0.33333333])"
      ]
     },
     "execution_count": 8,
     "metadata": {},
     "output_type": "execute_result"
    }
   ],
   "source": [
    "## check our result\n",
    "np.linalg.solve(A, b)"
   ]
  },
  {
   "cell_type": "code",
   "execution_count": 9,
   "metadata": {},
   "outputs": [
    {
     "data": {
      "text/plain": [
       "TestResults(failed=0, attempted=4)"
      ]
     },
     "execution_count": 9,
     "metadata": {},
     "output_type": "execute_result"
    }
   ],
   "source": [
    "## Alternative: use doctest\n",
    "import doctest\n",
    "doctest.testmod()"
   ]
  },
  {
   "cell_type": "markdown",
   "metadata": {},
   "source": [
    "## Question 3 (A)\n",
    "\n",
    "In Miranda & Fackler, p. 11, you find an example for Gaussian elimination, specifically for the matrix:"
   ]
  },
  {
   "cell_type": "code",
   "execution_count": 10,
   "metadata": {
    "collapsed": true
   },
   "outputs": [],
   "source": [
    "A = np.array([[2, 0, -1, 2],\n",
    "              [4, 2, -1, 4],\n",
    "              [2, -2, -2, 3],\n",
    "              [-2, 2, 7, -3]])"
   ]
  },
  {
   "cell_type": "markdown",
   "metadata": {},
   "source": [
    "In their implementation of LU factorization (which is difference from ours!) they find"
   ]
  },
  {
   "cell_type": "code",
   "execution_count": 11,
   "metadata": {
    "collapsed": true
   },
   "outputs": [],
   "source": [
    "pl = np.array([[1, 0, 0, 0],\n",
    "              [2, 1, 0, 0],\n",
    "              [1, -1, 0, 1],\n",
    "              [-1, 1, 1, 0]])\n",
    "u = np.array([[2, 0, -1, 2],\n",
    "              [0, 2, 1, 0],\n",
    "              [0, 0, 5, -1],\n",
    "              [0, 0, 0, 1]])"
   ]
  },
  {
   "cell_type": "markdown",
   "metadata": {},
   "source": [
    "It is easy to verify that this is a valid LU factorization:"
   ]
  },
  {
   "cell_type": "code",
   "execution_count": 12,
   "metadata": {},
   "outputs": [
    {
     "data": {
      "text/plain": [
       "True"
      ]
     },
     "execution_count": 12,
     "metadata": {},
     "output_type": "execute_result"
    }
   ],
   "source": [
    "np.allclose(pl @ u, A)"
   ]
  },
  {
   "cell_type": "markdown",
   "metadata": {},
   "source": [
    "Using Scipy's **linalg.lu** function, we get different matrices for **pl** and **u**:"
   ]
  },
  {
   "cell_type": "code",
   "execution_count": 13,
   "metadata": {},
   "outputs": [
    {
     "name": "stdout",
     "output_type": "stream",
     "text": [
      "True\n"
     ]
    },
    {
     "data": {
      "text/plain": [
       "(array([[  5.00000000e-01,   3.33333333e-01,  -5.55111512e-18,\n",
       "           1.00000000e+00],\n",
       "        [  1.00000000e+00,   0.00000000e+00,   0.00000000e+00,\n",
       "           0.00000000e+00],\n",
       "        [  5.00000000e-01,   1.00000000e+00,   0.00000000e+00,\n",
       "           0.00000000e+00],\n",
       "        [ -5.00000000e-01,  -1.00000000e+00,   1.00000000e+00,\n",
       "           0.00000000e+00]]),\n",
       " array([[ 4.        ,  2.        , -1.        ,  4.        ],\n",
       "        [ 0.        , -3.        , -1.5       ,  1.        ],\n",
       "        [ 0.        ,  0.        ,  5.        ,  0.        ],\n",
       "        [ 0.        ,  0.        ,  0.        , -0.33333333]]))"
      ]
     },
     "execution_count": 13,
     "metadata": {},
     "output_type": "execute_result"
    }
   ],
   "source": [
    "pl, u = scipy.linalg.lu(A, permute_l=True)\n",
    "print( np.allclose(pl @ u, A) )\n",
    "pl, u"
   ]
  },
  {
   "cell_type": "code",
   "execution_count": 14,
   "metadata": {},
   "outputs": [
    {
     "data": {
      "text/plain": [
       "array([[ 2.,  0., -1.,  2.],\n",
       "       [ 4.,  2., -1.,  4.],\n",
       "       [ 2., -2., -2.,  3.],\n",
       "       [-2.,  2.,  7., -3.]])"
      ]
     },
     "execution_count": 14,
     "metadata": {},
     "output_type": "execute_result"
    }
   ],
   "source": [
    "P = np.array([[0, 1, 0 , 0],\n",
    "              [0, 0, 1, 0],\n",
    "              [0, 0, 0, 1],\n",
    "              [1, 0, 0, 0]])\n",
    "\n",
    "Q = np.array([[1, 0, 0, 0],\n",
    "             [0.5, 1, 0, 0],\n",
    "             [-0.5, -1, 1, 0],\n",
    "             [0.5, 1/3, 0, 1]])\n",
    "\n",
    "(np.linalg.inv(P) @ Q) @ u"
   ]
  },
  {
   "cell_type": "markdown",
   "metadata": {},
   "source": [
    "One important takeaway from this is that there multiple ways to factor a matrix into LU components, and hence multiple valid LU representations. Use our PA = LU factorization algorithm from the lecture on matrix $A$, i.e. find $pl$ and $u$ analytically."
   ]
  },
  {
   "cell_type": "markdown",
   "metadata": {},
   "source": [
    "## Question 4 (N)\n",
    "\n",
    "Solve Exercise 2.2 in Miranda and Fackler. That is, find the solution to a SLE with"
   ]
  },
  {
   "cell_type": "code",
   "execution_count": 15,
   "metadata": {
    "collapsed": true
   },
   "outputs": [],
   "source": [
    "A = np.array([[54, 14, -11, 2], \n",
    "              [14, 50, -4, 29],\n",
    "              [-11, -4, 55, 22],\n",
    "              [2, 29, 22, 95]]\n",
    "            )\n",
    "b = np.array([1, 1, 1, 1])"
   ]
  },
  {
   "cell_type": "markdown",
   "metadata": {},
   "source": [
    "numerically, using\n",
    "a) LU factorization,\n",
    "b) Gauss-Jacobi,\n",
    "c) Gauss-Seidel.\n",
    "\n",
    "For LU factorization, do not use the **linalg.solve** functions in Numpy or Scipy. However, you can use Scipy's **linalg.lu** function."
   ]
  },
  {
   "cell_type": "code",
   "execution_count": 16,
   "metadata": {},
   "outputs": [
    {
     "data": {
      "text/plain": [
       "array([ 0.01893441,  0.01680508,  0.02335523, -0.00041085])"
      ]
     },
     "execution_count": 16,
     "metadata": {},
     "output_type": "execute_result"
    }
   ],
   "source": [
    "np.linalg.solve(A, b)"
   ]
  },
  {
   "cell_type": "markdown",
   "metadata": {},
   "source": [
    "#### (a) LU Factorization"
   ]
  },
  {
   "cell_type": "code",
   "execution_count": 17,
   "metadata": {
    "collapsed": true
   },
   "outputs": [],
   "source": [
    "def forward_sub(A, b):\n",
    "    \"\"\"\n",
    "    Implements the forward-substitution algorithm to solve a lower triangular system of equations\n",
    "    \"\"\"\n",
    "    n, m = A.shape\n",
    "    \n",
    "    assert n == m, \"A must be a square matrix\"\n",
    "    \n",
    "    x = np.zeros(n)\n",
    "    \n",
    "    for i in range(n):\n",
    "        \n",
    "        summ = 0\n",
    "        for j in range(i):\n",
    "            summ += A[i, j] * x[j]\n",
    "        \n",
    "        x[i] = (b[i] - summ) / A[i, i]   \n",
    "    \n",
    "    return x"
   ]
  },
  {
   "cell_type": "code",
   "execution_count": 18,
   "metadata": {},
   "outputs": [
    {
     "name": "stdout",
     "output_type": "stream",
     "text": [
      "[ 0.01893441  0.01680508  0.02335523 -0.00041085]\n",
      "1 loop, best of 1: 2.08 ms per loop\n"
     ]
    }
   ],
   "source": [
    "%%timeit -n1 -r1\n",
    "P, L, U = scipy.linalg.lu(A)\n",
    "y = forward_sub(L, b)\n",
    "x = backward_sub(U, y)\n",
    "print(x)\n"
   ]
  },
  {
   "cell_type": "markdown",
   "metadata": {},
   "source": [
    "#### (b) Gauss-Jacobi"
   ]
  },
  {
   "cell_type": "code",
   "execution_count": 19,
   "metadata": {
    "collapsed": true
   },
   "outputs": [],
   "source": [
    "def gauss_jacobi(A, b, x0):\n",
    "    \"\"\" \n",
    "    Implements the Gauss-Seidel method with a over-relaxation parameter\n",
    "    \"\"\"\n",
    "    eps = 1\n",
    "    tol = 1e-8\n",
    "    it = 0\n",
    "    maxit = 100\n",
    "\n",
    "    x = x0\n",
    "    Q = np.diag(np.diag(A))\n",
    "    Q_inv = np.linalg.inv(Q)\n",
    "    \n",
    "    while eps > tol and it < maxit:\n",
    "        it += 1 \n",
    "        x_new = Q_inv @ b + ( np.eye(len(b)) - Q_inv @ A) @ x\n",
    "        eps = np.linalg.norm(x_new - x)\n",
    "        x = x_new\n",
    "        \n",
    "        \n",
    "    return x, it "
   ]
  },
  {
   "cell_type": "code",
   "execution_count": 20,
   "metadata": {},
   "outputs": [
    {
     "name": "stdout",
     "output_type": "stream",
     "text": [
      "Number of iterations = 25\n",
      "[ 0.01893441  0.01680507  0.02335523 -0.00041085]\n",
      "1 loop, best of 1: 6.81 ms per loop\n"
     ]
    }
   ],
   "source": [
    "%%timeit -n1 -r1\n",
    "x0 = np.zeros(4)\n",
    "gauss_jacobi(A, b, x0)\n",
    "x, it = gauss_jacobi(A, b, x0)\n",
    "print('Number of iterations = {}'.format(it))\n",
    "print(x)"
   ]
  },
  {
   "cell_type": "markdown",
   "metadata": {},
   "source": [
    "#### (c) Gauss-Seidel "
   ]
  },
  {
   "cell_type": "code",
   "execution_count": 21,
   "metadata": {
    "collapsed": true
   },
   "outputs": [],
   "source": [
    "def gauss_seidel(A, b, x0):\n",
    "    \"\"\" \n",
    "    Implements the Gauss-Seidel method with a over-relaxation parameter\n",
    "    \"\"\"\n",
    "    eps = 1\n",
    "    tol = 1e-8\n",
    "    it = 0\n",
    "    maxit = 100\n",
    "\n",
    "    x = x0\n",
    "    Q = np.triu(A)\n",
    "    Q_inv = np.linalg.inv(Q)\n",
    "    \n",
    "    while eps > tol and it < maxit:\n",
    "        it += 1 \n",
    "        x_new = Q_inv @ b + ( np.eye(len(b)) - Q_inv @ A) @ x\n",
    "        eps = np.linalg.norm(x_new - x)\n",
    "        x = x_new\n",
    "        \n",
    "    return x, it  "
   ]
  },
  {
   "cell_type": "code",
   "execution_count": 22,
   "metadata": {},
   "outputs": [
    {
     "name": "stdout",
     "output_type": "stream",
     "text": [
      "Number of iterations = 14\n",
      "[ 0.01893441  0.01680508  0.02335523 -0.00041085]\n",
      "1 loop, best of 1: 5.77 ms per loop\n"
     ]
    }
   ],
   "source": [
    "%%timeit -n1 -r1\n",
    "x0 = np.zeros(4)\n",
    "gauss_seidel(A, b, x0) \n",
    "x, it = gauss_seidel(A, b, x0)\n",
    "print('Number of iterations = {}'.format(it))\n",
    "print(x)"
   ]
  },
  {
   "cell_type": "markdown",
   "metadata": {},
   "source": [
    "## Question 5 (A)\n",
    "\n",
    "Show that the relativ absolute difference between a real number $z$ and the DP number closest to it, $z_{DP}$, is bounded above by halt machine epsilon, i.e.\n",
    "\\begin{equation}\n",
    "   \\left| \\frac{z_{DP} - z}{z} \\right| \\le \\frac{1}{2} \\epsilon_{DP}.\n",
    "\\end{equation}\n",
    "\n",
    "Hint: Use what you have showed in question 1, namely that\n",
    "\\begin{equation}\n",
    "   | y_2 - y_1 | = \\epsilon_{DP} 2^{e(y_1) - 1023}, \n",
    "\\end{equation}\n",
    "where $y_1$ and $y_2$ are DP numbers."
   ]
  },
  {
   "cell_type": "markdown",
   "metadata": {},
   "source": [
    "## Question 6 (N)\n",
    "\n",
    "\n",
    "From Judd (1998), chapter 3. Suppose that demand for good $i$ is \n",
    "\n",
    "\\begin{equation}\n",
    "    d_i(p) = a_i \\sum_{j \\neq i} p_j - b_ip_i + c_i,\\ \\ i = 1, ..., n\n",
    "\\end{equation}\n",
    "\n",
    "where $a_i > b_i > 0$, and that supply is \n",
    "\n",
    "\\begin{equation}\n",
    "    s_i(p) = A_i + B_i p_i, \\ \\ i = 1, ..., n \n",
    "\\end{equation}\n",
    "\n",
    "where $B_i > 0$. Write a program to solve for equilibrium with sensible choices of $a_i$, $b_i$, $A_i$ and $B_i$. That means read in the parameters, check that they are consistent with commonsense economics (downward sloping demand curves, increasing supply curves and concave utility) and output the equilibrium prices and outputs. Your code should work for any number $n \\ge 1$."
   ]
  },
  {
   "cell_type": "code",
   "execution_count": 23,
   "metadata": {
    "collapsed": true
   },
   "outputs": [],
   "source": [
    "def find_eq(a,b,c,A,B):\n",
    "    \"\"\" \n",
    "    Takes in the parameters for a, b, c, A, B as flat numpy arrays. Solves for equilibrium\n",
    "    price and quantity vectors given sensible choices of a_i, b_i, A_i, B_i.\n",
    "    \n",
    "    Returns the price and quantity vectors as two flat numpy arrays.\n",
    "    \"\"\"\n",
    "    \n",
    "    # get length of the array\n",
    "    m, = b.shape\n",
    "    \n",
    "    # check that b > 0 and a > b\n",
    "    assert b.min() > 0,    'All values in b must be greater than 0'\n",
    "        \n",
    "    for i in range(m):    \n",
    "        if a[i] < b[i]:\n",
    "            print('At position {} the a !> b'.format(i))\n",
    "        else: continue\n",
    "            \n",
    "    # check that B > 0 \n",
    "    assert B.min() > 0,    'All values in B must be greater than 0'\n",
    "    \n",
    "    # create matrix M populated with values from (-b_i - B_i) and a\n",
    "    M = np.zeros((m,m))\n",
    "    for i in range(m):\n",
    "        for j in range(m):\n",
    "            if i == j:\n",
    "                M[i,j] = -b[i] - B[i]\n",
    "            else:\n",
    "                M[i,j] = a[i]\n",
    "          \n",
    "    # create array x with values A_i - c_i\n",
    "    x = A - c\n",
    " \n",
    "    # use gaussian to compute p vector\n",
    "    p0 = np.zeros(m)\n",
    "    p, it = gauss_jacobi(M, x, p0)\n",
    "    \n",
    "    # compute q vector with A + B*p\n",
    "    q = A + (B * p)\n",
    "    \n",
    "    return p, q"
   ]
  },
  {
   "cell_type": "code",
   "execution_count": 24,
   "metadata": {},
   "outputs": [
    {
     "name": "stdout",
     "output_type": "stream",
     "text": [
      "p_eq =  [ 1.5942729   1.31686888  5.70078507  0.44982303  0.16658665]\n",
      "q_eq =  [ 2.97136451  3.90121328  0.70078507  9.59858428  8.16610657]\n"
     ]
    }
   ],
   "source": [
    "a = np.array([.3,.4,.4,1,.8])\n",
    "b = np.array([.2,.2,.3,.4,.5])\n",
    "c = np.array([1,1,1,1,1])\n",
    "A = np.array([-5,-4,-5,6,7])\n",
    "B = np.array([5,6,1,8,7])\n",
    "\n",
    "\n",
    "p_eq, q_eq = find_eq(a,b,c,A,B)\n",
    "print('p_eq = ', p_eq) \n",
    "print('q_eq = ', q_eq)"
   ]
  },
  {
   "cell_type": "markdown",
   "metadata": {
    "collapsed": true
   },
   "source": [
    "#### Addendum: LU Factorization"
   ]
  },
  {
   "cell_type": "markdown",
   "metadata": {},
   "source": [
    "*Directly from Miranda & Fackler (p.10 -12)*\n",
    "\n",
    "Note that the following is an implementation of LU factorization that is an *alternative* to PA=LU factorization as presented in the lecture!\n",
    "\n",
    "The L-U factors of a matrix *A* are computed using Gaussian elimination. The Gaussian elimination algorithm begins with matrices *L* and *U* initialized as *L = I* and *U = A*, where **I** is the identity matrix. The algorithm uses elementary row operations (interchanging rows and subtracting a constant multiple of one row from another) to transform *U* into an **upper triangular matrix**, while preserving the **permuted lower diagonality** of *L* and the factorization *A = LU*."
   ]
  },
  {
   "cell_type": "markdown",
   "metadata": {},
   "source": [
    "\\begin{equation}A =\n",
    "\\left[\n",
    "\\begin{array}{ccccc}\n",
    "    2 & 0 & -1 & 2 \\\\\n",
    "    4 & 2 & -1 & 4 \\\\\n",
    "    2 & -2 & -2 & 3 \\\\\n",
    "    -2 & 2 & 7 & -3\n",
    "\\end{array}\n",
    "\\right]\\end{equation}"
   ]
  },
  {
   "cell_type": "markdown",
   "metadata": {},
   "source": [
    "The first stage of Gaussian elimination is intended to nullify the subdiagonal entries of the **first column** of the *U* matrix. The *U* matrix is updated by subtracting 2 times the first row from the second, subtraction 1 times the first row from the third, and subtraction -1 times the first row from the fourth. The *L* matrix, which initially equals the identity, is updated by **storing the multipliers** 2, 1, -1 as the subdiagonal entries of its first column. These operations yield:"
   ]
  },
  {
   "cell_type": "markdown",
   "metadata": {},
   "source": [
    "\\begin{equation}L =\n",
    "\\left[\n",
    "\\begin{array}{ccccc}\n",
    "    1 & 0 & 0 & 0 \\\\\n",
    "    2 & 1 & 0 & 0 \\\\\n",
    "    1 & 0 & 1 & 0 \\\\\n",
    "   -1 & 0 & 0 & 1\n",
    "\\end{array}\n",
    "\\right]\n",
    ", U =\n",
    "\\left[\n",
    "\\begin{array}{ccccc}\n",
    "    2 & 0 & -1 & 2 \\\\\n",
    "    0 & 2 & 1 & 0 \\\\\n",
    "    0 & -2 & -1 & 1 \\\\\n",
    "    0 & 2 & 6 & -1\n",
    "\\end{array}\n",
    "\\right]\\end{equation}\n",
    "\n"
   ]
  },
  {
   "cell_type": "markdown",
   "metadata": {},
   "source": [
    "After the first stage of Gaussian elimination, *A = LU*, we see that *L* is lower triangular, but *U* is not yet upper triangular.\n",
    "The second stage of Gaussian elimination is intended to nullify the subdiagonal entries of the **second column** of the *U* matrix. The *U* matrix is updated by subtracting -1 times the second row from the third and subtracting 1 times the second row from the fourth. The *L* matrix is updated by **storing the multipliers** -1 and 1 as the subdiagonal elements of its second column. These operations yield:"
   ]
  },
  {
   "cell_type": "markdown",
   "metadata": {},
   "source": [
    "\\begin{equation}L =\n",
    "\\left[\n",
    "\\begin{array}{ccccc}\n",
    "    1 & 0 & 0 & 0 \\\\\n",
    "    2 & 1 & 0 & 0 \\\\\n",
    "    1 & -1 & 1 & 0 \\\\\n",
    "   -1 & 1 & 0 & 1\n",
    "\\end{array}\n",
    "\\right]\n",
    ", U =\n",
    "\\left[\n",
    "\\begin{array}{ccccc}\n",
    "    2 & 0 & -1 & 2 \\\\\n",
    "    0 & 2 & 1 & 0 \\\\\n",
    "    0 & 0 & 0 & 1 \\\\\n",
    "    0 & 0 & 5 & -1\n",
    "\\end{array}\n",
    "\\right]\\end{equation}"
   ]
  },
  {
   "cell_type": "markdown",
   "metadata": {},
   "source": [
    "After the second stage of Gaussian elimination, *A = LU*, *L* is lower triangular, but *U* is still not upper triangular. In this case, there is a quick fix. Interchanging the third and fourth **rows** of *U*! The *L* matrix is then updated by interchanging the multipliers in the third and fourth **columns**. "
   ]
  },
  {
   "cell_type": "markdown",
   "metadata": {},
   "source": [
    "\\begin{equation}L =\n",
    "\\left[\n",
    "\\begin{array}{ccccc}\n",
    "    1 & 0 & 0 & 0 \\\\\n",
    "    2 & 1 & 0 & 0 \\\\\n",
    "    1 & -1 & 0 & 1 \\\\\n",
    "   -1 & 1 & 1 & 0\n",
    "\\end{array}\n",
    "\\right]\n",
    ", U =\n",
    "\\left[\n",
    "\\begin{array}{ccccc}\n",
    "    2 & 0 & -1 & 2 \\\\\n",
    "    0 & 2 & 1 & 0 \\\\\n",
    "    0 & 0 & 5 & -1 \\\\\n",
    "    0 & 0 & 0 & 1\n",
    "\\end{array}\n",
    "\\right]\\end{equation}"
   ]
  },
  {
   "cell_type": "markdown",
   "metadata": {},
   "source": [
    "This example terminates with a row-permuted lower triangular matrix, *L*. (Meaning by interchanging the third and fourth rows, we have a lower triangular matrix.)"
   ]
  }
 ],
 "metadata": {
  "kernelspec": {
   "display_name": "Python 3",
   "language": "python",
   "name": "python3"
  },
  "language_info": {
   "codemirror_mode": {
    "name": "ipython",
    "version": 3
   },
   "file_extension": ".py",
   "mimetype": "text/x-python",
   "name": "python",
   "nbconvert_exporter": "python",
   "pygments_lexer": "ipython3",
   "version": "3.6.0"
  }
 },
 "nbformat": 4,
 "nbformat_minor": 1
}
