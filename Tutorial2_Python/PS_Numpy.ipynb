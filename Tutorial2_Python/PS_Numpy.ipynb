{
 "cells": [
  {
   "cell_type": "markdown",
   "metadata": {},
   "source": [
    "# Introduction to Python - Numpy and Matplotlib\n",
    "## Problem Set"
   ]
  },
  {
   "cell_type": "code",
   "execution_count": 1,
   "metadata": {},
   "outputs": [
    {
     "name": "stdout",
     "output_type": "stream",
     "text": [
      "Last update: 2018-10-27 17:59:13.187892\n"
     ]
    }
   ],
   "source": [
    "# Authors: Alex Schmitt (schmitt@ifo.de)\n",
    "\n",
    "import datetime\n",
    "print('Last update: ' + str(datetime.datetime.today()))"
   ]
  },
  {
   "cell_type": "markdown",
   "metadata": {},
   "source": [
    "## Question 1\n",
    "(a) Create random vector with five elements and print the average of the vector. Then, replace the maximum value by 0 and print the vector and its average again.\n",
    "\n",
    "(b) Use NumPy's **random** package to get N draws from a standard normal distribution (google to get the name of the corresponding function and its syntax!) and store them in a NumPy array. Find the sample average and standard deviation for **N = 10**, **N = 1000** and **N = 1000000**.\n",
    "\n",
    "(c) For the last case in question (a) with **N = 1000000**, use an index array or Numpy's **where** function to find the share of draws that is either less than -1.96 or greater than 1.96. What's your expectation what this share should be?\n",
    "\n",
    "(d) Create a two-dimensional 4-by-4 NumPy array **Ar** with elements from 1 to 16. A quick way to do is using Python **range** function and the **shape** method of NP arrays. Recall from linear algebra that multiplying any matrix with the identity matrix **Id** just results in same matrix (i.e. $I \\cdot Ar = Ar \\cdot I = Ar$). Confirm this using your array **Ar**. What happens if you multiply **Ar** with an array of the same dimension that consists only of 1s?\n",
    "\n",
    "(e) Write a function **get_diag** that takes a *square* matrix of dimension **nn** and returns a flat array of length **nn** that contains the elements on the matrix' diagonal. The first thing the function should do is checking if the input is a square array and give an error message otherwise. You could this in many ways; one neat option is an **assert** statement (check the documentation!). Alternatively, you could use a print statement and interrupt the function with **Return None**."
   ]
  },
  {
   "cell_type": "code",
   "execution_count": null,
   "metadata": {},
   "outputs": [],
   "source": []
  },
  {
   "cell_type": "markdown",
   "metadata": {},
   "source": [
    "## Question 2\n",
    "\n",
    "Consider the polynomial expression\n",
    "\\begin{equation*}\n",
    "\tp(x) = a_0 + a_1 x + a_2 x^2 + \\cdots + a_N x^N = \\sum_{n=0}^N a_n x^n,\n",
    "\\end{equation*}\n",
    "where $x$ is a scalar number.\n",
    "\n",
    "(a) Write a Python function **poly(xx, coeff)** that implements $p(x)$ (i.e. evaluates the polynomial) given a point **xx** and a list of coefficients **coeff** ($= a_0,...,a_N$). Use a loop with **enumerate()**.\n",
    "\n",
    "(b) Write a new function **poly_np(xx, coeff)** that does the same job, but uses NumPy arrays and vectorized operations, rather than any form of Python loop. Hint: Use **np.cumprod()**.\n",
    "\n",
    "(c) Using **%time**, check how long it takes for both functions to run when **len(coeff)** = 50000 (you can use arbitrary values for the elements in **coeff**).\n"
   ]
  },
  {
   "cell_type": "code",
   "execution_count": null,
   "metadata": {},
   "outputs": [],
   "source": []
  },
  {
   "cell_type": "markdown",
   "metadata": {
    "collapsed": true
   },
   "source": [
    "## Question 3\n",
    "\n",
    "Compute an approximation to $\\pi$ with the Monte Carlo method using **Numpy**. Your hints are as follows:\n",
    "- If $U$ is a bivariate uniform random variable on the unit square $(0,1)^2$, then the probability that $U$ lies in a subset $B$ of $(0,1)^2$ is equal to the area of $B$.\n",
    "- If $U_1,...,U_n$ are iid copies of $U$, then, as $n$ gets large, the fraction that fall in $B$ converges to the probability of landing in $B$\n",
    "- Recall that for a circle, $area = \\pi * radius^2$\n",
    "\n",
    "(Source: lectures.quantecon.org, An Introductory Example, Exercise 3)"
   ]
  },
  {
   "cell_type": "code",
   "execution_count": null,
   "metadata": {},
   "outputs": [],
   "source": []
  },
  {
   "cell_type": "markdown",
   "metadata": {},
   "source": [
    "## Question 4\n",
    "\n",
    "(a) Draw the function $y=log(x)$ on the interval from 1 to 10\n",
    "\n",
    "(b) Draw the function $y=x^3$ on the interval from -10 to 10. Compile the plot once with N=5 and with N=100 individual values for the x-axis, both in the same figure. Set two different colors for the to lines.\n"
   ]
  },
  {
   "cell_type": "code",
   "execution_count": null,
   "metadata": {},
   "outputs": [],
   "source": []
  },
  {
   "cell_type": "markdown",
   "metadata": {},
   "source": [
    "## Question 5\n",
    "\n",
    "Consider the utility function $U(B,C)=B^{\\alpha} C^{(1-\\alpha)}$ of a Oktoberfest visitor consuming beer (B) and chicken (C).\n",
    "\n",
    "(a) Write a function that returns the utilily depending on the amount of consumed chicken and beers\n",
    "\n",
    "(b) Plot the utility as a function of the amount of beer with $\\alpha=0.7$ and $C=2$. The range of beers should be from 0 to 10.\n",
    "\n",
    "(C) Plot the isoquants of the same utility for all combination of C and B in the range from 0 to 10.\n",
    "\n",
    "(d) Consider now the prices of $p_B=10 €$ and $p_C=10€$ and a budget of 55€. Draw the budgetline in the graph from question (c) and guess what the optimal consumption might be. You can set the limits of the x and the y axis by **ax.set_xlim([xlim,xmax])** and **ax.set_ylim([ylim,ymax])**."
   ]
  },
  {
   "cell_type": "code",
   "execution_count": null,
   "metadata": {},
   "outputs": [],
   "source": []
  },
  {
   "cell_type": "markdown",
   "metadata": {},
   "source": [
    "## Question 6\n",
    "\n",
    "The file *Capacities.csv* contains country-level data on electricity generation capacity, and more specifically on capacity of \"clean\" (i.e. non-carbon emitting) technologies. It consists of three columns: the first columns contains the combined capacity for hydro and nuclear power plants, while the second columns contains the combined capacity for wind and solar installations (all in TW). The third columns contains the overall *capacity factor*, that is, the share of potential electricity that is actually produced. In other words, a capacity factor of 50% would imply that the a plant runs half of the time. In this question, we are interested in how the capacity factor depends on how wind and solar capacity are in the system.\n",
    "\n",
    "(a) Each column consists of 600 *country-year* observations (30 OECD countries over 20 years). Use Numpy's **loadtxt** function to load the data as a 600-by-3 array. (A side note: there are better ways to work with this kind of data in Python than a Numpy array, as we will see in next lecture).\n",
    "\n",
    "(b) Visualize the data using a scatter plot, where each axis corresponds to a capacity measure, while the color (or the size) of the markers is determined by the level of the capacity factor.\n",
    "\n",
    "(c) If you are not interested in absolute capacity levels, an alternative is to plot the capacity factor against the *relative* capacity of wind and solar, i.e. their share in total renewable capacity. Use Matplotlib's **plot** method, but with markers instead of lines. Also, include only those observations that have a wind & solar share of more than 1 percent (Hint: use a logical Nunpy array)."
   ]
  },
  {
   "cell_type": "code",
   "execution_count": null,
   "metadata": {},
   "outputs": [],
   "source": []
  }
 ],
 "metadata": {
  "anaconda-cloud": {},
  "kernelspec": {
   "display_name": "Python 3",
   "language": "python",
   "name": "python3"
  },
  "language_info": {
   "codemirror_mode": {
    "name": "ipython",
    "version": 3
   },
   "file_extension": ".py",
   "mimetype": "text/x-python",
   "name": "python",
   "nbconvert_exporter": "python",
   "pygments_lexer": "ipython3",
   "version": "3.7.0"
  }
 },
 "nbformat": 4,
 "nbformat_minor": 1
}
