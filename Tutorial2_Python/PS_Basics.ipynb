{
 "cells": [
  {
   "cell_type": "markdown",
   "metadata": {},
   "source": [
    "# Introduction to Python - Basics\n",
    "\n",
    "## Problem Set - Solutions"
   ]
  },
  {
   "cell_type": "code",
   "execution_count": 1,
   "metadata": {},
   "outputs": [
    {
     "name": "stdout",
     "output_type": "stream",
     "text": [
      "Last update: 2018-10-23 18:07:43.801436\n"
     ]
    }
   ],
   "source": [
    "# Author: Alex Schmitt (schmitt@ifo.de)\n",
    "\n",
    "import datetime\n",
    "print('Last update: ' + str(datetime.datetime.today()))"
   ]
  },
  {
   "cell_type": "markdown",
   "metadata": {},
   "source": [
    "## Question 1\n",
    "\n",
    "Write a program which prompts the user for a Celsius temperature using the **input()** function. Convert the temperature to Fahrenheit and print out the converted temperature.\n",
    "\n",
    "Hint: \n",
    "\\begin{equation}\n",
    "    T_{F} = 1.8 \\cdot T_C + 32 \n",
    "\\end{equation}\n"
   ]
  },
  {
   "cell_type": "code",
   "execution_count": null,
   "metadata": {},
   "outputs": [],
   "source": []
  },
  {
   "cell_type": "markdown",
   "metadata": {},
   "source": [
    "## Question 2\n",
    "\n",
    "Suppose you want to use Python to keep track of the points of the clubs in the German football Bundesliga. For example, you have the following information:\n",
    "    - Borussia Dortmund: 20 points\n",
    "    - FC Bayern: 16 points\n",
    "    - FC Schalke: 6 points\n",
    "    \n",
    "(a) Based on what we have learned so far, use Python arrays to store this information, using one array for clubs and one array for points. Think about which array types may be suitable.\n",
    "\n",
    "(b) Add information for at least one other club to your arrays.\n",
    "\n",
    "(c) Use the arrays to write to the screen how many points a given club has."
   ]
  },
  {
   "cell_type": "code",
   "execution_count": null,
   "metadata": {},
   "outputs": [],
   "source": []
  },
  {
   "cell_type": "markdown",
   "metadata": {},
   "source": [
    "## Question 3\n",
    "\n",
    "(a) From question 2 above you have information on Bundesliga clubs and their points. Put this information in a dictionaries.\n",
    "\n",
    "**HINT**: With the **zip()** function, you can use the arrays defined above to easily construct the dictionary.\n",
    "\n",
    "(b) Add information for at least one other club to your dictionary.\n",
    "\n",
    "(c) Use the dictionary to write to the screen how many points a given club has."
   ]
  },
  {
   "cell_type": "code",
   "execution_count": null,
   "metadata": {},
   "outputs": [],
   "source": []
  },
  {
   "cell_type": "markdown",
   "metadata": {},
   "source": [
    "## Question 4\n",
    "\n",
    "Write a program to prompt the user for hours worked and rate per hour to compute gross pay. Pay the hourly rate for the hours up to 40 and 1.5 times the hourly rate for all hours worked *above 40 hours*. Use 45 hours and a rate of 10.50 per hour to test the program (the pay should be 498.75). You should use **input()** to read a string and **float()** to convert the string to a number. Do not worry about error checking the user input - assume the user types numbers properly. (Source: Coursera, Programming for Everybody, Week 5)"
   ]
  },
  {
   "cell_type": "code",
   "execution_count": null,
   "metadata": {},
   "outputs": [],
   "source": []
  },
  {
   "cell_type": "markdown",
   "metadata": {},
   "source": [
    "## Question 5\n",
    "\n",
    "Given **pairs = ((2, 5), (4, 2), (9, 8), (12, 10))**, count the number of pairs (a, b) such that both a and b are even. \n",
    "\n",
    "Hint: For this question, we can use the *modulo* operation **%** for integers. In general, **x % y** divides x by y and returns the *remainder*. For example, **4 % 2** returns 0, since there is no remainder (this is true for any *even* number x when typing **x % 2**). In contrast, **7 % 2** returns 1 since 7 = 3 x 2 **+ 1**. In fact, for any *odd* integer x, **x % 2** returns 1.\n",
    "\n",
    "(Source: lectures.quantecon.org, Python Essentials, Exercise 1)"
   ]
  },
  {
   "cell_type": "code",
   "execution_count": null,
   "metadata": {},
   "outputs": [],
   "source": []
  },
  {
   "cell_type": "markdown",
   "metadata": {},
   "source": [
    "## Question 6\n",
    "\n",
    "Given two numeric lists or tuples **x_vals** and **y_vals** of equal length, compute their inner product using **zip()**. (Source: lectures.quantecon.org, Python Essentials, Exercise 1)"
   ]
  },
  {
   "cell_type": "code",
   "execution_count": null,
   "metadata": {},
   "outputs": [],
   "source": []
  },
  {
   "cell_type": "markdown",
   "metadata": {},
   "source": [
    "## Question 7\n",
    "\n",
    "Write a program that takes an integer and returns the sum of its digits. For example, inputting **12345** should return 15 (as an integer or float).\n",
    "\n",
    "Hint: One way of computing the digit sum makes use of the *modulo* operation **\"%\"**, as seen above. What is useful to note for this question is that, for example, **12345 % 10** would return 5. In addition, what may be useful here is a **while** loop.   \n",
    "\n",
    "An alternative way would be to make use of the **str()** and **int()** functions. "
   ]
  },
  {
   "cell_type": "code",
   "execution_count": null,
   "metadata": {},
   "outputs": [],
   "source": []
  },
  {
   "cell_type": "markdown",
   "metadata": {},
   "source": [
    "## Question 8\n",
    "\n",
    "Write a program to prompt for a score between 0.0 and 1.0. If the score is out of range, print an error. If the score is between 0.0 and 1.0, print a grade using the following table:\n",
    "Score Grade\n",
    "- $>= 0.9 $: A\n",
    "- $>= 0.8 $: B\n",
    "- $>= 0.7 $: C\n",
    "- $>= 0.6 $: D\n",
    "- $< 0.6$ F\n",
    "\n",
    "If the user enters a value out of range, print a suitable error message and exit. For the test, enter a score of 0.85.\n",
    "(Source: Coursera, Programming for Everybody, Week 5)"
   ]
  },
  {
   "cell_type": "code",
   "execution_count": null,
   "metadata": {},
   "outputs": [],
   "source": []
  },
  {
   "cell_type": "markdown",
   "metadata": {},
   "source": [
    "## Question 9\n",
    "\n",
    "Compute the median value in a list of integers or floats. If the list has an even number of elements, let the median value be the average value of the two median elements. For example, **lst = [7,1,3]** has a median value of 3, while **lst = [7,1,3,2]** has a median value of 2.5.\n",
    "\n",
    "Hint 1: The built-in function **sorted** used on lists may prove useful here.\n",
    "\n",
    "Hint 2: Note that using the built-in function **int()** on a floating point number *rounds down*:"
   ]
  },
  {
   "cell_type": "code",
   "execution_count": 21,
   "metadata": {},
   "outputs": [
    {
     "name": "stdout",
     "output_type": "stream",
     "text": [
      "1\n",
      "3\n"
     ]
    }
   ],
   "source": [
    "print(int(1.5))\n",
    "print(int(3.99))"
   ]
  },
  {
   "cell_type": "code",
   "execution_count": null,
   "metadata": {},
   "outputs": [],
   "source": []
  },
  {
   "cell_type": "markdown",
   "metadata": {},
   "source": [
    "## Question 10 (advanced)\n",
    "\n",
    "Write a program that repeatedly prompts a user for integer numbers until the user enters 'done'. Once 'done' is entered, print out the largest and smallest of the numbers. If the user enters anything other than a valid number catch it with a **try/except** and put out an appropriate message and ignore the number. If no valid number has been entered, print out a corresponding statement. (Source: Coursera, Programming for Everybody, Week 7)"
   ]
  },
  {
   "cell_type": "code",
   "execution_count": null,
   "metadata": {},
   "outputs": [],
   "source": []
  },
  {
   "cell_type": "markdown",
   "metadata": {},
   "source": [
    "## Question 11\n",
    "\n",
    "Recall that $n!$ is read as *n factorial* and defined as\n",
    "\\begin{equation}\n",
    "    n!=n×(n−1)×⋯×2×1n!=n×(n−1)×⋯×2×1\n",
    "\\end{equation}\n",
    "There are functions to compute this in various packages, but let’s write our own version as an exercise. In particular, write a function **factorial** such that **factorial(n)** returns $n!$ for any positive integer n. (Source: quantecon.org, An Introductory Example, Exercise 1)"
   ]
  },
  {
   "cell_type": "code",
   "execution_count": null,
   "metadata": {},
   "outputs": [],
   "source": []
  },
  {
   "cell_type": "markdown",
   "metadata": {},
   "source": [
    "## Question 12\n",
    "\n",
    "Write a function **removes_duplicates** that takes a list (with elements of any type) and removes all duplicates, i.e. returns a list in which each element appears only once. For example, inputting **[1,1,2,2]** should return **([1,2])**. Try to solve this problem in *two different ways*.\n",
    "\n",
    "Hint: For this question, useful functions and methods are **.append()** (for lists) and the functions **set()** and **list()**."
   ]
  },
  {
   "cell_type": "code",
   "execution_count": null,
   "metadata": {},
   "outputs": [],
   "source": []
  },
  {
   "cell_type": "markdown",
   "metadata": {},
   "source": [
    "## Question 13\n",
    "\n",
    "Write a function **is_subarray** that takes two sequences **seq_a** and **seq_b** as arguments and returns **True** if every element in seq_a is also an element of seq_b, else False. By “sequence” I mean a list, a tuple or a string. (Source: quantecon.org, Python Essentials, Exercise 4)"
   ]
  },
  {
   "cell_type": "code",
   "execution_count": null,
   "metadata": {},
   "outputs": [],
   "source": []
  },
  {
   "cell_type": "markdown",
   "metadata": {},
   "source": [
    "## Question 14\n",
    "\n",
    "Consider the polynomial\n",
    "\n",
    "\\begin{equation}\n",
    "p(x)\n",
    "= a_0 + a_1 x + a_2 x^2 + \\cdots a_n x^n\n",
    "= \\sum_{i=0}^n a_i x^i\n",
    "\\end{equation}\n",
    "\n",
    "Write a function **p** such that **p(x, coeff)** that computes the value above given a point **x** and a list of coefficients **coeff**. Try to use **enumerate()** in your loop. (Source: quantecon.org, Python Essentials, Exercise 2)"
   ]
  },
  {
   "cell_type": "code",
   "execution_count": null,
   "metadata": {},
   "outputs": [],
   "source": []
  },
  {
   "cell_type": "markdown",
   "metadata": {},
   "source": [
    "## Question 15\n",
    "\n",
    "(a) Write a function **get_divisors** that takes two arguments, an integer **num** and a list **lst** of integers, and return all elements of **lst** that are divisors of **num**, i.e. if you divide **num** by a divisor, there is no remainder.\n",
    "\n",
    "(b) Include some test cases in the function's docstring and use the doctest module to check if the tests clear.\n",
    "\n",
    "(Source: Coursera, Learn to Program: Crafting Quality Code, Week 2)"
   ]
  },
  {
   "cell_type": "code",
   "execution_count": null,
   "metadata": {},
   "outputs": [],
   "source": []
  },
  {
   "cell_type": "markdown",
   "metadata": {},
   "source": [
    "## Question 16\n",
    "\n",
    "In this question, we are going to work with the **math** module that allows you to use some basic mathematical operatios like taking the logarithm or the square root. Note that we won't use the **math** module often later on, since all of its functions are also included in the **numpy** package, which we will get to know in a later session.\n",
    "\n",
    "(a) Import the math module.\n",
    "\n",
    "(b) Write a function **pythagoras** that take two numbers (ints or floats) representing the lengths of two smaller sides of a right triangle and returns the length of the hypotenuse, according to the Pythagorean theorem. Hint: Use the **sqrt** function of the **math** module.\n",
    "\n",
    "(c) You may recall that the *sine* of $x \\pi$ is zero, for all integers $x$. Suppose you have forgotten what values  the *cosine* of $x \\pi$ takes. Write a loop over the integers -10 to 10 that computes the *absolute value* of the different between $\\sin(x \\pi)$ and $\\cos(x \\pi)$.\n",
    "\n",
    "(d) Recall that from a first-order Taylor approximation, \n",
    "\\begin{equation}\n",
    "\\log(1 + x) \\approx \\log(1) + (x - 1) * \\frac{1}{1} = x\n",
    "\\end{equation}\n",
    "This approximation is closer to the true value the smaller $x$ is. Suppose you would like to know the first value for $x > 0$, for which the approximation error is greater than $tol$, i.e.\n",
    "\\begin{equation}\n",
    "\\left|\\frac{\\log(1 + x) - x}{x}\\right| > tol.\n",
    "\\end{equation}\n",
    "Write a function **find_threshold** that takes an error level **tol** as an argument and returns the corresponding threshold level. Use a **while** loop that starts at $x = 0.001 = 1e-3$ and increases $x$ by $1e-3$ in every iteration of the loop.\n"
   ]
  },
  {
   "cell_type": "code",
   "execution_count": null,
   "metadata": {},
   "outputs": [],
   "source": []
  },
  {
   "cell_type": "markdown",
   "metadata": {},
   "source": [
    "## Question 17\n",
    "\n",
    "Suppose you're a teacher and use Python dictionaries to keep track of your students' grades. Each student corresponds to a dictionary with the following key-value pairs:\n",
    "- \"name\": the student's name (a string)\n",
    "- \"homework\": a list of arbitrary length, containing the homework grades (floats)\n",
    "- \"quizzes\": a list of arbitrary length, containing the grades from quizzes (floats)\n",
    "- \"tests\": a list of arbitrary length, containing the grades from tests (floats)\n",
    "\n",
    "\n",
    "(a) The student Alice has the following grades:\n",
    "- homework: 100.0, 92.0, 98.0, 100.0\n",
    "- quizzes: 82.0, 83.0, 91.0\n",
    "- tests: 89.0, 97.0\n",
    "Write a dictionary (as defined above) that keeps track of these grades.\n",
    "\n",
    "(b) Write a function **average** that takes a list of numbers and return the average. Use it to compute Alice's average grade for homework.\n",
    "\n",
    "(c) Write a function **student_average** that computes the overall average grade for a student across all exam types. It takes a student dictionary (as defined above) and a two-item tuple **weights**$ = (w_1, w_2)$ that contains the weights for homework and quizzes. The total average is given by:\n",
    "\\begin{equation}\n",
    "    \\text{Average}_{\\text{total}} = w_1 \\cdot \\text{Average}_{\\text{HW}} + w_2 \\cdot \\text{Average}_{\\text{QU}} + (1 - w_1 - w_2) \\cdot \\text{Average}_{\\text{TE}} \n",
    "\\end{equation}\n",
    "Compute Alice's overal average for weights $(0.2, 0.3)$.\n",
    "\n",
    "(d) Write a function **class_average** that a lists of student dictionaries and the weights tuple and computes the grade average over all students. Let there be two more students with the following grades:\n",
    "\n",
    "Michael:\n",
    "- homework: 90.0, 97.0, 75.0, 92.0\n",
    "- quizzes: 88.0, 40.0, 94.0\n",
    "- tests: 75.0, 90.0\n",
    "\n",
    "Tyler:\n",
    "- homework: 0.0, 87.0, 75.0, 22.0\n",
    "- quizzes: 0.0, 75.0, 78.0\n",
    "- tests: 100.0, 100.0\n",
    "\n",
    "Compute the grade average for the three students.\n",
    "\n",
    "(e) Suppose that in the last exam of the year, Alice scored 85.0, Michael 88.0 and Tyler 97.0. How does the class average change?\n"
   ]
  },
  {
   "cell_type": "code",
   "execution_count": null,
   "metadata": {},
   "outputs": [],
   "source": []
  },
  {
   "cell_type": "markdown",
   "metadata": {},
   "source": [
    "## Question 18\n",
    "\n",
    "Using **range**, write a comprehension whose value is a dictionary. The keys should be the integers from 0 to 99 and the value corresponding to a key should be the square of the key."
   ]
  },
  {
   "cell_type": "code",
   "execution_count": null,
   "metadata": {},
   "outputs": [],
   "source": []
  },
  {
   "cell_type": "markdown",
   "metadata": {
    "collapsed": true
   },
   "source": [
    "## Question 19\n",
    "\n",
    "Write a program that prints one realization of the following random device:\n",
    "- Flip an unbiased coin **n** times\n",
    "- If 3 consecutive heads occur one or more times within this sequence, pay one dollar\n",
    "- If not, pay nothing\n",
    "\n",
    "Use no import besides **from random import uniform**."
   ]
  },
  {
   "cell_type": "code",
   "execution_count": null,
   "metadata": {},
   "outputs": [],
   "source": []
  },
  {
   "cell_type": "markdown",
   "metadata": {},
   "source": [
    "## Question 20\n",
    "\n",
    "As a hard-working PhD student or post doc, you should take a break from your work every now and then. Write a Python program that opens a web page (e.g. a YouTube video if you wanna spend your break listening to music or a news page if you wanna read up on current events) at regular intervals (say, every hour). \n",
    "\n",
    "Hint 1: The packages **time** and **webbrowser** have useful functions for implementing this program. Look them up in the Python documentation (google!) to find the functions you wanna use.\n",
    "\n",
    "Hint 2: You will probably want to use a **while** loop for this exercise. You can make the loop infinite (and interrupt it manually) if you're done for the day. You can also think about ways to stop the loop within the program, for example after a certain number of iterations."
   ]
  },
  {
   "cell_type": "code",
   "execution_count": null,
   "metadata": {},
   "outputs": [],
   "source": []
  }
 ],
 "metadata": {
  "anaconda-cloud": {},
  "kernelspec": {
   "display_name": "Python 3",
   "language": "python",
   "name": "python3"
  },
  "language_info": {
   "codemirror_mode": {
    "name": "ipython",
    "version": 3
   },
   "file_extension": ".py",
   "mimetype": "text/x-python",
   "name": "python",
   "nbconvert_exporter": "python",
   "pygments_lexer": "ipython3",
   "version": "3.7.0"
  }
 },
 "nbformat": 4,
 "nbformat_minor": 1
}
