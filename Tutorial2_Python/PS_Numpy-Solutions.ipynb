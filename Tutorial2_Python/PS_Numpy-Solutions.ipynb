{
 "cells": [
  {
   "cell_type": "markdown",
   "metadata": {},
   "source": [
    "# Introduction to Python - Numpy and Matplotlib\n",
    "## Problem Set"
   ]
  },
  {
   "cell_type": "code",
   "execution_count": 1,
   "metadata": {},
   "outputs": [
    {
     "name": "stdout",
     "output_type": "stream",
     "text": [
      "Last update: 2018-10-27 17:59:13.187892\n"
     ]
    }
   ],
   "source": [
    "# Authors: Alex Schmitt (schmitt@ifo.de)\n",
    "\n",
    "import datetime\n",
    "print('Last update: ' + str(datetime.datetime.today()))"
   ]
  },
  {
   "cell_type": "markdown",
   "metadata": {},
   "source": [
    "## Question 1\n",
    "(a) Create random vector with five elements and print the average of the vector. Then, replace the maximum value by 0 and print the vector and its average again.\n",
    "\n",
    "(b) Use NumPy's **random** package to get N draws from a standard normal distribution (google to get the name of the corresponding function and its syntax!) and store them in a NumPy array. Find the sample average and standard deviation for **N = 10**, **N = 1000** and **N = 1000000**.\n",
    "\n",
    "(c) For the last case in question (a) with **N = 1000000**, use an index array or Numpy's **where** function to find the share of draws that is either less than -1.96 or greater than 1.96. What's your expectation what this share should be?\n",
    "\n",
    "(d) Create a two-dimensional 4-by-4 NumPy array **Ar** with elements from 1 to 16. A quick way to do is using Python **range** function and the **shape** method of NP arrays. Recall from linear algebra that multiplying any matrix with the identity matrix **Id** just results in same matrix (i.e. $I \\cdot Ar = Ar \\cdot I = Ar$). Confirm this using your array **Ar**. What happens if you multiply **Ar** with an array of the same dimension that consists only of 1s?\n",
    "\n",
    "(e) Write a function **get_diag** that takes a *square* matrix of dimension **nn** and returns a flat array of length **nn** that contains the elements on the matrix' diagonal. The first thing the function should do is checking if the input is a square array and give an error message otherwise. You could this in many ways; one neat option is an **assert** statement (check the documentation!). Alternatively, you could use a print statement and interrupt the function with **Return None**."
   ]
  },
  {
   "cell_type": "code",
   "execution_count": 2,
   "metadata": {},
   "outputs": [],
   "source": [
    "import numpy as np"
   ]
  },
  {
   "cell_type": "code",
   "execution_count": 3,
   "metadata": {},
   "outputs": [
    {
     "name": "stdout",
     "output_type": "stream",
     "text": [
      "[0.62313475 0.57381207 0.22271763 0.16812751 0.33385235]\n",
      "0.3843288618399935\n",
      "[0.         0.57381207 0.22271763 0.16812751 0.33385235]\n",
      "0.2597019126521629\n"
     ]
    }
   ],
   "source": [
    "## question (a)\n",
    "import random\n",
    "A = np.zeros(5)\n",
    "for i in range(5):\n",
    "    A[i] = random.random()\n",
    "# A=np.random.uniform(0,1,5) #Alternative\n",
    "print(A)\n",
    "print(A.mean())\n",
    "\n",
    "A[A.argmax()]=0\n",
    "print(A)\n",
    "print(A.mean())"
   ]
  },
  {
   "cell_type": "code",
   "execution_count": 4,
   "metadata": {},
   "outputs": [
    {
     "name": "stdout",
     "output_type": "stream",
     "text": [
      "For N = 10, the mean is 0.4315065973460464 and the standard deviation is 0.9047202873020269.\n",
      "For N = 1000, the mean is -0.04450103146966838 and the standard deviation is 0.9990165791210999.\n",
      "For N = 1000000, the mean is -0.0011019948197487507 and the standard deviation is 0.9994163231007958.\n"
     ]
    }
   ],
   "source": [
    "## question (b)\n",
    "N = [10, 1000, int(1e+6)]\n",
    "\n",
    "for item in N:\n",
    "    A = np.random.normal(0, 1, item)\n",
    "    ave = A.mean() \n",
    "    dev = A.std()\n",
    "    print(\"For N = {}, the mean is {} and the standard deviation is {}.\".format(item, ave, dev))"
   ]
  },
  {
   "cell_type": "code",
   "execution_count": 5,
   "metadata": {},
   "outputs": [
    {
     "name": "stdout",
     "output_type": "stream",
     "text": [
      "The share of draws less than -1.96 or greater than 1.96 is 0.049899.\n"
     ]
    }
   ],
   "source": [
    "## question (c)\n",
    "\n",
    "N = int(1e+6)\n",
    "## use a combination of two index arrays\n",
    "A_sub = A[(A > 1.96) | (A < - 1.96)] \n",
    "## find share of complete sample\n",
    "x = len(A_sub) / N\n",
    "\n",
    "## alternative here:\n",
    "# x = len( A[A > 1.96] ) + len( A[A < - 1.96] ) / N\n",
    "\n",
    "print(\"The share of draws less than -1.96 or greater than 1.96 is {}.\".format(x))"
   ]
  },
  {
   "cell_type": "code",
   "execution_count": 6,
   "metadata": {},
   "outputs": [
    {
     "name": "stdout",
     "output_type": "stream",
     "text": [
      "[[ 1.  2.  3.  4.]\n",
      " [ 5.  6.  7.  8.]\n",
      " [ 9. 10. 11. 12.]\n",
      " [13. 14. 15. 16.]]\n",
      "[[ 1.  2.  3.  4.]\n",
      " [ 5.  6.  7.  8.]\n",
      " [ 9. 10. 11. 12.]\n",
      " [13. 14. 15. 16.]]\n",
      "[28. 32. 36. 40.]\n",
      "[10. 26. 42. 58.]\n"
     ]
    }
   ],
   "source": [
    "## question (d)\n",
    "\n",
    "## create matrix Ar\n",
    "Ar = np.array(range(1, 17))\n",
    "Ar.shape = (4,4)\n",
    "## create identity matrix and ones matrix\n",
    "Id = np.eye(4)\n",
    "E = np.ones(4)\n",
    "## multiplying with identity matrix returns A\n",
    "print(Id @ Ar)\n",
    "print(Ar @ Id)\n",
    "## multiplying with ones matrix returns row and column sums, respectively\n",
    "print(E @ Ar) \n",
    "print(Ar @ E) "
   ]
  },
  {
   "cell_type": "code",
   "execution_count": 7,
   "metadata": {},
   "outputs": [
    {
     "name": "stdout",
     "output_type": "stream",
     "text": [
      "[ 1.  6. 11. 16.]\n"
     ]
    }
   ],
   "source": [
    "## question (e)\n",
    "\n",
    "def get_diag(A):\n",
    "    \n",
    "    assert A.shape[0] == A.shape[1], \"The matrix must be square!\"\n",
    "    \n",
    "    ## Alternative:\n",
    "#     if not A.shape[0] == A.shape[1]:\n",
    "#         print(\"The matrix must be square!\")\n",
    "#         return None\n",
    "    \n",
    "    n = A.shape[0]\n",
    "    D = np.zeros(n)\n",
    "    \n",
    "    for ind in range(n):\n",
    "        D[ind] = A[ind, ind]\n",
    "    \n",
    "    return D\n",
    "\n",
    "print(get_diag(Ar))\n",
    "\n",
    "## test with a non-square matrix\n",
    "B = np.array([[1,2,3]])\n",
    "# print(get_diag(B))"
   ]
  },
  {
   "cell_type": "markdown",
   "metadata": {},
   "source": [
    "## Question 2\n",
    "\n",
    "Consider the polynomial expression\n",
    "\\begin{equation*}\n",
    "\tp(x) = a_0 + a_1 x + a_2 x^2 + \\cdots + a_N x^N = \\sum_{n=0}^N a_n x^n,\n",
    "\\end{equation*}\n",
    "where $x$ is a scalar number.\n",
    "\n",
    "(a) Write a Python function **poly(xx, coeff)** that implements $p(x)$ (i.e. evaluates the polynomial) given a point **xx** and a list of coefficients **coeff** ($= a_0,...,a_N$). Use a loop with **enumerate()**.\n",
    "\n",
    "(b) Write a new function **poly_np(xx, coeff)** that does the same job, but uses NumPy arrays and vectorized operations, rather than any form of Python loop. Hint: Use **np.cumprod()**.\n",
    "\n",
    "(c) Using **%time**, check how long it takes for both functions to run when **len(coeff)** = 50000 (you can use arbitrary values for the elements in **coeff**).\n"
   ]
  },
  {
   "cell_type": "markdown",
   "metadata": {
    "collapsed": true
   },
   "source": [
    "#### (a)\n",
    "\n",
    "As an example, let's compute $p(x) = 1 + 2x + 4x^2$ at $x = 2$, which gives $p(2) = 21$. Using **enumerate()**, the loop is straightforward:"
   ]
  },
  {
   "cell_type": "code",
   "execution_count": 8,
   "metadata": {},
   "outputs": [
    {
     "data": {
      "text/plain": [
       "21"
      ]
     },
     "execution_count": 8,
     "metadata": {},
     "output_type": "execute_result"
    }
   ],
   "source": [
    "def poly(x, coeff):\n",
    "    # initialize s as 0\n",
    "    s = 0\n",
    "    for (i, a) in enumerate(coeff):\n",
    "        # for each iteration, add the corresponding term to s\n",
    "        s = s + a * x**i\n",
    "        \n",
    "    return s\n",
    "\n",
    "poly(2, [1,2,4])"
   ]
  },
  {
   "cell_type": "markdown",
   "metadata": {},
   "source": [
    "Note that we can implement the exact same algorithm in one line:"
   ]
  },
  {
   "cell_type": "code",
   "execution_count": 9,
   "metadata": {},
   "outputs": [],
   "source": [
    "# def poly(x, coeff):\n",
    "#     return sum(a * x**i for i, a in enumerate(coeff))\n",
    "\n",
    "# poly(2, [1, 0,1,0,1])"
   ]
  },
  {
   "cell_type": "markdown",
   "metadata": {},
   "source": [
    "#### (b) \n",
    "\n",
    "Using **np.cumprod()** on a sequence gives an array where at each position, you have the product of all elements that come before or at that position in the original array. For example, **np.cumprod([2,3,4,5])** would return **[2,6,24,120]** as a NP array. For the function here, we need to apply **np.cumprod()** on an array **[1, x, x, x, ..]**, which would return **[1, x, x^2, x^3,...]**. We can use the inner product of this array and **coeff**."
   ]
  },
  {
   "cell_type": "code",
   "execution_count": 10,
   "metadata": {},
   "outputs": [
    {
     "data": {
      "text/plain": [
       "21.0"
      ]
     },
     "execution_count": 10,
     "metadata": {},
     "output_type": "execute_result"
    }
   ],
   "source": [
    "import numpy as np\n",
    "def poly_np(x, coeff):\n",
    "    # define X = [1 x x ...]\n",
    "    X = np.empty(len(coeff))\n",
    "    X[0] = 1\n",
    "    X[1:] = x\n",
    "    # using cumprod on X gives [1 x x^2 x^3 ...]\n",
    "    y = np.cumprod(X)\n",
    "    # compute and return inner product\n",
    "    return coeff @ y\n",
    "\n",
    "poly_np(2, [1,2,4])"
   ]
  },
  {
   "cell_type": "markdown",
   "metadata": {},
   "source": [
    "As an alternative, note that a vectorized operations also works if *the array is in the exponent*. In other words, implementing something like $x^{(0,1,2)}$ in Python, where $x$ is a scalar, would give $(x^0, x^1, x^2)$. Again, this works only if the sequence $(0,1,2)$ is a NumPy array. "
   ]
  },
  {
   "cell_type": "code",
   "execution_count": 11,
   "metadata": {},
   "outputs": [
    {
     "data": {
      "text/plain": [
       "21.0"
      ]
     },
     "execution_count": 11,
     "metadata": {},
     "output_type": "execute_result"
    }
   ],
   "source": [
    "def poly_np2(x, coeff):\n",
    "    return coeff @ x**np.linspace(0,len(coeff)-1,len(coeff))\n",
    "\n",
    "poly_np2(2, [1,2,4])"
   ]
  },
  {
   "cell_type": "markdown",
   "metadata": {},
   "source": [
    "#### (c) "
   ]
  },
  {
   "cell_type": "code",
   "execution_count": 12,
   "metadata": {},
   "outputs": [],
   "source": [
    "# use random module to assign arbitrary values to coeff\n",
    "N = 50000\n",
    "coeff = np.random.uniform(0, 1, N)\n",
    "x = 0.1"
   ]
  },
  {
   "cell_type": "markdown",
   "metadata": {},
   "source": [
    "With 50000 elements in **coeff**, there are notable differences in the running times across the functions, with the **poly_np** function using **np.cumprod()** being by far the fastest - the difference compared to the loop-implementation in Vanilla Python is a factor of about 30 (depending on your computer!) -- another example for the speed of vectorized operations."
   ]
  },
  {
   "cell_type": "code",
   "execution_count": 13,
   "metadata": {},
   "outputs": [
    {
     "name": "stdout",
     "output_type": "stream",
     "text": [
      "0.5555968593789616\n",
      "CPU times: user 38.2 ms, sys: 1.73 ms, total: 39.9 ms\n",
      "Wall time: 33.4 ms\n",
      "0.5555968593789616\n",
      "CPU times: user 1.32 ms, sys: 604 µs, total: 1.93 ms\n",
      "Wall time: 1.31 ms\n",
      "0.5555968593789616\n",
      "CPU times: user 4.95 ms, sys: 700 µs, total: 5.65 ms\n",
      "Wall time: 3.16 ms\n"
     ]
    }
   ],
   "source": [
    "%time print(poly(x, coeff))\n",
    "%time print(poly_np(x, coeff))\n",
    "%time print(poly_np2(x, coeff))"
   ]
  },
  {
   "cell_type": "markdown",
   "metadata": {
    "collapsed": true
   },
   "source": [
    "## Question 3\n",
    "\n",
    "Compute an approximation to $\\pi$ with the Monte Carlo method using **Numpy**. Your hints are as follows:\n",
    "- If $U$ is a bivariate uniform random variable on the unit square $(0,1)^2$, then the probability that $U$ lies in a subset $B$ of $(0,1)^2$ is equal to the area of $B$.\n",
    "- If $U_1,...,U_n$ are iid copies of $U$, then, as $n$ gets large, the fraction that fall in $B$ converges to the probability of landing in $B$\n",
    "- Recall that for a circle, $area = \\pi * radius^2$\n",
    "\n",
    "(Source: lectures.quantecon.org, An Introductory Example, Exercise 3)"
   ]
  },
  {
   "cell_type": "code",
   "execution_count": 14,
   "metadata": {},
   "outputs": [
    {
     "name": "stdout",
     "output_type": "stream",
     "text": [
      "3.14816\n",
      "3.141592653589793\n"
     ]
    }
   ],
   "source": [
    "import numpy as np\n",
    "\n",
    "# function throws gives the fraction of throws that land in the unit cycle = area of unit cycle \n",
    "def area(n):\n",
    "    count = 0\n",
    "    for i in range(n):\n",
    "        x, y = np.random.uniform(0,1), np.random.uniform(0,1) # x-coordinate, y-coordinate\n",
    "        if np.sqrt((x - 0.5)**2 + (y - 0.5)**2) <= 0.5:\n",
    "            count += 1\n",
    "    return count/n\n",
    "\n",
    "pi = area(100000) / 0.5**2;\n",
    "print(pi)\n",
    "## for comparison\n",
    "print(np.pi)\n"
   ]
  },
  {
   "cell_type": "markdown",
   "metadata": {},
   "source": [
    "## Question 4\n",
    "\n",
    "(a) Draw the function $y=log(x)$ on the interval from 1 to 10\n",
    "\n",
    "(b) Draw the function $y=x^3$ on the interval from -10 to 10. Compile the plot once with N=5 and with N=100 individual values for the x-axis, both in the same figure. Set two different colors for the to lines.\n"
   ]
  },
  {
   "cell_type": "code",
   "execution_count": 15,
   "metadata": {},
   "outputs": [
    {
     "data": {
      "text/plain": [
       "<matplotlib.legend.Legend at 0x1a1a50c908>"
      ]
     },
     "execution_count": 15,
     "metadata": {},
     "output_type": "execute_result"
    },
    {
     "data": {
      "image/png": "[encoded data removed]",
      "text/plain": [
       "<Figure size 432x288 with 1 Axes>"
      ]
     },
     "metadata": {
      "needs_background": "light"
     },
     "output_type": "display_data"
    }
   ],
   "source": [
    "import numpy as np\n",
    "import matplotlib.pyplot as plt\n",
    "%matplotlib inline\n",
    "import seaborn\n",
    "\n",
    "## (a) N=5\n",
    "x = np.linspace(1,10,100)\n",
    "y = np.log(x)\n",
    "\n",
    "fig, ax = plt.subplots()\n",
    "ax.plot(x, y, 'r-', linewidth=2, label = '$y = log(x)$')\n",
    "ax.set_title('Plotting the quadratic function')\n",
    "ax.set_xlabel('$x$')\n",
    "ax.set_ylabel('$y$')\n",
    "ax.legend(loc = 'upper center')"
   ]
  },
  {
   "cell_type": "code",
   "execution_count": 16,
   "metadata": {},
   "outputs": [
    {
     "data": {
      "text/plain": [
       "<matplotlib.legend.Legend at 0x1a1a60c6a0>"
      ]
     },
     "execution_count": 16,
     "metadata": {},
     "output_type": "execute_result"
    },
    {
     "data": {
      "image/png": "[encoded data removed]",
      "text/plain": [
       "<Figure size 432x288 with 1 Axes>"
      ]
     },
     "metadata": {
      "needs_background": "light"
     },
     "output_type": "display_data"
    }
   ],
   "source": [
    "## (b) N=100\n",
    "x100 = np.linspace(-10,10,100)\n",
    "y100 = x100**3\n",
    "x5 = np.linspace(-10,10,5)\n",
    "y5 = x5**3\n",
    "\n",
    "fig, ax = plt.subplots()\n",
    "ax.plot(x100, y100, 'r-', linewidth=2, label = '$y = x^3$')\n",
    "ax.plot(x5, y5, 'g-', linewidth=2, label = '$y = x^3$')\n",
    "ax.set_title('Plotting the quadratic function')\n",
    "ax.set_xlabel('$x$')\n",
    "ax.set_ylabel('$y$')\n",
    "ax.legend(loc = 'upper center')"
   ]
  },
  {
   "cell_type": "markdown",
   "metadata": {},
   "source": [
    "## Question 5\n",
    "\n",
    "Consider the utility function $U(B,C)=B^{\\alpha} C^{(1-\\alpha)}$ of a Oktoberfest visitor consuming beer (B) and chicken (C).\n",
    "\n",
    "(a) Write a function that returns the utilily depending on the amount of consumed chicken and beers\n",
    "\n",
    "(b) Plot the utility as a function of the amount of beer with $\\alpha=0.7$ and $C=2$. The range of beers should be from 0 to 10.\n",
    "\n",
    "(C) Plot the isoquants of the same utility for all combination of C and B in the range from 0 to 10.\n",
    "\n",
    "(d) Consider now the prices of $p_B=10 €$ and $p_C=10€$ and a budget of 55€. Draw the budgetline in the graph from question (c) and guess what the optimal consumption might be. You can set the limits of the x and the y axis by **ax.set_xlim([xlim,xmax])** and **ax.set_ylim([ylim,ymax])**."
   ]
  },
  {
   "cell_type": "code",
   "execution_count": 17,
   "metadata": {},
   "outputs": [
    {
     "name": "stdout",
     "output_type": "stream",
     "text": [
      "3.4641016151377544\n"
     ]
    }
   ],
   "source": [
    "## (a)\n",
    "def utility(C,B,alpha):\n",
    "    return (C**alpha)*(B**(1-alpha))\n",
    "\n",
    "print (utility(3,4,0.5))"
   ]
  },
  {
   "cell_type": "code",
   "execution_count": 18,
   "metadata": {},
   "outputs": [
    {
     "data": {
      "text/plain": [
       "<matplotlib.legend.Legend at 0x1a1a7eae10>"
      ]
     },
     "execution_count": 18,
     "metadata": {},
     "output_type": "execute_result"
    },
    {
     "data": {
      "image/png": "[encoded data removed]",
      "text/plain": [
       "<Figure size 432x288 with 1 Axes>"
      ]
     },
     "metadata": {
      "needs_background": "light"
     },
     "output_type": "display_data"
    }
   ],
   "source": [
    "## (b)\n",
    "B = np.linspace(0,10,10)\n",
    "u = utility(2, B, 0.7)\n",
    "fig, ax = plt.subplots()\n",
    "ax.plot(B, u, 'r-', linewidth=2, label = 'utility')\n",
    "ax.set_title('Plotting the utility function')\n",
    "ax.set_xlabel('Beers')\n",
    "ax.set_ylabel('$U(C,B)$')\n",
    "ax.legend(loc = 'upper center')"
   ]
  },
  {
   "cell_type": "code",
   "execution_count": 19,
   "metadata": {},
   "outputs": [
    {
     "data": {
      "text/plain": [
       "(0, 10)"
      ]
     },
     "execution_count": 19,
     "metadata": {},
     "output_type": "execute_result"
    },
    {
     "data": {
      "image/png": "[encoded data removed]",
      "text/plain": [
       "<Figure size 432x288 with 1 Axes>"
      ]
     },
     "metadata": {
      "needs_background": "light"
     },
     "output_type": "display_data"
    }
   ],
   "source": [
    "## (c)\n",
    "N = 11\n",
    "## interpolate both production factors over equidistant grid\n",
    "C = np.linspace(0, 10, N)\n",
    "B = np.linspace(0, 10, N)\n",
    "## use meshgrid function \n",
    "X, Y = np.meshgrid(C, B)\n",
    "U = utility(X, Y, 0.7)\n",
    "\n",
    "## plot contour\n",
    "fig, ax = plt.subplots()\n",
    "ax.contour(C, B, U, cmap = 'viridis')\n",
    "ax.set_xlabel('Beers')\n",
    "ax.set_ylabel('Chicken')\n",
    "\n",
    "## (d)\n",
    "## Budget constraint\n",
    "def chicken(B):\n",
    "    return (5.5-B)\n",
    "\n",
    "ax.plot(B,chicken(B),'r')\n",
    "ax.set_xlim([0,10])\n",
    "ax.set_ylim([0,10])"
   ]
  },
  {
   "cell_type": "markdown",
   "metadata": {},
   "source": [
    "## Question 6\n",
    "\n",
    "The file *Capacities.csv* contains country-level data on electricity generation capacity, and more specifically on capacity of \"clean\" (i.e. non-carbon emitting) technologies. It consists of three columns: the first columns contains the combined capacity for hydro and nuclear power plants, while the second columns contains the combined capacity for wind and solar installations (all in TW). The third columns contains the overall *capacity factor*, that is, the share of potential electricity that is actually produced. In other words, a capacity factor of 50% would imply that the a plant runs half of the time. In this question, we are interested in how the capacity factor depends on how wind and solar capacity are in the system.\n",
    "\n",
    "(a) Each column consists of 600 *country-year* observations (30 OECD countries over 20 years). Use Numpy's **loadtxt** function to load the data as a 600-by-3 array. (A side note: there are better ways to work with this kind of data in Python than a Numpy array, as we will see in next lecture).\n",
    "\n",
    "(b) Visualize the data using a scatter plot, where each axis corresponds to a capacity measure, while the color (or the size) of the markers is determined by the level of the capacity factor.\n",
    "\n",
    "(c) If you are not interested in absolute capacity levels, an alternative is to plot the capacity factor against the *relative* capacity of wind and solar, i.e. their share in total renewable capacity. Use Matplotlib's **plot** method, but with markers instead of lines. Also, include only those observations that have a wind & solar share of more than 1 percent (Hint: use a logical Nunpy array)."
   ]
  },
  {
   "cell_type": "code",
   "execution_count": 20,
   "metadata": {},
   "outputs": [
    {
     "data": {
      "text/plain": [
       "Text(0,0.5,'Capacity Wind & Solar')"
      ]
     },
     "execution_count": 20,
     "metadata": {},
     "output_type": "execute_result"
    },
    {
     "data": {
      "image/png": "[encoded data removed]",
      "text/plain": [
       "<Figure size 432x288 with 2 Axes>"
      ]
     },
     "metadata": {
      "needs_background": "light"
     },
     "output_type": "display_data"
    }
   ],
   "source": [
    "import seaborn\n",
    "\n",
    "## (a)\n",
    "X = np.loadtxt('data/Capacities.csv')\n",
    "\n",
    "cap_rn1 = X[:,0]\n",
    "cap_rn2 = X[:,1]\n",
    "cf_rn = X[:,2]\n",
    "\n",
    "## (b)\n",
    "\n",
    "fig, ax = plt.subplots()\n",
    "im = ax.scatter(cap_rn1, cap_rn2, c = cf_rn, cmap='viridis')\n",
    "fig.colorbar(im);  # show color scale\n",
    "ax.set_xlabel('Capacity Hydro & Nuclear')\n",
    "ax.set_ylabel('Capacity Wind & Solar')"
   ]
  },
  {
   "cell_type": "code",
   "execution_count": 21,
   "metadata": {},
   "outputs": [
    {
     "data": {
      "text/plain": [
       "Text(0,0.5,'Capacity Factor')"
      ]
     },
     "execution_count": 21,
     "metadata": {},
     "output_type": "execute_result"
    },
    {
     "data": {
      "image/png": "[encoded data removed]",
      "text/plain": [
       "<Figure size 432x288 with 1 Axes>"
      ]
     },
     "metadata": {
      "needs_background": "light"
     },
     "output_type": "display_data"
    }
   ],
   "source": [
    "## (c)\n",
    "\n",
    "## get relative capacity of wind + solar\n",
    "sh_ws = (cap_rn2 / (cap_rn1 + cap_rn2))\n",
    "\n",
    "fig, ax = plt.subplots()\n",
    "## Use logical arrays to exclude observations where sh_ws < 0.01\n",
    "ax.plot(sh_ws[sh_ws >= 0.01], cf_rn[sh_ws >= 0.01], 'D')\n",
    "ax.set_xlabel('Share of Wind & Solar in Total Capacity')\n",
    "ax.set_ylabel('Capacity Factor')"
   ]
  }
 ],
 "metadata": {
  "anaconda-cloud": {},
  "kernelspec": {
   "display_name": "Python 3",
   "language": "python",
   "name": "python3"
  },
  "language_info": {
   "codemirror_mode": {
    "name": "ipython",
    "version": 3
   },
   "file_extension": ".py",
   "mimetype": "text/x-python",
   "name": "python",
   "nbconvert_exporter": "python",
   "pygments_lexer": "ipython3",
   "version": "3.7.0"
  }
 },
 "nbformat": 4,
 "nbformat_minor": 1
}
