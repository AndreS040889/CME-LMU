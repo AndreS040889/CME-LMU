{
 "cells": [
  {
   "cell_type": "markdown",
   "metadata": {},
   "source": [
    "# Introduction to Python - Basics\n",
    "\n",
    "## Problem Set - Solutions"
   ]
  },
  {
   "cell_type": "code",
   "execution_count": 1,
   "metadata": {},
   "outputs": [
    {
     "name": "stdout",
     "output_type": "stream",
     "text": [
      "Last update: 2018-10-23 18:07:43.801436\n"
     ]
    }
   ],
   "source": [
    "# Author: Alex Schmitt (schmitt@ifo.de)\n",
    "\n",
    "import datetime\n",
    "print('Last update: ' + str(datetime.datetime.today()))"
   ]
  },
  {
   "cell_type": "markdown",
   "metadata": {},
   "source": [
    "## Question 1\n",
    "\n",
    "Write a program which prompts the user for a Celsius temperature using the **input()** function. Convert the temperature to Fahrenheit and print out the converted temperature.\n",
    "\n",
    "Hint: \n",
    "\\begin{equation}\n",
    "    T_{F} = 1.8 \\cdot T_C + 32 \n",
    "\\end{equation}\n"
   ]
  },
  {
   "cell_type": "code",
   "execution_count": 2,
   "metadata": {},
   "outputs": [
    {
     "name": "stdout",
     "output_type": "stream",
     "text": [
      "Enter Temperature in degree Celsius:29\n",
      "29 degree Celsius corresponds to 84.2 degree Fahrenheit.\n"
     ]
    }
   ],
   "source": [
    "T_C = input(\"Enter Temperature in degree Celsius:\")\n",
    "T_F = 1.8 * float(T_C) + 32\n",
    "print(\"{} degree Celsius corresponds to {} degree Fahrenheit.\".format(T_C, T_F))"
   ]
  },
  {
   "cell_type": "markdown",
   "metadata": {},
   "source": [
    "## Question 2\n",
    "\n",
    "Suppose you want to use Python to keep track of the points of the clubs in the German football Bundesliga. For example, you have the following information:\n",
    "    - Borussia Dortmund: 20 points\n",
    "    - FC Bayern: 16 points\n",
    "    - FC Schalke: 6 points\n",
    "    \n",
    "(a) Based on what we have learned so far, use Python arrays to store this information, using one array for clubs and one array for points. Think about which array types may be suitable.\n",
    "\n",
    "(b) Add information for at least one other club to your arrays.\n",
    "\n",
    "(c) Use the arrays to write to the screen how many points a given club has."
   ]
  },
  {
   "cell_type": "markdown",
   "metadata": {},
   "source": [
    "#### Answer\n",
    "\n",
    "I use two arrays, **Clubs** and **Points**. For points, since you may want to update its values, it makes sense to use a *list*. For the club names, since they don't change, one could use a *tuple*. However, if you want to add new entries (see question (b)), a tuple would not work, hence I also use a list. "
   ]
  },
  {
   "cell_type": "code",
   "execution_count": 3,
   "metadata": {},
   "outputs": [
    {
     "name": "stdout",
     "output_type": "stream",
     "text": [
      "Borussia Dortmund currently has 20 points.\n"
     ]
    }
   ],
   "source": [
    "Clubs = [\"Borussia Dortmund\", \"FC Bayern\", \"FC Schalke\"]\n",
    "Points = [20, 16, 6]\n",
    "\n",
    "## (b)\n",
    "Clubs.append(\"FC Augsburg\")\n",
    "Points.append(9)\n",
    "\n",
    "## (c)\n",
    "print(\"{} currently has {} points.\".format(Clubs[0], Points[0]))\n"
   ]
  },
  {
   "cell_type": "markdown",
   "metadata": {},
   "source": [
    "## Question 3\n",
    "\n",
    "(a) From question 2 above you have information on Bundesliga clubs and their points. Put this information in a dictionaries.\n",
    "\n",
    "**HINT**: With the **zip()** function, you can use the arrays defined above to easily construct the dictionary.\n",
    "\n",
    "(b) Add information for at least one other club to your dictionary.\n",
    "\n",
    "(c) Use the dictionary to write to the screen how many points a given club has."
   ]
  },
  {
   "cell_type": "code",
   "execution_count": 4,
   "metadata": {},
   "outputs": [
    {
     "name": "stdout",
     "output_type": "stream",
     "text": [
      "FC Bayern currently has 16 points.\n"
     ]
    }
   ],
   "source": [
    "## (a)\n",
    "## long way\n",
    "D = {\"Borussia Dortmund\": 20, \"FC Bayern\": 16, \"FC Schalke\": 6}\n",
    "\n",
    "## quick way: use arrays defined before\n",
    "# D = dict(zip(Clubs, Points))\n",
    "\n",
    "## (b)\n",
    "D[\"Herta BSC\"] = 15\n",
    "\n",
    "## (c)\n",
    "club = \"FC Bayern\"\n",
    "print(\"{} currently has {} points.\".format(club, D[club]))"
   ]
  },
  {
   "cell_type": "markdown",
   "metadata": {},
   "source": [
    "## Question 4\n",
    "\n",
    "Write a program to prompt the user for hours worked and rate per hour to compute gross pay. Pay the hourly rate for the hours up to 40 and 1.5 times the hourly rate for all hours worked *above 40 hours*. Use 45 hours and a rate of 10.50 per hour to test the program (the pay should be 498.75). You should use **input()** to read a string and **float()** to convert the string to a number. Do not worry about error checking the user input - assume the user types numbers properly. (Source: Coursera, Programming for Everybody, Week 5)"
   ]
  },
  {
   "cell_type": "code",
   "execution_count": 6,
   "metadata": {},
   "outputs": [
    {
     "name": "stdout",
     "output_type": "stream",
     "text": [
      "Enter Hours:45\n",
      "Enter Rate:10.5\n",
      "498.75\n"
     ]
    }
   ],
   "source": [
    "hrs = input(\"Enter Hours:\")\n",
    "h = float(hrs)\n",
    "rate = input(\"Enter Rate:\")\n",
    "w = float(rate)\n",
    "\n",
    "if h <= 40:\n",
    "    sal = w * h\n",
    "else:\n",
    "    sal = w * 40 + 1.5 * w * (h - 40)\n",
    "    \n",
    "print(sal)   "
   ]
  },
  {
   "cell_type": "markdown",
   "metadata": {},
   "source": [
    "## Question 5\n",
    "\n",
    "Given **pairs = ((2, 5), (4, 2), (9, 8), (12, 10))**, count the number of pairs (a, b) such that both a and b are even. \n",
    "\n",
    "Hint: For this question, we can use the *modulo* operation **%** for integers. In general, **x % y** divides x by y and returns the *remainder*. For example, **4 % 2** returns 0, since there is no remainder (this is true for any *even* number x when typing **x % 2**). In contrast, **7 % 2** returns 1 since 7 = 3 x 2 **+ 1**. In fact, for any *odd* integer x, **x % 2** returns 1.\n",
    "\n",
    "(Source: lectures.quantecon.org, Python Essentials, Exercise 1)"
   ]
  },
  {
   "cell_type": "code",
   "execution_count": 7,
   "metadata": {},
   "outputs": [
    {
     "name": "stdout",
     "output_type": "stream",
     "text": [
      "There are 2 all-even pairs.\n"
     ]
    }
   ],
   "source": [
    "pairs = ((2, 5), (4, 2), (9, 8), (12, 10))\n",
    "\n",
    "count = 0\n",
    "for pair in pairs:\n",
    "    if (pair[0] % 2 == 0) and (pair[1] % 2 == 0):\n",
    "        count += 1\n",
    "\n",
    "## alternative: list comprehension\n",
    "# sum([x % 2 == 0 and y % 2 == 0 for x, y in pairs])\n",
    "        \n",
    "print('There are {} all-even pairs.'.format(count))        "
   ]
  },
  {
   "cell_type": "markdown",
   "metadata": {},
   "source": [
    "## Question 6\n",
    "\n",
    "Given two numeric lists or tuples **x_vals** and **y_vals** of equal length, compute their inner product using **zip()**. (Source: lectures.quantecon.org, Python Essentials, Exercise 1)"
   ]
  },
  {
   "cell_type": "code",
   "execution_count": 8,
   "metadata": {},
   "outputs": [
    {
     "name": "stdout",
     "output_type": "stream",
     "text": [
      "32\n"
     ]
    }
   ],
   "source": [
    "x_vals = [1,2,3]\n",
    "y_vals = (4,5,6)\n",
    "\n",
    "inner = 0\n",
    "for x,y in zip(x_vals, y_vals):\n",
    "    inner += x * y\n",
    "\n",
    "## alternative: list comprehension\n",
    "# sum([x * y for x, y in zip(x_vals, y_vals)])\n",
    "    \n",
    "print(inner)    "
   ]
  },
  {
   "cell_type": "markdown",
   "metadata": {},
   "source": [
    "## Question 7\n",
    "\n",
    "Write a program that takes an integer and returns the sum of its digits. For example, inputting **12345** should return 15 (as an integer or float).\n",
    "\n",
    "Hint: One way of computing the digit sum makes use of the *modulo* operation **\"%\"**, as seen above. What is useful to note for this question is that, for example, **12345 % 10** would return 5. In addition, what may be useful here is a **while** loop.   \n",
    "\n",
    "An alternative way would be to make use of the **str()** and **int()** functions. "
   ]
  },
  {
   "cell_type": "code",
   "execution_count": 9,
   "metadata": {},
   "outputs": [
    {
     "name": "stdout",
     "output_type": "stream",
     "text": [
      "15.0\n",
      "15\n"
     ]
    }
   ],
   "source": [
    "# Approach 1: use modulo operation\n",
    "x = 12345\n",
    "# initialize variable 'total' as zero\n",
    "total = 0\n",
    "# start a while loop: loop runs as long as x is positive\n",
    "while x > 0:\n",
    "    # using modulo 10 gives you the LAST digit for any number, e.g. 12345 % 10 = 5\n",
    "    dig = x % 10\n",
    "    # add this digit to total\n",
    "    total = total + dig\n",
    "    \n",
    "    # update x: (1) subtract the last digit and (2) divide by 10\n",
    "    # e.g. (12345 - 5)/10 = 1234 -> continue loop with x = 1234\n",
    "    x = (x - dig)/10\n",
    "\n",
    "print(total)\n",
    "\n",
    "# Approach 2: use strings\n",
    "x = 12345\n",
    "# convert x to a string: s ='12345'\n",
    "s = str(x)\n",
    "# initialize empty list\n",
    "lst = []\n",
    "# loop through s (possible since it behaves like an array) and add element to lst, converted to int\n",
    "for i in s:\n",
    "    lst.append(int(i))\n",
    "# sum over lst and print\n",
    "print(sum(lst))"
   ]
  },
  {
   "cell_type": "markdown",
   "metadata": {},
   "source": [
    "## Question 8\n",
    "\n",
    "Write a program to prompt for a score between 0.0 and 1.0. If the score is out of range, print an error. If the score is between 0.0 and 1.0, print a grade using the following table:\n",
    "Score Grade\n",
    "- $>= 0.9 $: A\n",
    "- $>= 0.8 $: B\n",
    "- $>= 0.7 $: C\n",
    "- $>= 0.6 $: D\n",
    "- $< 0.6$ F\n",
    "\n",
    "If the user enters a value out of range, print a suitable error message and exit. For the test, enter a score of 0.85.\n",
    "(Source: Coursera, Programming for Everybody, Week 5)"
   ]
  },
  {
   "cell_type": "code",
   "execution_count": 11,
   "metadata": {},
   "outputs": [
    {
     "name": "stdout",
     "output_type": "stream",
     "text": [
      "Enter Score: 0.85\n",
      "B\n"
     ]
    }
   ],
   "source": [
    "score = float(input(\"Enter Score: \"))\n",
    "\n",
    "assert 0.0 <= score <= 1.0, \"Please enter a value between 0 and 1.\"\n",
    "\n",
    "if score < 0.6:\n",
    "    print('F')\n",
    "elif score < 0.7:\n",
    "    print('D')\n",
    "elif score < 0.8:\n",
    "    print('C') \n",
    "elif score < 0.9:\n",
    "    print('B')\n",
    "else:\n",
    "    print('A')    "
   ]
  },
  {
   "cell_type": "markdown",
   "metadata": {},
   "source": [
    "## Question 9\n",
    "\n",
    "Compute the median value in a list of integers or floats. If the list has an even number of elements, let the median value be the average value of the two median elements. For example, **lst = [7,1,3]** has a median value of 3, while **lst = [7,1,3,2]** has a median value of 2.5.\n",
    "\n",
    "Hint 1: The built-in function **sorted** used on lists may prove useful here.\n",
    "\n",
    "Hint 2: Note that using the built-in function **int()** on a floating point number *rounds down*:"
   ]
  },
  {
   "cell_type": "code",
   "execution_count": 12,
   "metadata": {},
   "outputs": [
    {
     "name": "stdout",
     "output_type": "stream",
     "text": [
      "1\n",
      "3\n"
     ]
    }
   ],
   "source": [
    "print(int(1.5))\n",
    "print(int(3.99))"
   ]
  },
  {
   "cell_type": "code",
   "execution_count": 13,
   "metadata": {},
   "outputs": [
    {
     "name": "stdout",
     "output_type": "stream",
     "text": [
      "The median of [7, 1, 3] is 3.\n"
     ]
    }
   ],
   "source": [
    "lst = [7,1,3]\n",
    "lst_orig = lst\n",
    "lst = sorted(lst)\n",
    "# case 1: even -> compute average of two median elements\n",
    "if len(lst) % 2 == 0:\n",
    "    # find index of the larger of the two median elements\n",
    "    index = int(0.5 * len(lst))\n",
    "    med = 0.5 * (lst[index-1] + lst[index])\n",
    "# case 2: odd -> find index of the median element\n",
    "else:\n",
    "    index = int(0.5 * len(lst))\n",
    "    med = lst[index]\n",
    "\n",
    "\n",
    "print(\"The median of {} is {}.\".format(lst_orig, med))"
   ]
  },
  {
   "cell_type": "markdown",
   "metadata": {},
   "source": [
    "## Question 10 (advanced)\n",
    "\n",
    "Write a program that repeatedly prompts a user for integer numbers until the user enters 'done'. Once 'done' is entered, print out the largest and smallest of the numbers. If the user enters anything other than a valid number catch it with a **try/except** and put out an appropriate message and ignore the number. If no valid number has been entered, print out a corresponding statement. (Source: Coursera, Programming for Everybody, Week 7)"
   ]
  },
  {
   "cell_type": "code",
   "execution_count": 14,
   "metadata": {},
   "outputs": [
    {
     "name": "stdout",
     "output_type": "stream",
     "text": [
      "Enter a number: done\n",
      "No valid number entered!\n"
     ]
    }
   ],
   "source": [
    "# Approach 1: storing largest and smalles\n",
    "largest = 0\n",
    "smallest = 0\n",
    "first_entry = True\n",
    "\n",
    "while True:\n",
    "    num = input(\"Enter a number: \")\n",
    "    \n",
    "    try: \n",
    "        if first_entry:\n",
    "            largest = int(num)\n",
    "            smallest = int(num)\n",
    "            first_entry = False\n",
    "               \n",
    "        if int(num) > largest:\n",
    "            largest = int(num)\n",
    "            \n",
    "        elif int(num) < smallest :\n",
    "            smallest = int(num)    \n",
    "    except:\n",
    "        if num == \"done\" : break\n",
    "        else:\n",
    "            print(\"Invalid input\")\n",
    "            continue\n",
    "\n",
    "if not first_entry:    \n",
    "    print(\"The maximum number entered is\", largest)\n",
    "    print(\"The minimum number entered is\", smallest)\n",
    "else:\n",
    "    print(\"No valid number entered!\")"
   ]
  },
  {
   "cell_type": "code",
   "execution_count": 15,
   "metadata": {},
   "outputs": [
    {
     "name": "stdout",
     "output_type": "stream",
     "text": [
      "Enter a number: 3\n",
      "Enter a number: 6\n",
      "Enter a number: 8\n",
      "Enter a number: done\n",
      "The maximum number entered is 8\n",
      "The minimum number entered is 3\n"
     ]
    }
   ],
   "source": [
    "## Approach 2 (recommended): using a list\n",
    "\n",
    "# initialize list\n",
    "lst = []\n",
    "\n",
    "while True:\n",
    "    num = input(\"Enter a number: \")\n",
    "    \n",
    "    try: \n",
    "        lst.append(int(num))\n",
    "    \n",
    "    except:\n",
    "        if num == \"done\" : break\n",
    "        else:\n",
    "            print(\"Invalid input\")\n",
    "            continue\n",
    "    \n",
    "if len(lst) > 0:    \n",
    "    print(\"The maximum number entered is\", max(lst))\n",
    "    print(\"The minimum number entered is\", min(lst))\n",
    "else:\n",
    "    print(\"No valid number entered!\")    "
   ]
  },
  {
   "cell_type": "markdown",
   "metadata": {},
   "source": [
    "## Question 11\n",
    "\n",
    "Recall that $n!$ is read as *n factorial* and defined as\n",
    "\\begin{equation}\n",
    "    n!=n×(n−1)×⋯×2×1n!=n×(n−1)×⋯×2×1\n",
    "\\end{equation}\n",
    "There are functions to compute this in various packages, but let’s write our own version as an exercise. In particular, write a function **factorial** such that **factorial(n)** returns $n!$ for any positive integer n. (Source: quantecon.org, An Introductory Example, Exercise 1)"
   ]
  },
  {
   "cell_type": "code",
   "execution_count": 16,
   "metadata": {},
   "outputs": [
    {
     "name": "stdout",
     "output_type": "stream",
     "text": [
      "The factorial of 3 is 6.\n"
     ]
    }
   ],
   "source": [
    "def factorial(n):\n",
    "    prod = 1\n",
    "    for i in range(1,n+1):\n",
    "        prod *= i\n",
    "    return prod\n",
    "\n",
    "n = 3\n",
    "print('The factorial of {} is {}.'.format(n, factorial(n)) )"
   ]
  },
  {
   "cell_type": "markdown",
   "metadata": {},
   "source": [
    "## Question 12\n",
    "\n",
    "Write a function **removes_duplicates** that takes a list (with elements of any type) and removes all duplicates, i.e. returns a list in which each element appears only once. For example, inputting **[1,1,2,2]** should return **([1,2])**. Try to solve this problem in *two different ways*.\n",
    "\n",
    "Hint: For this question, useful functions and methods are **.append()** (for lists) and the functions **set()** and **list()**."
   ]
  },
  {
   "cell_type": "code",
   "execution_count": 17,
   "metadata": {},
   "outputs": [
    {
     "name": "stdout",
     "output_type": "stream",
     "text": [
      "[1, 2]\n",
      "[1, 2]\n"
     ]
    }
   ],
   "source": [
    "def remove_duplicates(lst):    \n",
    "    # approach 1: \n",
    "    # initialize empty list\n",
    "    new = []\n",
    "    # loop through lst and check if element x already in new; if not, add it\n",
    "    for item in lst:\n",
    "        if item not in new:\n",
    "            new.append(item)\n",
    "        \n",
    "    return new   \n",
    "\n",
    "def remove_duplicates2(lst): \n",
    "    # approach 2: convert lst to set and recall that sets cannot have duplicates!\n",
    "    # in other words, when converting a list to a set, duplicates are eliminated automatically\n",
    "    S = set(lst)\n",
    "    return list(S)\n",
    "    \n",
    "lst = remove_duplicates([1,1,2,2])   \n",
    "print(lst)\n",
    "lst = remove_duplicates2([1,1,2,2])   \n",
    "print(lst)"
   ]
  },
  {
   "cell_type": "markdown",
   "metadata": {},
   "source": [
    "## Question 13\n",
    "\n",
    "Write a function **is_subarray** that takes two sequences **seq_a** and **seq_b** as arguments and returns **True** if every element in seq_a is also an element of seq_b, else False. By “sequence” we mean a list, a tuple or a string. (Source: quantecon.org, Python Essentials, Exercise 4)"
   ]
  },
  {
   "cell_type": "code",
   "execution_count": 18,
   "metadata": {},
   "outputs": [
    {
     "name": "stdout",
     "output_type": "stream",
     "text": [
      "True\n",
      "False\n"
     ]
    }
   ],
   "source": [
    "def is_subarray(seq_a, seq_b):\n",
    "    ## loop through the first array\n",
    "    for a in seq_a:\n",
    "        ## check if the element is in the second array -> if not, the function must return False\n",
    "        if a not in seq_b:\n",
    "            return False\n",
    "    return True\n",
    "## or\n",
    "# def f(seq_a, seq_b):\n",
    "#     return set(seq_a).issubset(set(seq_b))\n",
    "\n",
    "print(is_subarray( [1,2,3], [1,2,3,4,5] ) )\n",
    "print(is_subarray( (1,2,3), (1,3,5,7,9) ) )"
   ]
  },
  {
   "cell_type": "markdown",
   "metadata": {},
   "source": [
    "## Question 14\n",
    "\n",
    "Consider the polynomial\n",
    "\n",
    "\\begin{equation}\n",
    "p(x)\n",
    "= a_0 + a_1 x + a_2 x^2 + \\cdots a_n x^n\n",
    "= \\sum_{i=0}^n a_i x^i\n",
    "\\end{equation}\n",
    "\n",
    "Write a function **p** such that **p(x, coeff)** that computes the value above given a point **x** and a list of coefficients **coeff**. Try to use **enumerate()** in your loop. (Source: quantecon.org, Python Essentials, Exercise 2)"
   ]
  },
  {
   "cell_type": "code",
   "execution_count": 19,
   "metadata": {},
   "outputs": [
    {
     "name": "stdout",
     "output_type": "stream",
     "text": [
      "26\n"
     ]
    }
   ],
   "source": [
    "def p(x, coeff):\n",
    "    return sum([c * x**i for i,c in enumerate(coeff)])\n",
    "\n",
    "coefs = [2,2,1]\n",
    "x = 4 \n",
    "print(p(x,coefs))"
   ]
  },
  {
   "cell_type": "markdown",
   "metadata": {},
   "source": [
    "## Question 15\n",
    "\n",
    "(a) Write a function **get_divisors** that takes two arguments, an integer **num** and a list **lst** of integers, and return all elements of **lst** that are divisors of **num**, i.e. if you divide **num** by a divisor, there is no remainder.\n",
    "\n",
    "(b) Include some test cases in the function's docstring and use the doctest module to check if the tests clear.\n",
    "\n",
    "(Source: Coursera, Learn to Program: Crafting Quality Code, Week 2)"
   ]
  },
  {
   "cell_type": "code",
   "execution_count": 20,
   "metadata": {},
   "outputs": [],
   "source": [
    "def get_divisors(num, possible_divisors):\n",
    "    ''' (int, list of int) -> list of int\n",
    "\n",
    "    Return a list of the values from possible_divisors\n",
    "    that are divisors of num.\n",
    "\n",
    "    >>> get_divisors(8, [1, 2, 3])\n",
    "    [1, 2]\n",
    "    >>> get_divisors(4, [-2, 0, 2])\n",
    "    [-2, 2]\n",
    "    '''\n",
    "\n",
    "    divisors = []\n",
    "    for item in possible_divisors:\n",
    "        ## note that 0 can be in possible_divisors -> we can make use of the lazy evaluation of the AND statement \n",
    "        if item != 0 and num % item == 0:\n",
    "            divisors.append(item)\n",
    "\n",
    "    return divisors"
   ]
  },
  {
   "cell_type": "code",
   "execution_count": 21,
   "metadata": {},
   "outputs": [
    {
     "data": {
      "text/plain": [
       "TestResults(failed=0, attempted=2)"
      ]
     },
     "execution_count": 21,
     "metadata": {},
     "output_type": "execute_result"
    }
   ],
   "source": [
    "import doctest\n",
    "doctest.testmod()"
   ]
  },
  {
   "cell_type": "markdown",
   "metadata": {},
   "source": [
    "## Question 16\n",
    "\n",
    "In this question, we are going to work with the **math** module that allows you to use some basic mathematical operatios like taking the logarithm or the square root. Note that we won't use the **math** module often later on, since all of its functions are also included in the **numpy** package, which we will get to know in a later session.\n",
    "\n",
    "(a) Import the math module.\n",
    "\n",
    "(b) Write a function **pythagoras** that take two numbers (ints or floats) representing the lengths of two smaller sides of a right triangle and returns the length of the hypotenuse, according to the Pythagorean theorem. Hint: Use the **sqrt** function of the **math** module.\n",
    "\n",
    "(c) You may recall that the *sine* of $x \\pi$ is zero, for all integers $x$. Suppose you have forgotten what values  the *cosine* of $x \\pi$ takes. Write a loop over the integers -10 to 10 that computes the *absolute value* of the different between $\\sin(x \\pi)$ and $\\cos(x \\pi)$.\n",
    "\n",
    "(d) Recall that from a first-order Taylor approximation, \n",
    "\\begin{equation}\n",
    "\\log(1 + x) \\approx \\log(1) + (x - 1) * \\frac{1}{1} = x\n",
    "\\end{equation}\n",
    "This approximation is closer to the true value the smaller $x$ is. Suppose you would like to know the first value for $x > 0$, for which the approximation error is greater than $tol$, i.e.\n",
    "\\begin{equation}\n",
    "\\left|\\frac{\\log(1 + x) - x}{x}\\right| > tol.\n",
    "\\end{equation}\n",
    "Write a function **find_threshold** that takes an error level **tol** as an argument and returns the corresponding threshold level. Use a **while** loop that starts at $x = 0.001 = 1e-3$ and increases $x$ by $1e-3$ in every iteration of the loop.\n"
   ]
  },
  {
   "cell_type": "code",
   "execution_count": 22,
   "metadata": {},
   "outputs": [
    {
     "name": "stdout",
     "output_type": "stream",
     "text": [
      "5.0\n",
      "0.9999999999999988\n",
      "0.9999999999999989\n",
      "0.999999999999999\n",
      "0.9999999999999991\n",
      "0.9999999999999992\n",
      "0.9999999999999993\n",
      "0.9999999999999996\n",
      "0.9999999999999997\n",
      "0.9999999999999998\n",
      "0.9999999999999999\n",
      "1.0\n",
      "1.0000000000000002\n",
      "1.0000000000000002\n",
      "1.0000000000000004\n",
      "1.0000000000000004\n",
      "1.0000000000000007\n",
      "1.0000000000000007\n",
      "1.0000000000000009\n",
      "1.0000000000000009\n",
      "1.000000000000001\n"
     ]
    }
   ],
   "source": [
    "## question (a)\n",
    "import math\n",
    "\n",
    "## question (b)\n",
    "def pythagoras(a, b):\n",
    "    return math.sqrt(a**2 + b**2)\n",
    "\n",
    "print(pythagoras(3,4))\n",
    "\n",
    "## question (c)\n",
    "for num in range(-10, 10):\n",
    "    print( abs(math.sin(num * math.pi) - math.cos(num * math.pi)) )\n"
   ]
  },
  {
   "cell_type": "code",
   "execution_count": 23,
   "metadata": {},
   "outputs": [
    {
     "name": "stdout",
     "output_type": "stream",
     "text": [
      "The approximation error exceeds 10% starting at x = 0.231.\n"
     ]
    }
   ],
   "source": [
    "## question (d)\n",
    "\n",
    "def find_threshold(tol):\n",
    "    ## initialize x and diff\n",
    "    x = 1e-3\n",
    "    diff = 0\n",
    "    ## while loop\n",
    "    while diff < tol:\n",
    "        x += 1e-3\n",
    "        diff = abs( math.log(1 + x)/x - 1 )\n",
    "        \n",
    "    return x    \n",
    "\n",
    "tol = 0.1        \n",
    "x = find_threshold(tol)        \n",
    "print(\"The approximation error exceeds {}% starting at x = {:.3}.\".format(int(tol * 100), x))   "
   ]
  },
  {
   "cell_type": "markdown",
   "metadata": {},
   "source": [
    "## Question 17\n",
    "\n",
    "Suppose you're a teacher and use Python dictionaries to keep track of your students' grades. Each student corresponds to a dictionary with the following key-value pairs:\n",
    "- \"name\": the student's name (a string)\n",
    "- \"homework\": a list of arbitrary length, containing the homework grades (floats)\n",
    "- \"quizzes\": a list of arbitrary length, containing the grades from quizzes (floats)\n",
    "- \"tests\": a list of arbitrary length, containing the grades from tests (floats)\n",
    "\n",
    "\n",
    "(a) The student Alice has the following grades:\n",
    "- homework: 100.0, 92.0, 98.0, 100.0\n",
    "- quizzes: 82.0, 83.0, 91.0\n",
    "- tests: 89.0, 97.0\n",
    "Write a dictionary (as defined above) that keeps track of these grades.\n",
    "\n",
    "(b) Write a function **average** that takes a list of numbers and return the average. Use it to compute Alice's average grade for homework.\n",
    "\n",
    "(c) Write a function **student_average** that computes the overall average grade for a student across all exam types. It takes a student dictionary (as defined above) and a two-item tuple **weights**$ = (w_1, w_2)$ that contains the weights for homework and quizzes. The total average is given by:\n",
    "\\begin{equation}\n",
    "    \\text{Average}_{\\text{total}} = w_1 \\cdot \\text{Average}_{\\text{HW}} + w_2 \\cdot \\text{Average}_{\\text{QU}} + (1 - w_1 - w_2) \\cdot \\text{Average}_{\\text{TE}} \n",
    "\\end{equation}\n",
    "Compute Alice's overal average for weights $(0.2, 0.3)$.\n",
    "\n",
    "(d) Write a function **class_average** that a lists of student dictionaries and the weights tuple and computes the grade average over all students. Let there be two more students with the following grades:\n",
    "\n",
    "Michael:\n",
    "- homework: 90.0, 97.0, 75.0, 92.0\n",
    "- quizzes: 88.0, 40.0, 94.0\n",
    "- tests: 75.0, 90.0\n",
    "\n",
    "Tyler:\n",
    "- homework: 0.0, 87.0, 75.0, 22.0\n",
    "- quizzes: 0.0, 75.0, 78.0\n",
    "- tests: 100.0, 100.0\n",
    "\n",
    "Compute the grade average for the three students.\n",
    "\n",
    "(e) Suppose that in the last exam of the year, Alice scored 85.0, Michael 88.0 and Tyler 97.0. How does the class average change?\n"
   ]
  },
  {
   "cell_type": "code",
   "execution_count": 24,
   "metadata": {},
   "outputs": [
    {
     "name": "stdout",
     "output_type": "stream",
     "text": [
      "Alice got an average of 97.5 for homework.\n",
      "Alice got a total average of 91.6.\n",
      "Michael got a total average of 81.15.\n",
      "Tyler got a total average of 74.5.\n",
      "The class average is 82.416667.\n",
      "The new class average is 82.111111.\n"
     ]
    }
   ],
   "source": [
    "## Question (a)\n",
    "alice = {\n",
    "    \"name\": \"Alice\",\n",
    "    \"homework\": [100.0, 92.0, 98.0, 100.0],\n",
    "    \"quizzes\": [82.0, 83.0, 91.0],\n",
    "    \"tests\": [89.0, 97.0]\n",
    "}\n",
    "\n",
    "## Question (b)\n",
    "def average(lst):\n",
    "    ave = sum(lst)/len(lst)\n",
    "    ## alternative:    \n",
    "#     summ = 0\n",
    "#     for i in lst[0:len(lst)]:\n",
    "#         summ += i\n",
    "#     ave = summ/len(lst)\n",
    "\n",
    "    return ave \n",
    "\n",
    "ave_hw = average(alice['homework'])\n",
    "print(\"Alice got an average of {} for homework.\".format(ave_hw) )\n",
    "\n",
    "## Question (c)\n",
    "\n",
    "def student_average(student, weights):\n",
    "    total = weights[0] * average(student[\"homework\"]) + weights[1] * average(student[\"quizzes\"]) + \\\n",
    "        (1 - weights[0] - weights[1]) * average(student[\"tests\"])\n",
    "    return total\n",
    "\n",
    "weights = (0.2, 0.3)\n",
    "ave_total = student_average(alice, weights)\n",
    "print(\"Alice got a total average of {}.\".format(ave_total) )\n",
    "\n",
    "## Question (d)\n",
    "\n",
    "michael = {\n",
    "    \"name\": \"Michael\",\n",
    "    \"homework\": [90.0, 97.0, 75.0, 92.0],\n",
    "    \"quizzes\": [88.0, 40.0, 94.0],\n",
    "    \"tests\": [75.0, 90.0]\n",
    "}\n",
    "tyler = {\n",
    "    \"name\": \"Tyler\",\n",
    "    \"homework\": [0.0, 87.0, 75.0, 22.0],\n",
    "    \"quizzes\": [0.0, 75.0, 78.0],\n",
    "    \"tests\": [100.0, 100.0]\n",
    "}\n",
    "\n",
    "def class_average(students, weights):\n",
    "    total = 0\n",
    "    for student in students:\n",
    "        total += student_average(student, weights)\n",
    "    return total/len(students)\n",
    "\n",
    "print(\"Michael got a total average of {}.\".format(student_average(michael, weights)) )\n",
    "print(\"Tyler got a total average of {}.\".format(student_average(tyler, weights) ) )\n",
    "\n",
    "students = [alice, michael, tyler]\n",
    "class_ave = class_average(students, weights)\n",
    "print(\"The class average is {:f}.\".format( class_ave ) )\n",
    "\n",
    "## Question (e)\n",
    "\n",
    "alice['tests'].append(85.0)\n",
    "michael['tests'].append(88.0)\n",
    "tyler['tests'].append(97.0)\n",
    "class_ave_new = class_average(students, weights)\n",
    "print(\"The new class average is {:f}.\".format( class_ave_new ) )"
   ]
  },
  {
   "cell_type": "markdown",
   "metadata": {},
   "source": [
    "## Question 18\n",
    "\n",
    "Using **range**, write a comprehension whose value is a dictionary. The keys should be the integers from 0 to 99 and the value corresponding to a key should be the square of the key."
   ]
  },
  {
   "cell_type": "code",
   "execution_count": 25,
   "metadata": {},
   "outputs": [
    {
     "name": "stdout",
     "output_type": "stream",
     "text": [
      "{0: 0, 1: 1, 2: 4, 3: 9, 4: 16, 5: 25, 6: 36, 7: 49, 8: 64, 9: 81, 10: 100, 11: 121, 12: 144, 13: 169, 14: 196, 15: 225, 16: 256, 17: 289, 18: 324, 19: 361, 20: 400, 21: 441, 22: 484, 23: 529, 24: 576, 25: 625, 26: 676, 27: 729, 28: 784, 29: 841, 30: 900, 31: 961, 32: 1024, 33: 1089, 34: 1156, 35: 1225, 36: 1296, 37: 1369, 38: 1444, 39: 1521, 40: 1600, 41: 1681, 42: 1764, 43: 1849, 44: 1936, 45: 2025, 46: 2116, 47: 2209, 48: 2304, 49: 2401, 50: 2500, 51: 2601, 52: 2704, 53: 2809, 54: 2916, 55: 3025, 56: 3136, 57: 3249, 58: 3364, 59: 3481, 60: 3600, 61: 3721, 62: 3844, 63: 3969, 64: 4096, 65: 4225, 66: 4356, 67: 4489, 68: 4624, 69: 4761, 70: 4900, 71: 5041, 72: 5184, 73: 5329, 74: 5476, 75: 5625, 76: 5776, 77: 5929, 78: 6084, 79: 6241, 80: 6400, 81: 6561, 82: 6724, 83: 6889, 84: 7056, 85: 7225, 86: 7396, 87: 7569, 88: 7744, 89: 7921, 90: 8100, 91: 8281, 92: 8464, 93: 8649, 94: 8836, 95: 9025, 96: 9216, 97: 9409, 98: 9604}\n"
     ]
    }
   ],
   "source": [
    "D = {num : num**2 for num in range(99)}\n",
    "print(D)"
   ]
  },
  {
   "cell_type": "markdown",
   "metadata": {
    "collapsed": true
   },
   "source": [
    "## Question 19\n",
    "\n",
    "Write a program that prints one realization of the following random device:\n",
    "- Flip an unbiased coin **n** times\n",
    "- If 3 consecutive heads occur one or more times within this sequence, pay one dollar\n",
    "- If not, pay nothing\n",
    "\n",
    "Use no import besides **from random import uniform**."
   ]
  },
  {
   "cell_type": "code",
   "execution_count": 26,
   "metadata": {},
   "outputs": [],
   "source": [
    "import random"
   ]
  },
  {
   "cell_type": "code",
   "execution_count": 27,
   "metadata": {},
   "outputs": [
    {
     "name": "stdout",
     "output_type": "stream",
     "text": [
      "Pay one dollar.\n"
     ]
    }
   ],
   "source": [
    "## fastest solution\n",
    "n = 10\n",
    "count = 0\n",
    "\n",
    "for i in range(n):\n",
    "    ## random draw between 0 and 1\n",
    "    U = random.uniform(0, 1)\n",
    "    if U < 0.5:\n",
    "        count = count + 1  \n",
    "    ## reset count\n",
    "    else:\n",
    "        count = 0\n",
    "    \n",
    "    ## check if count == 3 and stop loop\n",
    "    if count == 3:\n",
    "        print('Pay one dollar.')\n",
    "        break\n",
    "if count < 3:\n",
    "    print('Pay nothing.')"
   ]
  },
  {
   "cell_type": "code",
   "execution_count": 14,
   "metadata": {},
   "outputs": [
    {
     "name": "stdout",
     "output_type": "stream",
     "text": [
      "Pay nothing.\n",
      "[1, 0, 0, 0, 1, 0, 0, 0, 1, 0]\n"
     ]
    }
   ],
   "source": [
    "## alternative solution if you want to also report the outcome of the 10 draws\n",
    "\n",
    "# step 1: write function that flips coin n times and reports 1 when head\n",
    "def flip(n):\n",
    "    lst = []\n",
    "    count = 0\n",
    "    for i in range(n):\n",
    "        if random.uniform(0,1) < 0.5:\n",
    "            lst.append(1)\n",
    "            count = count + 1 \n",
    "        else:\n",
    "            lst.append(0)\n",
    "            ## reset count only if it hasn't reached 3 yet\n",
    "            if count < 3:\n",
    "                count = 0\n",
    "\n",
    "    ## check if count >= 3    \n",
    "    if count >= 3:\n",
    "        print('Pay one dollar.')\n",
    "    else:\n",
    "        print('Pay nothing.')\n",
    "            \n",
    "    return lst\n",
    "\n",
    "print(flip(10))\n"
   ]
  },
  {
   "cell_type": "markdown",
   "metadata": {},
   "source": [
    "## Question 20\n",
    "\n",
    "As a hard-working PhD student or post doc, you should take a break from your work every now and then. Write a Python program that opens a web page (e.g. a YouTube video if you wanna spend your break listening to music or a news page if you wanna read up on current events) at regular intervals (say, every hour). \n",
    "\n",
    "Hint 1: The packages **time** and **webbrowser** have useful functions for implementing this program. Look them up in the Python documentation (google!) to find the functions you wanna use.\n",
    "\n",
    "Hint 2: You will probably want to use a **while** loop for this exercise. You can make the loop infinite (and interrupt it manually) if you're done for the day. You can also think about ways to stop the loop within the program, for example after a certain number of iterations."
   ]
  },
  {
   "cell_type": "code",
   "execution_count": 28,
   "metadata": {},
   "outputs": [
    {
     "ename": "KeyboardInterrupt",
     "evalue": "",
     "output_type": "error",
     "traceback": [
      "\u001b[0;31m---------------------------------------------------------------------------\u001b[0m",
      "\u001b[0;31mKeyboardInterrupt\u001b[0m                         Traceback (most recent call last)",
      "\u001b[0;32m<ipython-input-28-1b81db363891>\u001b[0m in \u001b[0;36m<module>\u001b[0;34m()\u001b[0m\n\u001b[1;32m     12\u001b[0m \u001b[0mit\u001b[0m \u001b[0;34m=\u001b[0m \u001b[0;36m0\u001b[0m\u001b[0;34m\u001b[0m\u001b[0m\n\u001b[1;32m     13\u001b[0m \u001b[0;32mwhile\u001b[0m \u001b[0mit\u001b[0m \u001b[0;34m<\u001b[0m \u001b[0mN\u001b[0m\u001b[0;34m:\u001b[0m\u001b[0;34m\u001b[0m\u001b[0m\n\u001b[0;32m---> 14\u001b[0;31m     \u001b[0mtime\u001b[0m\u001b[0;34m.\u001b[0m\u001b[0msleep\u001b[0m\u001b[0;34m(\u001b[0m\u001b[0;36m600\u001b[0m\u001b[0;34m)\u001b[0m\u001b[0;34m\u001b[0m\u001b[0m\n\u001b[0m\u001b[1;32m     15\u001b[0m     \u001b[0mprint\u001b[0m\u001b[0;34m(\u001b[0m\u001b[0;34m'Take a break!'\u001b[0m\u001b[0;34m)\u001b[0m\u001b[0;34m\u001b[0m\u001b[0m\n\u001b[1;32m     16\u001b[0m     \u001b[0mwebbrowser\u001b[0m\u001b[0;34m.\u001b[0m\u001b[0mopen\u001b[0m\u001b[0;34m(\u001b[0m\u001b[0;34m\"https://www.youtube.com/watch?v=ack4cJry0as&index=3&list=PLZzI4nElzA51i7_UXd8N0rj_0sDagszI-\"\u001b[0m\u001b[0;34m)\u001b[0m\u001b[0;34m\u001b[0m\u001b[0m\n",
      "\u001b[0;31mKeyboardInterrupt\u001b[0m: "
     ]
    }
   ],
   "source": [
    "import time\n",
    "import webbrowser\n",
    "\n",
    "## infinite loop\n",
    "# while True:\n",
    "#     time.sleep(600)\n",
    "#     print('Take a break!')\n",
    "#     webbrowser.open(\"https://www.youtube.com/watch?v=ack4cJry0as&index=3&list=PLZzI4nElzA51i7_UXd8N0rj_0sDagszI-\")\n",
    "\n",
    "## loop that stops after N iterations\n",
    "N = 8\n",
    "it = 0\n",
    "while it < N:\n",
    "    time.sleep(600)\n",
    "    print('Take a break!')\n",
    "    webbrowser.open(\"https://www.youtube.com/watch?v=ack4cJry0as&index=3&list=PLZzI4nElzA51i7_UXd8N0rj_0sDagszI-\")\n",
    "    it += 1"
   ]
  }
 ],
 "metadata": {
  "anaconda-cloud": {},
  "kernelspec": {
   "display_name": "Python 3",
   "language": "python",
   "name": "python3"
  },
  "language_info": {
   "codemirror_mode": {
    "name": "ipython",
    "version": 3
   },
   "file_extension": ".py",
   "mimetype": "text/x-python",
   "name": "python",
   "nbconvert_exporter": "python",
   "pygments_lexer": "ipython3",
   "version": "3.6.0"
  }
 },
 "nbformat": 4,
 "nbformat_minor": 1
}
