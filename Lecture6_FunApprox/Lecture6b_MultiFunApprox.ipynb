{
 "cells": [
  {
   "cell_type": "markdown",
   "metadata": {
    "slideshow": {
     "slide_type": "slide"
    }
   },
   "source": [
    "# Computational Methods in Economics\n",
    "\n",
    "## Lecture 6b - Multivariate Function Approximation"
   ]
  },
  {
   "cell_type": "code",
   "execution_count": 3,
   "metadata": {
    "slideshow": {
     "slide_type": "skip"
    }
   },
   "outputs": [
    {
     "name": "stdout",
     "output_type": "stream",
     "text": [
      "Last update: 2018-01-09 15:18:48.316593\n"
     ]
    }
   ],
   "source": [
    "# Author: Alex Schmitt (schmitt@ifo.de)\n",
    "\n",
    "import datetime\n",
    "print('Last update: ' + str(datetime.datetime.today()))"
   ]
  },
  {
   "cell_type": "markdown",
   "metadata": {
    "slideshow": {
     "slide_type": "slide"
    }
   },
   "source": [
    "### Preliminaries\n",
    "\n",
    "#### Import Modules"
   ]
  },
  {
   "cell_type": "code",
   "execution_count": 4,
   "metadata": {
    "slideshow": {
     "slide_type": "skip"
    }
   },
   "outputs": [],
   "source": [
    "import numpy as np\n",
    "import scipy.optimize\n",
    "\n",
    "import matplotlib.pyplot as plt\n",
    "%matplotlib inline\n",
    "import seaborn\n",
    "\n",
    "import funapprox_cme as fa\n",
    "\n",
    "# import sys\n",
    "# from importlib import reload"
   ]
  },
  {
   "cell_type": "markdown",
   "metadata": {
    "slideshow": {
     "slide_type": "skip"
    }
   },
   "source": [
    "**Note**: The last command imports the **funapprox_cme** module, which contains the functions defined in the lecture. The Python-file **funapprox_cme.py** which can be downloaded from LSF must be saved in the same folder as this notebook."
   ]
  },
  {
   "cell_type": "markdown",
   "metadata": {
    "slideshow": {
     "slide_type": "slide"
    }
   },
   "source": [
    "## This Lecture\n",
    "\n",
    "- [Multivariate Function Approximation](#funapprox2)\n",
    "- [Other Topics](#misc)"
   ]
  },
  {
   "cell_type": "markdown",
   "metadata": {
    "slideshow": {
     "slide_type": "skip"
    }
   },
   "source": [
    "--------------------------------------------------------------------------------------------------------------------------------\n",
    "<a id = 'funapprox2'></a>"
   ]
  },
  {
   "cell_type": "markdown",
   "metadata": {
    "slideshow": {
     "slide_type": "slide"
    }
   },
   "source": [
    "## Multivariate Function Approximation in Python\n",
    "\n",
    "Recall that the general approximation problem that we want to solve is\n",
    "\n",
    "\\begin{equation}\n",
    "   f(\\mathbf{x}) \\approx \\hat{f}(\\mathbf{x}) \n",
    "\\end{equation}\n",
    "\n",
    "for $\\mathbf{x} \\in [b,c] \\subset \\mathbb{R}^d$. $f$ is defined on the *d-dimensional* interval \n",
    "\n",
    "\\begin{equation}\n",
    "    I = \\{ (x_1, x_2, ..., x_d)\\ |\\ b_k \\le x_k \\le c_k, k = 1, ..., d \\}\n",
    "\\end{equation}\n",
    "\n",
    "When using interpolation, we stipulate an equality at a finite number of grid points:\n",
    "\n",
    "\\begin{equation}\n",
    "   f(\\mathbf{x}_i) = \\hat{f}(\\mathbf{x}_i) \n",
    "\\end{equation}\n",
    "\n",
    "As in the case of approximating a univariate function, we need basis functions to approximate $f$. We will consider two alternative approaches, tensor product and complete polynomials."
   ]
  },
  {
   "cell_type": "markdown",
   "metadata": {
    "slideshow": {
     "slide_type": "slide"
    }
   },
   "source": [
    "#### Tensor Product Basis\n",
    "\n",
    "If the function $f$ has $d \\ge 2$ arguments, we can approximate it by using *a tensor product* of univariate basis functions. \n",
    "\n",
    "For example, consider a function with two variables, $f( x_1, x_2 )$, and hence  $d = 2$. Let\n",
    "\n",
    "\\begin{equation}\n",
    "   \\left\\{ B_{j_1}(x_1) \\right\\}_{j_1 = 0}^{n_1}\n",
    "\\end{equation}\n",
    "\n",
    "denote a sequence of univariate basis functions, e.g. monomials or Chebyshev polynomials, of the variable $x_1$. Similarly, we have\n",
    "\n",
    "\\begin{equation}\n",
    "   \\left\\{ B_{j_2}(x_2) \\right\\}_{j_2 = 0}^{n_2}\n",
    "\\end{equation}\n",
    "\n",
    "The tensor product of these basis functions is then given by\n",
    "\n",
    "\\begin{equation}\n",
    "   \\left\\{ B_{j_1}(x_1) \\cdot B_{j_2}(x_2)\\ \\big|\\ j_1 = 0, ..., n_1; j_2 = 0, ..., n_2 \\right\\}\n",
    "\\end{equation}\n",
    "\n",
    "In line with the univariate case, we approximate $f$ with a linear combinations of the elements of this tensor product:\n",
    "\n",
    "\\begin{equation}\n",
    "   f( x_1, x_2 ) \\approx \\sum_{j_1 = 0}^{n_1} \\sum_{j_2 = 0}^{n_2} a_{j_1, j_2} B_{j_1}(x_1) B_{j_2}(x_2)\n",
    "\\end{equation}"
   ]
  },
  {
   "cell_type": "markdown",
   "metadata": {
    "slideshow": {
     "slide_type": "slide"
    }
   },
   "source": [
    "In other words, for degrees of approximation given by $n_1$ and $n_2$, the approximant consists of a sum of $(n_1 + 1) \\cdot (n_2 + 1)$ elements, and hence we have to find $(n_1 + 1) \\cdot (n_2 + 1)$ basis coefficients. Often, we have $n_1 = n_2 = n$, which implies determining $(n + 1)^2$ coefficients. If $B_{j_1}$ and $B_{j_2}$ are polynomials, we call this the $n$th order *tensor product polynomial*.\n",
    "\n",
    "As in the univariate case, we will usually use Chebyshev basis functions $T_j$. Let $z_1, z_2$ be the function values $x_1, x_2$ adjusted to the interval [-1,1]. Then the example above becomes\n",
    "\n",
    "\\begin{equation}\n",
    "   f( x_1, x_2  ) \\approx \\sum_{j_1 = 0}^{n} \\sum_{j_2 = 0}^{n} a_{j_1 j_2} \\mathcal{T}_{j_1 j_2} (z_1, z_2)\n",
    "\\end{equation}\n",
    "\n",
    "To save on notation, we have defined \n",
    "\\begin{equation}\n",
    "   \\mathcal{T}_{j_1 j_2} (z_1, z_2) \\equiv T_{j_1}(z_1) T_{j_2}(z_2)\n",
    "\\end{equation}"
   ]
  },
  {
   "cell_type": "markdown",
   "metadata": {
    "slideshow": {
     "slide_type": "slide"
    }
   },
   "source": [
    "What does this imply for the Chebyshev matrix? Recall that in the univariate case, we had\n",
    "\n",
    "\n",
    "\\begin{equation}\n",
    "\\Phi_c =\n",
    "\\left[\n",
    "\\begin{array}{cccc}\n",
    "    T_0(z_1) & T_1(z_1) & \\cdots & T_n(z_1)  \\\\\n",
    "    \\vdots & \\vdots  & \\vdots \\\\\n",
    "    T_0(z_m) & T_1(z_m) & \\cdots & T_n(z_m) &\n",
    "\\end{array}\n",
    "\\right]\n",
    "\\end{equation}\n",
    "\n",
    "\n",
    "This is an $m$-by-$n+1$ matrix. In the two-dimensional case, a single row of the Chebyshev matrix - i.e. for a given combination of univariate grid points $(z_{1i}, z_{2i})$ - looks like the following:\n",
    "\\begin{equation}\n",
    "    [\\mathcal{T}_{0 0} (z_{1i}, z_{2i})\\ \\mathcal{T}_{1 0} (z_{1i}, z_{2i})\\ \\mathcal{T}_{0 1} (z_{1i}, z_{2i})\\ \\mathcal{T}_{1 1} (z_{1i}, z_{2i})\\ ...\\ \\mathcal{T}_{n n} (z_{1i}, z_{2i})]\n",
    "\\end{equation}\n",
    "\n",
    "Hence, each row of a two-dimensional Chebyshev matrix has $(n+1)^2$ - or more generally, $(n_1 + 1) \\cdot (n_2 + 1)$ - elements.\n",
    "\n",
    "Numpy's **polynomial.chebyshev** package has a function **chebvander2d** that evaluates a two-dimensional tensor product of Chebyshev basis functions, either at a single point - in the example below at (0.5, 0.5) - or an array of points."
   ]
  },
  {
   "cell_type": "code",
   "execution_count": 5,
   "metadata": {
    "slideshow": {
     "slide_type": "fragment"
    }
   },
   "outputs": [
    {
     "name": "stdout",
     "output_type": "stream",
     "text": [
      "[[ 1.    0.5  -0.5   0.5   0.25 -0.25 -0.5  -0.25  0.25]]\n"
     ]
    }
   ],
   "source": [
    "n = 2\n",
    "print(np.polynomial.chebyshev.chebvander2d(0.5, 0.5, [n, n]))"
   ]
  },
  {
   "cell_type": "markdown",
   "metadata": {
    "slideshow": {
     "slide_type": "slide"
    }
   },
   "source": [
    "#### Multidimensional Grid\n",
    "\n",
    "As in the univariate case, each row of the Chebyshev matrix corresponds to one grid point. In the multivariate case, a grid point is a combination of elements from the univariate interpolation nodes. \n",
    "\n",
    "That is, let $z_{11}, z_{12}, ..., z_{1 m_1}$ denote $m_1$ Chebyshev nodes corresponding to the first argument of function $f$ and let $z_{21}, z_{22}, ..., z_{2m_2}$ denote $m_2$ Chebyshev nodes corresponding to the second argument. Then, a grid point is given by $(z_{1 i_1}, z_{2 i_2})$.\n",
    "\n",
    "The set of all $m_1 \\cdot m_2$ grid points is the *Cartesian product* of the univariate interpolation nodes:\n",
    "\n",
    "\\begin{equation}\n",
    "    \\{ (z_{1 i_1}, z_{2 i_2})\\ \\big|\\ i_k = 1, ..., m_k,\\ k = 1,2 \\}\n",
    "\\end{equation}\n",
    "\n",
    "Often, we set $m_1 = m_2$, and hence we use $m^2$ grid points."
   ]
  },
  {
   "cell_type": "markdown",
   "metadata": {
    "slideshow": {
     "slide_type": "slide"
    }
   },
   "source": [
    "In Python, we can get the Cartesian product of two arrays in different ways. One alternative is using Numpy's **meshgrid** function and **flatten** method. As a simple example, consider the following:"
   ]
  },
  {
   "cell_type": "code",
   "execution_count": 6,
   "metadata": {
    "slideshow": {
     "slide_type": "fragment"
    }
   },
   "outputs": [
    {
     "name": "stdout",
     "output_type": "stream",
     "text": [
      "(array([1, 1, 1, 2, 2, 2, 3, 3, 3]), array([4, 5, 6, 4, 5, 6, 4, 5, 6]))\n"
     ]
    }
   ],
   "source": [
    "def cartesian(a, b):\n",
    "    \"\"\"\n",
    "    Takes two one-dimensional arrays a and b, and returns two arrays A and B; \n",
    "    piece-wise combining the elements of A and B gives the Cartesian product of a and b\n",
    "    \"\"\"\n",
    "    B, A = np.meshgrid(b, a)\n",
    "    return A.flatten(), B.flatten()\n",
    "    \n",
    "a = np.array([1, 2, 3])\n",
    "b = np.array([4, 5, 6])\n",
    "print(cartesian(a, b))\n"
   ]
  },
  {
   "cell_type": "markdown",
   "metadata": {
    "slideshow": {
     "slide_type": "slide"
    }
   },
   "source": [
    "#### The Chebyshev Matrix\n",
    "\n",
    "Hence, the full Chebyshev matrix in the two-dimensional case reads\n",
    "\n",
    "\n",
    "\\begin{equation}\n",
    "\\Phi_c =\n",
    "\\left[\n",
    "\\begin{array}{cccccc}\n",
    "   \\mathcal{T}_{0 0} (z_{11}, z_{21}) & \\mathcal{T}_{1 0} (z_{11}, z_{21}) & \\mathcal{T}_{0 1} (z_{11}, z_{21}) & \\mathcal{T}_{1 1} (z_{11}, z_{21}) & ... & \\mathcal{T}_{n n} (z_{11}, z_{21})  \\\\\n",
    "   \\mathcal{T}_{0 0} (z_{12}, z_{21}) & \\mathcal{T}_{1 0} (z_{12}, z_{21}) & \\mathcal{T}_{0 1} (z_{12}, z_{21}) & \\mathcal{T}_{1 1} (z_{12}, z_{21}) & ... & \\mathcal{T}_{n n} (z_{12}, z_{21})  \\\\\n",
    "    \\vdots & \\vdots  & \\vdots & \\vdots & \\vdots  & \\vdots \\\\\n",
    "    \\mathcal{T}_{0 0} (z_{1m}, z_{2m}) & \\mathcal{T}_{1 0} (z_{1m}, z_{2m}) & \\mathcal{T}_{0 1} (z_{1m}, z_{2m}) & \\mathcal{T}_{1 1} (z_{1m}, z_{2m}) & ... & \\mathcal{T}_{n n} (z_{1m}, z_{2m})\n",
    "\\end{array}\n",
    "\\right]\n",
    "\\end{equation}\n",
    "\n",
    "This matrix has as many rows as grid points ($m^2$ or more generally $m_1 \\cdot m_2$) and as many columns as possible combinations of Chebyshev basis functions ($(n+1)^2$ or more generally $(n_1 + 1) \\cdot (n_2 + 1)$). Hence, in the typical case, this is a $m^2$-by-$(n+1)^2$ matrix."
   ]
  },
  {
   "cell_type": "markdown",
   "metadata": {
    "slideshow": {
     "slide_type": "slide"
    }
   },
   "source": [
    "If we want to compute the Chebyshev matrix in Python, we first use the **cartesian** function above to find on the Chebyshev nodes:"
   ]
  },
  {
   "cell_type": "code",
   "execution_count": 7,
   "metadata": {
    "slideshow": {
     "slide_type": "fragment"
    }
   },
   "outputs": [
    {
     "name": "stdout",
     "output_type": "stream",
     "text": [
      "[ -8.66025404e-01  -8.66025404e-01  -8.66025404e-01  -6.12323400e-17\n",
      "  -6.12323400e-17  -6.12323400e-17   8.66025404e-01   8.66025404e-01\n",
      "   8.66025404e-01]\n",
      "[ -8.66025404e-01  -6.12323400e-17   8.66025404e-01  -8.66025404e-01\n",
      "  -6.12323400e-17   8.66025404e-01  -8.66025404e-01  -6.12323400e-17\n",
      "   8.66025404e-01]\n"
     ]
    }
   ],
   "source": [
    "m = 3\n",
    "z = fa.chebnodes(m)\n",
    "\n",
    "g1, g2 = cartesian(z , z)\n",
    "print(g1)\n",
    "print(g2)"
   ]
  },
  {
   "cell_type": "markdown",
   "metadata": {
    "slideshow": {
     "slide_type": "slide"
    }
   },
   "source": [
    "We can then use these arrays in **np.polynomial.chebyshev.chebvander2d**:"
   ]
  },
  {
   "cell_type": "code",
   "execution_count": 8,
   "metadata": {
    "slideshow": {
     "slide_type": "fragment"
    }
   },
   "outputs": [
    {
     "name": "stdout",
     "output_type": "stream",
     "text": [
      "[[  1.00000000e+00  -8.66025404e-01   5.00000000e-01  -8.66025404e-01\n",
      "    7.50000000e-01  -4.33012702e-01   5.00000000e-01  -4.33012702e-01\n",
      "    2.50000000e-01]\n",
      " [  1.00000000e+00  -6.12323400e-17  -1.00000000e+00  -8.66025404e-01\n",
      "    5.30287619e-17   8.66025404e-01   5.00000000e-01  -3.06161700e-17\n",
      "   -5.00000000e-01]\n",
      " [  1.00000000e+00   8.66025404e-01   5.00000000e-01  -8.66025404e-01\n",
      "   -7.50000000e-01  -4.33012702e-01   5.00000000e-01   4.33012702e-01\n",
      "    2.50000000e-01]\n",
      " [  1.00000000e+00  -8.66025404e-01   5.00000000e-01  -6.12323400e-17\n",
      "    5.30287619e-17  -3.06161700e-17  -1.00000000e+00   8.66025404e-01\n",
      "   -5.00000000e-01]\n",
      " [  1.00000000e+00  -6.12323400e-17  -1.00000000e+00  -6.12323400e-17\n",
      "    3.74939946e-33   6.12323400e-17  -1.00000000e+00   6.12323400e-17\n",
      "    1.00000000e+00]\n",
      " [  1.00000000e+00   8.66025404e-01   5.00000000e-01  -6.12323400e-17\n",
      "   -5.30287619e-17  -3.06161700e-17  -1.00000000e+00  -8.66025404e-01\n",
      "   -5.00000000e-01]\n",
      " [  1.00000000e+00  -8.66025404e-01   5.00000000e-01   8.66025404e-01\n",
      "   -7.50000000e-01   4.33012702e-01   5.00000000e-01  -4.33012702e-01\n",
      "    2.50000000e-01]\n",
      " [  1.00000000e+00  -6.12323400e-17  -1.00000000e+00   8.66025404e-01\n",
      "   -5.30287619e-17  -8.66025404e-01   5.00000000e-01  -3.06161700e-17\n",
      "   -5.00000000e-01]\n",
      " [  1.00000000e+00   8.66025404e-01   5.00000000e-01   8.66025404e-01\n",
      "    7.50000000e-01   4.33012702e-01   5.00000000e-01   4.33012702e-01\n",
      "    2.50000000e-01]]\n"
     ]
    }
   ],
   "source": [
    "print(np.polynomial.chebyshev.chebvander2d(g1, g2, [m-1, m-1]))"
   ]
  },
  {
   "cell_type": "markdown",
   "metadata": {
    "slideshow": {
     "slide_type": "slide"
    }
   },
   "source": [
    "As we will see below, when performing the interpolation step, it is not necessary to compute the complete Chebyshev matrix. Hence, the steps above were outlined for the sake of completeness."
   ]
  },
  {
   "cell_type": "markdown",
   "metadata": {
    "slideshow": {
     "slide_type": "slide"
    }
   },
   "source": [
    "For interpolation, in order to find the $(n+1)^2$ basis coefficients $a_{j_1 j_2}$, we need $m = n + 1$ Chebyshev nodes in every dimension, and hence $\\Phi_c$ is a square matrix. \n",
    "\n",
    "\\begin{equation}\n",
    "y = \\Phi_c a =\n",
    "\\left[\n",
    "\\begin{array}{cccccc}\n",
    "   \\mathcal{T}_{0 0} (z_{11}, z_{21}) & \\mathcal{T}_{1 0} (z_{11}, z_{21}) & \\mathcal{T}_{0 1} (z_{11}, z_{21}) & \\mathcal{T}_{1 1} (z_{11}, z_{21}) & ... & \\mathcal{T}_{n n} (z_{11}, z_{21})  \\\\\n",
    "   \\mathcal{T}_{0 0} (z_{12}, z_{21}) & \\mathcal{T}_{1 0} (z_{12}, z_{21}) & \\mathcal{T}_{0 1} (z_{12}, z_{21}) & \\mathcal{T}_{1 1} (z_{12}, z_{21}) & ... & \\mathcal{T}_{n n} (z_{12}, z_{21})  \\\\\n",
    "    \\vdots & \\vdots  & \\vdots & \\vdots & \\vdots  & \\vdots \\\\\n",
    "    \\mathcal{T}_{0 0} (z_{1m}, z_{2m}) & \\mathcal{T}_{1 0} (z_{1m}, z_{2m}) & \\mathcal{T}_{0 1} (z_{1m}, z_{2m}) & \\mathcal{T}_{1 1} (z_{1m}, z_{2m}) & ... & \\mathcal{T}_{n n} (z_{1m}, z_{2m})\n",
    "\\end{array}\n",
    "\\right]\n",
    "\\left[\n",
    "\\begin{array}{c}\n",
    "a_{00} \\\\\n",
    "a_{10} \\\\\n",
    "a_{01} \\\\\n",
    "a_{11} \\\\\n",
    "\\vdots \\\\\n",
    "a_{nn}\n",
    "\\end{array}\n",
    "\\right]\n",
    "\\end{equation}\n",
    "\n",
    "where $y = \\big(f(x_{11}, x_{21}), f(x_{12}, x_{21}), ..., f(x_{1m}, x_{2m})\\big)$."
   ]
  },
  {
   "cell_type": "markdown",
   "metadata": {
    "slideshow": {
     "slide_type": "slide"
    }
   },
   "source": [
    "In this course, we will restrict ourselves to approximating functions with at most two arguments. The two-dimensional case outlined above generalizes in a straightforward way to $d > 2$. In this case, the *d-dimensional* tensor product basis is given by:\n",
    "\n",
    "\\begin{equation}\n",
    "   \\left\\{ \\prod_{k = 1}^{d} B_{j_k}(x_k)\\ \\big|\\ j_k = 0, ..., n_k; k = 1, ..., d \\right\\}\n",
    "\\end{equation}\n",
    "\n",
    "Hence, we approximate a $d$-variate $f$ with:\n",
    "\n",
    "\\begin{equation}\n",
    "   f( \\mathbf{x} ) \\approx \\sum_{j_1 = 0}^{n} ... \\sum_{j_d = 0}^{n} a_{j_1j_2...j_d}   \\mathcal{B}_{j_1j_2...j_d}  (\\mathbf{x})\n",
    "\\end{equation}\n",
    "\n",
    "with \n",
    "\n",
    "\\begin{equation}\n",
    "   \\mathcal{B}_{j_1j_2...j_d}  (\\mathbf{x}) \\equiv \\prod_{k = 1}^d B_{j_k}(x_k)\n",
    "\\end{equation}"
   ]
  },
  {
   "cell_type": "markdown",
   "metadata": {
    "slideshow": {
     "slide_type": "slide"
    }
   },
   "source": [
    "#### Complete Polynomials\n",
    "\n",
    "The obvious problem with tensor product polynomial bases is that the number of elements grow exponentially as the dimension increases. If we have an approximation degree of $n$ in every dimensions, we get $(n+1)^2$ basis functions for a two-variate function, $(n+1)^3$ for three variables and so on. In general, with $d$ dimensions, we have $(n + 1)^d$ basis functions. \n",
    "\n",
    "An alternative are *complete set of polynomials* (or *complete polynomials* for short). For illustration, consider a monomial basis for every dimension, i.e. $x_k^0, x_k^1, ..., x_k^n$ for $k = 1, ... , d$ and set $d = 2$. Then, the tensor product of these basis functions would read:\n",
    "\n",
    "\\begin{equation}\n",
    "   \\left\\{ x_1^{j_1} x_1^{j_2}\\ \\big|\\ j_1 = 0, ..., n; j_2 = 0, ..., n \\right\\} = \\left\\{1, x_1, x_2, x_1 x_2, x_1^{2}, x_2^{2}, x_1^{2} x_2, x_1^{2} x_2^2, x_1 x_2^2, ..., x_1^n x_2^n \\right\\}\n",
    "\\end{equation}\n",
    "\n",
    "In contrast, the complete set of polynomials of *total degree $l$* includes only terms for which the sum of the powers is at most $l$; that is $j_1 + j_2 \\le l$. \n",
    "\n",
    "In the example above, with $l = 3$, all terms up to $x_1^{2} x_2$ and $x_1^3$ are part of the basis; $x_1^{2} x_2^2$ is not in the basis, since the sum of the exponents is four. Hence, the two-dimensional complete monomials of total degree 3 are:\n",
    "\n",
    "\\begin{equation}\n",
    "  \\mathsf{B}_3 = \\left\\{ x_1^{j_1} x_1^{j_2}\\ \\big|\\ \\sum^2_{k = 1} j_k \\le l \\right\\} = \\left\\{1, x_1, x_2, x_1 x_2, x_1^{2}, x_2^{2}, x_1^{2} x_2, x_1 x_2^2, x_1^3, x_2^3 \\right\\}\n",
    "\\end{equation}\n"
   ]
  },
  {
   "cell_type": "markdown",
   "metadata": {
    "slideshow": {
     "slide_type": "slide"
    }
   },
   "source": [
    "The set of complete polynomials grows *polynomially* in $d$ (for a fixed $l$). For example, with $d = 2$ and $n = 3$, the tensor product basis consist of $(3 + 1)^2 = 16$ elements. With $d = 3$, it would have $(3 + 1)^3 = 64$ elements and so on.\n",
    "\n",
    "In contrast, the set of complete polynomials with $l = 3$ would have 10 elements for $d = 2$ (see above) and 20 elements for $d = 3$ (verify this!). \n",
    "\n",
    "Why is it sufficient to use complete rather than tensor product polynomials? Without going into the details, the intuition is that many of the elements in a tensor product basis are \"unnecessary\" for getting a good approximation. Using complete polynomials can be considered a decent approximation to a tensor product basis, with far fewer elements and hence a (possibly considerably) lower computational cost. "
   ]
  },
  {
   "cell_type": "markdown",
   "metadata": {
    "slideshow": {
     "slide_type": "slide"
    }
   },
   "source": [
    "While the example above used monomial basis functions, the same idea can be applied to a Chebyshev basis - recall that any Chebyshev polynomial can be written as a monomial power series. For $d = 2$ and $l = 3$, the set of complete Chebyshev polynomials is given by:\n",
    "\n",
    "\\begin{equation}\n",
    "  \\mathsf{B}_3 = \\left\\{ T_{j_1}(x_1) T_{j_2}(x_2)\\ \\big|\\ \\sum^2_{k = 1} j_k \\le l \\right\\} = \\left\\{T_{0}(x_1) T_{0}(x_2), T_{0}(x_1) T_{1}(x_2), T_{1}(x_1) T_{0}(x_2), T_{1}(x_1) T_{1}(x_2), T_{2}(x_1) T_{0}(x_2), T_{0}(x_1) T_{2}(x_2), T_{2}(x_1) T_{1}(x_2), T_{2}(x_1) T_{1}(x_2), T_{3}(x_1) T_{0}(x_2), T_{0}(x_1) T_{3}(x_2) \\right\\}\n",
    "\\end{equation}\n",
    "\n",
    "\n"
   ]
  },
  {
   "cell_type": "markdown",
   "metadata": {
    "slideshow": {
     "slide_type": "slide"
    }
   },
   "source": [
    "It is important to note that even when we use a set of complete polynomials as basis functions, we still employ a Cartesian product of interpolation nodes as the grid. By definition, we will have less basis coefficients than grid points. Hence, an approximation algorithm using complete polynomials must rely on regression rather than interpolation for finding the coefficients.\n",
    "\n",
    "To emphasize this point, consider again the example above with $d = 2$ and $l = 3$. "
   ]
  },
  {
   "cell_type": "markdown",
   "metadata": {
    "slideshow": {
     "slide_type": "skip"
    }
   },
   "source": [
    "--------------------------------------------------------------------------------------------------------------------------------"
   ]
  },
  {
   "cell_type": "markdown",
   "metadata": {
    "slideshow": {
     "slide_type": "slide"
    }
   },
   "source": [
    "## Example: Cobb-Douglas production function\n",
    "\n",
    "A prime example in economics of a multivariate function is a production function. Consider a Cobb-Douglas function, $f(x, y) = x^\\alpha y^{1 - \\alpha}$. Below, we plot it using Matplotlib's **contour** function. "
   ]
  },
  {
   "cell_type": "code",
   "execution_count": 9,
   "metadata": {
    "slideshow": {
     "slide_type": "fragment"
    }
   },
   "outputs": [
    {
     "data": {
      "text/plain": [
       "<matplotlib.contour.QuadContourSet at 0x586e34bc50>"
      ]
     },
     "execution_count": 9,
     "metadata": {},
     "output_type": "execute_result"
    },
    {
     "data": {
      "image/png": "[encoded data removed]",
      "text/plain": [
       "<matplotlib.figure.Figure at 0x586e34bcf8>"
      ]
     },
     "metadata": {},
     "output_type": "display_data"
    }
   ],
   "source": [
    "def cd_fun(x, y, alpha = 0.33):\n",
    "    \"\"\"\n",
    "    Cobb-Douglas Function\n",
    "    \"\"\"\n",
    "    return x**alpha * y**(1 - alpha)\n",
    "\n",
    "N = 31\n",
    "## min and max for approximation grid\n",
    "g1_min, g1_max = 0.1, 2\n",
    "g2_min, g2_max = 0.001, 1\n",
    "## equidistant grid\n",
    "x1 = np.linspace(g1_min, g1_max, N)\n",
    "x2 = np.linspace(g2_min, g2_max, N)\n",
    "## use meshgrid function \n",
    "X1, X2 = np.meshgrid(x1, x2)\n",
    "Y = cd_fun(X1, X2)\n",
    "\n",
    "## plot contour\n",
    "fig, ax = plt.subplots()\n",
    "ax.contour(X1, X2, Y)"
   ]
  },
  {
   "cell_type": "markdown",
   "metadata": {
    "slideshow": {
     "slide_type": "slide"
    }
   },
   "source": [
    "### A Two-dimensional Chebyshev Approximation Algorithm\n",
    "\n",
    "Analogous to the univariate case, we can state the following algorithm for approximating a function $f(x_1, x_2)$ for $x_1 \\in [b_1, c_1]$ and $x_2 \\in [b_2, c_2]$ using a polynomial of degree $n$ and $m \\ge n + 1$ grid points in every dimension:\n",
    "\n",
    "(i) Compute the $m \\ge n + 1$ Chebyshev nodes on $[-1, 1]$: \n",
    "\n",
    "\\begin{equation}\n",
    "\tz_i = \\cos\\left(- \\frac{(2i - 1)\\pi}{2m}\\right), \\quad i = 1, ..., m\n",
    "\\end{equation}\n",
    "\n",
    "(ii) Adjust the nodes to the $[b_1, c_1]$ and $[b_2, c_2]$ intervals:\n",
    "\n",
    "\\begin{equation}\n",
    "    x_{1i} = b_1 + \\frac{(z_i + 1) (c_1 - b_1)}{2}, \\quad\\ i = 1,...,m\n",
    "\\end{equation}\n",
    "\n",
    "\\begin{equation}\n",
    "    x_{2i} = b_2 + \\frac{(z_i + 1) (c_2 - b_2)}{2}, \\quad\\ i = 1,...,m\n",
    "\\end{equation}\n",
    "\n",
    "Step (i) and (ii) are combined in the Python function **chebgrid** that we have defined in the previous lecture. We can call it from the **fa** module (see above)."
   ]
  },
  {
   "cell_type": "code",
   "execution_count": 10,
   "metadata": {
    "slideshow": {
     "slide_type": "fragment"
    }
   },
   "outputs": [
    {
     "name": "stdout",
     "output_type": "stream",
     "text": [
      "[ 0.11169608  0.2035438   0.37824856  0.61870903  0.90138726  1.19861274\n",
      "  1.48129097  1.72175144  1.8964562   1.98830392]\n"
     ]
    }
   ],
   "source": [
    "m = 10\n",
    "x1_c = fa.chebgrid(g1_min, g1_max, m)\n",
    "x2_c = fa.chebgrid(g2_min, g2_max, m)\n",
    "\n",
    "print(x1_c)"
   ]
  },
  {
   "cell_type": "markdown",
   "metadata": {
    "slideshow": {
     "slide_type": "slide"
    }
   },
   "source": [
    "(iii) Evaluate $f$ at the approximation nodes:\n",
    "\n",
    "\\begin{equation}\n",
    "    y_{i_1, i_2} = f(x_{1i_1}, x_{2i_2}), \\quad\\ i_1 = 1,...,m, \\ i_2 = 1,...,m\n",
    "\\end{equation}\n",
    "\n",
    "In Python, we can use Numpy's **meshgrid** function to get the Cartesian product of the univariate Chebyshev nodes:"
   ]
  },
  {
   "cell_type": "code",
   "execution_count": 11,
   "metadata": {
    "slideshow": {
     "slide_type": "slide"
    }
   },
   "outputs": [
    {
     "name": "stdout",
     "output_type": "stream",
     "text": [
      "[[ 0.11169608  0.11169608  0.11169608  0.11169608  0.11169608  0.11169608\n",
      "   0.11169608  0.11169608  0.11169608  0.11169608]\n",
      " [ 0.2035438   0.2035438   0.2035438   0.2035438   0.2035438   0.2035438\n",
      "   0.2035438   0.2035438   0.2035438   0.2035438 ]\n",
      " [ 0.37824856  0.37824856  0.37824856  0.37824856  0.37824856  0.37824856\n",
      "   0.37824856  0.37824856  0.37824856  0.37824856]\n",
      " [ 0.61870903  0.61870903  0.61870903  0.61870903  0.61870903  0.61870903\n",
      "   0.61870903  0.61870903  0.61870903  0.61870903]\n",
      " [ 0.90138726  0.90138726  0.90138726  0.90138726  0.90138726  0.90138726\n",
      "   0.90138726  0.90138726  0.90138726  0.90138726]\n",
      " [ 1.19861274  1.19861274  1.19861274  1.19861274  1.19861274  1.19861274\n",
      "   1.19861274  1.19861274  1.19861274  1.19861274]\n",
      " [ 1.48129097  1.48129097  1.48129097  1.48129097  1.48129097  1.48129097\n",
      "   1.48129097  1.48129097  1.48129097  1.48129097]\n",
      " [ 1.72175144  1.72175144  1.72175144  1.72175144  1.72175144  1.72175144\n",
      "   1.72175144  1.72175144  1.72175144  1.72175144]\n",
      " [ 1.8964562   1.8964562   1.8964562   1.8964562   1.8964562   1.8964562\n",
      "   1.8964562   1.8964562   1.8964562   1.8964562 ]\n",
      " [ 1.98830392  1.98830392  1.98830392  1.98830392  1.98830392  1.98830392\n",
      "   1.98830392  1.98830392  1.98830392  1.98830392]]\n"
     ]
    }
   ],
   "source": [
    "X2_c, X1_c = np.meshgrid(x2_c, x1_c)\n",
    "print(X1_c)\n",
    "\n",
    "Y_c = cd_fun(X1_c, X2_c) "
   ]
  },
  {
   "cell_type": "markdown",
   "metadata": {
    "slideshow": {
     "slide_type": "slide"
    }
   },
   "source": [
    "(iv) Compute the Chebyshev coefficients $a_{j_1j _2}$. When using a tensor product basis, we have $ j_1 = 0, ..., n $ and $ j_2 = 0, ..., n $. For complete polynomials of total degree $n$, it must additionally hold that $\\sum^2_{k = 1} j_k \\le n$.\n",
    "\n",
    "\n",
    "For $m = n + 1$ and using a tensor product basis, this would imply solving the system of linear equations \n",
    "\n",
    "\\begin{equation}\n",
    "y = \\Phi_c a =\n",
    "\\left[\n",
    "\\begin{array}{cccccc}\n",
    "   \\mathcal{T}_{0 0} (z_{11}, z_{21}) & \\mathcal{T}_{1 0} (z_{11}, z_{21}) & \\mathcal{T}_{0 1} (z_{11}, z_{21}) & \\mathcal{T}_{1 1} (z_{11}, z_{21}) & ... & \\mathcal{T}_{n n} (z_{11}, z_{21})  \\\\\n",
    "   \\mathcal{T}_{0 0} (z_{12}, z_{21}) & \\mathcal{T}_{1 0} (z_{12}, z_{21}) & \\mathcal{T}_{0 1} (z_{12}, z_{21}) & \\mathcal{T}_{1 1} (z_{12}, z_{21}) & ... & \\mathcal{T}_{n n} (z_{12}, z_{21})  \\\\\n",
    "    \\vdots & \\vdots  & \\vdots & \\vdots & \\vdots  & \\vdots \\\\\n",
    "    \\mathcal{T}_{0 0} (z_{1m}, z_{2m}) & \\mathcal{T}_{1 0} (z_{1m}, z_{2m}) & \\mathcal{T}_{0 1} (z_{1m}, z_{2m}) & \\mathcal{T}_{1 1} (z_{1m}, z_{2m}) & ... & \\mathcal{T}_{n n} (z_{1m}, z_{2m})\n",
    "\\end{array}\n",
    "\\right]\n",
    "\\left[\n",
    "\\begin{array}{c}\n",
    "a_{00} \\\\\n",
    "a_{10} \\\\\n",
    "a_{01} \\\\\n",
    "a_{11} \\\\\n",
    "\\vdots \\\\\n",
    "a_{nn}\n",
    "\\end{array}\n",
    "\\right]\n",
    "\\end{equation}"
   ]
  },
  {
   "cell_type": "markdown",
   "metadata": {
    "slideshow": {
     "slide_type": "slide"
    }
   },
   "source": [
    "More generally, for the number of grid points (usually $m^2$) is greater or equal to the number of basis coefficients ($(n + 1)^2$ for a tensor product basis, or a smaller number for complete polynomials), it can be shown that least-squares regression gives the following for $ j_1 = 0, ..., n $ and $ j_2 = 0, ..., n $:\n",
    "\n",
    "\n",
    "\\begin{equation}\n",
    "    a_{j_1j_2} = \\frac{\\sum_{i_1 = 1}^m y_{i_1 i_2} T_{j_1}(z_{i_1}) T_{j_2}(z_{i_2})}{ [\\sum_{i_1 = 1}^m  T_{j_1}(z_{i_1})^2] [\\sum_{i_2 = 1}^m  T_{j_2}(z_{i_2})^2]}\n",
    "\\end{equation}\n",
    "\n",
    "Deriving this expression follows the same logic as in the univariate case. \n",
    "\n",
    "\n",
    "Note that we do not need the two-dimensional Chebyshev matrix seen above in order to implement the fitting step! Instead, the expression above uses only the univariate Chebyshev polynomials, and hence we can implement this fitting step using only the one-dimensional Chbyshev matrices. This is done by **chebapprox_2d** defined below:"
   ]
  },
  {
   "cell_type": "code",
   "execution_count": 12,
   "metadata": {
    "slideshow": {
     "slide_type": "slide"
    }
   },
   "outputs": [],
   "source": [
    "## two dimensions\n",
    "def chebapprox_2d(Z, deg):\n",
    "    \"\"\"\n",
    "    Computes the (deg[0]+1)-by-(deg[1]+1) coefficient matrix for approximation with Chebyshev basis functions\n",
    "    NB: Z must be a m1-by-m2 \"meshgrid\" matrix\n",
    "    \"\"\"\n",
    "    ## get the dimensions of the grid\n",
    "    m = Z.shape\n",
    "    ## check of dimension are consistent\n",
    "    assert len(m) == len(deg), \"Inconsistent dimensions\"\n",
    "\n",
    "    ## define one-dimensional Chebyshev matrices    \n",
    "    A, B = fa.chebmatrix(deg[0], m[0]), fa.chebmatrix(deg[1], m[1])\n",
    "    \n",
    "    ## Tensor interpolation in two dimensions\n",
    "    coef = np.zeros(np.array(deg) + 1)\n",
    "    for idx_A in range(deg[0] + 1):\n",
    "        for idx_B in range(deg[1] + 1):    \n",
    "            den = (A[:, idx_A].T @ A[:, idx_A]) * (B[:, idx_B].T @ B[:, idx_B])\n",
    "            coef[idx_A, idx_B] = (A[:, idx_A].T @ Z) @ B[:, idx_B] / den\n",
    "    \n",
    "    return coef\n",
    "         \n",
    "# print(Z_c.shape)\n",
    "coef = chebapprox_2d(Y_c, [m-1, m-1])"
   ]
  },
  {
   "cell_type": "markdown",
   "metadata": {
    "slideshow": {
     "slide_type": "slide"
    }
   },
   "source": [
    "(v) Find the approximant $\\hat{f}(x_1, x_2)$, $x_1 \\in [b_1, c_1]$, $x_2 \\in [b_2, c_2]$, by evaluating\n",
    "\n",
    "\\begin{equation}\n",
    "   \\hat{f}( x_1, x_2  ) = \\sum_{j_1 = 0}^{n} \\sum_{j_2 = 0}^{n} a_{j_1 j_2} T_{j_1}\\left( 2 \\frac{x_1 - b_1}{c_1 - b_1} - 1 \\right) T_{j_2}\\left( 2 \\frac{x_2 - b_2}{c_2 - b_2} - 1 \\right)\n",
    "\\end{equation}\n",
    "\n",
    "Using vector notation, we can also write this step as \n",
    "\n",
    "\\begin{equation}\n",
    "\\hat{f}( x_1, x_2  ) =\n",
    "[\\mathcal{T}_{0 0} (z_{1}, z_{2})\\ \\mathcal{T}_{1 0} (z_{1}, z_{2})\\ \\mathcal{T}_{0 1} (z_{1}, z_{2})\\ \\mathcal{T}_{1 1} (z_{1}, z_{2})\\ ...\\ \\mathcal{T}_{n n} (z_{1}, z_{2})]\n",
    "\\left[\n",
    "\\begin{array}{c}\n",
    "a_{00} \\\\\n",
    "a_{10} \\\\\n",
    "a_{01} \\\\\n",
    "a_{11} \\\\\n",
    "\\vdots \\\\\n",
    "a_{nn}\n",
    "\\end{array}\n",
    "\\right]\n",
    "\\end{equation}\n",
    "\n",
    "where $z_{k} = 2 \\frac{x_k - b_k}{c_k - b_k} - 1$.\n",
    "\n",
    "Hence, for this step we need one the two-dimensional Chebyshev basis functions as seen above:"
   ]
  },
  {
   "cell_type": "code",
   "execution_count": 15,
   "metadata": {
    "slideshow": {
     "slide_type": "fragment"
    }
   },
   "outputs": [
    {
     "data": {
      "text/plain": [
       "array([ 0.88841644])"
      ]
     },
     "execution_count": 15,
     "metadata": {},
     "output_type": "execute_result"
    }
   ],
   "source": [
    "Phi = np.polynomial.chebyshev.chebvander2d(fa.chebconvert(1.1, g1_min, g1_max), fa.chebconvert(0.8, g2_min, g2_max), [m-1, m-1]) \n",
    "Phi @ coef.flatten()"
   ]
  },
  {
   "cell_type": "markdown",
   "metadata": {
    "slideshow": {
     "slide_type": "slide"
    }
   },
   "source": [
    "As a short, similar to the univariate case, the **chebval2d** function just implements this step of multiplying the basis functions with the basis coefficients:"
   ]
  },
  {
   "cell_type": "code",
   "execution_count": 16,
   "metadata": {
    "slideshow": {
     "slide_type": "fragment"
    }
   },
   "outputs": [
    {
     "data": {
      "text/plain": [
       "0.88841644279551457"
      ]
     },
     "execution_count": 16,
     "metadata": {},
     "output_type": "execute_result"
    }
   ],
   "source": [
    "np.polynomial.chebyshev.chebval2d(fa.chebconvert(1.1, g1_min, g1_max), fa.chebconvert(0.8, g2_min, g2_max), coef)"
   ]
  },
  {
   "cell_type": "markdown",
   "metadata": {
    "slideshow": {
     "slide_type": "fragment"
    }
   },
   "source": [
    "Below, we use this approach to approximate the Cobb-Douglas function along the first dimension (keeping $x_2$ fixed):"
   ]
  },
  {
   "cell_type": "code",
   "execution_count": 14,
   "metadata": {
    "slideshow": {
     "slide_type": "fragment"
    }
   },
   "outputs": [
    {
     "data": {
      "text/plain": [
       "[<matplotlib.lines.Line2D at 0x586eb00e80>]"
      ]
     },
     "execution_count": 14,
     "metadata": {},
     "output_type": "execute_result"
    },
    {
     "data": {
      "image/png": "[encoded data removed]",
      "text/plain": [
       "<matplotlib.figure.Figure at 0x586ea8ec88>"
      ]
     },
     "metadata": {},
     "output_type": "display_data"
    }
   ],
   "source": [
    "## approximate f along the first dimension \n",
    "y_app = np.zeros(N)\n",
    "for idx in range(N):\n",
    "    y_app[idx] = np.polynomial.chebyshev.chebval2d(fa.chebconvert(x1[idx], g1_min, g1_max), \n",
    "                                                   fa.chebconvert(x2[5], g2_min, g2_max), coef)\n",
    "\n",
    "\n",
    "fig, ax = plt.subplots()\n",
    "ax.plot(x1, cd_fun(x1, x2[5]))\n",
    "ax.plot(x1, y_app)\n"
   ]
  },
  {
   "cell_type": "markdown",
   "metadata": {
    "slideshow": {
     "slide_type": "skip"
    }
   },
   "source": [
    "--------------------------------------------------------------------------------------------------------------------------------"
   ]
  },
  {
   "cell_type": "markdown",
   "metadata": {},
   "source": [
    "## Other Topics\n",
    "\n",
    "In the interest of time, we will not talk in-depth about other topics in the context of function approximation, which are nevertheless highly relevant. "
   ]
  },
  {
   "cell_type": "markdown",
   "metadata": {
    "slideshow": {
     "slide_type": "slide"
    }
   },
   "source": [
    "#### Functional Equations\n",
    "\n",
    "A slightly more complex example for function approximation than what we have seen so far is the case where we do not know $f$ explicitly, but where its values are determined *implicitly* by a functional equation.\n",
    "\n",
    "For example, in the first example in lecture 1, we got a first-order condition that determined consumption of a good $c_1$ as a function of initial endowment $x$:\n",
    "\n",
    "\\begin{equation}\n",
    "    [x - \\tilde{c}_1(x)]^{\\alpha\\nu - \\alpha + 1} - \\alpha \\tilde{c}_1(x)^\\nu = 0. \n",
    "\\end{equation}\n",
    "\n",
    "This is an example of a functional equation $g(x, f(x)) = 0$ where the function $g$ is given, while $f$ is unknown. Note that the solution to a functional equation is not just a scalar or vector (as in all the problems considered so far), but a function which is defined at infinitely many points. Functional equation typically lack explicit closed-form solutions, and hence we look for approximate solutions $\\hat{f}$. "
   ]
  },
  {
   "cell_type": "markdown",
   "metadata": {
    "slideshow": {
     "slide_type": "slide"
    }
   },
   "source": [
    "#### Hermite Interpolation\n",
    "\n",
    "In the context of interpolation, we have so far considered *Lagrange* interpolation, which uses information on only the levels of a function. In other words, we have one interpolation condition per grid point (see the previous notebook), and the data is given by $\\{y_i, x_i\\}_{i = 1}^m$.\n",
    "\n",
    "*Hermite interpolation* also uses information on the *slope* of the function. Hence, for $m$ grid points, we have $2m$ interpolation conditions, with the data given by:  \n",
    "\n",
    "\\begin{equation}\n",
    "    \\{y_i, y'_i, x_i\\}_{i = 1}^m\n",
    "\\end{equation}\n",
    "\n",
    "where $y'_i = f'(x_i)$. Since the degree of approximation/number of basis coefficients must match the number of interpolation conditions, we use $n = 2m - 1$ basis functions.\n",
    "\n",
    "Intuitively, Hermite interpolation uses more information about the function, and hence can provide a \"better\" approximation of the function."
   ]
  },
  {
   "cell_type": "markdown",
   "metadata": {
    "slideshow": {
     "slide_type": "slide"
    }
   },
   "source": [
    "#### Other Family of Basis Functions: Splines\n",
    "\n",
    "So far, we have considered one family of basis functions, polynomials. As mentioned in the previous lecture, approximating a function with a polynomial is an example of a \"spectral method\", which uses basis functions that are nonzero over the entire domain of the function that is approximated (except at a *finite* number of points). \n",
    "\n",
    "The other option are *finite element* method which relies on basis functions that are nonzero only over subintervals of the approximation domain. The prime example for this method are *piecewise polynomial splines*. An order-$k$ spline consists of a series of $k$th-order polynomial segments spliced together so as to preserve the continuity of the derivatives of order $k-1$ or less (cp. M & F, chapter 6.4$). \n",
    "\n",
    "The cubic spline basis functions for $k = 3$ are shown below."
   ]
  },
  {
   "cell_type": "code",
   "execution_count": null,
   "metadata": {},
   "outputs": [],
   "source": []
  },
  {
   "cell_type": "markdown",
   "metadata": {
    "slideshow": {
     "slide_type": "slide"
    }
   },
   "source": [
    "When should you use splines rather than a polynomial basis? The main criterion here is whether the function that you want to approximate is sufficiently \"smooth\" or if it has a high degree of curvature and/or \"kinks\", i.e. a discontinuity in the first or second derivatives. In the first case, approximating the function with Chebyshev polynomials and nodes is the best strategy. In the second case, since splines can deal much better with discontinuities, they are typically the better choice.  \n",
    "\n",
    "In this class, all functions that we will need to approximate from this point on will be smooth enough for Chebyshev polynomials to be our method of choice."
   ]
  },
  {
   "cell_type": "markdown",
   "metadata": {},
   "source": [
    "On this topic, let's also consider Boyd's Moral Principle (via J. Fernandez-Villaverde):\n",
    "1. When in doubt, use Chebyshev polynomials (unless the solution is spatially periodic, in which case an ordinary Fourier series is better).\n",
    "2. Unless you are sure that another set of basis functions is better, use Chebyshev polynomials.\n",
    "3. Unless you are really, really sure that another set of basis functions is better, use Chebyshev polynomials."
   ]
  },
  {
   "cell_type": "code",
   "execution_count": null,
   "metadata": {
    "collapsed": true
   },
   "outputs": [],
   "source": []
  }
 ],
 "metadata": {
  "celltoolbar": "Slideshow",
  "kernelspec": {
   "display_name": "Python 3",
   "language": "python",
   "name": "python3"
  },
  "language_info": {
   "codemirror_mode": {
    "name": "ipython",
    "version": 3
   },
   "file_extension": ".py",
   "mimetype": "text/x-python",
   "name": "python",
   "nbconvert_exporter": "python",
   "pygments_lexer": "ipython3",
   "version": "3.6.0"
  }
 },
 "nbformat": 4,
 "nbformat_minor": 1
}
