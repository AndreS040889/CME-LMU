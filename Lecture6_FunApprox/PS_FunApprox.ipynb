{
 "cells": [
  {
   "cell_type": "markdown",
   "metadata": {},
   "source": [
    "# Computational Methods in Economics\n",
    "\n",
    "## Problem Set 4 - Function Approximation "
   ]
  },
  {
   "cell_type": "code",
   "execution_count": 1,
   "metadata": {},
   "outputs": [
    {
     "name": "stdout",
     "output_type": "stream",
     "text": [
      "Last update: 2018-01-07 16:02:04.925191\n"
     ]
    }
   ],
   "source": [
    "# Author: Alex Schmitt (schmitt@ifo.de)\n",
    "\n",
    "import datetime\n",
    "print('Last update: ' + str(datetime.datetime.today()))"
   ]
  },
  {
   "cell_type": "markdown",
   "metadata": {},
   "source": [
    "### Preliminaries\n",
    "\n",
    "#### Import Modules"
   ]
  },
  {
   "cell_type": "code",
   "execution_count": 2,
   "metadata": {
    "collapsed": true
   },
   "outputs": [],
   "source": [
    "import numpy as np\n",
    "import scipy.optimize\n",
    "\n",
    "import matplotlib.pyplot as plt\n",
    "%matplotlib inline\n",
    "import seaborn\n",
    "\n",
    "import funapprox_cme as fa"
   ]
  },
  {
   "cell_type": "markdown",
   "metadata": {},
   "source": [
    "**Note**: The last command imports the **funapprox_cme** module, which contains the functions defined in the lecture. The Python-file **funapprox_cme.py** which can be downloaded from LSF must be saved in the same folder as this notebook."
   ]
  },
  {
   "cell_type": "markdown",
   "metadata": {},
   "source": [
    "## Question 1 (N)\n",
    "\n",
    "Construct the 5- and 50-degree approximants for the function $f(x) = \\exp(-x^2)$ on the interval $[0, 2]$ using each of the following interpolation schemens:\n",
    "\n",
    "(a) Equally spaced nodes, monomial basis\n",
    "\n",
    "(b) Chebyshev nodes, Chebyshev basis\n",
    "\n",
    "For each scheme and degree of approximation, plot the approximation error."
   ]
  },
  {
   "cell_type": "code",
   "execution_count": null,
   "metadata": {
    "collapsed": true
   },
   "outputs": [],
   "source": []
  },
  {
   "cell_type": "markdown",
   "metadata": {
    "collapsed": true
   },
   "source": [
    "## Question 2 (N)\n",
    "\n",
    "This question illustrates why we should use Chebyshev nodes instead of equally spaced (equidistant) nodes. We use *Runge's function* as an example:\n",
    "\n",
    "\\begin{equation}\n",
    "    f(x) = \\frac{1}{1 + \\alpha x^2}\n",
    "\\end{equation}\n",
    "\n",
    "Approximate this function on the interval $[-5, 5]$ using all possible combinations of equally spaced/Chebyshev nodes for the interpolation grid and monomials/Chebyshev polynomials for the basis functions. What choice has a bigger impact on the approximation error?"
   ]
  },
  {
   "cell_type": "code",
   "execution_count": null,
   "metadata": {
    "collapsed": true
   },
   "outputs": [],
   "source": []
  },
  {
   "cell_type": "markdown",
   "metadata": {},
   "source": [
    "## Question 3 (N)\n",
    "\n",
    "In lecture 5, we have solved the neoclassical growth model. As a reminder, here is a concise description of the model: \n",
    "\n",
    "- Utility function:\n",
    "\n",
    "\\begin{equation}\n",
    "    u(c, h) = \\frac{c^{1-\\nu}}{1-\\nu} - B \\frac{h^{1+\\eta}}{1+\\eta}\n",
    "\\end{equation}\n",
    "\n",
    "with $c$ denoting consumption and $h$ labor supply.\n",
    "\n",
    "- Production function:\n",
    "\n",
    "\\begin{equation}\n",
    "    f(k, h) = A k^\\alpha h^{1-\\alpha}\n",
    "\\end{equation}\n",
    "with $k$ denoting the capital stock, and $A$ the productivity level.\n",
    "\n",
    "- Resource Constraint:\n",
    "\n",
    "\\begin{equation}\n",
    "    k_{t+1} + c_t = f(k_t, h_t) + (1 - \\delta) k_t = A k_t^\\alpha h_t^{1-\\alpha} + (1 - \\delta) k_t\n",
    "\\end{equation}\n",
    "\n",
    "- Planner's Problem:\n",
    "\n",
    "\\begin{equation}\n",
    "    \\max_{\\left\\{c_t, k_{t+1}, h_t\\right\\}} \\sum^\\infty_{t = 0} \\beta^t u(c_t, h_t) \n",
    "\\end{equation}\n",
    "s.t. the resource constraint.\n",
    "\n",
    "In this question, we want to approximate the *value function* $V$, which is defined as the objective function - here lifetime utility of the representative agent - evaluated at the *optimal* sequences for capital and labor supply, $(k^*_t, h^*_t)_{t = 0}^\\infty$ (and hence, via the resource constraint, optimal consumption). The value function in period 0 is a function of the initial capital stock $k_0$; in order to be feasible, any optimal sequence must satisfy $k^*_0 = k_0$:\n",
    "\n",
    "\\begin{equation}\n",
    "    V(k_0) = \\sum^\\infty_{t = 0} \\beta^t u[f(k^*_t, h^*_t) + (1 - \\delta) k^*_t - k^*_{t+1}, h^*_t] \n",
    "\\end{equation}\n",
    "\n",
    "To find $V$, implement the following steps:\n",
    "\n",
    "(i) Create a grid for the initial capital stock $k_0$ consisting of $m$ nodes. Solve the neoclassical growth above for each of these $m$ values for $k_0$. Store the resulting values $V_i = V(k_{0, i})$ in a Numpy array.\n",
    "\n",
    "(ii) Using the data $\\{V_i, k_{0,i}\\}_{i = 1}^m$, approximate the function $V$. Use both an interpolation and a regression scheme and compare the approximated values for $k_0 = 0.66$ with the true value. \n"
   ]
  },
  {
   "cell_type": "code",
   "execution_count": null,
   "metadata": {
    "collapsed": true
   },
   "outputs": [],
   "source": []
  }
 ],
 "metadata": {
  "kernelspec": {
   "display_name": "Python 3",
   "language": "python",
   "name": "python3"
  },
  "language_info": {
   "codemirror_mode": {
    "name": "ipython",
    "version": 3
   },
   "file_extension": ".py",
   "mimetype": "text/x-python",
   "name": "python",
   "nbconvert_exporter": "python",
   "pygments_lexer": "ipython3",
   "version": "3.6.0"
  }
 },
 "nbformat": 4,
 "nbformat_minor": 1
}
