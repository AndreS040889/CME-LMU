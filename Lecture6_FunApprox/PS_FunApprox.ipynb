{
 "cells": [
  {
   "cell_type": "markdown",
   "metadata": {},
   "source": [
    "# Computational Methods in Economics\n",
    "\n",
    "## Problem Set 4 - Function Approximation "
   ]
  },
  {
   "cell_type": "code",
   "execution_count": 1,
   "metadata": {},
   "outputs": [
    {
     "name": "stdout",
     "output_type": "stream",
     "text": [
      "Last update: 2017-12-08 16:34:27.191577\n"
     ]
    }
   ],
   "source": [
    "# Author: Alex Schmitt (schmitt@ifo.de)\n",
    "\n",
    "import datetime\n",
    "print('Last update: ' + str(datetime.datetime.today()))"
   ]
  },
  {
   "cell_type": "markdown",
   "metadata": {},
   "source": [
    "### Preliminaries\n",
    "\n",
    "#### Import Modules"
   ]
  },
  {
   "cell_type": "code",
   "execution_count": 2,
   "metadata": {
    "collapsed": true
   },
   "outputs": [],
   "source": [
    "import numpy as np\n",
    "import scipy.optimize\n",
    "\n",
    "import matplotlib.pyplot as plt\n",
    "%matplotlib inline\n",
    "import seaborn\n",
    "\n",
    "import numpy as np\n",
    "import scipy.optimize\n",
    "import scipy.linalg\n",
    "\n",
    "\n",
    "# import sys\n",
    "from importlib import reload"
   ]
  },
  {
   "cell_type": "markdown",
   "metadata": {},
   "source": [
    "## Question 1 (A)\n",
    "\n"
   ]
  },
  {
   "cell_type": "markdown",
   "metadata": {},
   "source": [
    "## Question 2 (N)"
   ]
  },
  {
   "cell_type": "markdown",
   "metadata": {
    "collapsed": true
   },
   "source": [
    "This question illustrates why we should use Chebyshev nodes instead of equally spaced (equidistant) nodes, and Chebyshev polynomials instead of monomials for the basis functions. We use Runge's function as an example."
   ]
  },
  {
   "cell_type": "code",
   "execution_count": null,
   "metadata": {},
   "outputs": [],
   "source": [
    "def fun(x, alpha = 1):\n",
    "    \"\"\"\n",
    "    Runge's Function\n",
    "    \"\"\"\n",
    "    return (1 + alpha * x**2)**(-1)\n",
    "\n",
    "## min and max for approximation grid\n",
    "g_min, g_max = -5, 5\n",
    "## number of grid points\n",
    "m = 11\n",
    "## equidistant grid\n",
    "g_e = np.linspace(g_min, g_max, m)\n",
    "y_e = fun(g_e)\n",
    "## Chebyshev grid\n",
    "g_c = chebgrid(g_min, g_max, m)\n",
    "y_c = fun(g_c)\n",
    "## define dictionary for results\n",
    "a = {}\n",
    "\n",
    "## Exercise 1: use monomials\n",
    "a['p_e'] = np.polynomial.polynomial.polyfit(g_e, y_e, m - 1) \n",
    "a['p_c'] = np.polynomial.polynomial.polyfit(g_c, y_c, m - 1) \n",
    "\n",
    "## Exercise 1: use monomials\n",
    "a['c_e'] = np.polynomial.chebyshev.chebfit(convert(g_e, g_min, g_max), y_e, m - 1) \n",
    "a['c_c'] = np.polynomial.chebyshev.chebfit(convert(g_c, g_min, g_max), y_c, m - 1) \n",
    "\n",
    "## interpolate over long grid\n",
    "N = 1001\n",
    "g_long = np.linspace(g_min, g_max, N)\n",
    "y_long = fun(g_long)\n",
    "\n",
    "## plot approximation errors\n",
    "fig, ax = plt.subplots()\n",
    "ax.plot(g_long, y_long - np.polynomial.polynomial.polyval(g_long, a['p_e']), 'b', linestyle = '--')\n",
    "ax.plot(g_long, y_long - np.polynomial.polynomial.polyval(g_long, a['p_c']), 'b' )\n",
    "ax.plot(g_long, y_long - np.polynomial.chebyshev.chebval(convert(g_long, g_min, g_max), a['c_e']), 'g', linestyle = '--' )\n",
    "ax.plot(g_long, y_long - np.polynomial.chebyshev.chebval(convert(g_long, g_min, g_max), a['c_c']), 'g' )"
   ]
  },
  {
   "cell_type": "markdown",
   "metadata": {},
   "source": [
    "## Question 3 (A)"
   ]
  },
  {
   "cell_type": "markdown",
   "metadata": {},
   "source": [
    "## Question 4 (N)"
   ]
  },
  {
   "cell_type": "code",
   "execution_count": null,
   "metadata": {
    "collapsed": true
   },
   "outputs": [],
   "source": []
  }
 ],
 "metadata": {
  "kernelspec": {
   "display_name": "Python 3",
   "language": "python",
   "name": "python3"
  },
  "language_info": {
   "codemirror_mode": {
    "name": "ipython",
    "version": 3
   },
   "file_extension": ".py",
   "mimetype": "text/x-python",
   "name": "python",
   "nbconvert_exporter": "python",
   "pygments_lexer": "ipython3",
   "version": "3.6.0"
  }
 },
 "nbformat": 4,
 "nbformat_minor": 1
}
