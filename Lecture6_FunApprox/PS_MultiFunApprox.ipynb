{
 "cells": [
  {
   "cell_type": "markdown",
   "metadata": {},
   "source": [
    "# Computational Methods in Economics\n",
    "\n",
    "## Problem Set 5 - Multivariate Function Approximation "
   ]
  },
  {
   "cell_type": "code",
   "execution_count": 1,
   "metadata": {},
   "outputs": [
    {
     "name": "stdout",
     "output_type": "stream",
     "text": [
      "Last update: 2018-01-15 13:36:06.045318\n"
     ]
    }
   ],
   "source": [
    "# Author: Alex Schmitt (schmitt@ifo.de)\n",
    "\n",
    "import datetime\n",
    "print('Last update: ' + str(datetime.datetime.today()))"
   ]
  },
  {
   "cell_type": "markdown",
   "metadata": {},
   "source": [
    "### Preliminaries\n",
    "\n",
    "#### Import Modules"
   ]
  },
  {
   "cell_type": "code",
   "execution_count": 2,
   "metadata": {},
   "outputs": [],
   "source": [
    "import numpy as np\n",
    "import scipy.optimize\n",
    "\n",
    "import matplotlib.pyplot as plt\n",
    "%matplotlib inline\n",
    "import seaborn\n",
    "\n",
    "import funapprox_cme as fa"
   ]
  },
  {
   "cell_type": "markdown",
   "metadata": {},
   "source": [
    "**Note**: The last command imports the **funapprox_cme** module, which contains the functions defined in the last lecture. The Python-file **funapprox_cme.py** which can be downloaded from LSF must be saved in the same folder as this notebook."
   ]
  },
  {
   "cell_type": "markdown",
   "metadata": {},
   "source": [
    "## Question 1 (N)\n",
    "\n",
    "In the lecture, we have approximated the Cobb-Douglas production function with two arguments using a tensor product Chebyshev basis. Repeat this exercise with a complete set of Chebyshev polynomials. Try different values for the total degree $l$ and plot the approximation errors.\n",
    "\n",
    "**Hint**: You can implement the regression step with the function **chebapprox_2d** that was defined in the lecture, by adding a single line!"
   ]
  },
  {
   "cell_type": "code",
   "execution_count": null,
   "metadata": {},
   "outputs": [],
   "source": []
  },
  {
   "cell_type": "markdown",
   "metadata": {},
   "source": [
    "## Question 2 (N)\n",
    "\n",
    "In the last problem set, we have approximated the value function resulting from the neoclassical growth model. Here, we repeat this exercise for a modified version of the model that has two *state variables*, i.e. the value function is a function of two variables. \n",
    "\n",
    "The per-period utility function is the same as before. The production function has three inputs, *two* capital stocks, denoted by $k$ and $q$, and labor. Let's assume the following functional form:\n",
    "\\begin{equation}\n",
    "    f(k, q, h) = A \\left[ (\\omega k^{\\frac{\\sigma - 1}{\\sigma}} + (1 - \\omega) q^{\\frac{\\sigma - 1}{\\sigma}})^{\\frac{\\sigma}{\\sigma-1}}   \\right]^\\alpha h^{1-\\alpha}\n",
    "\\end{equation}\n",
    "\n",
    "As before, we have a Cobb-Douglas production function. The first argument is a *CES composite* of the two capital stocks, $k$ and $q$. Recall that a CES function allows you to set an *elasticity of substitution* $\\sigma \\in [0, \\infty)$ different from 1 (which would be the Cobb-Douglas case). For $\\sigma < 1$, the two inputs are considered *complements*, while for $\\sigma > 1$, they are *substitutes*.\n",
    "\n",
    "The resource constraint now reads:\n",
    "\n",
    "\\begin{equation}\n",
    "    k_{t+1} + q_{t+1} + c_t = f(k_t, q_t, h_t) + (1 - \\delta) (k_t + q_t)\n",
    "\\end{equation}\n",
    "\n",
    "where we have assumed that both types of capital depreciate with the same rate $\\delta$. \n",
    "\n",
    "The planner's problem is identical to before, with the exception that we consider a *finite* time horizon:\n",
    "\n",
    "\\begin{equation}\n",
    "    \\max_{\\left\\{c_t, k_{t+1}, q_{t+1}, h_t\\right\\}} \\sum^T_{t = 0} \\beta^t u(c_t, h_t) \n",
    "\\end{equation}\n",
    "\n",
    "s.t. the resource constraint.\n",
    "\n",
    "As before, we want to approximate the initial *value function* $V$, which now depends on both $k_0$ and $q_0$:\n",
    "\n",
    "\\begin{equation}\n",
    "    V(k_0, q_0) = \\sum^T_{t = 0} \\beta^t u[f(k^*_t, q^*_t, h^*_t) + (1 - \\delta) (k^*_t + q^*_t) - k^*_{t+1} - q^*_{t+1}, h^*_t] \n",
    "\\end{equation}\n",
    "\n",
    "where $(k^*_t, q^*_t, h^*_t)_{t = 0}^T$ denote the optimal sequences for the capital stocks and labor. \n",
    "\n",
    "To find $V$, follow the same steps as before:\n",
    "\n",
    "(i) Set $T = 2$. Create grids for the initial capital stocks $k_0$ and $q_0$, each consisting of $m$ nodes. Solve the model above for each of the resulting $m^2$ grid points. Store the resulting values $V_{i_1 i_2} = V(k_{0, i_1}, q_{0, i_2})$ in a Numpy array.\n",
    "\n",
    "(ii) Using the data $\\{V_{i_1 i_2}, k_{0, i_1}, q_{0, i_2}\\}_{i = 1}^m$, approximate the function $V$. Choose a suitable number of grid points and basis functions. Compare the approximated values for $(k_0, q_0) = (0.66, 0.75)$ with the true value. \n"
   ]
  },
  {
   "cell_type": "code",
   "execution_count": 3,
   "metadata": {},
   "outputs": [],
   "source": [
    "## utility\n",
    "beta = 0.8      # discount factor\n",
    "nu = 2       # risk-aversion coefficient for consumption\n",
    "eta = 1         # elasticity parameter for labor supply\n",
    "eps = 1e-6      # lower bound of consumption and labor supply\n",
    "## production\n",
    "alpha = 0.25\n",
    "delta = 0.1\n",
    "## derived\n",
    "A = (1 - beta * (1 - delta))/(alpha*beta) # normalization parameter for production function => steady state k = 1\n",
    "B = (1 - alpha) * A * (A - delta)**(-nu)      # parameter for utility function\n",
    "\n",
    "omega = 0.5\n",
    "sigma = 0.8"
   ]
  },
  {
   "cell_type": "code",
   "execution_count": null,
   "metadata": {},
   "outputs": [],
   "source": []
  },
  {
   "cell_type": "markdown",
   "metadata": {},
   "source": [
    "## Question 3 (N)\n",
    "\n",
    "The simplest approach to approximating a univariate function $f$ is (piecewise) linear interpolation. As before, define a grid $x_1, ..., x_m$ and compute the function values $f(x_1), ... , f(x_m)$. Then, to approximate $f(x)$, find the two grid points $x_i$ and $x_{i+1}$ that bracket $x$, i.e. such that $x_l \\equiv x_i \\le x \\le x_{i + 1} \\equiv x_r $. The interpolant is given by:\n",
    "\n",
    "\\begin{equation}\n",
    "    \\hat{f}(x)=f(x_{l})+{\\frac {f(x_{r})-f(x_{l})}{x_{r}-x_{l}}}(x-x_{l})\n",
    "\\end{equation}\n",
    "\n",
    "(a) Write a function **lin_int** that takes three arguments - a scalar **x** at which to approximate the function, an array **X** consisting of $m$ grid points and an array **Y** containing the function values corresponding to the grid - and that implements this interpolation scheme. Use this function to approximate the sine function $f(x) = \\sin(x)$ between 0 and $2\\pi$. Compare your result to Numpy's **interp** function. Plot both the approximated and the true function values.\n",
    "\n",
    "**Hint**: The slightly tricky part here is to find $x_l$ and $x_r$. There are different ways to achieve this; one possibility is Numpy's **argwhere** function. You may want to combine this with a **try/except** statement.\n",
    "\n",
    "(b) Compute the maximum interpolation error when using linear interpolation on a dense grid between 0 and $2\\pi$. Compare this to using Chebyshev interpolation. "
   ]
  },
  {
   "cell_type": "code",
   "execution_count": null,
   "metadata": {},
   "outputs": [],
   "source": []
  },
  {
   "cell_type": "markdown",
   "metadata": {},
   "source": [
    "## Question 4 (N)\n",
    "\n",
    "This question illustrates the use of interpolation for given grid points. Suppose you have information on some climate indicator, for example the number of hours of sunshine per year, for a finite set of locations, here indexed by latitude and longitude:\n",
    "\n",
    "Stockholm - 1821 - (59.329444, 18.068611)\n",
    "\n",
    "Copenhagen - 1539 - (55.676111, 12.568333)\n",
    "\n",
    "Berlin - 1626 - (52.516667, 13.388889)\n",
    "\n",
    "Vienna - 1884 - (48.2, 16.366667)\n",
    "\n",
    "Zagreb - 1913 - (45.816667, 15.983333)\n",
    "\n",
    "Rome - 2473 - (41.9, 12.5)\n",
    "\n",
    "The first value gives the annual amount of sunshine, taken from https://en.wikipedia.org/wiki/List_of_cities_by_sunshine_duration; the tuple contains the latitude and longitude of the corresponding city. This data is captured by the following Numpy array:"
   ]
  },
  {
   "cell_type": "code",
   "execution_count": 8,
   "metadata": {},
   "outputs": [
    {
     "data": {
      "text/plain": [
       "<matplotlib.text.Text at 0xcc3a521a20>"
      ]
     },
     "execution_count": 8,
     "metadata": {},
     "output_type": "execute_result"
    },
    {
     "data": {
      "image/png": "[encoded data removed]",
      "text/plain": [
       "<matplotlib.figure.Figure at 0xcc3a47e6a0>"
      ]
     },
     "metadata": {},
     "output_type": "display_data"
    }
   ],
   "source": [
    "D = np.array([[59.329444, 18.068611, 1821],\n",
    "              [55.676111, 12.568333, 1539],\n",
    "              [52.516667, 13.388889, 1626],\n",
    "              [48.2, 16.366667, 1884],\n",
    "              [45.816667, 15.983333, 1913],\n",
    "              [41.9, 12.5, 2473]])\n",
    "\n",
    "fig, ax = plt.subplots()\n",
    "ax.plot(D[:,0], D[:,2], 'o')\n",
    "ax.set_ylabel('Hours of Sunshine (Yearly)')\n",
    "ax.set_xlabel('Latitude')"
   ]
  },
  {
   "cell_type": "markdown",
   "metadata": {},
   "source": [
    "(a) Use this data to find a (univariate) function $\\hat{f}$ that maps hours of sunshine per year to latitude. We can use this function to predict annual sunshine duration for cities that are not contained in the sample. For example, Prague is represented by the following data:"
   ]
  },
  {
   "cell_type": "code",
   "execution_count": 9,
   "metadata": {},
   "outputs": [],
   "source": [
    "prague = np.array([50.083333, 14.416667, 1668])"
   ]
  },
  {
   "cell_type": "markdown",
   "metadata": {},
   "source": [
    "Does $\\hat{f}$  over- or underpredict the amount of sunshine in Prague?"
   ]
  },
  {
   "cell_type": "code",
   "execution_count": null,
   "metadata": {},
   "outputs": [],
   "source": []
  },
  {
   "cell_type": "markdown",
   "metadata": {},
   "source": [
    "(b) Suppose we also include longitude as an explanatory variable in $\\hat{f}$. Does this increase or decrease the interpolation error for yearly sunshine duration in Prague? "
   ]
  },
  {
   "cell_type": "code",
   "execution_count": null,
   "metadata": {},
   "outputs": [],
   "source": []
  }
 ],
 "metadata": {
  "kernelspec": {
   "display_name": "Python 3",
   "language": "python",
   "name": "python3"
  },
  "language_info": {
   "codemirror_mode": {
    "name": "ipython",
    "version": 3
   },
   "file_extension": ".py",
   "mimetype": "text/x-python",
   "name": "python",
   "nbconvert_exporter": "python",
   "pygments_lexer": "ipython3",
   "version": "3.6.0"
  }
 },
 "nbformat": 4,
 "nbformat_minor": 1
}
