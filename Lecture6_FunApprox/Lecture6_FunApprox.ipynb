{
 "cells": [
  {
   "cell_type": "markdown",
   "metadata": {
    "slideshow": {
     "slide_type": "slide"
    }
   },
   "source": [
    "# Computational Methods in Economics\n",
    "\n",
    "## Lecture 6 - Function Approximation"
   ]
  },
  {
   "cell_type": "code",
   "execution_count": 3,
   "metadata": {
    "slideshow": {
     "slide_type": "skip"
    }
   },
   "outputs": [
    {
     "name": "stdout",
     "output_type": "stream",
     "text": [
      "Last update: 2017-12-11 15:02:47.029307\n"
     ]
    }
   ],
   "source": [
    "# Author: Alex Schmitt (schmitt@ifo.de)\n",
    "\n",
    "import datetime\n",
    "print('Last update: ' + str(datetime.datetime.today()))"
   ]
  },
  {
   "cell_type": "markdown",
   "metadata": {},
   "source": [
    "## TO DO\n",
    "\n",
    "- define orthogonal polynomials\n",
    "\n",
    "- documentation on Chebyshev nodes interacting with Chebyshev basis"
   ]
  },
  {
   "cell_type": "markdown",
   "metadata": {
    "slideshow": {
     "slide_type": "slide"
    }
   },
   "source": [
    "### Preliminaries\n",
    "\n",
    "#### Import Modules"
   ]
  },
  {
   "cell_type": "code",
   "execution_count": 4,
   "metadata": {
    "slideshow": {
     "slide_type": "skip"
    }
   },
   "outputs": [],
   "source": [
    "import numpy as np\n",
    "import scipy.optimize\n",
    "\n",
    "import matplotlib.pyplot as plt\n",
    "%matplotlib inline\n",
    "import seaborn\n",
    "\n",
    "# import sys\n",
    "from importlib import reload"
   ]
  },
  {
   "cell_type": "markdown",
   "metadata": {
    "slideshow": {
     "slide_type": "slide"
    }
   },
   "source": [
    "## This Lecture\n",
    "\n",
    "- [Introduction](#introduction)\n",
    "- [Interpolation vs. Regression](#interp)\n",
    "- [Choice of Basis Functions: Polynomials](#basis)\n",
    "- [Chebyshev Basis Functions](#cheb)\n",
    "- [Constructing a Grid](#grid)\n",
    "- [Univariate Function Approximation in Python](#funapprox1)\n",
    "- [Multivariate Function Approximation in Python](#funapprox2)"
   ]
  },
  {
   "cell_type": "markdown",
   "metadata": {
    "slideshow": {
     "slide_type": "skip"
    }
   },
   "source": [
    "--------------------------------------------------------------------------------------------------------------------------------\n",
    "<a id = 'introduction'></a>"
   ]
  },
  {
   "cell_type": "markdown",
   "metadata": {
    "slideshow": {
     "slide_type": "slide"
    }
   },
   "source": [
    "## Introduction\n",
    "\n",
    "Suppose you are interested in a function $f$, but only have \"limited information\" about it. That is, you only know its function values at a finite number $m$ points $x_1, x_2,..., x_m$:  \n",
    "\\begin{equation}\n",
    "    y_1 = f(x_1), y_2 = f(x_2), ..., y_m = f(x_m)\n",
    "\\end{equation}\n",
    "\n",
    "The goal of function approximation or \"curve fitting\" is to use this limited information to find a function $\\hat{f}$ such that\n",
    "\\begin{equation}\n",
    "    f(x) \\approx \\hat{f}(x)\n",
    "\\end{equation}\n",
    "\n",
    "The function $\\hat{f}$ (also called *approximant*) should be computationally tractable and easy to evaluate. In this course, we will confine ourselves to functions $\\hat{f}$ that are linear combinations of a set of $n + 1$ linearly independent *basis functions* $B_0, ..., B_n$:\n",
    "\\begin{equation}\n",
    "    \\hat{f}(x) = \\sum_{j = 0}^{n} a_j B_j(x)\n",
    "\\end{equation}\n",
    "\n",
    "The number $n$ is referred to as the *degree of approximation*. Approximating a function then means to find appropriate values for the $n + 1$ *basis coefficients* $a_0, ..., a_n$ given the \"data\" $\\{y_i, x_i\\}_{i = 1}^m$. "
   ]
  },
  {
   "cell_type": "markdown",
   "metadata": {
    "slideshow": {
     "slide_type": "slide"
    }
   },
   "source": [
    "#### Example 1\n",
    "\n",
    "For concreteness, consider the following example. Suppose an agent maximizes her utility over two consumption goods. She has an initial endowment $x$ for good 1. Moreover, she can convert good 1 in good 2, using a decreasing-returns-to-scale technology. Formally, we have\n",
    "\n",
    "\\begin{equation}\n",
    "    \\max u(c_1, c_2)\n",
    "\\end{equation}\n",
    "\n",
    "s.t. \n",
    "\n",
    "\\begin{equation}\n",
    "    c_2 = (x - c_1)^\\alpha.\n",
    "\\end{equation}\n",
    "\n",
    "We are interested in computing the *decision rule* (policy function) for good-1 consumption as a function of endowment: $\\tilde{c}_1(x)$.\n",
    "\n",
    "Assume that the utility function $u$ is given by\n",
    "\n",
    "\\begin{equation}\n",
    "    u(c_1, c_2) = \\frac{c_1^{1 - \\nu}}{1 - \\nu} + \\beta \\frac{c_2^{1 - \\nu}}{1 - \\nu}.\n",
    "\\end{equation}\n",
    "\n",
    "As we have seen before, we cannot solve this problem analytically for this functional form."
   ]
  },
  {
   "cell_type": "markdown",
   "metadata": {
    "slideshow": {
     "slide_type": "slide"
    }
   },
   "source": [
    "Taking first-order conditions and rearranging, we can find an equation in $c_1$:\n",
    "\n",
    "\\begin{equation}\n",
    "    (x - c_1)^{\\alpha\\nu - \\alpha + 1} = - \\alpha \\beta c_1^\\nu. \n",
    "\\end{equation}\n",
    "\n",
    "We can solve this expression for $c_1$. However, suppose that we are not only interested in a single $c_1$, but instead in the demand function $\\tilde{c}_1(x)$, i.e. in the optimal $c_1$ as a function of $x$. This function is implicitly determined by the expression above. In other words, we are looking for a function $\\tilde{c}_1$ such that\n",
    "\n",
    "\\begin{equation}\n",
    "    [x - \\tilde{c}_1(x)]^{\\alpha\\nu - \\alpha + 1} + \\alpha \\beta \\tilde{c}_1(x)^\\nu = 0. \n",
    "\\end{equation}\n",
    "\n",
    "This is an example of a *functional equation* $g(x, f(x)) = 0$ where the function $g$ is given, while $f$ is unknown. We will see functional equations later in the course in the context of dynamic programming. Note that the solution to a functional equation is not just a scalar or vector (as in all the problems considered so far), but a function which is defined at infinitely many points. Functional equation typically lack explicit closed-form solutions, and hence we look for approximate solutions $\\hat{f}$. \n",
    "\n"
   ]
  },
  {
   "cell_type": "markdown",
   "metadata": {
    "slideshow": {
     "slide_type": "slide"
    }
   },
   "source": [
    "In order to find the (approximate) demand function, we numerically solve the first-order condition for a finite number of values for $x$ using a root finding algorithm. and hence obtain the function values for $\\tilde{c}_1(x)$ at these points:\n",
    "\\begin{equation}\n",
    "    c_1 = \\tilde{c}_1(x_1), ..., c_m = \\tilde{c}_1(x_m).\n",
    "\\end{equation}\n",
    "\n",
    "Using this information, we can approximate the function numerically. "
   ]
  },
  {
   "cell_type": "markdown",
   "metadata": {
    "slideshow": {
     "slide_type": "slide"
    }
   },
   "source": [
    "### Some comments\n",
    "\n",
    "- With respect to terminology, I use \"curve fitting\" and \"function approximation\" as synonyms: any problem where we impose a parametric, functional relationship $\\hat{f}$ between a *dependent* variable on the left hand side and a (vector of) *explanatory* variables on the right hand side. These variables are \"data\" (not necessarily from the real world!) in the sense that given those, we want to find the parameters of the function that give a \"good fit\".\n",
    "\n",
    "- The first distinction is whether we assume the functional relationship is *linear or nonlinear in the parameters*. Most methods used in empirical or numerical work rely on linear methods, in particular on the use of polynomials. \n",
    "\n",
    "- In the example above, the function to approximate ($\\tilde{c}_1(x)$) is a univariate function. What follows below also holds for *multivariate* functions, in which case each of the \"points\" $x_1, x_2,..., x_m$ is actally a vector. For clarity, I will use bold notation in this case: $\\mathbf{x}_1, \\mathbf{x}_2,..., \\mathbf{x}_m$, where \n",
    "\\begin{equation}\n",
    "    \\mathbf{x}_i = (x_{1i}, x_{2i}, ..., x_{ki}).\n",
    "\\end{equation}\n",
    "Then, we approximate a function $f(\\mathbf{x})$ by:\n",
    "\\begin{equation}\n",
    "    f(\\mathbf{x}) \\approx \\tilde{f}(\\mathbf{x}) \\sum_{j = 0}^n a_j B_j(\\mathbf{x}),\n",
    "\\end{equation}\n",
    "using again information on the function values at a finite number of points:\n",
    "\\begin{equation}\n",
    "    y_i = f(\\mathbf{x}_i),\\ i = 1,..., m.\n",
    "\\end{equation}\n",
    "\n",
    "To simplify the exposition, I will first introduce the most important concepts for the univariate case. "
   ]
  },
  {
   "cell_type": "markdown",
   "metadata": {
    "slideshow": {
     "slide_type": "slide"
    }
   },
   "source": [
    "#### Example 2: Linear regression (e.g. via *Ordinary Least Squares*, OLS)\n",
    "\n",
    "An application of curve fitting (usually in a multivariate setting) that you all know is linear regression. Let \n",
    "Let $y$ denote a dependent variable and $\\mathbf{x} = (x_1, ... , x_k)$ a vector of $k$ regressors. Hence, $(y_i, \\mathbf{x}_i) = (y_i, x_{1i}, ..., x_{ki})$ corresponds to observation $i$. \n",
    "\n",
    "Then, for\n",
    "\n",
    "\\begin{equation}\n",
    "    B_j(\\mathbf{x}) = x_j,\\ j = 1,..., k,\n",
    "\\end{equation}\n",
    "\n",
    "and adding an error term, the problem above becomes\n",
    "\n",
    "\\begin{equation}\n",
    "    y_i = a_0 + \\sum_{j = 1}^k a_j B_j(\\mathbf{x}_i) + \\epsilon_i = a_0 + a_1 x_{1i} + ... + a_k x_{ki} + \\epsilon_i,\\ i = 1,..., m\n",
    "\\end{equation}\n",
    "\n",
    "This is the simplest case of the well-known linear regression model. In this case with $k$ regressors, we need to find $k+1$ coefficients. See below for details on how to implement a regression algorithm. Note that this model can be easily extended to specifications which are nonlinear in the regressors (e.g. $x_{1i}^2$ or $x_{1i} x_{2i}$), but still linear *in the parameters*.\n",
    "\n",
    "\n",
    "\n",
    "\n"
   ]
  },
  {
   "cell_type": "markdown",
   "metadata": {
    "slideshow": {
     "slide_type": "slide"
    }
   },
   "source": [
    "### Preview\n",
    "\n",
    "Broadly speaking, approximating a function requires the modeller to make three decisions:\n",
    "1. **choose number and spacing of grid points**; for example, equidistant grid, Chebyshev nodes \n",
    "2. **choose basis functions**; for example, monomials, orthogonal polynomials, splines \n",
    "3. **choose whether to find the basis coefficients through interpolation or regression (least squares)** \n",
    "\n",
    "For ease of exposition, we will go through this list in reverse order, starting with the third point."
   ]
  },
  {
   "cell_type": "markdown",
   "metadata": {
    "slideshow": {
     "slide_type": "slide"
    }
   },
   "source": [
    "## *MOVE THIS SECTION*  \n",
    "\n",
    "#### Function approximation along a grid:\n",
    "In case of linear regression, the function values $y_i = f(\\mathbf{x}_i)$ are given. Suppose instead that we can choose the $m$ grid points $\\mathbf{x}_i$ at which the function is evaluated. The easiest example in which this is the case is if we either know $f$ (but we still want to obtain an approximation) or at least can evaluate it at given grid points. An application of this is value function iteration.\n",
    "\n",
    "A second, slightly more complex example for function approximation along a grid would be the case where we do not know $f$ explicitly, but where its values are determined *implicitly* by a functional equation. A prime example is the Euler equation. In the simplest stationary setting, it reads:\n",
    "\\begin{equation}\n",
    "    c^{-\\nu} = \\beta (c')^{-\\nu} F_k(k')    \n",
    "\\end{equation}\n",
    "In period $t$, consumption $c$ and next period's capital stock $k'$ are decision variables, whereas the current capital stock $k$ is a state variable. With $c = F(k) - k'$, we are looking for the *policy rule* $k' = \\gamma(k)$. The goal is to approximate $\\gamma$ linearly:\n",
    "\\begin{equation}\n",
    "    \\gamma(k) \\approx \\sum_{j = 0}^n a_j B_j(k).\n",
    "\\end{equation}\n",
    "We cannot evaluate $\\gamma$ directly, but its values are pinned down by the Euler equation. At any $k$,\n",
    "\\begin{equation}\n",
    "    [F(k) - \\gamma(k)]^{-\\nu} = \\beta [F(\\gamma(k)) - \\gamma(\\gamma(k)))]^{-\\nu} F_k(\\gamma(k))    \n",
    "\\end{equation}\n",
    "If the number of grid points $m$ equals the degree of approximation $n$ (plus 1), we can use collocation to find the coefficients $a_j$ (see below). The question then is what functional form to use for the basis functions $B_j$. As it turns out, a good answer are Chebyshev polynomials. \n",
    "\n"
   ]
  },
  {
   "cell_type": "markdown",
   "metadata": {
    "slideshow": {
     "slide_type": "skip"
    }
   },
   "source": [
    "--------------------------------------------------------------------------------------------------------------------------------\n",
    "<a id = 'interp'></a>"
   ]
  },
  {
   "cell_type": "markdown",
   "metadata": {
    "slideshow": {
     "slide_type": "slide"
    }
   },
   "source": [
    "## Interpolation vs. Regression"
   ]
  },
  {
   "cell_type": "markdown",
   "metadata": {
    "slideshow": {
     "slide_type": "slide"
    }
   },
   "source": [
    "### Interpolation\n",
    "\n",
    "A function $\\hat{f}(x)$ *interpolates* to the data $\\{x_i, f_i\\}_{i = 1}^{m}$ if\n",
    "\n",
    "\\begin{equation}\n",
    "    \\hat{f}(x_i) = f_i = f(x_i),\\ \\ i = 1, ..., m\n",
    "\\end{equation}\n",
    "\n",
    "where $x_1, x_2, ... , x_m$ are called *interpolation nodes* or *interpolation grid*. \n",
    "\n",
    "\n",
    "In other words, the functions $f$ and $\\hat{f}$ have the same function values at the $m$ data points. Note that this results in a system of $m$ equations, the *interpolating/interpolation conditions*. With\n",
    "\n",
    "\\begin{equation}\n",
    "    \\hat{f}(x) = \\sum_{j = 0}^{n} a_j B_j(x), \n",
    "\\end{equation}\n",
    "the conditions read\n",
    "\\begin{align}\n",
    "    f_1 &= \\sum_{j = 0}^{n} a_j B_j(x_1) \\\\\n",
    "    f_2 &= \\sum_{j = 0}^{n} a_j B_j(x_2) \\\\\n",
    "    \\vdots \\\\\n",
    "    f_m &= \\sum_{j = 0}^{n} a_j B_j(x_m) \\\\\n",
    "\\end{align}\n"
   ]
  },
  {
   "cell_type": "markdown",
   "metadata": {
    "slideshow": {
     "slide_type": "slide"
    }
   },
   "source": [
    "Hence, we have $n + 1$ unknowns - the coefficients $a_0, ..., a_n$ - in $m$ equations. In order to get a unique solutions, approximating a function via interpolation requires that\n",
    "\\begin{equation}\n",
    "    m = n + 1.\n",
    "\\end{equation}\n",
    "In other words, we need as many data points as coefficients.\n",
    "\n",
    "We can also write this system of linear equations using matrices:\n",
    "\n",
    "\\begin{equation}\n",
    "\\begin{split}\n",
    "\\left[\n",
    "\\begin{array}{c}\n",
    "    f_{1}  \\\\\n",
    "    \\vdots  \\\\\n",
    "    f_{m}\n",
    "\\end{array}\n",
    "\\right]\n",
    "=\n",
    "\\left[\n",
    "\\begin{array}{cccc}\n",
    "    B_0(x_1) & B_1(x_1) & \\cdots & B_n(x_1)  \\\\\n",
    "    \\vdots & \\vdots  & \\vdots \\\\\n",
    "    B_0(x_m) & B_1(x_m) & \\cdots & B_n(x_m) &\n",
    "\\end{array}\n",
    "\\right]\n",
    "\\left[\n",
    "\\begin{array}{c}\n",
    "    a_{0}  \\\\\n",
    "    \\vdots  \\\\\n",
    "    a_{n}\n",
    "\\end{array}\n",
    "\\right] \n",
    "= \\Phi\n",
    "\\left[\n",
    "\\begin{array}{c}\n",
    "    a_{0}  \\\\\n",
    "    \\vdots  \\\\\n",
    "    a_{n}\n",
    "\\end{array}\n",
    "\\right] \n",
    "\\end{split}\n",
    "\\end{equation}\n",
    "\n",
    "$\\Phi$ is called the *interpolation matrix*, with $\\Phi_{ij} = B_j(x_i)$. It is a square matrix, since $m = n+1$. An interpolation \"scheme\" is well-defined if the interpolation nodes and basis functions are chosen such that $\\Phi$ is nonsingular. As outlined below, we should also make sure that it is not ill-conditioned. "
   ]
  },
  {
   "cell_type": "markdown",
   "metadata": {
    "slideshow": {
     "slide_type": "slide"
    }
   },
   "source": [
    "### Least Squares Regression\n",
    "\n",
    "The idea of approximating a function $f$ via regression is that instead of requiring the approximant $\\hat{f}$ to have the same function values at a given set of points, we minimize the *approximation error*, i.e. the sum of the squares of the differences between $f$ and $\\hat{f}$ at these points:\n",
    "\n",
    "\\begin{equation}\n",
    "    \\min R = \\sum_{i = 1}^m \\left[\\ \\hat{f}(x_i) - f_i \\right]^2.\n",
    "\\end{equation}\n",
    "\n",
    "Intuitively, the smaller the residual $R$, the closer the approximant $\\hat{f}(x)$ fits the data. With\n",
    "\n",
    "\\begin{equation}\n",
    "    \\hat{f}(x) = \\sum_{j = 0}^{n} a_j B_j(x), \n",
    "\\end{equation}\n",
    "\n",
    "we can write the problem as\n",
    "\n",
    "\\begin{equation}\n",
    "    \\min_{a_0, ..., a_n} \\sum_{i = 1}^m \\left[ \\sum_{j = 0}^{n} a_j B_j(x_i) - f_i \\right]^2.\n",
    "\\end{equation}\n",
    "\n",
    "Be careful not to get confused by the two sums: the outer sum is over all points, the inner sum over all basis functions evaluated at a given point!\n",
    "\n",
    "Note that in the special case that $m = n + 1$, the *least squares fit* given by the minimizing coefficients $a_0, ..., a_n$ is the same as the coefficients given by interpolation: the residual is zero, its smallest possible value. Least squares regression works also with fewer coefficients: \n",
    "\n",
    "\\begin{equation}\n",
    "    m \\ge n + 1.\n",
    "\\end{equation}\n",
    "\n",
    "In other words, we need at least as many data points as degrees of approximation. "
   ]
  },
  {
   "cell_type": "markdown",
   "metadata": {
    "slideshow": {
     "slide_type": "skip"
    }
   },
   "source": [
    "--------------------------------------------------------------------------------------------------------------------------------\n",
    "<a id = 'basis'></a>"
   ]
  },
  {
   "cell_type": "markdown",
   "metadata": {
    "slideshow": {
     "slide_type": "slide"
    }
   },
   "source": [
    "## Choice of Basis Functions: Polynomials \n",
    "\n",
    "One of the most frequently used families for basis functions are *polynomials*. Recall that a polynomial $p(x)$ of degree (order) $n$ is defined as\n",
    "\n",
    "\\begin{equation}\n",
    "    p(x) = a_0 + a_1 x + a_2 x^2 + ... + a_n x^n,\n",
    "\\end{equation}\n",
    "\n",
    "where $a_0, ..., a_n$ are constants. \n",
    "\n",
    "Approximating a function with a polynomial is an example of a \"sprectral method\", which uses basis functions that are nonzero over the entire domain of the function that is approximated (except at a *finite* number of points). \n",
    "\n",
    "\n",
    "Note that this particular way of writing a polynomial is called its *power series form*. As we will see later, there are other ways of writing a polynomial. The power functions $1, x, x^2, ...$ are also referred to as *monomials*. We can use them as a basis for polynomial interpolation, with $B_j(x) = x^j$, which is also called a *monomial basis*. The interpolation matrix defined above then reads:\n",
    "\n",
    "\\begin{equation}\n",
    "\\begin{split}\n",
    "\\Phi\n",
    "=\n",
    "\\left[\n",
    "\\begin{array}{cccc}\n",
    "    1 & x_1 & \\cdots & x_1^n \\\\\n",
    "    \\vdots & \\vdots  & \\vdots & \\vdots\\\\\n",
    "    1 & x_m & \\cdots & x^n_m \n",
    "\\end{array}\n",
    "\\right]\n",
    "\\end{split}\n",
    "\\end{equation}\n",
    "\n",
    "Recall from a previous lecture that this is also referred to as the *Vandermonde* matrix. "
   ]
  },
  {
   "cell_type": "markdown",
   "metadata": {
    "slideshow": {
     "slide_type": "slide"
    }
   },
   "source": [
    "#### Example: Polynomial Interpolation\n",
    "\n",
    "The following example will illustrate *polynomial interpolation* using monomials as basis functions. Assume we want to approximate the function $f(x) = \\exp(x)$ using a polynomial of degree 2. Hence, in the case of interpolation, we need $m = 3$ interpolation nodes."
   ]
  },
  {
   "cell_type": "code",
   "execution_count": 5,
   "metadata": {
    "slideshow": {
     "slide_type": "skip"
    }
   },
   "outputs": [],
   "source": [
    "## compare classroom notes\n",
    "#\n",
    "#\n",
    "#\n",
    "#\n",
    "#\n",
    "#\n",
    "#\n",
    "#\n",
    "#\n",
    "#\n",
    "#\n",
    "#\n",
    "#\n",
    "#\n",
    "#\n",
    "#\n"
   ]
  },
  {
   "cell_type": "markdown",
   "metadata": {
    "slideshow": {
     "slide_type": "slide"
    }
   },
   "source": [
    "We can verify this result numerically. Start by defining the function:"
   ]
  },
  {
   "cell_type": "code",
   "execution_count": 6,
   "metadata": {
    "slideshow": {
     "slide_type": "fragment"
    }
   },
   "outputs": [],
   "source": [
    "def fun(x, alpha = 1):\n",
    "    \"\"\"\n",
    "    Exponential function\n",
    "    \"\"\"\n",
    "    y = np.exp(alpha * x)\n",
    "\n",
    "    return y"
   ]
  },
  {
   "cell_type": "markdown",
   "metadata": {
    "slideshow": {
     "slide_type": "slide"
    }
   },
   "source": [
    "We can use Numpy's **linspace** function to construct the grid:"
   ]
  },
  {
   "cell_type": "code",
   "execution_count": 7,
   "metadata": {
    "slideshow": {
     "slide_type": "fragment"
    }
   },
   "outputs": [],
   "source": [
    "g_min, g_max = 0, 2\n",
    "\n",
    "x_grid = np.linspace(g_min, g_max, 3)\n",
    "y_grid = fun(x_grid) "
   ]
  },
  {
   "cell_type": "markdown",
   "metadata": {
    "slideshow": {
     "slide_type": "slide"
    }
   },
   "source": [
    "In order to interpolate the function, we can use the Numpy function **np.polynomial.polynomial.polyvander** which constructs the interpolation matrix for a monomial basis. Then, we solve a system of linear equations to obtain the interpolation coefficients:"
   ]
  },
  {
   "cell_type": "code",
   "execution_count": 8,
   "metadata": {
    "slideshow": {
     "slide_type": "fragment"
    }
   },
   "outputs": [
    {
     "name": "stdout",
     "output_type": "stream",
     "text": [
      "[[ 1.  0.  0.]\n",
      " [ 1.  1.  1.]\n",
      " [ 1.  2.  4.]]\n"
     ]
    }
   ],
   "source": [
    "A = np.polynomial.polynomial.polyvander(x_grid, 2)\n",
    "print(A)"
   ]
  },
  {
   "cell_type": "code",
   "execution_count": 9,
   "metadata": {
    "slideshow": {
     "slide_type": "fragment"
    }
   },
   "outputs": [
    {
     "name": "stdout",
     "output_type": "stream",
     "text": [
      "[ 1.          0.24203561  1.47624622]\n"
     ]
    }
   ],
   "source": [
    "print( np.linalg.solve(A, y_grid) )"
   ]
  },
  {
   "cell_type": "markdown",
   "metadata": {
    "slideshow": {
     "slide_type": "slide"
    }
   },
   "source": [
    "Unsurprisingly, there is a function in Numpy which combines these steps: **np.polynomial.polynomial.polyfit**"
   ]
  },
  {
   "cell_type": "code",
   "execution_count": 11,
   "metadata": {
    "slideshow": {
     "slide_type": "fragment"
    }
   },
   "outputs": [
    {
     "name": "stdout",
     "output_type": "stream",
     "text": [
      "[ 1.          0.24203561  1.47624622]\n"
     ]
    }
   ],
   "source": [
    "a_mono = np.polynomial.polynomial.polyfit(x_grid, y_grid, 2)\n",
    "print(a_mono)"
   ]
  },
  {
   "cell_type": "markdown",
   "metadata": {
    "slideshow": {
     "slide_type": "slide"
    }
   },
   "source": [
    "We can illustrate this approximation. "
   ]
  },
  {
   "cell_type": "code",
   "execution_count": 12,
   "metadata": {
    "slideshow": {
     "slide_type": "fragment"
    }
   },
   "outputs": [
    {
     "data": {
      "text/plain": [
       "<matplotlib.legend.Legend at 0x3d6fd74320>"
      ]
     },
     "execution_count": 12,
     "metadata": {},
     "output_type": "execute_result"
    },
    {
     "data": {
      "image/png": "[encoded data removed]",
      "text/plain": [
       "<matplotlib.figure.Figure at 0x3d770efda0>"
      ]
     },
     "metadata": {},
     "output_type": "display_data"
    }
   ],
   "source": [
    "x = np.linspace(g_min, g_max, 1001)\n",
    "y = fun(x)\n",
    "y_mono = np.polynomial.polynomial.polyval(x, a_mono)\n",
    "\n",
    "fig, ax = plt.subplots()\n",
    "ax.plot(x, y, label = 'True function')\n",
    "ax.plot(x, y_mono, label = 'Approximation')\n",
    "ax.legend()"
   ]
  },
  {
   "cell_type": "markdown",
   "metadata": {
    "slideshow": {
     "slide_type": "skip"
    }
   },
   "source": [
    "--------------------------------------------------------------------------------------------------------------------------------\n",
    "<a id = 'cheb'></a>"
   ]
  },
  {
   "cell_type": "markdown",
   "metadata": {
    "slideshow": {
     "slide_type": "slide"
    }
   },
   "source": [
    "## Chebyshev Basis Functions\n",
    "\n",
    "Recall that in the context of solving systems of linear equations, we saw that the Vandermonde matrix is ill-conditioned for higher orders of $n$. Here's the example again:"
   ]
  },
  {
   "cell_type": "code",
   "execution_count": 17,
   "metadata": {
    "slideshow": {
     "slide_type": "fragment"
    }
   },
   "outputs": [
    {
     "name": "stdout",
     "output_type": "stream",
     "text": [
      "For n = 5, x = [ 1.  1.  1.  1.  1.]\n",
      "For n = 5, the condition number is 26169.68797063433\n",
      "--------------------------------------------------------------------\n",
      "For n = 15, x = [ 0.94442222  1.25794398  0.51237487  1.43634172  0.92681916  0.73381653\n",
      "  1.34080974  0.77274174  1.0993391   0.96979552  1.00646588  0.99904084\n",
      "  1.00009405  0.99999451  1.00000014]\n",
      "For n = 15, the condition number is 1.9392318794936404e+18\n",
      "--------------------------------------------------------------------\n"
     ]
    }
   ],
   "source": [
    "for m in [5, 15]:\n",
    "    ## define matrix\n",
    "    x = np.linspace(1,5,m)\n",
    "    A = np.polynomial.polynomial.polyvander(x, m-1)\n",
    "    ## \n",
    "    b = A @ np.ones(m)\n",
    "    ## solve SLE\n",
    "    x = np.linalg.solve(A, b)\n",
    "    \n",
    "    print(\"For n = {}, x = {}\".format(m, x))\n",
    "    print(\"For n = {}, the condition number is {}\".format(m, np.linalg.cond(A)))\n",
    "    print(\"--------------------------------------------------------------------\")"
   ]
  },
  {
   "cell_type": "markdown",
   "metadata": {
    "slideshow": {
     "slide_type": "slide"
    }
   },
   "source": [
    "This implies that computing basis coefficients can be hampered by serious rounding errors, in particular for a large number of interpolation nodes and hence a high degree of approximation. \n",
    "\n",
    "Therefore, it is not recommended to use monomials as basis functions for function approximation. Instead, we usually rely on basis functions that are constructed using *orthogonal* polynomials, in particular Chebyshev polynomials."
   ]
  },
  {
   "cell_type": "markdown",
   "metadata": {
    "slideshow": {
     "slide_type": "slide"
    }
   },
   "source": [
    "#### Chebyshev Polynomials\n",
    "\n",
    "Let $n$ be the degree of approximation. Then for $j = 0, ..., n$, the **Chebyshev polynomials** $T_j(x)$ are defined as  \n",
    "\n",
    "\\begin{equation*}\n",
    "  T_j(x) = \\cos(j \\cos^{-1}(x)),\n",
    "\\end{equation*} \n",
    "\n",
    "for $x \\in [-1,1]$. Note that this definition only works for the interval $[-1,1]$ because this is the domain of the function $\\cos^{-1} = \\arccos$ (the \"arccosine\").\n",
    "\n",
    "Their first derivatives are given by:\n",
    "\n",
    "\\begin{equation*}\n",
    "  T'_j(x) = -\\sin(j \\cos^{-1}(x)) \\frac{-j}{\\sqrt{1-x^2}} = \\sin(j \\cos^{-1}(x)) \\frac{j}{\\sqrt{1-x^2}}. \n",
    "\\end{equation*} "
   ]
  },
  {
   "cell_type": "markdown",
   "metadata": {
    "slideshow": {
     "slide_type": "slide"
    }
   },
   "source": [
    "An alternative way to define the Chebyshev polynomials is the following *recurrence relationship*: \n",
    "\n",
    "\\begin{equation}\n",
    "\tT_{j+1}(x) = 2x T_j(x) - T_{j-1},\n",
    "\\end{equation}\n",
    "\n",
    "for $j \\ge 1$, with $T_0(x) = 1$ and $T_1(x) = x$. Writing down the first few Chebyshev polynomials, we can see that the polynomial $T_n(x)$ has degree $n$ and if $n$ is even (odd) then $T_n(x)$ involves only even (odd) powers of $x$. For example,\n",
    "\n",
    "\\begin{align}\n",
    "T_4(x) &= 8x^4 - 8x^2 + 1 \\\\\n",
    "T_5(x) &= 16x^5 - 20x^3 + 5x \n",
    "\\end{align}"
   ]
  },
  {
   "cell_type": "markdown",
   "metadata": {
    "slideshow": {
     "slide_type": "slide"
    }
   },
   "source": [
    "A (univariate) polynomial $p_n(x)$ that is *represented by a Chebyshev polynomial basis* rather than a power series (monomial) basis is also referred to as a **Chebyshev series**:\n",
    "\n",
    "\\begin{equation}\n",
    "    p_n(x) = \\sum_{j = 0}^n a_j T_j(x)\n",
    "\\end{equation}\n",
    "\n",
    "This is a polynomial of degree $n$. For example, for $n = 2$, we have\n",
    "\n",
    "\\begin{equation}\n",
    "    p_n(x) = a_0 T_0(x) + a_1 T_1(x) + a_2 T_2(x) = a_0 + a_1 x + a_2 (2x^2 - 1) = (a_0 - a_2) + a_1 x + (2a_2) x^2\n",
    "\\end{equation}"
   ]
  },
  {
   "cell_type": "markdown",
   "metadata": {
    "slideshow": {
     "slide_type": "slide"
    }
   },
   "source": [
    "The family of Chebyshev polynomials $\\{ T_j(x) \\}$ is (mutually) *orthogonal*, which implies that\n",
    "\n",
    "\\begin{equation}\n",
    "    \\int_{-1}^{1} w(x) T_i(x) T_j(x) = 0 \\quad \\text{for}\\ i \\neq j \n",
    "\\end{equation}\n",
    "\n",
    "with the *weighting function* $w$ given by $w(x) = (1 - x^2)^{-1/2}$. Why is this a useful property in the context of function approximation? Without going into too much technical detail, we can get some intuition by plotting the Chebyshev polynomials and comparing them to the monomials, here between 0 and 1 (see below). "
   ]
  },
  {
   "cell_type": "code",
   "execution_count": null,
   "metadata": {},
   "outputs": [],
   "source": [
    "## graphs here"
   ]
  },
  {
   "cell_type": "markdown",
   "metadata": {
    "slideshow": {
     "slide_type": "slide"
    }
   },
   "source": [
    "Note that the graphs for the Chebyshev polynomials are somewhat distinct, while the ones for the monomials are very similar to each other. Intuitively, when we can barly see a difference between two function graphically, it is likely that the computer will have difficulty discerning the difference numerically, which contributes to the Vandermonde matrix being ill-conditioned. \n",
    "\n",
    "In contrast, the family of Chebyshev polynomials provides a good \"coverage\" of functions defined on $[-1, 1]$. Hence, the shape of a polynomial is usually better characterized by the coefficients when it is written in a Chebyshev series than by the corresponding coefficients when written as a power series. "
   ]
  },
  {
   "cell_type": "markdown",
   "metadata": {
    "slideshow": {
     "slide_type": "slide"
    }
   },
   "source": [
    "We can also illustrate this by comparing the conditioning numbers for the Vandermonde and the Chebyshev interpolation matrix for a grid between -1 and 1. The latter can be computed by the Scipy function **np.polynomial.chebyshev.chebvander**. Note that this matrix is sometimes called a *Pseudo-Vandermonde* matrix.\n",
    "\n",
    "We can see that the Vandermonde matrix has a distinctly higher conditioning number than the Pseudo-Vandermonde matrix. As we will discuss in the next section, however, we can still decrease this number considerably. "
   ]
  },
  {
   "cell_type": "code",
   "execution_count": 20,
   "metadata": {
    "slideshow": {
     "slide_type": "fragment"
    }
   },
   "outputs": [
    {
     "name": "stdout",
     "output_type": "stream",
     "text": [
      "1104808.52936\n"
     ]
    }
   ],
   "source": [
    "m = 15\n",
    "x = np.linspace(-1,1,m)\n",
    "V = np.polynomial.polynomial.polyvander(x, m-1)\n",
    "print( np.linalg.cond(V) )"
   ]
  },
  {
   "cell_type": "code",
   "execution_count": 21,
   "metadata": {
    "slideshow": {
     "slide_type": "fragment"
    }
   },
   "outputs": [
    {
     "name": "stdout",
     "output_type": "stream",
     "text": [
      "225.73172355\n"
     ]
    }
   ],
   "source": [
    "x = np.linspace(-1,1,m)\n",
    "V = np.polynomial.chebyshev.chebvander(x, m-1)\n",
    "print( np.linalg.cond(V) )"
   ]
  },
  {
   "cell_type": "markdown",
   "metadata": {
    "slideshow": {
     "slide_type": "slide"
    }
   },
   "source": [
    "Finally, we can run our simple example above, this time using a Chebyshev rather than a monomial basis. In this case, for a low degree of approximation, both choices give equivalent result.  "
   ]
  },
  {
   "cell_type": "code",
   "execution_count": null,
   "metadata": {
    "slideshow": {
     "slide_type": "fragment"
    }
   },
   "outputs": [],
   "source": [
    "m = 3\n",
    "g_min, g_max = 0, 2\n",
    "\n",
    "x = np.linspace(g_min, g_max, 1001)\n",
    "y = fun(x)\n",
    "\n",
    "a_cheb = np.polynomial.chebyshev.chebfit(x_grid, y_grid, m-1)\n",
    "y_cheb = np.polynomial.chebyshev.chebval(x, a_cheb)\n",
    "\n",
    "fig, ax = plt.subplots(2, 1)\n",
    "ax[0].plot(x, y_mono, label = 'Monomial')\n",
    "ax[0].plot(x, y_cheb, label = 'Chebyshev')\n",
    "ax[0].plot(x, y, label = 'True function')\n",
    "ax[0].legend()\n",
    "ax[1].plot(x, y - y_mono)\n",
    "ax[1].plot(x, y - y_cheb)"
   ]
  },
  {
   "cell_type": "markdown",
   "metadata": {
    "slideshow": {
     "slide_type": "skip"
    }
   },
   "source": [
    "--------------------------------------------------------------------------------------------------------------------------------\n",
    "<a id = 'grid'></a>"
   ]
  },
  {
   "cell_type": "markdown",
   "metadata": {
    "slideshow": {
     "slide_type": "slide"
    }
   },
   "source": [
    "## Constructing a Grid\n",
    "\n",
    "Many approximation problems outside of Econometrics (where the data points/observations are given by the \"real world\") allow the modeler to choose the interpolation grid $x_1, x_2,..., x_m$. In the simple example above, we used three equally spaced points between 0 and 2 (i.e. 0,1,2). The two features that characterize such a grid are the number of grid points and their spacing. Both have an impact on the quality of the approximation. For the number of grid points, this is intuitive: the more data you have, the more information about the function is available. However, note that at least in the case of interpolation, the number of basis functions and coefficients increases with the number of grid points, and hence more points mean a larger system of linear equations to solve. \n",
    "\n",
    "Why the spacing of grid points matters is less obvious.  "
   ]
  },
  {
   "cell_type": "markdown",
   "metadata": {
    "slideshow": {
     "slide_type": "slide"
    }
   },
   "source": [
    "### Error in Polynomial Interpolation\n",
    "\n",
    "Let $p_n(x)$ be a polynomial of degree $n$ interpolating to the data $\\{x_i, f_i\\}_{i = 1}^{m}$, with $m = n + 1$. Define $\\omega_{n+1}(x) = (x - x_1) (x - x_2) \\cdot ... \\cdot (x - x_{n+1}) $ and suppose that $x, x_i \\in [a, b]$.\n",
    "\n",
    "It can be shown that\n",
    "\\begin{equation}\n",
    "    \\max_{x \\in [a, b]} \\left|\\ f(x) - p_n(x)\\right| \\le \\max_{x \\in [a, b]} \\left|\\ \\omega_{n+1}(x)\\right| \\frac{\\max_{z \\in [a, b]} \\left|\\ f^{(n + 1)} (z)\\right|}{(n + 1)!}  \n",
    "\\end{equation}\n",
    "\n",
    "where $f^{(n + 1)}$ is the $(n + 1)$st derivative of $f$. \n",
    "\n",
    "The left-hand side of this expression is the *interpolation error* when approximating $f$ with a polynomial. Hence, the right-hand side provides an *upper bound* on this error. Note that if $x = x_i$, we have $\\omega_{n+1}(x) = 0$ and hence the interpolation is zero, which is intuitively. The same is true when the function $f$ is a polynomial of degree $n$, since then $f^{(n + 1)} = 0$. \n"
   ]
  },
  {
   "cell_type": "markdown",
   "metadata": {
    "slideshow": {
     "slide_type": "slide"
    }
   },
   "source": [
    "We are interested in keeping the interpolation error as small as possible. Note that among the two terms on the right hand side, the term\n",
    "\n",
    "\\begin{equation}\n",
    "     \\frac{\\max_{z \\in [a, b]} \\left|\\ f^{(n + 1)} (z)\\right|}{(n + 1)!}  \n",
    "\\end{equation}\n",
    "\n",
    "is determined by the function to approximate, and hence we cannot do anything to minimize it. However, the term\n",
    "\n",
    "\\begin{equation}\n",
    "    \\max_{x \\in [a, b]} \\left|\\ \\omega_{n+1}(x)\\right|  = \\max_{x \\in [a, b]} \\left|\\ (x - x_1) (x - x_2) \\cdot ... \\cdot (x - x_{n+1})\\right| \n",
    "\\end{equation}\n",
    "\n",
    "depends on our choice of the grid points $x_1, x_2, ..., x_n$. It turns out that the so-called *Chebyshev nodes* are a good choice to keep this term small.  "
   ]
  },
  {
   "cell_type": "markdown",
   "metadata": {
    "slideshow": {
     "slide_type": "slide"
    }
   },
   "source": [
    "### Chebyshev Nodes\n",
    "\n",
    "Let $m$ be the number of grid points, indexed by $i$. The Chebyshev nodes between $-1$ and $1$ are given by\n",
    "\n",
    "\\begin{equation}\n",
    "\tz_i = \\cos\\left(- \\frac{(2i - 1)\\pi}{2m}\\right).\n",
    "\\end{equation}\n",
    "\n",
    "The following function implements this expression in Python."
   ]
  },
  {
   "cell_type": "code",
   "execution_count": 35,
   "metadata": {
    "slideshow": {
     "slide_type": "fragment"
    }
   },
   "outputs": [],
   "source": [
    "def chebnodes(m):\n",
    "    \"\"\" \n",
    "    Computes m Chebyshev nodes between -1 and 1.\n",
    "    \"\"\"\n",
    "    i = np.array(list(range(1, m+1)))\n",
    "    return -np.cos(0.5 * np.pi * (2 * i - 1) / m)"
   ]
  },
  {
   "cell_type": "markdown",
   "metadata": {
    "slideshow": {
     "slide_type": "slide"
    }
   },
   "source": [
    "It can be shown that the Chebyshev nodes are the roots of the Chebyshev polynomial $T_m(x)$. For example, let $m = 2$. Recall that $T_2(x) = 2x^2 - 1$, which has roots at $\\sqrt{0.5}$ and $-\\sqrt{0.5}$. Computing the Chebyshev notes for $ m = 2$ gives:"
   ]
  },
  {
   "cell_type": "code",
   "execution_count": 36,
   "metadata": {
    "slideshow": {
     "slide_type": "fragment"
    }
   },
   "outputs": [
    {
     "data": {
      "text/plain": [
       "array([-0.70710678,  0.70710678])"
      ]
     },
     "execution_count": 36,
     "metadata": {},
     "output_type": "execute_result"
    }
   ],
   "source": [
    "chebnodes(2)"
   ]
  },
  {
   "cell_type": "markdown",
   "metadata": {
    "slideshow": {
     "slide_type": "slide"
    }
   },
   "source": [
    "Plotting the Chebyshev nodes between -1 and 1 shows that they are not equally spaced, but more \"bunched up\" towards the end points of the interval. Note also that these end points are *not* included in the Chebyshev nodes.  "
   ]
  },
  {
   "cell_type": "code",
   "execution_count": 43,
   "metadata": {
    "slideshow": {
     "slide_type": "fragment"
    }
   },
   "outputs": [
    {
     "data": {
      "text/plain": [
       "[<matplotlib.lines.Line2D at 0x3d79a3e588>]"
      ]
     },
     "execution_count": 43,
     "metadata": {},
     "output_type": "execute_result"
    },
    {
     "data": {
      "image/png": "[encoded data removed]",
      "text/plain": [
       "<matplotlib.figure.Figure at 0x3d79a5fba8>"
      ]
     },
     "metadata": {},
     "output_type": "display_data"
    }
   ],
   "source": [
    "fig, ax = plt.subplots()\n",
    "ax.plot(chebnodes(9), np.zeros(9), '*')"
   ]
  },
  {
   "cell_type": "markdown",
   "metadata": {
    "slideshow": {
     "slide_type": "slide"
    }
   },
   "source": [
    "The following piece of code illustrates the difference between Chebyshev nodes and equally spaced gird points when evaluating the function $ \\omega_{n+1}(x)$. For five grid points, the maximum value of $\\left|\\ \\omega_{n+1}(x)\\right|$  (which is what matters for the error bound) is cut by more than half when using Chebyshev polynomials. It is easy to check that this difference is even higher when increasing the number of grid points."
   ]
  },
  {
   "cell_type": "code",
   "execution_count": 39,
   "metadata": {
    "scrolled": true,
    "slideshow": {
     "slide_type": "fragment"
    }
   },
   "outputs": [
    {
     "data": {
      "text/plain": [
       "[<matplotlib.lines.Line2D at 0x3d79c38518>]"
      ]
     },
     "execution_count": 39,
     "metadata": {},
     "output_type": "execute_result"
    },
    {
     "data": {
      "image/png": "[encoded data removed]",
      "text/plain": [
       "<matplotlib.figure.Figure at 0x3d79b4c860>"
      ]
     },
     "metadata": {},
     "output_type": "display_data"
    }
   ],
   "source": [
    "def eval_omega(x, nodes):\n",
    "    return np.prod([(x - node) for node in nodes], axis = 0)\n",
    "\n",
    "n = 5\n",
    "nodes = np.linspace(-1, 1, n+1)\n",
    "x = np.linspace(-1, 1, 100)\n",
    "\n",
    "\n",
    "fig, ax = plt.subplots()\n",
    "ax.plot(x, eval_omega(x, nodes))\n",
    "\n",
    "nodes = chebnodes(n+1)\n",
    "x = chebnodes(100)\n",
    "\n",
    "\n",
    "ax.plot(x, eval_omega(x, nodes))"
   ]
  },
  {
   "cell_type": "markdown",
   "metadata": {
    "slideshow": {
     "slide_type": "slide"
    }
   },
   "source": [
    "This result can also be formalized: for a continuously differentiable function $f$, the interpolation error when approximating it with a polynomial of order $n$ on $n + 1$ Chebyshev nodes on the interval $[a, b]$ is bounded by:\n",
    "\n",
    "\\begin{equation}\n",
    "    \\max_{x \\in [a, b]} \\left|\\ f(x) - p_n(x)\\right| \\le \\frac{6}{n} (b -a) [\\log(n) / \\pi + 1] \\max_{z \\in [a, b]} \\left|\\ f' (z)\\right| \n",
    "\\end{equation}\n",
    "\n",
    "Importantly, this error goes to zero as $n$ rises. Hence, we can achieve a desired degree of accuracy (i.e., make the interpolation error as small as possible) by increasing the degree of approximation and hence the number of Chebyshev nodes. \n",
    "\n",
    "Note that while we have stated this property in terms of interpolation, using Chebyshev nodes also puts a bound on the approximation error when using least-squares regression."
   ]
  },
  {
   "cell_type": "markdown",
   "metadata": {
    "slideshow": {
     "slide_type": "slide"
    }
   },
   "source": [
    "One could suspect that a crucial disadvantage of using Chebyshev nodes is that they are only defined between -1 and 1. However, with $\\{z_i\\}$ denoting the $m$ Chebyshev nodes on $[-1,1]$, we can easily define the corresponding Chebyshev nodes on $[a,b]$ as:\n",
    "\n",
    "\\begin{equation}\n",
    "    y_i = a + \\frac{(z_i + 1) (b-a)}{2} \\quad \\text{for}\\ i = 1,...,m\n",
    "\\end{equation}\n",
    "\n",
    "This implemented in the function **chebgrid** below. The reverse operation is executed by the function **chebconvert**, which is going to be useful below."
   ]
  },
  {
   "cell_type": "code",
   "execution_count": 4,
   "metadata": {
    "slideshow": {
     "slide_type": "fragment"
    }
   },
   "outputs": [],
   "source": [
    "def chebgrid(a, b, m):\n",
    "    \"\"\" \n",
    "    Computes num Chebyshev nodes on the interval [a,b].\n",
    "    \"\"\"\n",
    "    z = chebnodes(m)\n",
    "    return (b - a) * 0.5 * (z + 1) + a \n",
    "\n",
    "def chebconvert(x, a, b):\n",
    "    \"\"\"\n",
    "    Transforms nodes between [a,b] to the interval [-1,1].\n",
    "    \"\"\"\n",
    "    return 2. * (x - a) / (b - a) - 1\n"
   ]
  },
  {
   "cell_type": "markdown",
   "metadata": {},
   "source": [
    "Two more remarks on Chebyshev nodes:\n",
    "\n",
    "- It may not only be possible to evaluate the function $f$ at the Chebyshev nodes and hence obtain the data $f_i = f(z_i)$; if this is the case, one should still choose the grid points such that they denser close to the end points of the interpolation interval.\n",
    "\n",
    "- *Extrapolation*, i.e. approximating a function *outside* of $[a, b]$ using the coefficients found by interpolation at the Chebyshev nodes can be disastrous (even more so than when using equally spaced points). In general, extrapolation is never a good idea in the context of function approximation."
   ]
  },
  {
   "cell_type": "markdown",
   "metadata": {
    "slideshow": {
     "slide_type": "slide"
    }
   },
   "source": [
    "### Combining Chebyshev nodes and Chebyshev polynomials\n",
    "\n",
    "We can summarize the main takeaways from the last two sections:\n",
    "\n",
    "- Choose Chebyshev nodes (when possible) as the approximation grid, in order to minimize the approximation error\n",
    "\n",
    "- Use a Chebyshev basis (i.e., Chebyshev polynomials as the basis functions) in order to make the interpolation matrix well-conditioned "
   ]
  },
  {
   "cell_type": "code",
   "execution_count": null,
   "metadata": {},
   "outputs": [],
   "source": [
    "x = np.linspace(-1,1,m)\n",
    "V = np.polynomial.chebyshev.chebvander(x, m-1)\n",
    "print( np.linalg.cond(V) )"
   ]
  },
  {
   "cell_type": "code",
   "execution_count": null,
   "metadata": {},
   "outputs": [],
   "source": []
  },
  {
   "cell_type": "markdown",
   "metadata": {
    "slideshow": {
     "slide_type": "slide"
    }
   },
   "source": [
    "Boyd's Moral Principle (via J. Fernandez-Villaverde):\n",
    "1. When in doubt, use Chebyshev polynomials (unless the solution is spatially periodic, in which case an ordinary Fourier series is better).\n",
    "2. Unless you are sure that another set of basis functions is better, use Chebyshev polynomials.\n",
    "3. Unless you are really, really sure that another set of basis functions is better, use Chebyshev polynomials."
   ]
  },
  {
   "cell_type": "markdown",
   "metadata": {
    "slideshow": {
     "slide_type": "skip"
    }
   },
   "source": [
    "--------------------------------------------------------------------------------------------------------------------------------\n",
    "<a id = 'funapprox1'></a>"
   ]
  },
  {
   "cell_type": "markdown",
   "metadata": {
    "slideshow": {
     "slide_type": "slide"
    }
   },
   "source": [
    "## Univariate Function Approximation in Python"
   ]
  },
  {
   "cell_type": "markdown",
   "metadata": {},
   "source": [
    "### Chebyshev Basis Functions\n",
    "\n",
    "Let $n$ be the degree of approximation. Recall that for $j = 0, ..., n$, the Chebyshev polynomials $T_j(x)$ are defined as: \n",
    "\n",
    "\\begin{equation}\n",
    "\tT_{j+1}(x) = 2x T_j(x) - T_{j-1},\n",
    "\\end{equation}\n",
    "\n",
    "for $j \\ge 1$, with $T_0(x) = 1$ and $T_1(x) = x$. A Chebyshev series reads:\n",
    "\n",
    "\\begin{equation}\n",
    "    p_n(x) = \\sum_{j = 0}^n a_j T_j(x)\n",
    "\\end{equation}\n",
    "\n",
    "This is a polynomial of degree $n$."
   ]
  },
  {
   "cell_type": "markdown",
   "metadata": {
    "slideshow": {
     "slide_type": "slide"
    }
   },
   "source": [
    "#### \"Chebyshev Matrix\"\n",
    "\n",
    "The following Python function gives the Chebyshev polynomials evaluated either at the Chebyshev nodes or for a scalar or array **x**. Hence, with approximation degree **deg**, this results in an **m**-by-**deg** array, where **m** is either provided directly (in case of Chebyshev nodes) or is the length of the input **x**. Note that this type of matrix is also referred to as a *(Pseudo-)Vandermonde matrix*."
   ]
  },
  {
   "cell_type": "code",
   "execution_count": 5,
   "metadata": {},
   "outputs": [
    {
     "name": "stdout",
     "output_type": "stream",
     "text": [
      "[[  1.00000000e+00  -7.07106781e-01   2.22044605e-16   7.07106781e-01\n",
      "   -1.00000000e+00]\n",
      " [  1.00000000e+00   7.07106781e-01  -2.22044605e-16  -7.07106781e-01\n",
      "   -1.00000000e+00]]\n",
      "[[ 1.      0.1    -0.98   -0.296   0.9208]]\n",
      "[[ 1.      0.1    -0.98   -0.296   0.9208]\n",
      " [ 1.      0.2    -0.92   -0.568   0.6928]]\n"
     ]
    }
   ],
   "source": [
    "def chebmatrix(deg, m = None, x = None):\n",
    "    \"\"\"\n",
    "    Computes the m-by-(deg+1) matrix with Chebyshev basis functions of degree deg for m Chebyshev nodes.\n",
    "    \"\"\"\n",
    "    ## check if a second argument is provided\n",
    "    assert (m != None or np.sum(x) != None), \"Please provide the number of grid points or an input vector/scalar x!\"\n",
    "    \n",
    "    ## check if x values are provided\n",
    "    if x is None: # default: Chebyshev nodes between -1 and 1 (for interpolation/regression) \n",
    "        z = chebnodes(m)\n",
    "    elif isinstance(x, (list, tuple, np.ndarray)):    # arbitrary vector (for approximation)\n",
    "        z, m  = x, len(x) \n",
    "    else:    # arbitrary scalar (for approximation)\n",
    "        z, m = x, 1 \n",
    "\n",
    "    ## define numpy array and fill second column     \n",
    "    T = np.ones((m, deg + 1))\n",
    "    T[:,1] = z\n",
    "    \n",
    "    ## loop over columns in T; each column corresponds to the Chebyshev basis functions for deg col_idx\n",
    "    for col_idx in range(1, deg):\n",
    "        T[:,col_idx+1] = 2 * z * T[:,col_idx] - T[:,col_idx - 1]\n",
    "    return T\n",
    "\n",
    "\n",
    "\n",
    "## Examples for different ways to use chebmatrix function\n",
    "print(chebmatrix(4, 2))\n",
    "print(chebmatrix(4, x = 0.1))\n",
    "print(chebmatrix(4, x = np.array([0.1, 0.2])))\n",
    "# print(chebmatrix(4)) -> only one argument, throws an error!"
   ]
  },
  {
   "cell_type": "markdown",
   "metadata": {},
   "source": [
    "Note that we could also have used the direct definition of the Chebyshev polynomials to find this matrix, rather than the recursive formula. However, computing the Chebyshev matrix recursively is computationally more efficient, in particular for higher values of **m** and **deg**. Finally, Numpy's **polynomial.chebyshev** package has a method **chebvander** that gives the same matrix. "
   ]
  },
  {
   "cell_type": "code",
   "execution_count": 7,
   "metadata": {},
   "outputs": [
    {
     "name": "stdout",
     "output_type": "stream",
     "text": [
      "[[  1.00000000e+00  -7.07106781e-01   2.22044605e-16   7.07106781e-01\n",
      "   -1.00000000e+00]\n",
      " [  1.00000000e+00   7.07106781e-01  -2.22044605e-16  -7.07106781e-01\n",
      "   -1.00000000e+00]]\n",
      "[[ 1.      0.1    -0.98   -0.296   0.9208]\n",
      " [ 1.      0.2    -0.92   -0.568   0.6928]]\n"
     ]
    }
   ],
   "source": [
    "## Use Numpy's polynomial.chebyshev package\n",
    "print( np.polynomial.chebyshev.chebvander(chebnodes(2), 4) )\n",
    "print( np.polynomial.chebyshev.chebvander(np.array([0.1, 0.2]), 4) )"
   ]
  },
  {
   "cell_type": "markdown",
   "metadata": {},
   "source": [
    "Finally, note that if the Chebyshev polynomials are evaluated at $m$ Chebyshev nodes, the following holds: \n",
    "\\begin{equation}\n",
    "\\sum _{k=1}^{m}{T_{i}(x_{k})T_{j}(x_{k})}={\\begin{cases}0\\ \\text{if}\\ i\\neq j\\\\m\\ \\text{if}\\ i=j=0\\\\{\\frac {m}{2}}\\ \\text{if}\\ i=j\\neq 0\\end{cases}}\n",
    "\\end{equation}\n",
    "We can confirm this numerically:"
   ]
  },
  {
   "cell_type": "code",
   "execution_count": 5,
   "metadata": {},
   "outputs": [
    {
     "name": "stdout",
     "output_type": "stream",
     "text": [
      "5.55111512313e-16 -1.38777878078e-16 3.21964677141e-15\n",
      "12.0 6.0 6.0\n"
     ]
    }
   ],
   "source": [
    "m = 9\n",
    "T = chebmatrix(m-1, m)\n",
    "print(np.sum(T[:,2] * T[:,3]), np.sum(T[:,5] * T[:,7]), np.sum(T[:,0] * T[:,m-1]))\n",
    "m = 12\n",
    "T = chebmatrix(m-1, m)\n",
    "print(np.sum(T[:,0] * T[:,0]), np.sum(T[:,5] * T[:,5]), np.sum(T[:,7] * T[:,7]))"
   ]
  },
  {
   "cell_type": "markdown",
   "metadata": {},
   "source": [
    "This property comes from the orthogonality of Chebyshev polynomials. It will be useful in the next step, finding the coefficients of the approximating function using interpolation or regression."
   ]
  },
  {
   "cell_type": "markdown",
   "metadata": {},
   "source": [
    "#### Regression/interpolation\n",
    "\n",
    "The following function uses **chebmatrix** to computes the Chebyshev basis functions (by default at the Chebyshev nodes) and then solves the resulting system of linear equations using either interpolation (if the approximation degree corresponds to the length of the data vector **y**) or regression."
   ]
  },
  {
   "cell_type": "code",
   "execution_count": 9,
   "metadata": {},
   "outputs": [],
   "source": [
    "def get_coef(y, deg, v = None):\n",
    "    \"\"\"\n",
    "    Function to compute the Chebyshev coefficients using interpolation or regression\n",
    "    \"\"\"\n",
    "    m = len(y)\n",
    "    if v == None:\n",
    "        T = chebmatrix(deg, m)\n",
    "    else:\n",
    "        z = convert(v[0], v[1], v[2]) \n",
    "        T = chebmatrix(deg, x = z)\n",
    "\n",
    "    \n",
    "    if deg == m-1: # interpolation (default)\n",
    "        coef = np.linalg.solve(T,y)\n",
    "    else:\n",
    "        coef = np.ones(deg + 1)\n",
    "        for idx_deg in range(deg + 1):\n",
    "            coef[idx_deg] = sum(y * T[:,idx_deg]) / sum(T[:,idx_deg]**2)\n",
    "            \n",
    "    return coef        \n",
    "            \n"
   ]
  },
  {
   "cell_type": "markdown",
   "metadata": {
    "slideshow": {
     "slide_type": "slide"
    }
   },
   "source": [
    "Again, there is a Numpy function, **np.polynomial.chebyshev.chebfit**, that does the same (but not with the default Chebyshev nodes). We will see its use below. "
   ]
  },
  {
   "cell_type": "markdown",
   "metadata": {},
   "source": [
    "--------------------------------------------------------------------------------------------------------------------------------"
   ]
  },
  {
   "cell_type": "code",
   "execution_count": null,
   "metadata": {},
   "outputs": [],
   "source": [
    "m = 15\n",
    "g_min, g_max = 0, 2\n",
    "\n",
    "x_grid = np.linspace(g_min, g_max, m)\n",
    "y_grid = fun(x_grid) \n",
    "\n",
    "x = np.linspace(g_min, g_max, 1001)\n",
    "y = fun(x)\n",
    "\n",
    "a_cheb = np.polynomial.chebyshev.chebfit(x_grid, y_grid, m-1)\n",
    "y_cheb = np.polynomial.chebyshev.chebval(x, a_cheb)\n",
    "\n",
    "a_mono = np.polynomial.polynomial.polyfit(x_grid, y_grid, m-1)\n",
    "y_mono = np.polynomial.polynomial.polyval(x, a_mono)\n",
    "\n",
    "fig, ax = plt.subplots(2, 1)\n",
    "ax[0].plot(x, y_mono, label = 'Monomial')\n",
    "ax[0].plot(x, y_cheb, label = 'Chebyshev')\n",
    "ax[0].plot(x, y, label = 'True function')\n",
    "ax[0].legend()\n",
    "ax[1].plot(x, y - y_mono)\n",
    "ax[1].plot(x, y - y_cheb)"
   ]
  },
  {
   "cell_type": "markdown",
   "metadata": {
    "slideshow": {
     "slide_type": "slide"
    }
   },
   "source": [
    "## Example 1: Function Approximation for known functions\n",
    "\n",
    "Below I approximate the function $y = \\exp(-\\alpha x)$ between 0 and 2 (compare the Matlab example by Miranda and Fackler for a different interval)."
   ]
  },
  {
   "cell_type": "code",
   "execution_count": null,
   "metadata": {
    "slideshow": {
     "slide_type": "fragment"
    }
   },
   "outputs": [],
   "source": [
    "def fun(x, alpha = 2):\n",
    "    \"\"\"\n",
    "    Exponential function\n",
    "    \"\"\"\n",
    "    y = np.exp(-alpha * x)\n",
    "#     yd = -alpha * np.exp(-alpha * x)\n",
    "    return y"
   ]
  },
  {
   "cell_type": "code",
   "execution_count": 12,
   "metadata": {
    "slideshow": {
     "slide_type": "slide"
    }
   },
   "outputs": [
    {
     "name": "stdout",
     "output_type": "stream",
     "text": [
      "[  3.08508323e-01  -4.30538578e-01   1.86478067e-01  -5.75824453e-02\n",
      "   1.37307308e-02  -2.65952214e-03   4.33119221e-04  -6.07958356e-05\n",
      "   7.41574370e-06]\n",
      "[  3.08508323e-01  -4.30538578e-01   1.86478067e-01  -5.75824453e-02\n",
      "   1.37307308e-02  -2.65952214e-03   4.33119221e-04  -6.07958356e-05\n",
      "   7.41574370e-06]\n"
     ]
    }
   ],
   "source": [
    "## min and max for approximation grid\n",
    "g_min, g_max = 0, 2\n",
    "## number of grid points\n",
    "m = 9\n",
    "## Chebyshev grid and function values\n",
    "p_nodes = chebgrid(g_min, g_max, m)\n",
    "y = fun(p_nodes) \n",
    "\n",
    "a1 = get_coef(y, m-1)            \n",
    "a2 = np.polynomial.chebyshev.chebfit(convert(p_nodes, g_min, g_max), y, m-1)    \n",
    "\n",
    "print(a1)\n",
    "print(a2) "
   ]
  },
  {
   "cell_type": "code",
   "execution_count": 11,
   "metadata": {
    "slideshow": {
     "slide_type": "slide"
    }
   },
   "outputs": [
    {
     "data": {
      "text/plain": [
       "[<matplotlib.lines.Line2D at 0x73224cd6a0>]"
      ]
     },
     "execution_count": 11,
     "metadata": {},
     "output_type": "execute_result"
    },
    {
     "data": {
      "image/png": "[encoded data removed]",
      "text/plain": [
       "<matplotlib.figure.Figure at 0x73224cd780>"
      ]
     },
     "metadata": {},
     "output_type": "display_data"
    }
   ],
   "source": [
    "## interpolate over wide grid and plot\n",
    "x = np.linspace(g_min, g_max, 1001)\n",
    "y_approx2 = np.polynomial.chebyshev.chebval(convert(x, g_min, g_max), a2) \n",
    "y_approx1 = chebmatrix(m-1, x = convert(x, g_min, g_max)) @ a1\n",
    "\n",
    "## plot approximation errors\n",
    "fig, ax = plt.subplots()\n",
    "ax.plot(x, fun(x) - y_approx2)"
   ]
  },
  {
   "cell_type": "markdown",
   "metadata": {
    "slideshow": {
     "slide_type": "slide"
    }
   },
   "source": [
    "## Example 2: Using Functional Equation"
   ]
  },
  {
   "cell_type": "code",
   "execution_count": 37,
   "metadata": {
    "slideshow": {
     "slide_type": "fragment"
    }
   },
   "outputs": [
    {
     "data": {
      "text/plain": [
       "[<matplotlib.lines.Line2D at 0x113ca7278>]"
      ]
     },
     "execution_count": 37,
     "metadata": {},
     "output_type": "execute_result"
    },
    {
     "data": {
      "image/png": "[encoded data removed]",
      "text/plain": [
       "<matplotlib.figure.Figure at 0x113ca7630>"
      ]
     },
     "metadata": {},
     "output_type": "display_data"
    }
   ],
   "source": [
    "def residual_ee(a, k, alpha, beta, delta, nu):\n",
    "    \n",
    "    k_p = np.polynomial.chebyshev.chebval(k, a)\n",
    "    k_pp = np.polynomial.chebyshev.chebval(k_p, a)\n",
    "    return (k_p**alpha - k_pp)**(nu) - beta * (k**alpha - k_p)**nu * ( alpha * k_p**(alpha - 1) + 1 - delta)\n",
    "\n",
    "m = 10\n",
    "k = chebgrid(1, 5, m)    \n",
    "alpha, beta, delta, nu = 0.3, 0.95, 1, 1    \n",
    "## initial guess: analytical policy function from log/full depreciation\n",
    "a_init = np.polynomial.chebyshev.chebfit(k, alpha * beta * k**alpha, m-1)\n",
    "\n",
    "## collocation\n",
    "a = scipy.optimize.fsolve(residual_ee, a_init, args=( k, alpha, beta, delta, nu ))\n",
    "\n",
    "## interpolate over long grid\n",
    "k_long = np.linspace(1, 5, 100)\n",
    "k_approx = np.polynomial.chebyshev.chebval(k_long, a) \n",
    "\n",
    "\n",
    "## plot approximation errors\n",
    "fig, ax = plt.subplots()\n",
    "# ax.plot(k_long, alpha * beta * k_long**alpha)\n",
    "# ax.plot(k_long, k_approx)\n",
    "ax.plot(k_long, (alpha * beta * k_long**alpha - k_approx)/(alpha * beta * k_long**alpha))"
   ]
  },
  {
   "cell_type": "markdown",
   "metadata": {
    "collapsed": true,
    "slideshow": {
     "slide_type": "slide"
    }
   },
   "source": [
    "## Example 3: Derivatives \n",
    "\n",
    "Suppose you have a function $f$ approximated by a Chebyshev series:\n",
    "\\begin{equation}\n",
    "   f(x) \\approx p_n(x) = \\sum_{j = 0}^n a_j T_j(x)\n",
    "\\end{equation}\n",
    "Then, the derivative of $f$ can be approximated by the derivative of $p_n$, which makes use of the derivatives of the Chebyshev basis functions:\n",
    "\\begin{equation}\n",
    "   f'(x) \\approx p'_n(x) = \\sum_{j = 0}^n a_j T'_j(x)\n",
    "\\end{equation}\n",
    "As an example, consider $n = 3$ and recall the Chebyshev basis functions from above:\n",
    "\\begin{equation}\n",
    "   p_3(x) = \\sum_{j = 0}^3 a_j T_j(x) = a_0 + a_1 x + a_2 (2x^2 - 1) + a_3 (4x^3 - 3x)\n",
    "\\end{equation}\n",
    "Taking the first derivative w.r.t. $x$ gives:\n",
    "\\begin{equation}\n",
    "   \\frac{\\partial p_3(x)}{\\partial x} = a_1 + 4a_2x + 12a_3 x^2 - 3a_3 = (a_1 + 3a_3) + (4 a_2) x + (6a_3) (2x^2 - 1)\n",
    "\\end{equation}\n",
    "Using the last rearrangement, we can see that this can be expressed as a Chebyshev series with $n = 2$: \n",
    "\\begin{equation}\n",
    "   \\frac{\\partial p_3(x)}{\\partial x} = (a_1 + 3a_3) T_0(x) + (4 a_2) T_1(x) + (6a_3) T_2(x)\n",
    "\\end{equation}\n",
    "In other words, for a Chebyshev series with parameters $(a_0, a_1, a_2, a_3)$, the first derivative is a Chebyshev series with coefficients $(a_1 + 3a_3, 4 a_2, 6a_3)$. An analogous argument can be made for any Chebyshev series of degree $n$: its first derivative is a Chebyshev series of degree $n -1$. The Numpy function **chebder** takes the $n+1$ coefficients $(a_0, ..., a_n)$ as an input and computes the $n$ coefficients to be used for the approximation of the first derivative: "
   ]
  },
  {
   "cell_type": "code",
   "execution_count": 8,
   "metadata": {},
   "outputs": [
    {
     "name": "stdout",
     "output_type": "stream",
     "text": [
      "[ 14.  12.  24.]\n"
     ]
    }
   ],
   "source": [
    "import numpy as np\n",
    "print(np.polynomial.chebyshev.chebder([1,2,3,4]))"
   ]
  },
  {
   "cell_type": "code",
   "execution_count": 9,
   "metadata": {
    "scrolled": true
   },
   "outputs": [
    {
     "data": {
      "text/plain": [
       "[<matplotlib.lines.Line2D at 0x11a8f6c18>]"
      ]
     },
     "execution_count": 9,
     "metadata": {},
     "output_type": "execute_result"
    },
    {
     "data": {
      "image/png": "[encoded data removed]",
      "text/plain": [
       "<matplotlib.figure.Figure at 0x10e5d61d0>"
      ]
     },
     "metadata": {},
     "output_type": "display_data"
    }
   ],
   "source": [
    "def fun(x, alpha):\n",
    "    \"\"\"\n",
    "    Exponential function\n",
    "    \"\"\"\n",
    "    y = np.exp(-alpha * x)\n",
    "#     yd = -alpha * np.exp(-alpha * x)\n",
    "    return y\n",
    "\n",
    "def fun_d(x, alpha):\n",
    "    \"\"\"\n",
    "    Exponential function\n",
    "    \"\"\"\n",
    "    y = -alpha * np.exp(-alpha * x)\n",
    "#     yd = -alpha * np.exp(-alpha * x)\n",
    "    return y\n",
    "\n",
    "## parameters\n",
    "alpha = 2\n",
    "## min and max for approximation grid\n",
    "g_min, g_max = 0, 2\n",
    "## number of grid points\n",
    "m = 9\n",
    "## Chebyshev grid and function values\n",
    "p_nodes = chebgrid(g_min, g_max, m)\n",
    "y = fun(p_nodes, alpha) \n",
    "          \n",
    "a = np.polynomial.chebyshev.chebfit(convert(p_nodes, g_min, g_max), y, m-1)    \n",
    "\n",
    "## Coefficients to approximate derivative\n",
    "ad = np.polynomial.chebyshev.chebder(a)\n",
    "\n",
    "## interpolate over wide grid\n",
    "x = np.linspace(g_min, g_max, 1001)\n",
    "yd_approx = np.polynomial.chebyshev.chebval(convert(x, g_min, g_max), ad) \n",
    "\n",
    "\n",
    "## plot approximation errors\n",
    "fig, ax = plt.subplots()\n",
    "# ax.plot(x, fun_d(x, alpha) - yd_approx)\n",
    "ax.plot(x, fun_d(x, alpha))\n",
    "ax.plot(x, yd_approx)"
   ]
  },
  {
   "cell_type": "markdown",
   "metadata": {
    "slideshow": {
     "slide_type": "skip"
    }
   },
   "source": [
    "--------------------------------------------------------------------------------------------------------------------------------\n",
    "<a id = 'funapprox2'></a>"
   ]
  },
  {
   "cell_type": "markdown",
   "metadata": {},
   "source": [
    "## Multivariate Function Approximation in Python\n",
    "\n",
    "Recall that in general, the problem we want to solve is \n",
    "\\begin{equation}\n",
    "    y_i \\approx \\sum_{j = 0}^n a_j B_j(\\mathbf{x}_i),\\ i = 1,..., m\n",
    "\\end{equation}"
   ]
  },
  {
   "cell_type": "code",
   "execution_count": 26,
   "metadata": {},
   "outputs": [
    {
     "data": {
      "text/plain": [
       "<matplotlib.contour.QuadContourSet at 0xbe84cf19e8>"
      ]
     },
     "execution_count": 26,
     "metadata": {},
     "output_type": "execute_result"
    },
    {
     "data": {
      "image/png": "[encoded data removed]",
      "text/plain": [
       "<matplotlib.figure.Figure at 0xbe84cf13c8>"
      ]
     },
     "metadata": {},
     "output_type": "display_data"
    }
   ],
   "source": [
    "## Example\n",
    "def cd_fun(x, y, alpha = 0.33):\n",
    "    \"\"\"\n",
    "    Cobb-Douglas Function\n",
    "    \"\"\"\n",
    "    return x**alpha * y**(1 - alpha)\n",
    "\n",
    "N = 31\n",
    "## min and max for approximation grid\n",
    "g_min, g_max = 0.01, 2\n",
    "## interpolate over equidistant grid\n",
    "x = np.linspace(g_min, g_max, N)\n",
    "y = np.linspace(g_min, g_max, N)\n",
    "## use meshgrid function \n",
    "X, Y = np.meshgrid(x,y)\n",
    "Z = cd_fun(X, Y)\n",
    "\n",
    "## plot contour\n",
    "fig, ax = plt.subplots()\n",
    "ax.contour(X, Y, Z)"
   ]
  },
  {
   "cell_type": "code",
   "execution_count": 14,
   "metadata": {},
   "outputs": [
    {
     "data": {
      "text/plain": [
       "array([[ 0.01      ,  0.01955671,  0.02403956,  0.02726769,  0.02986437,\n",
       "         0.03206925,  0.03400305,  0.03573614,  0.03731357,  0.03876611,\n",
       "         0.04011584,  0.04137918,  0.04256872,  0.04369434,  0.04476399,\n",
       "         0.04578411,  0.04676007,  0.04769633,  0.0485967 ,  0.04946441,\n",
       "         0.05030228,  0.05111272,  0.05189789,  0.05265965,  0.05339968,\n",
       "         0.05411944,  0.05482029,  0.05550339,  0.05616984,  0.05682062,\n",
       "         0.0574566 ],\n",
       "       [ 0.0390318 ,  0.07633333,  0.0938307 ,  0.10643067,  0.11656601,\n",
       "         0.12517206,  0.13272   ,  0.13948456,  0.14564155,  0.1513111 ,\n",
       "         0.15657934,  0.16151038,  0.16615335,  0.17054687,  0.17472188,\n",
       "         0.17870361,  0.18251294,  0.18616734,  0.18968163,  0.19306848,\n",
       "         0.19633881,  0.19950214,  0.20256679,  0.20554008,  0.20842853,\n",
       "         0.21123791,  0.21397342,  0.21663971,  0.21924098,  0.22178106,\n",
       "         0.22426341],\n",
       "       [ 0.05934663,  0.11606246,  0.14266667,  0.16182453,  0.177235  ,\n",
       "         0.19032023,  0.20179664,  0.21208194,  0.22144346,  0.23006383,\n",
       "         0.23807403,  0.24557151,  0.252631  ,  0.25931121,  0.26565919,\n",
       "         0.27171329,  0.27750525,  0.28306166,  0.28840503,  0.29355462,\n",
       "         0.29852707,  0.30333681,  0.30799651,  0.31251731,  0.3169091 ,\n",
       "         0.32118068,  0.32533993,  0.32939394,  0.33334911,  0.33721122,\n",
       "         0.34098556],\n",
       "       [ 0.0766475 ,  0.14989726,  0.18425719,  0.209     ,  0.22890296,\n",
       "         0.24580283,  0.26062488,  0.27390857,  0.28599917,  0.29713258,\n",
       "         0.30747793,  0.31716109,  0.32627859,  0.33490623,  0.34310478,\n",
       "         0.35092379,  0.35840424,  0.36558046,  0.37248154,  0.37913236,\n",
       "         0.38555438,  0.39176627,  0.39778438,  0.40362309,  0.40929519,\n",
       "         0.41481203,  0.4201838 ,  0.42541964,  0.43052782,  0.43551583,\n",
       "         0.44039047],\n",
       "       [ 0.09219458,  0.18030223,  0.22163167,  0.25139328,  0.27533333,\n",
       "         0.29566114,  0.31348968,  0.32946781,  0.34401086,  0.35740256,\n",
       "         0.36984634,  0.38149363,  0.3924605 ,  0.40283816,  0.4126997 ,\n",
       "         0.4221047 ,  0.43110247,  0.43973431,  0.4480352 ,  0.45603506,\n",
       "         0.46375971,  0.47123162,  0.47847043,  0.48549346,  0.49231608,\n",
       "         0.49895195,  0.50541332,  0.51171119,  0.51785551,  0.52385528,\n",
       "         0.52971868],\n",
       "       [ 0.10654026,  0.20835765,  0.25611805,  0.29051063,  0.3181758 ,\n",
       "         0.34166667,  0.36226936,  0.38073373,  0.39753971,  0.41301518,\n",
       "         0.42739525,  0.44085487,  0.45352822,  0.46552066,  0.47691668,\n",
       "         0.48778512,  0.49818296,  0.50815793,  0.51775046,  0.52699511,\n",
       "         0.53592174,  0.54455629,  0.55292148,  0.56103731,  0.56892154,\n",
       "         0.57658997,  0.58405674,  0.59133458,  0.59843496,  0.60536831,\n",
       "         0.61214407],\n",
       "       [ 0.11998924,  0.23465943,  0.2884488 ,  0.32718289,  0.35834035,\n",
       "         0.38479655,  0.408     ,  0.4287952 ,  0.44772266,  0.46515166,\n",
       "         0.48134698,  0.49650566,  0.51077881,  0.52428511,  0.53711969,\n",
       "         0.5493601 ,  0.5610705 ,  0.57230464,  0.58310807,  0.59351971,\n",
       "         0.60357319,  0.61329771,  0.62271886,  0.63185919,  0.64073867,\n",
       "         0.64937512,  0.65778445,  0.66598099,  0.67397769,  0.68178625,\n",
       "         0.68941735],\n",
       "       [ 0.13273212,  0.2595803 ,  0.31908212,  0.36192978,  0.39639616,\n",
       "         0.42566202,  0.45132968,  0.47433333,  0.4952709 ,  0.51455086,\n",
       "         0.53246612,  0.54923466,  0.56502362,  0.57996429,  0.5941619 ,\n",
       "         0.60770225,  0.6206563 ,  0.63308351,  0.64503426,  0.65655163,\n",
       "         0.66767278,  0.67843005,  0.68885173,  0.69896276,  0.70878525,\n",
       "         0.71833888,  0.72764129,  0.73670831,  0.74555425,  0.75419209,\n",
       "         0.76263361],\n",
       "       [ 0.14489815,  0.28337304,  0.3483287 ,  0.39510371,  0.43272923,\n",
       "         0.46467755,  0.49269787,  0.51781   ,  0.54066667,  0.5617138 ,\n",
       "         0.58127115,  0.59957667,  0.61681282,  0.63312293,  0.64862187,\n",
       "         0.6634033 ,  0.6775447 ,  0.69111098,  0.70415711,  0.71673014,\n",
       "         0.72887064,  0.7406139 ,  0.75199082,  0.76302861,  0.77375142,\n",
       "         0.78418072,  0.79433577,  0.80423386,  0.81389061,  0.82332018,\n",
       "         0.83253543],\n",
       "       [ 0.15658005,  0.30621899,  0.37641147,  0.42695755,  0.4676165 ,\n",
       "         0.50214054,  0.5324199 ,  0.5595566 ,  0.58425601,  0.607     ,\n",
       "         0.62813409,  0.64791542,  0.66654118,  0.68416624,  0.70091472,\n",
       "         0.71688786,  0.73216935,  0.74682936,  0.7609273 ,  0.77451398,\n",
       "         0.78763327,  0.80032329,  0.81261743,  0.82454511,  0.8361324 ,\n",
       "         0.84740253,  0.85837629,  0.86907238,  0.87950767,  0.88969747,\n",
       "         0.89965567],\n",
       "       [ 0.16784723,  0.32825388,  0.40349728,  0.45768054,  0.50126523,\n",
       "         0.53827355,  0.57073175,  0.59982116,  0.62629788,  0.65067848,\n",
       "         0.67333333,  0.6945381 ,  0.71450413,  0.73339744,  0.75135112,\n",
       "         0.76847364,  0.78485477,  0.80056968,  0.81568207,  0.83024643,\n",
       "         0.84430975,  0.85791292,  0.87109172,  0.88387769,  0.89629878,\n",
       "         0.90837989,  0.9201433 ,  0.93160906,  0.94279525,  0.95371828,\n",
       "         0.96439306],\n",
       "       [ 0.17875333,  0.34958263,  0.42971507,  0.48741897,  0.53383563,\n",
       "         0.57324861,  0.60781583,  0.63879536,  0.66699245,  0.69295721,\n",
       "         0.71708409,  0.73966667,  0.76093002,  0.78105095,  0.80017119,\n",
       "         0.81840628,  0.83585179,  0.8525878 ,  0.86868214,  0.88419283,\n",
       "         0.89916994,  0.91365699,  0.92769211,  0.94130886,  0.95453703,\n",
       "         0.96740312,  0.97993088,  0.99214164,  1.00405467,  1.01568744,\n",
       "         1.02705583],\n",
       "       [ 0.18934092,  0.37028846,  0.45516715,  0.51628886,  0.56545478,\n",
       "         0.6072022 ,  0.64381684,  0.6766313 ,  0.7064985 ,  0.73400116,\n",
       "         0.75955708,  0.78347722,  0.806     ,  0.8273127 ,  0.84756544,\n",
       "         0.86688059,  0.8853594 ,  0.90308668,  0.9201343 ,  0.93656369,\n",
       "         0.9524279 ,  0.96777302,  0.98263943,  0.99706271,  1.01107438,\n",
       "         1.02470254,  1.03797231,  1.05090632,  1.06352496,  1.07584674,\n",
       "         1.08788848],\n",
       "       [ 0.19964446,  0.39043878,  0.47993639,  0.54438422,  0.59622565,\n",
       "         0.64024488,  0.67885201,  0.71345216,  0.74494467,  0.77394397,\n",
       "         0.80089059,  0.82611242,  0.84986084,  0.87233333,  0.89368818,\n",
       "         0.91405442,  0.93353881,  0.95223078,  0.97020609,  0.98752953,\n",
       "         1.00425703,  1.02043721,  1.03611262,  1.05132078,  1.06609494,\n",
       "         1.08046471,  1.0944566 ,  1.10809445,  1.12139977,  1.13439208,\n",
       "         1.1470891 ],\n",
       "       [ 0.20969237,  0.4100892 ,  0.50409114,  0.57178257,  0.62623313,\n",
       "         0.6724678 ,  0.71301799,  0.74935954,  0.78243704,  0.81289584,\n",
       "         0.84119866,  0.86768988,  0.89263354,  0.91623705,  0.93866667,\n",
       "         0.96005792,  0.98052294,  1.00015566,  1.01903565,  1.03723097,\n",
       "         1.05480035,  1.07179485,  1.08825919,  1.10423277,  1.1197505 ,\n",
       "         1.13484348,  1.14953957,  1.1638638 ,  1.17783877,  1.19148497,\n",
       "         1.20482101],\n",
       "       [ 0.21950846,  0.42928623,  0.52768857,  0.59854876,  0.65554825,\n",
       "         0.70394726,  0.74639568,  0.78443843,  0.81906436,  0.85094899,\n",
       "         0.88057672,  0.90830804,  0.93441935,  0.95912779,  0.98260738,\n",
       "         1.005     ,  1.02642302,  1.04697479,  1.06673858,  1.08578566,\n",
       "         1.10417749,  1.12196754,  1.13920261,  1.15592394,  1.17216808,\n",
       "         1.1879676 ,  1.20335163,  1.21834641,  1.23297557,  1.24726057,\n",
       "         1.2612209 ],\n",
       "       [ 0.22911287,  0.4480693 ,  0.55077716,  0.62473778,  0.68423123,\n",
       "         0.7347479 ,  0.77905362,  0.8187609 ,  0.85490186,  0.88818158,\n",
       "         0.91910564,  0.94805032,  0.97530412,  1.00109365,  1.02560057,\n",
       "         1.04897296,  1.07133333,  1.09278432,  1.11341286,  1.13329333,\n",
       "         1.15248989,  1.17105832,  1.1890475 ,  1.20650045,  1.22345535,\n",
       "         1.23994616,  1.25600331,  1.27165417,  1.28692342,  1.30183345,\n",
       "         1.3164046 ],\n",
       "       [ 0.2385229 ,  0.4664722 ,  0.57339843,  0.65039673,  0.71233367,\n",
       "         0.76492514,  0.81105056,  0.85238868,  0.890014  ,  0.92466057,\n",
       "         0.95685474,  0.98698822,  1.01536137,  1.04221012,  1.06772358,\n",
       "         1.09205591,  1.11533465,  1.13766667,  1.15914246,  1.17983944,\n",
       "         1.19982443,  1.2191555 ,  1.23788352,  1.2560533 ,  1.27370455,\n",
       "         1.29087267,  1.30758932,  1.32388298,  1.33977936,  1.35530177,\n",
       "         1.37047138],\n",
       "       [ 0.24775347,  0.48452416,  0.59558833,  0.67556637,  0.73990021,\n",
       "         0.7945269 ,  0.84243732,  0.88537519,  0.92445657,  0.96044393,\n",
       "         0.99388397,  1.02518358,  1.05465474,  1.08254251,  1.10904331,\n",
       "         1.13431728,  1.15849688,  1.18169312,  1.204     ,  1.22549794,\n",
       "         1.24625632,  1.26633549,  1.28578826,  1.30466119,  1.32299552,\n",
       "         1.34082803,  1.35819159,  1.3751158 ,  1.39162735,  1.40775046,\n",
       "         1.42350712],\n",
       "       [ 0.25681764,  0.5022507 ,  0.61737819,  0.70028227,  0.76696979,\n",
       "         0.82359503,  0.87325827,  0.91776704,  0.95827823,  0.9955822 ,\n",
       "         1.03024566,  1.06269038,  1.09323976,  1.12214782,  1.14961816,\n",
       "         1.17581678,  1.20088101,  1.2249259 ,  1.24804888,  1.27033333,\n",
       "         1.29185117,  1.31266494,  1.3328294 ,  1.3523928 ,  1.37139791,\n",
       "         1.38988282,  1.40788164,  1.42542503,  1.44254067,  1.45925364,\n",
       "         1.47558677],\n",
       "       [ 0.26572688,  0.51967423,  0.6387956 ,  0.7245757 ,  0.79357667,\n",
       "         0.85216629,  0.9035524 ,  0.94960522,  0.99152177,  1.03011985,\n",
       "         1.06598582,  1.09955608,  1.13116524,  1.16107615,  1.18949946,\n",
       "         1.21660694,  1.24254067,  1.26741969,  1.29134483,  1.31440235,\n",
       "         1.33666667,  1.35820248,  1.37906647,  1.39930854,  1.41897295,\n",
       "         1.43809912,  1.45672234,  1.47487432,  1.49258372,  1.50987648,\n",
       "         1.52677622],\n",
       "       [ 0.27449134,  0.53681462,  0.65986496,  0.74847434,  0.81975116,\n",
       "         0.88027324,  0.93335422,  0.98092599,  1.02422508,  1.06409624,\n",
       "         1.10114517,  1.13582268,  1.1684744 ,  1.19937186,  1.22873265,\n",
       "         1.25673422,  1.28352332,  1.30922292,  1.33393719,  1.35775521,\n",
       "         1.38075387,  1.403     ,  1.42455214,  1.44546186,  1.46577486,\n",
       "         1.48553187,  1.50476933,  1.52352002,  1.54181352,  1.55967665,\n",
       "         1.5771338 ],\n",
       "       [ 0.28312005,  0.55368954,  0.680608  ,  0.77200284,  0.84552027,\n",
       "         0.90794488,  0.96269447,  1.01176168,  1.05642188,  1.0975464 ,\n",
       "         1.13575997,  1.17152758,  1.20520572,  1.23707445,  1.26735821,\n",
       "         1.29624001,  1.32387123,  1.35037871,  1.37586988,  1.40043663,\n",
       "         1.42415825,  1.4471037 ,  1.46933333,  1.49090035,  1.5118519 ,\n",
       "         1.53222998,  1.55207217,  1.5714123 ,  1.59028086,  1.60870553,\n",
       "         1.62671144],\n",
       "       [ 0.29162111,  0.57031482,  0.70104418,  0.79518327,  0.87090817,\n",
       "         0.93520716,  0.99160068,  1.0421412 ,  1.08814239,  1.13050173,\n",
       "         1.16986271,  1.20670429,  1.24139367,  1.27421929,  1.30541237,\n",
       "         1.33516138,  1.36362227,  1.39092567,  1.41718224,  1.44248664,\n",
       "         1.46692054,  1.49055496,  1.51345207,  1.53566667,  1.55724731,\n",
       "         1.57823727,  1.59867525,  1.61859609,  1.63803121,  1.6570091 ,\n",
       "         1.67555566],\n",
       "       [ 0.30000182,  0.58670471,  0.72119102,  0.81803551,  0.89593661,\n",
       "         0.96208345,  1.02009763,  1.07209059,  1.11941378,  1.16299046,\n",
       "         1.20348261,  1.24138296,  1.27706925,  1.31083823,  1.34292774,\n",
       "         1.37353169,  1.4028105 ,  1.43089855,  1.45790969,  1.4839413 ,\n",
       "         1.50907739,  1.53339102,  1.55694615,  1.57979916,  1.602     ,\n",
       "         1.62359317,  1.64461851,  1.66511184,  1.68510549,  1.70462877,\n",
       "         1.72370833],\n",
       "       [ 0.30826874,  0.6028721 ,  0.74106435,  0.84057751,  0.92062528,\n",
       "         0.98859488,  1.04820771,  1.10163341,  1.15026064,  1.19503813,\n",
       "         1.2366461 ,  1.27559083,  1.3122605 ,  1.34696003,  1.37993381,\n",
       "         1.41138109,  1.44146671,  1.47032877,  1.49808424,  1.52483318,\n",
       "         1.55066192,  1.57564554,  1.59984977,  1.62333252,  1.64614514,\n",
       "         1.66833333,  1.68993805,  1.7109961 ,  1.7315407 ,  1.75160197,\n",
       "         1.7712073 ],\n",
       "       [ 0.31642788,  0.61882869,  0.76067855,  0.86282559,  0.94499203,\n",
       "         1.01476062,  1.07595125,  1.13079101,  1.18070529,  1.22666793,\n",
       "         1.26937716,  1.30935267,  1.3469929 ,  1.38261084,  1.41645735,\n",
       "         1.44873697,  1.47961889,  1.50924485,  1.53773494,  1.56519186,\n",
       "         1.59170423,  1.61734911,  1.64219396,  1.66629825,  1.68971466,\n",
       "         1.71249012,  1.73466667,  1.75628207,  1.77737044,  1.79796268,\n",
       "         1.81808691],\n",
       "       [ 0.32448467,  0.63458512,  0.78004672,  0.8847946 ,  0.96905313,\n",
       "         1.04059815,  1.1033468 ,  1.15958287,  1.21076806,  1.25790098,\n",
       "         1.30169766,  1.34269102,  1.38128963,  1.41781446,  1.45252277,\n",
       "         1.48562428,  1.5172925 ,  1.5476728 ,  1.57688829,  1.60504431,\n",
       "         1.63223173,  1.65852957,  1.68400702,  1.70872504,  1.73273767,\n",
       "         1.75609304,  1.77883423,  1.801     ,  1.82262531,  1.84374187,\n",
       "         1.8643785 ],\n",
       "       [ 0.33244411,  0.65015115,  0.79918085,  0.90649813,  0.99282348,\n",
       "         1.06612346,  1.13041131,  1.18802681,  1.24046754,  1.28875661,\n",
       "         1.33362761,  1.3756265 ,  1.41517192,  1.45259269,  1.48815237,\n",
       "         1.52206584,  1.55451087,  1.58563638,  1.61556851,  1.64441518,\n",
       "         1.6722695 ,  1.69921241,  1.7253148 ,  1.75063915,  1.77524079,\n",
       "         1.79916905,  1.82246808,  1.84517756,  1.86733333,  1.88896787,\n",
       "         1.9101107 ],\n",
       "       [ 0.34031076,  0.66553573,  0.81809193,  0.92794867,  1.01631674,\n",
       "         1.09135123,  1.15716032,  1.21613919,  1.26982083,  1.31925257,\n",
       "         1.36518534,  1.40817806,  1.44865925,  1.4869655 ,  1.52336664,\n",
       "         1.55808261,  1.59129538,  1.62315742,  1.65379784,  1.68332711,\n",
       "         1.71184054,  1.73942101,  1.76614106,  1.79206466,  1.81724845,\n",
       "         1.84174293,  1.86559329,  1.88884014,  1.91152019,  1.93366667,\n",
       "         1.9553098 ],\n",
       "       [ 0.34808884,  0.68074709,  0.83679009,  0.94915769,  1.03954549,\n",
       "         1.11629495,  1.18360816,  1.24393504,  1.29884361,  1.34940516,\n",
       "         1.39638777,  1.44036312,  1.48176953,  1.52095131,  1.55818442,\n",
       "         1.59369385,  1.62766573,  1.660256  ,  1.69159673,  1.72180092,\n",
       "         1.75096605,  1.77917689,  1.80650766,  1.83302375,  1.85878315,\n",
       "         1.88383747,  1.90823294,  1.93201112,  1.95520954,  1.97786219,\n",
       "         2.        ]])"
      ]
     },
     "execution_count": 14,
     "metadata": {},
     "output_type": "execute_result"
    }
   ],
   "source": [
    "Z"
   ]
  },
  {
   "cell_type": "markdown",
   "metadata": {},
   "source": [
    "### chebfit in the multidimensional case\n",
    "\n",
    "*Key insight*: we do not a 2- or n-dimensional Chebyshev-Vandermonde matrix in order to implement the fitting step. Such a matrix is needed to approximate a function for a given coefficient vector. In the 2-D or 3-D case, functions for this are already implemented in the **polynomial.chebyshev** package."
   ]
  },
  {
   "cell_type": "code",
   "execution_count": 27,
   "metadata": {},
   "outputs": [
    {
     "data": {
      "text/plain": [
       "[<matplotlib.lines.Line2D at 0xbe85f4da58>]"
      ]
     },
     "execution_count": 27,
     "metadata": {},
     "output_type": "execute_result"
    },
    {
     "data": {
      "image/png": "[encoded data removed]",
      "text/plain": [
       "<matplotlib.figure.Figure at 0xbe84c440b8>"
      ]
     },
     "metadata": {},
     "output_type": "display_data"
    }
   ],
   "source": [
    "## two dimensions\n",
    "def chebfit_2d(Z, deg):\n",
    "    \"\"\"\n",
    "    Computes the (deg[0]+1)-by-(deg[1]+1) coefficient matrix for interpolation with Chebyshev basis functions\n",
    "    NB: Z must be a m1-by-m2 \"meshgrid\" matrix\n",
    "    \"\"\"\n",
    "    ## get the dimensions of the grid\n",
    "    m = Z.shape\n",
    "    ## check of dimension are consistent\n",
    "    assert len(m) == len(deg), \"Inconsistent dimensions\"\n",
    "\n",
    "    ## define Chebyshev matrices    \n",
    "    A, B = chebmatrix(deg[0], m[0]), chebmatrix(deg[1], m[1])\n",
    "    \n",
    "    ## Tensor interpolation in two dimensions\n",
    "    coef = np.zeros(np.array(deg) + 1)\n",
    "    for idx_A in range(deg[0] + 1):\n",
    "        for idx_B in range(deg[1] + 1):    \n",
    "            den = (A[:, idx_A].T @ A[:, idx_A]) * (B[:, idx_B].T @ B[:, idx_B])\n",
    "            coef[idx_A, idx_B] = (A[:, idx_A].T @ Z) @ B[:, idx_B] / den\n",
    "    \n",
    "    return coef\n",
    "\n",
    "# check if it runs for different grid lenghts\n",
    "Y_c, X_c = np.meshgrid(chebgrid(g_min, g_max, 10), chebgrid(g_min, g_max, 8))\n",
    "Z_c = cd_fun(X_c, Y_c)            \n",
    "# print(Z_c.shape)\n",
    "coef = chebfit_2d(Z_c, [7,9])\n",
    "\n",
    "z_app = np.zeros(N)\n",
    "for idx in range(N):\n",
    "    z_app[idx] = np.polynomial.chebyshev.chebval2d(convert(x[idx], g_min, g_max), convert(y[5], g_min, g_max), coef)\n",
    "\n",
    "\n",
    "fig, ax = plt.subplots()\n",
    "ax.plot(x, cd_fun(x, y[5]))\n",
    "ax.plot(x, z_app)\n"
   ]
  },
  {
   "cell_type": "code",
   "execution_count": 28,
   "metadata": {},
   "outputs": [
    {
     "data": {
      "text/plain": [
       "array([[  8.43214002e-01,   6.63180827e-01,  -7.85608967e-02,\n",
       "          2.68374673e-02,  -1.24324964e-02,   6.66291362e-03,\n",
       "         -3.84930795e-03,   2.27797165e-03,  -1.29105408e-03,\n",
       "          5.86964071e-04],\n",
       "       [  3.96390045e-01,   3.11757487e-01,  -3.69310250e-02,\n",
       "          1.26161388e-02,  -5.84444492e-03,   3.13219732e-03,\n",
       "         -1.80953750e-03,   1.07086135e-03,  -6.06917088e-04,\n",
       "          2.75928429e-04],\n",
       "       [ -1.04705165e-01,  -8.23497451e-02,   9.75521240e-03,\n",
       "         -3.33251280e-03,   1.54379147e-03,  -8.27359924e-04,\n",
       "          4.77983554e-04,  -2.82864608e-04,   1.60315212e-04,\n",
       "         -7.28856138e-05],\n",
       "       [  4.71117850e-02,   3.70530286e-02,  -4.38932948e-03,\n",
       "          1.49945445e-03,  -6.94624490e-04,   3.72268195e-04,\n",
       "         -2.15067312e-04,   1.27274109e-04,  -7.21333640e-05,\n",
       "          3.27946702e-05],\n",
       "       [ -2.53340100e-02,  -1.99249889e-02,   2.36032909e-03,\n",
       "         -8.06320416e-04,   3.73529123e-04,  -2.00184437e-04,\n",
       "          1.15650838e-04,  -6.84407000e-05,   3.87891768e-05,\n",
       "         -1.76350886e-05],\n",
       "       [  1.45236010e-02,   1.14226919e-02,  -1.35314062e-03,\n",
       "          4.62251181e-04,  -2.14138542e-04,   1.14762681e-04,\n",
       "         -6.63008593e-05,   3.92360081e-05,  -2.22372427e-05,\n",
       "          1.01099270e-05],\n",
       "       [ -8.11679723e-03,  -6.38379377e-03,   7.56228985e-04,\n",
       "         -2.58338073e-04,   1.19675494e-04,  -6.41373586e-05,\n",
       "          3.70535262e-05,  -2.19278071e-05,   1.24277161e-05,\n",
       "         -5.65012954e-06],\n",
       "       [  3.66926237e-03,   2.88584446e-03,  -3.41859293e-04,\n",
       "          1.16783769e-04,  -5.41002533e-05,   2.89938001e-05,\n",
       "         -1.67503395e-05,   9.91263860e-06,  -5.61804733e-06,\n",
       "          2.55418574e-06]])"
      ]
     },
     "execution_count": 28,
     "metadata": {},
     "output_type": "execute_result"
    }
   ],
   "source": [
    "coef"
   ]
  },
  {
   "cell_type": "code",
   "execution_count": 29,
   "metadata": {},
   "outputs": [
    {
     "data": {
      "text/plain": [
       "0.88986168524684561"
      ]
     },
     "execution_count": 29,
     "metadata": {},
     "output_type": "execute_result"
    }
   ],
   "source": [
    " np.polynomial.chebyshev.chebval2d(convert(1.1, g_min, g_max), convert(0.8, g_min, g_max), coef)"
   ]
  },
  {
   "cell_type": "code",
   "execution_count": 43,
   "metadata": {},
   "outputs": [
    {
     "data": {
      "text/plain": [
       "array([[ 1.        , -0.20603015, -0.91510315,  0.58310783,  0.67482756,\n",
       "        -0.86117748, -0.31997051,  0.99302463, -0.08921552, -0.95626246,\n",
       "         0.09547739, -0.01967122, -0.08737166,  0.05567361,  0.06443077,\n",
       "        -0.08222298, -0.03054995,  0.0948114 , -0.00851806, -0.09130144,\n",
       "        -0.98176814,  0.20227384,  0.89841912, -0.57247669, -0.6625242 ,\n",
       "         0.84547661,  0.31413685, -0.97491994,  0.08758895,  0.93882801,\n",
       "        -0.2829507 ,  0.05829638,  0.25892908, -0.16499077, -0.19094293,\n",
       "         0.24367077,  0.09053588, -0.28097701,  0.02524359,  0.27057513,\n",
       "         0.92773735, -0.19114187, -0.84897538,  0.54097092,  0.62606274,\n",
       "        -0.79894652, -0.29684859,  0.92126604, -0.08276857, -0.8871604 ,\n",
       "         0.46010658, -0.09479583, -0.42104498,  0.26829175,  0.3104926 ,\n",
       "        -0.39623342, -0.14722054,  0.45689716, -0.04104865, -0.43998264,\n",
       "        -0.8398778 ,  0.17304015,  0.76857483, -0.48973933, -0.56677269,\n",
       "         0.72328385,  0.26873613, -0.83401934,  0.07493013,  0.80314361,\n",
       "        -0.62048525,  0.12783867,  0.56780801, -0.36180981, -0.41872055,\n",
       "         0.53434793,  0.19853698, -0.61615714,  0.05535691,  0.59334675]])"
      ]
     },
     "execution_count": 43,
     "metadata": {},
     "output_type": "execute_result"
    }
   ],
   "source": [
    "F = np.polynomial.chebyshev.chebvander2d(convert(1.1, g_min, g_max), convert(0.8, g_min, g_max), [7,9]) \n",
    "F"
   ]
  },
  {
   "cell_type": "code",
   "execution_count": 41,
   "metadata": {},
   "outputs": [
    {
     "data": {
      "text/plain": [
       "array([ 0.88986169])"
      ]
     },
     "execution_count": 41,
     "metadata": {},
     "output_type": "execute_result"
    }
   ],
   "source": [
    "F @ coef.flatten()"
   ]
  },
  {
   "cell_type": "code",
   "execution_count": 17,
   "metadata": {},
   "outputs": [],
   "source": [
    "## three dimensions\n",
    "def chebfit_3d(Z, deg):\n",
    "    \n",
    "    m = Z.shape\n",
    "    assert len(m) == len(deg), \"Inconsistent dimensions\"\n",
    "    \n",
    "    A, B, C = chebmatrix(deg[0], m[0]), chebmatrix(deg[1], m[1]), chebmatrix(deg[2], m[2])\n",
    "    \n",
    "    coef = np.zeros(np.array(deg) + 1)\n",
    "    for idx_A in range(deg[0] + 1):\n",
    "        for idx_B in range(deg[1] + 1):\n",
    "            for idx_C in range(deg[2] + 1):\n",
    "                den = (A[:, idx_A].T @ A[:, idx_A]) * (B[:, idx_B].T @ B[:, idx_B]) * (C[:, idx_C].T @ C[:, idx_C])\n",
    "                coef[idx_A, idx_B, idx_C] = ((B[:, idx_B].T @ Z) @ C[:, idx_C]) @ A[:, idx_A] / den\n",
    "                \n",
    "    return coef\n",
    "\n",
    "## check if it runs for different grid lenghts\n",
    "X_c, Y_c, W_c = np.meshgrid(chebgrid(g_min, g_max, 10), chebgrid(g_min, g_max, 8), chebgrid(g_min, g_max, 12))\n",
    "Z_c = cd_fun(X_c, Y_c)  # just for test purposes\n",
    "# print(Z_c.shape)\n",
    "coef = chebfit_3d(Z_c, [7,9,11])\n",
    "\n",
    "# ## example from OCIT, can be compared with AMPL implementation \n",
    "# V = np.loadtxt('ocit_scenarios/results/add_sep_baseline/vf_mickey_g_131313_iota003.txt') \n",
    "# V.shape = (13, 13, 13)\n",
    "# coef = chebfit_3d(V, [12,12,12])\n",
    "# coef[:,1,1]\n"
   ]
  },
  {
   "cell_type": "code",
   "execution_count": 25,
   "metadata": {},
   "outputs": [
    {
     "data": {
      "text/plain": [
       "array([[[  8.42931866e-01,  -7.23957931e-17,  -1.01002171e-16,\n",
       "           3.93203988e-17,  -6.43705858e-17,   4.81096644e-17,\n",
       "          -2.97909845e-16,  -1.25825276e-16,  -4.82725398e-16,\n",
       "           4.11245112e-16,  -3.23827795e-16,  -3.24740235e-16],\n",
       "        [  3.97203988e-01,  -3.51570624e-17,  -4.83532486e-17,\n",
       "           1.78098277e-17,  -2.79179185e-17,   1.52655666e-17,\n",
       "          -1.38777878e-16,  -6.33752310e-17,  -2.27638333e-16,\n",
       "           2.01170099e-16,  -1.55900938e-16,  -1.66533454e-16],\n",
       "        [ -1.05565881e-01,   1.15648232e-17,   1.30057585e-17,\n",
       "          -5.89805982e-18,   7.38612237e-18,  -3.46944695e-18,\n",
       "           3.96095194e-17,   1.65376971e-17,   6.03665019e-17,\n",
       "          -5.16369355e-17,   4.02754356e-17,   3.97251676e-17],\n",
       "        [  4.81064281e-02,  -4.27898457e-18,  -6.09383819e-18,\n",
       "           2.28405258e-18,  -3.69221435e-18,   4.62592927e-19,\n",
       "          -1.56992475e-17,  -6.56303715e-18,  -2.73512925e-17,\n",
       "           2.43656368e-17,  -1.83217936e-17,  -1.98914959e-17],\n",
       "        [ -2.65450174e-02,   2.31296463e-18,   3.44362748e-18,\n",
       "          -1.57570716e-18,   1.86027021e-18,  -1.04083409e-18,\n",
       "           9.26631457e-18,   4.48136898e-18,   1.51693379e-17,\n",
       "          -1.32417225e-17,   1.04343047e-17,   1.09432139e-17],\n",
       "        [  1.60586872e-02,  -1.48897098e-18,  -2.09762113e-18,\n",
       "           9.32413868e-19,  -1.17843001e-18,   2.45752492e-19,\n",
       "          -5.62339527e-18,  -2.22622846e-18,  -9.13455996e-18,\n",
       "           8.18934041e-18,  -6.14858064e-18,  -6.71482545e-18],\n",
       "        [ -1.01287392e-02,   9.07115818e-19,   1.26456628e-18,\n",
       "          -4.37294876e-19,   6.26853427e-19,  -5.34873072e-19,\n",
       "           3.59955121e-18,   1.69135539e-18,   5.68849804e-18,\n",
       "          -5.03069808e-18,   3.82187120e-18,   4.24284450e-18],\n",
       "        [  6.38633707e-03,  -5.83662170e-19,  -8.42417156e-19,\n",
       "           3.28874659e-19,  -5.19368639e-19,   1.15648232e-19,\n",
       "          -2.07805416e-18,  -9.83009970e-19,  -3.62534193e-18,\n",
       "           3.15593182e-18,  -2.40487624e-18,  -2.55148911e-18],\n",
       "        [ -3.77977819e-03,   3.46944695e-19,   5.11549637e-19,\n",
       "          -1.98770398e-19,   2.82689695e-19,  -2.89120579e-20,\n",
       "           1.31911264e-18,   4.55364912e-19,   2.14434319e-18,\n",
       "          -1.91180983e-18,   1.45449890e-18,   1.55221611e-18],\n",
       "        [  1.76260737e-03,  -1.82959117e-19,  -2.29774597e-19,\n",
       "           7.86046575e-20,  -1.31769785e-19,   4.33680869e-20,\n",
       "          -6.08960220e-19,  -2.99962601e-19,  -1.00079756e-18,\n",
       "           8.54260962e-19,  -6.62387251e-19,  -7.31836466e-19]],\n",
       "\n",
       "       [[  6.62698004e-01,  -5.84934905e-17,  -8.09306057e-17,\n",
       "           3.10663886e-17,  -5.58901000e-17,   3.93311490e-17,\n",
       "          -2.37992069e-16,  -1.16670261e-16,  -3.87132186e-16,\n",
       "           3.23080571e-16,  -2.56501255e-16,  -2.36373417e-16],\n",
       "        [  3.12274693e-01,  -2.53685303e-17,  -3.93511204e-17,\n",
       "           1.34771714e-17,  -2.08860816e-17,   1.36111300e-17,\n",
       "          -9.68689819e-17,  -5.58371272e-17,  -1.81107379e-16,\n",
       "           1.54386011e-16,  -1.21899984e-16,  -1.38144114e-16],\n",
       "        [ -8.29940131e-02,   9.19634340e-18,   1.04300565e-17,\n",
       "          -5.25117891e-18,   5.97938521e-18,   2.25097970e-18,\n",
       "           3.50624926e-17,   1.03262797e-17,   4.84118281e-17,\n",
       "          -4.01270072e-17,   3.14430443e-17,   3.08363047e-17],\n",
       "        [  3.78204160e-02,  -3.35812445e-18,  -4.28166368e-18,\n",
       "           6.52469057e-19,  -3.20036857e-18,  -5.14005720e-19,\n",
       "          -1.22418438e-17,  -6.71001971e-18,  -2.18447125e-17,\n",
       "           1.94034284e-17,  -1.40242945e-17,  -1.70022404e-17],\n",
       "        [ -2.08692194e-02,   1.41015143e-18,   2.64507382e-18,\n",
       "          -1.29602755e-18,   1.46915625e-18,  -7.15092686e-19,\n",
       "           6.54434606e-18,   4.30107113e-18,   1.22320190e-17,\n",
       "          -1.02045634e-17,   8.06086569e-18,   8.77336516e-18],\n",
       "        [  1.26250535e-02,  -1.25236402e-18,  -1.71442750e-18,\n",
       "           6.86747344e-19,  -9.06792734e-19,  -4.82060854e-19,\n",
       "          -4.32099049e-18,  -1.68464643e-18,  -7.14918016e-18,\n",
       "           6.52177846e-18,  -4.84543378e-18,  -5.28746184e-18],\n",
       "        [ -7.96303413e-03,   6.52826614e-19,   1.01496863e-18,\n",
       "          -2.56779189e-19,   4.17944243e-19,  -2.92024726e-19,\n",
       "           2.64273419e-18,   1.42452898e-18,   4.42974501e-18,\n",
       "          -3.87483248e-18,   3.01500717e-18,   3.39909837e-18],\n",
       "        [  5.02082433e-03,  -5.30356918e-19,  -6.94160120e-19,\n",
       "           2.14623733e-19,  -4.35628331e-19,   4.51237015e-20,\n",
       "          -1.53023048e-18,  -9.11486413e-19,  -2.91182635e-18,\n",
       "           2.42283259e-18,  -1.82014877e-18,  -1.84964430e-18],\n",
       "        [ -2.97159422e-03,   2.99305793e-19,   4.34604323e-19,\n",
       "          -2.12287377e-19,   2.25607941e-19,   1.18937923e-19,\n",
       "           1.23549330e-18,   4.13075747e-19,   1.67581999e-18,\n",
       "          -1.47993625e-18,   1.11160627e-18,   1.31417892e-18],\n",
       "        [  1.38573049e-03,  -1.35306919e-19,  -1.86039638e-19,\n",
       "           5.24604950e-20,  -9.66049912e-20,   1.60626788e-20,\n",
       "          -4.48894535e-19,  -2.09978096e-19,  -7.95067196e-19,\n",
       "           6.67692791e-19,  -5.16942359e-19,  -5.61617170e-19]],\n",
       "\n",
       "       [[ -7.83123407e-02,   6.82550130e-18,   3.79107204e-18,\n",
       "          -3.39387930e-18,   2.21282661e-18,  -8.49727916e-18,\n",
       "           1.86120658e-17,  -7.66768067e-18,   3.92535001e-17,\n",
       "          -4.40075732e-17,   2.15046025e-17,   5.04056944e-17],\n",
       "        [ -3.69021214e-02,   5.75076051e-18,   1.65089983e-18,\n",
       "          -2.80726459e-19,   3.80819502e-18,   8.54760274e-19,\n",
       "           2.95981404e-17,  -8.54760274e-19,   1.88309399e-17,\n",
       "          -2.12254984e-17,   1.76168026e-17,   2.00282790e-18],\n",
       "        [  9.80756754e-03,  -1.23029051e-18,  -7.72476986e-20,\n",
       "          -8.91423694e-19,  -3.19368468e-19,   3.34571426e-18,\n",
       "           1.37218005e-19,  -2.83871683e-18,  -4.90908698e-18,\n",
       "           3.80216457e-18,  -3.62034954e-18,  -2.77482567e-18],\n",
       "        [ -4.46931376e-03,   5.26631929e-19,   9.00087429e-19,\n",
       "          -1.45000121e-18,  -2.66923193e-20,  -3.54053298e-19,\n",
       "           1.01188260e-18,  -5.14320850e-19,   1.99838575e-18,\n",
       "          -1.76556023e-18,   2.14653596e-18,   1.10511376e-18],\n",
       "        [  2.46615715e-03,  -7.86802669e-19,  -4.66402619e-19,\n",
       "           1.75454037e-20,  -2.64271902e-19,  -8.85133245e-20,\n",
       "          -1.48430571e-18,   9.52439454e-19,  -1.12227443e-18,\n",
       "           1.41222578e-18,  -1.06103520e-18,  -1.03414584e-18],\n",
       "        [ -1.49192768e-03,   1.90775431e-19,   1.72493307e-19,\n",
       "          -1.25693232e-20,   8.14721560e-20,  -1.25542915e-18,\n",
       "           5.07513913e-19,   3.50908074e-20,   9.13661129e-19,\n",
       "          -6.99238499e-19,   4.80180264e-19,   5.33832018e-19],\n",
       "        [  9.41007576e-04,  -1.08939921e-19,  -1.57306963e-19,\n",
       "           1.35258027e-19,  -7.21818232e-20,   2.67898892e-19,\n",
       "          -6.08989714e-19,  -1.06058728e-19,  -6.26910838e-19,\n",
       "           4.95107439e-19,  -2.56453513e-19,  -3.19355644e-19],\n",
       "        [ -5.93320794e-04,  -6.99204772e-20,   2.31340131e-20,\n",
       "          -9.46351368e-20,   5.59416916e-20,  -2.13690069e-19,\n",
       "           3.40175394e-19,  -5.99037553e-20,   2.56627754e-19,\n",
       "          -3.32973857e-19,   2.85437374e-19,   3.07179474e-19],\n",
       "        [  3.51159197e-04,  -3.84465783e-20,   1.36700390e-20,\n",
       "          -1.67928249e-20,  -5.21504671e-21,   8.47167031e-20,\n",
       "           9.97740666e-20,   4.65481260e-20,  -1.88647975e-19,\n",
       "           2.15449379e-19,  -1.33371505e-19,  -1.66945366e-20],\n",
       "        [ -1.63754527e-04,   4.69574193e-20,   1.95949402e-20,\n",
       "          -1.30691963e-20,   2.13174687e-20,  -3.31924967e-20,\n",
       "           9.56825804e-20,   8.35709713e-20,   7.51567110e-20,\n",
       "          -9.63495187e-20,   5.95428168e-20,   6.66798582e-20]],\n",
       "\n",
       "       [[  2.65673797e-02,   4.25979833e-18,  -8.10512143e-18,\n",
       "          -5.14551750e-18,  -8.57620570e-18,  -2.97667336e-18,\n",
       "          -1.67066488e-17,   8.71515493e-18,  -9.54877992e-18,\n",
       "           4.74461371e-18,  -1.43246664e-17,  -5.65905865e-18],\n",
       "        [  1.25190061e-02,  -5.99213374e-19,  -2.08584332e-18,\n",
       "           1.05687592e-18,  -4.64755652e-18,   1.15389588e-17,\n",
       "          -2.54046409e-18,  -7.90442304e-18,  -8.02283765e-18,\n",
       "           1.07811664e-17,  -1.50034455e-18,  -1.01336328e-17],\n",
       "        [ -3.32720703e-03,   1.40559429e-18,   1.62538521e-18,\n",
       "          -1.19258312e-18,  -1.99447942e-19,  -1.61068018e-18,\n",
       "           3.07391667e-18,   1.70714194e-18,   1.19441151e-18,\n",
       "          -2.28040322e-18,   6.59169853e-19,   3.66347194e-18],\n",
       "        [  1.51621002e-03,   2.63372929e-19,  -1.06268923e-19,\n",
       "           5.31867620e-19,  -3.18098664e-19,   9.07408667e-19,\n",
       "          -4.25938394e-19,   1.25070443e-18,  -1.36805282e-18,\n",
       "           1.50955384e-18,  -8.25253444e-19,   4.65115609e-20],\n",
       "        [ -8.36641232e-04,  -3.44080114e-19,  -3.26554808e-19,\n",
       "          -4.50686707e-19,  -9.71643260e-20,  -8.14387625e-19,\n",
       "           1.10790838e-19,   1.28585221e-18,   3.95387705e-19,\n",
       "          -4.12720253e-19,   6.15033693e-19,   1.95179456e-20],\n",
       "        [  5.06134903e-04,   8.94451978e-20,  -4.37272110e-20,\n",
       "           5.89474802e-20,  -1.65617326e-19,  -4.08671459e-19,\n",
       "          -8.83462111e-20,  -1.32109490e-19,  -2.30957564e-19,\n",
       "           2.90795445e-19,  -4.06288227e-19,   1.25902578e-19],\n",
       "        [ -3.19235836e-04,  -7.33199087e-20,  -5.52829176e-20,\n",
       "          -5.95732642e-20,   1.44958820e-19,   8.60817290e-22,\n",
       "          -5.86883577e-21,   2.23834540e-19,   1.68885718e-19,\n",
       "          -1.79231449e-19,   2.69988224e-19,   3.51025790e-19],\n",
       "        [  2.01283459e-04,  -5.29988640e-20,  -1.82325397e-20,\n",
       "          -9.02260327e-21,  -1.80212110e-20,  -1.28501430e-19,\n",
       "          -5.32422992e-20,   6.80871479e-20,  -1.30634295e-19,\n",
       "           1.12968092e-19,  -1.47588189e-19,  -2.10735891e-19],\n",
       "        [ -1.19130390e-04,  -1.00142620e-19,   4.09477612e-20,\n",
       "           4.78013402e-20,   2.64255529e-20,  -2.34389840e-19,\n",
       "           4.45845288e-20,   8.40999515e-20,   6.23711510e-20,\n",
       "          -6.40222360e-20,   7.58515721e-20,   1.42628376e-19],\n",
       "        [  5.55535520e-05,   3.17024828e-20,  -1.62652791e-20,\n",
       "          -3.19785999e-21,   1.65233697e-21,  -2.83565208e-20,\n",
       "          -1.77929045e-20,   5.70244948e-20,  -2.68429203e-20,\n",
       "           1.44789561e-21,  -3.16988607e-20,  -6.86504029e-20]],\n",
       "\n",
       "       [[ -1.20975620e-02,   4.90653893e-18,  -5.70507204e-18,\n",
       "          -1.24298986e-17,   3.79058142e-18,   1.57009246e-17,\n",
       "           1.30841038e-17,   5.23364153e-18,   1.36697451e-17,\n",
       "          -7.19625710e-18,   1.02009230e-17,  -1.43925142e-17],\n",
       "        [ -5.70057920e-03,   1.30841038e-18,   3.88180465e-18,\n",
       "          -3.59812855e-18,  -4.13040148e-18,   2.15887713e-17,\n",
       "           2.61682076e-18,   4.57943634e-18,   5.39958532e-18,\n",
       "           2.53504512e-18,   9.60143286e-19,   1.04672831e-17],\n",
       "        [  1.51505695e-03,  -3.27102596e-19,  -1.27262443e-18,\n",
       "          -1.14485908e-18,  -1.22964963e-18,  -9.81307787e-19,\n",
       "           4.08878244e-19,   1.14485908e-18,  -1.70908880e-18,\n",
       "           1.71728863e-18,  -1.89431851e-18,   3.18925031e-18],\n",
       "        [ -6.90412260e-04,   6.54205191e-19,   7.10269789e-19,\n",
       "           1.43107386e-18,   3.25846671e-20,  -6.54205191e-19,\n",
       "           2.00350340e-18,   1.18574691e-18,   2.32533737e-19,\n",
       "           2.75992815e-19,   2.46801170e-19,   1.30841038e-18],\n",
       "        [  3.80967912e-04,  -2.45326947e-19,  -2.29173369e-19,\n",
       "          -4.29322157e-19,  -2.57423193e-20,  -1.14485908e-18,\n",
       "          -3.06658683e-19,   2.86214771e-19,  -3.45781984e-19,\n",
       "           6.13317367e-19,   3.16758037e-19,   2.65770859e-19],\n",
       "        [ -2.30470541e-04,  -6.13317367e-20,  -1.10309996e-19,\n",
       "          -1.53329342e-19,   5.00505589e-20,   3.47546508e-19,\n",
       "           2.24883034e-19,   4.49766069e-19,   1.11627581e-19,\n",
       "          -1.02219561e-20,  -1.17184289e-19,   3.98656288e-19],\n",
       "        [  1.45365307e-04,  -1.07330539e-19,  -8.07750634e-20,\n",
       "          -1.27774451e-19,  -2.28170764e-21,   6.13317367e-20,\n",
       "          -2.24883034e-19,   2.65770859e-19,   3.73921690e-20,\n",
       "           1.43107386e-19,   1.75943628e-21,   3.57768464e-19],\n",
       "        [ -9.16552234e-05,   3.32213574e-20,   4.99129350e-20,\n",
       "           3.57768464e-20,  -3.56350206e-20,   1.63551298e-19,\n",
       "           8.68866269e-20,   4.08878244e-20,   4.12598601e-20,\n",
       "          -5.49430141e-20,  -1.00505447e-19,  -1.02219561e-20],\n",
       "        [  5.42464969e-05,  -7.15536928e-20,   6.71174076e-21,\n",
       "          -1.53329342e-20,   1.30133955e-21,  -1.22663473e-19,\n",
       "           1.48218364e-19,   3.06658683e-20,  -7.92188979e-20,\n",
       "          -5.13581319e-34,  -2.54553829e-20,   6.89982038e-20],\n",
       "        [ -2.52965308e-05,   2.74715070e-20,  -1.60507579e-20,\n",
       "          -6.38872257e-21,   1.39633720e-20,  -6.13317367e-20,\n",
       "           1.78884232e-20,   8.68866269e-20,   2.49982157e-20,\n",
       "          -3.13047406e-20,   5.74573485e-21,   7.66646708e-21]],\n",
       "\n",
       "       [[  6.22077870e-03,  -1.33455092e-18,  -1.99705790e-18,\n",
       "          -2.90901301e-19,   2.03369394e-17,   2.94832862e-17,\n",
       "           3.71252841e-17,  -1.40473719e-17,   6.69169288e-18,\n",
       "           7.40347637e-19,  -4.65915300e-18,  -1.21429764e-17],\n",
       "        [  2.93133788e-03,  -4.06442194e-18,   8.18737988e-18,\n",
       "          -8.67429875e-19,   2.11927244e-18,   7.71008581e-18,\n",
       "           1.98971793e-18,   7.30732767e-18,   8.73905794e-19,\n",
       "           3.57739006e-19,  -5.00258017e-18,   6.35779554e-18],\n",
       "        [ -7.79068876e-04,  -2.73064264e-18,  -2.34961460e-18,\n",
       "          -1.51616718e-18,  -7.79375247e-19,  -2.89416195e-19,\n",
       "          -3.19530741e-18,   1.27567032e-18,  -8.36271007e-19,\n",
       "           7.77889213e-19,  -3.73852363e-19,   2.57126754e-18],\n",
       "        [  3.55022102e-04,   7.01482486e-19,   1.53087920e-20,\n",
       "           1.20679057e-18,   2.08165286e-19,  -1.80494806e-19,\n",
       "           8.95605904e-19,   5.09788308e-19,   2.47450550e-19,\n",
       "           4.39515921e-19,   2.12575166e-19,   1.67218709e-18],\n",
       "        [ -1.95900387e-04,   1.14320596e-19,   4.44969102e-19,\n",
       "          -2.02788493e-19,  -1.20645560e-19,  -7.40857887e-19,\n",
       "           4.33682380e-19,   1.70723824e-19,  -1.44670262e-19,\n",
       "           2.01279890e-19,   4.23412111e-19,   3.22072828e-19],\n",
       "        [  1.18511997e-04,  -2.26849680e-19,  -6.94682291e-20,\n",
       "           2.76827129e-19,   6.66436794e-20,  -2.73065539e-19,\n",
       "           5.61940043e-20,   1.08428734e-19,  -2.31207392e-19,\n",
       "           1.88999034e-19,  -1.78394621e-19,  -2.09479209e-19],\n",
       "        [ -7.47493924e-05,   1.80011726e-19,   5.17705674e-20,\n",
       "          -1.66962583e-19,  -6.68399801e-20,   4.92328863e-19,\n",
       "           6.91178280e-20,   2.47912195e-19,   8.39907240e-20,\n",
       "           8.57419038e-20,   2.11754586e-20,   4.63550457e-19],\n",
       "        [  4.71307246e-05,  -1.67909972e-20,  -3.61022458e-20,\n",
       "           6.26513132e-21,   4.15745313e-20,   1.92315981e-19,\n",
       "           1.11950738e-19,  -1.09745093e-19,   2.99428822e-20,\n",
       "           3.61301531e-20,  -7.64288636e-20,   4.39603072e-20],\n",
       "        [ -2.78945008e-05,   4.14411812e-20,   3.74058263e-20,\n",
       "          -6.43016125e-20,   1.79790128e-20,   1.30000767e-19,\n",
       "           1.60442216e-19,  -6.67446298e-20,   1.95297023e-21,\n",
       "          -3.02130257e-20,  -1.62583962e-20,   3.76887066e-20],\n",
       "        [  1.30079201e-05,   3.79680354e-21,  -1.73644123e-20,\n",
       "           1.21759160e-20,   1.65937316e-20,   5.64046269e-21,\n",
       "           2.92112672e-20,   9.95717597e-20,  -1.05941838e-20,\n",
       "          -1.40082386e-20,  -9.99512542e-22,   2.28000437e-20]],\n",
       "\n",
       "       [[ -3.24000682e-03,  -3.18126851e-18,   1.00907299e-17,\n",
       "           1.06111766e-17,   3.86919344e-18,   2.05142466e-17,\n",
       "           5.17715840e-17,   8.84091010e-18,   1.46187447e-18,\n",
       "          -1.22200500e-17,  -1.47315722e-18,   8.86175481e-18],\n",
       "        [ -1.52674692e-03,  -6.63068257e-18,   6.09544749e-18,\n",
       "           1.88654720e-18,   7.11074784e-19,   3.54053298e-19,\n",
       "          -3.76267204e-18,  -3.54053298e-19,  -1.99337920e-18,\n",
       "          -8.29118233e-18,  -3.98946637e-20,   4.83525429e-18],\n",
       "        [  4.05767283e-04,  -1.26066348e-18,  -1.90464706e-18,\n",
       "          -8.69946760e-19,   2.61334051e-19,   3.84426269e-19,\n",
       "          -2.44669732e-18,   3.83123475e-18,  -1.82833581e-19,\n",
       "           1.70008488e-18,  -1.30882612e-18,   3.52750504e-19],\n",
       "        [ -1.84908367e-04,   8.44021807e-19,  -9.48479728e-19,\n",
       "           2.52735553e-20,   1.97679299e-19,   8.54760274e-19,\n",
       "          -1.08298543e-18,   7.88375281e-19,   2.98981972e-19,\n",
       "           1.44918217e-19,  -2.33537417e-19,   9.58460084e-19],\n",
       "        [  1.02032016e-04,   2.37391012e-19,   6.18965617e-20,\n",
       "          -1.17909200e-19,  -1.65477254e-19,   2.13690069e-19,\n",
       "           6.36947886e-19,   2.69336595e-19,  -1.52817856e-21,\n",
       "          -9.62646228e-21,   1.05671847e-19,  -1.05424095e-18],\n",
       "        [ -6.17253398e-05,  -2.33920089e-19,   9.16666160e-20,\n",
       "           3.70323848e-19,   1.45275890e-19,  -5.20015782e-19,\n",
       "           2.10219146e-19,  -2.35818400e-19,  -6.91284228e-20,\n",
       "           1.01543255e-19,  -5.60531081e-20,   3.33553460e-20],\n",
       "        [  3.89321904e-05,   1.74639790e-20,   6.21649327e-20,\n",
       "          -1.94327779e-19,  -8.19154612e-20,   4.86497586e-19,\n",
       "           1.85866805e-19,   3.31599268e-19,  -8.90545534e-20,\n",
       "           1.26844751e-19,   3.28624334e-20,   4.31013909e-19],\n",
       "        [ -2.45473881e-05,   6.49205480e-20,  -7.17166302e-20,\n",
       "          -5.48462502e-20,   2.67571621e-20,  -8.85133245e-20,\n",
       "          -4.68598543e-20,   6.90696101e-20,   9.32928034e-20,\n",
       "           3.41957354e-20,  -7.11650821e-21,   1.27237904e-19],\n",
       "        [  1.45284662e-05,  -3.93957337e-20,   1.10917709e-20,\n",
       "          -5.38970948e-20,   1.74750116e-20,   9.76791794e-20,\n",
       "          -1.46437344e-19,  -7.46016929e-20,   1.40620252e-21,\n",
       "          -7.28730110e-22,  -5.51972028e-20,  -6.91510348e-21],\n",
       "        [ -6.77499585e-06,  -1.18437861e-20,  -1.11541152e-20,\n",
       "          -1.50166511e-21,   2.90277990e-21,   8.01337757e-20,\n",
       "           2.39859295e-20,   8.15575087e-20,   7.57570905e-21,\n",
       "          -1.05709780e-20,   2.38793251e-20,  -1.93215774e-20]],\n",
       "\n",
       "       [[  1.40704545e-03,  -8.64571783e-20,   8.20963140e-18,\n",
       "           8.84757622e-18,  -9.34758686e-18,   3.45043251e-17,\n",
       "           2.37832487e-17,   2.03192409e-17,  -1.25654955e-17,\n",
       "          -5.71366480e-18,   5.07347869e-19,  -2.39203529e-17],\n",
       "        [  6.63024005e-04,  -6.05847326e-19,   8.17341457e-20,\n",
       "           1.34673242e-18,  -1.39721170e-18,   2.70742209e-18,\n",
       "          -1.04959873e-18,  -4.34345898e-19,  -7.36569399e-19,\n",
       "          -1.50719368e-18,   2.07948277e-18,  -1.25547106e-18],\n",
       "        [ -1.76213520e-04,   6.04756811e-19,  -8.28967730e-19,\n",
       "           2.32297801e-19,   1.18527042e-18,   1.11476953e-18,\n",
       "          -1.24896659e-18,   5.94171285e-18,   1.57073005e-18,\n",
       "           5.72628518e-19,  -1.34767621e-18,  -1.30814295e-18],\n",
       "        [  8.03005951e-05,   7.20838189e-19,  -7.28256318e-19,\n",
       "          -9.17383076e-20,   4.71221910e-21,  -7.69263923e-19,\n",
       "          -1.43452140e-18,   2.75627238e-19,   1.25395942e-19,\n",
       "          -1.60325519e-19,  -5.83452268e-19,  -1.04068178e-19],\n",
       "        [ -4.43096854e-05,   5.72318609e-19,  -2.73225418e-19,\n",
       "          -1.74418179e-19,   1.50687125e-19,  -3.08996236e-19,\n",
       "           6.63340253e-19,   2.71892140e-19,   4.15277562e-19,\n",
       "           2.54050388e-20,   5.06627056e-20,  -3.51163326e-19],\n",
       "        [  2.68056097e-05,  -2.56263370e-19,   4.30132118e-20,\n",
       "           1.02066354e-19,   2.70656536e-19,  -9.58878658e-20,\n",
       "          -2.90159704e-19,  -1.68341552e-19,  -1.04204212e-20,\n",
       "           1.13626504e-19,  -1.03437029e-19,   1.14319443e-19],\n",
       "        [ -1.69071747e-05,  -1.47661406e-19,   2.39509720e-21,\n",
       "          -2.76788971e-19,  -9.29479426e-20,   3.58801313e-19,\n",
       "          -1.19891280e-19,   3.66734160e-19,   2.03845907e-20,\n",
       "          -6.96759157e-21,   1.01397618e-19,   3.98606011e-19],\n",
       "        [  1.06602524e-05,   8.71630464e-20,  -9.01943975e-20,\n",
       "           5.31135310e-20,  -3.83043436e-20,  -2.26852167e-19,\n",
       "          -1.79315174e-19,   1.58744070e-19,   2.17890540e-20,\n",
       "           3.58710452e-20,  -9.37798179e-20,   1.42464659e-19],\n",
       "        [ -6.30931146e-06,  -8.44338308e-20,   1.05104760e-20,\n",
       "          -6.48591865e-20,   3.50022157e-20,   3.08109022e-20,\n",
       "          -1.15139525e-19,  -2.20562859e-20,  -6.22752306e-21,\n",
       "          -1.84189975e-20,  -5.00707605e-20,  -2.32629313e-20],\n",
       "        [  2.94219352e-06,  -1.21749803e-20,   1.49225852e-20,\n",
       "          -6.90975208e-21,  -1.72603131e-20,   2.40394976e-20,\n",
       "           6.34662273e-20,   1.03438401e-20,  -1.33712145e-21,\n",
       "           2.20266098e-21,   2.66036325e-20,  -2.40178491e-20]]])"
      ]
     },
     "execution_count": 25,
     "metadata": {},
     "output_type": "execute_result"
    }
   ],
   "source": [
    "coef"
   ]
  },
  {
   "cell_type": "markdown",
   "metadata": {},
   "source": [
    "### Generating the Chebyshev matrix "
   ]
  },
  {
   "cell_type": "code",
   "execution_count": 34,
   "metadata": {},
   "outputs": [],
   "source": [
    "F = np.polynomial.chebyshev.chebvander2d(np.array([0.1, 0.2]), np.array([0.3, 0.4]), [4, 5]) "
   ]
  },
  {
   "cell_type": "code",
   "execution_count": 77,
   "metadata": {},
   "outputs": [
    {
     "data": {
      "text/plain": [
       "(36, 16)"
      ]
     },
     "execution_count": 77,
     "metadata": {},
     "output_type": "execute_result"
    }
   ],
   "source": [
    "deg_A = 3\n",
    "deg_B = 3\n",
    "m_A = 6\n",
    "m_B = 6\n",
    "A = chebmatrix(deg_A, m_A)\n",
    "B = chebmatrix(deg_B, m_B)\n",
    "\n",
    "C = np.tile(A.T, m_B)\n",
    "C = C.T\n",
    "\n",
    "D = np.repeat(B, m_A, axis = 0)\n",
    "\n",
    "E = np.tile(C, deg_B + 1) \n",
    "F = np.repeat(D, deg_A + 1)\n",
    "F.shape = E.shape\n",
    "G = E * F\n",
    "E.shape"
   ]
  },
  {
   "cell_type": "code",
   "execution_count": 78,
   "metadata": {},
   "outputs": [
    {
     "data": {
      "text/plain": [
       "143.99999999999994"
      ]
     },
     "execution_count": 78,
     "metadata": {},
     "output_type": "execute_result"
    }
   ],
   "source": [
    "np.sum(E)"
   ]
  },
  {
   "cell_type": "code",
   "execution_count": null,
   "metadata": {
    "collapsed": true
   },
   "outputs": [],
   "source": [
    "def chebmatrixnd(num, deg = None, z = None):\n",
    "\t\"\"\"\n",
    "\tComputes the num-by-(deg+1) matrix with Chebyshev basis functions of degree deg for num Chebyshev nodes.\n",
    "\tINPUTS:\n",
    "\t\tnum: list of length DIM containing the lengths of the approximation grids for dimensions 0,...,dim-1\n",
    "\t\tdeg (optional): degree of approximation\n",
    "\t\t\tdeg = None: matrix is the tensor product of one-dimensional basis functions -> matrix has dimension prod(num)-by-prod(num)\n",
    "\t\t\tdeg = x < prod(num): matrix is the complete product of one-dimensional basis functions\n",
    "\t\tz (optional): dictionary of n-dimensional grid vectors\n",
    "\t\t\tz = None: function defines n-dimensional grid vectors using Chebyshev nodes \n",
    "\n",
    "\t\"\"\"\n",
    "\t# number of dimensions\n",
    "\tdim = len(num)\n",
    "\n",
    "\t# check if z is given, otherwise define a dictionary of Chebyshev nodes\n",
    "\tif z is None: # default: Chebyshev nodes between -1 and 1 (for interpolation/regression) \n",
    "\t\tz = {}\n",
    "\t\tfor idx in range(dim):\n",
    "\t\t\tz[idx] = chebnodes(num[idx])\n",
    "\t\tlen_T = np.prod(num)\n",
    "\t\t# get nd-representation of vectors\n",
    "\t\tx = make_nd(z)\t\n",
    "\n",
    "\telse:\n",
    "\t\tx = z\n",
    "\t\tlen_T = x[0].size\n",
    "\n",
    "\t\t\t\n",
    "\t# define DICT T that contains one-dimensional basis function (for n-dimensional vectors)\n",
    "\tT = {}\n",
    "\tfor idx in range(dim):\n",
    "\t\tT[idx] = np.ones((len_T, num[idx]))\n",
    "\t\tT[idx][:,1] = x[idx]\n",
    "\n",
    "\t\t# loop over columns in T1; each column corresponds to the Chebyshev basis functions for deg col_idx\n",
    "\t\tfor col_idx in range(1, num[idx]-1):\n",
    "\t\t\tT[idx][:, col_idx+1] = 2 * x[idx] * T[idx][:,col_idx] - T[idx][:,col_idx - 1]\n",
    "\n",
    "\t# combine one-d basis functions to n-d basis function, stepwise (two at a time)\t\n",
    "\t# initialize with basis function for first variable\n",
    "\tTT_old = np.copy(T[0])\n",
    "\tnum_old = num[0] \n",
    "\tI_old = np.array(range(num[0]))\n",
    "\n",
    "\tfor idx in range(1,dim):\n",
    "\t\tTT = np.zeros((len_T, num_old * num[idx]))\n",
    "\t\t\n",
    "\t\tfor row_idx in range(len_T):\n",
    "\t\t\tTT[row_idx] = square_multi_2d(TT_old[row_idx], T[idx][row_idx])\n",
    "\n",
    "\t\t# if complete basis functions, throw out all elements with I < deg\n",
    "\t\tif not deg is None:\n",
    "\t\t\tI = square_sum_2d(I_old, np.array(range(num[idx])))\n",
    "\t\t\tJ = np.where(I <= deg)\n",
    "\t\t\tI_old = np.copy(I)\n",
    "\t\n",
    "\t\t\tTT = TT[:,J[0]]\n",
    "\n",
    "\t\tTT_old = np.copy(TT)\n",
    "\t\tnum_old = len(TT_old[0]) \n",
    "\n",
    "\n",
    "\treturn TT\n"
   ]
  }
 ],
 "metadata": {
  "celltoolbar": "Slideshow",
  "kernelspec": {
   "display_name": "Python 3",
   "language": "python",
   "name": "python3"
  },
  "language_info": {
   "codemirror_mode": {
    "name": "ipython",
    "version": 3
   },
   "file_extension": ".py",
   "mimetype": "text/x-python",
   "name": "python",
   "nbconvert_exporter": "python",
   "pygments_lexer": "ipython3",
   "version": "3.6.0"
  }
 },
 "nbformat": 4,
 "nbformat_minor": 1
}
