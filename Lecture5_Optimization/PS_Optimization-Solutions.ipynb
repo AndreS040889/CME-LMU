{
 "cells": [
  {
   "cell_type": "markdown",
   "metadata": {},
   "source": [
    "# Computational Methods in Economics\n",
    "\n",
    "## Problem Set 3 - Numerical Optimization "
   ]
  },
  {
   "cell_type": "code",
   "execution_count": 1,
   "metadata": {},
   "outputs": [
    {
     "name": "stdout",
     "output_type": "stream",
     "text": [
      "Last update: 2017-12-22 10:06:46.063931\n"
     ]
    }
   ],
   "source": [
    "# Author: Alex Schmitt (schmitt@ifo.de)\n",
    "\n",
    "import datetime\n",
    "print('Last update: ' + str(datetime.datetime.today()))"
   ]
  },
  {
   "cell_type": "markdown",
   "metadata": {},
   "source": [
    "### Preliminaries\n",
    "\n",
    "#### Import Modules"
   ]
  },
  {
   "cell_type": "code",
   "execution_count": 2,
   "metadata": {},
   "outputs": [],
   "source": [
    "import numpy as np\n",
    "import scipy.optimize\n",
    "\n",
    "import matplotlib.pyplot as plt\n",
    "%matplotlib inline\n",
    "import seaborn\n",
    "\n",
    "import numpy as np\n",
    "import scipy.optimize\n",
    "import scipy.linalg"
   ]
  },
  {
   "cell_type": "markdown",
   "metadata": {},
   "source": [
    "## Question 1 (N)\n",
    "\n",
    "*From Judd(1998), chapter 4, question 2*. One of the classical uses of optimization is the computation of the *Pareto frontier*. Consider the endowment economy with $m$ goods and $n$ agents. Assume that agent $i$'s utility function over the $m$ goods is \n",
    "\n",
    "\\begin{equation}\n",
    "    u^{i}(x^i) = \\sum^{m}_{j = 1} a^i_j (x^i_j)^{v^i_j + 1} (1 + v^i_j)^{-1} \n",
    "\\end{equation}\n",
    "\n",
    "Suppose that agent $i$'s endowment of good $j$ is $e^i_j$. Assume that $a^i_j, e^i_j > 0 > v^i_j$ (for $v^i_j$, we replace $(x^i_j)^{v^i_j + 1} (1 + v^i_j)^{-1}$ with $\\ln x^i_j$). "
   ]
  },
  {
   "cell_type": "markdown",
   "metadata": {},
   "source": [
    "(a) Write a program using Scipy's BFGS implementation that will read in the $v^i_j$, $a^i_j$ and $e^i_j$ and the social weights $\\lambda^i$, and output the solution to the social planner's problem. Choose $m = n = 2$ and solve the problem *analytically* for $\\lambda_1 = \\lambda_2 = 0.5$ and the following values for the remaining parameters: "
   ]
  },
  {
   "cell_type": "code",
   "execution_count": 3,
   "metadata": {},
   "outputs": [
    {
     "name": "stdout",
     "output_type": "stream",
     "text": [
      "V = [[-4 -2]\n",
      " [-3 -3]]\n",
      "A = [[1 4]\n",
      " [1 8]]\n",
      "E = [[6 4]\n",
      " [5 1]]\n"
     ]
    }
   ],
   "source": [
    "E = np.array([[6, 4], [5, 1]])\n",
    "V = np.array([[-4, -2], [-3, -3]])\n",
    "A = np.array([[1, 4], [1, 8]])\n",
    "\n",
    "print(\"V = {}\".format(V) )\n",
    "print(\"A = {}\".format(A) )\n",
    "print(\"E = {}\".format(E) )"
   ]
  },
  {
   "cell_type": "markdown",
   "metadata": {},
   "source": [
    "The way to read these matrices is that a good corresponds to a row and an agent to a column. For example, agent 1's endowment of good 2, $e^1_2$, would be the element in the second row and first column of matrix **E**, and hence $e^1_2 = 5$.\n",
    "\n",
    "With these parameter values, confirm your analytical result equals the numerical output of your program. "
   ]
  },
  {
   "cell_type": "markdown",
   "metadata": {},
   "source": [
    "(b) Test your program for higher numbers of goods and agents. You can create the parameter matrices above using Numpy's **np.random.uniform** function. Can your program handle $m = n = 5$? $m = n = 10$?      \n"
   ]
  },
  {
   "cell_type": "markdown",
   "metadata": {},
   "source": [
    "**Hint**: A slightly tricky issue when answering this question using *unconstrained* numerical optimization methods is how to deal with the constraint that aggregate consumption of good $j$ must equal aggregate endowments, i.e.\n",
    "\n",
    "\\begin{equation}\n",
    "    \\sum^{n}_{i = 1} x_j^i = \\sum^{n}_{i = 1} e_j^i\n",
    "\\end{equation}\n",
    "\n",
    "One way to address this is to have the algorithm solve for the optimal consumption for $n - 1$ agents and evaluate the consumption and hence the utility of the last agent *as the residual*. formally, for good $j$,\n",
    "\n",
    "\\begin{equation}\n",
    "    x_j^n = \\sum^{n}_{i = 1} e_j^i - \\sum^{n-1}_{i = 1} x_j^i\n",
    "\\end{equation}"
   ]
  },
  {
   "cell_type": "markdown",
   "metadata": {},
   "source": [
    "### Answers\n",
    "\n",
    "For the analytical solution to the 2-by-2 case, compare the notes in class. \n",
    "\n",
    "For the numerical implementation, start by addressing the issue of the endowment constraints discussed above. The function **consum(x, E)** takes a vector **x** (the consumption levels for the first $n-1$ agents) and the endowment matrix **E** and returns a consumption matrix **X**, in which the last column (the consumption of agent $n$) is computed as the residual.\n",
    "\n",
    "As a side note, why do we define **consum** in a way that it takes a vector (i.e. a one-dimensional array) rather than a two-dimensional matrix as an input? Note that **scipy.optimize.minimize** returns a vector (even if we use a matrix as an initial, as seen below!) and hence we need to write **consum** in a way that it accommodates this. "
   ]
  },
  {
   "cell_type": "code",
   "execution_count": 4,
   "metadata": {},
   "outputs": [],
   "source": [
    "def consum(x, E):\n",
    "    \"\"\"\n",
    "    Computes an m-by-n consumption matrix from solution vector x and endowments E;\n",
    "    Agent n's consumption is computed as the residual comsumption \n",
    "    \"\"\"\n",
    "    ## get dimension of the endowment matrix\n",
    "    m, n = E.shape \n",
    "    ## check that x and E have consistent dimensions\n",
    "    assert len(x) == m * (n-1), \"The length is not consistent with the dimensions of E!\"\n",
    "    \n",
    "    ## reshape x into matrix X \n",
    "    X = x.copy()\n",
    "    X.shape = m, n - 1\n",
    "    \n",
    "    ## compute residual consumption\n",
    "    x_res = E.sum(axis = 1) - X.sum(axis = 1)\n",
    "    \n",
    "    ## combine X with x_res and return\n",
    "    return np.column_stack( (X, x_res) )\n"
   ]
  },
  {
   "cell_type": "markdown",
   "metadata": {},
   "source": [
    "Using **consum**, it is straightforward to implement the objective function $U = \\sum^n_{i = 1} \\lambda^i u^{i}(x^i)$:"
   ]
  },
  {
   "cell_type": "code",
   "execution_count": 5,
   "metadata": {},
   "outputs": [],
   "source": [
    "def objective(x, V, A, E, lam):\n",
    "    \"\"\"\n",
    "    Computes the objective function for the m-by-n social planner problem\n",
    "    \"\"\"\n",
    "    ## get dimension of the problem \n",
    "    m, n = V.shape ## number of agents, number of good\n",
    "\n",
    "    ## check if the parameter matrices have the correct dimensions \n",
    "    assert A.shape == (m, n), \"The dimensions of A and V must coincide!\"\n",
    "    assert E.shape == (m, n), \"The dimensions of E and V must coincide!\"\n",
    "    assert len(lam) == n, \"The length of lam is not consistent with the dimensions of V!\"\n",
    "    \n",
    "    ## compute matrices of consumption using x and endowment matrix E\n",
    "    X = consum(x, E)\n",
    "    \n",
    "    ## loop over agents and evaluate their utility\n",
    "    u = np.zeros(n)\n",
    "    for ind in range(n):\n",
    "        v, a = V[:, ind], A[:, ind]\n",
    "        Q = a / (1 + v)\n",
    "        u[ind] = Q @ X[:,ind]**(1 + v)\n",
    "\n",
    "    ## compute welfare given weights lam (NB: we could use summation instead of vector multiplication )\n",
    "    return - lam @ u\n"
   ]
  },
  {
   "cell_type": "markdown",
   "metadata": {},
   "source": [
    "We solve the problem using the BFGS algorithm for 2-by-2 case. As an initial guess, use the agents' endowment."
   ]
  },
  {
   "cell_type": "code",
   "execution_count": 6,
   "metadata": {},
   "outputs": [
    {
     "name": "stdout",
     "output_type": "stream",
     "text": [
      "Optimization terminated successfully.\n",
      "         Current function value: 0.458333\n",
      "         Iterations: 16\n",
      "         Function evaluations: 72\n",
      "         Gradient evaluations: 18\n",
      "Consumption matrix: \n",
      "[[ 1.99999254  8.00000746]\n",
      " [ 2.00000424  3.99999576]]\n"
     ]
    }
   ],
   "source": [
    "E = np.array([[6, 4], [5, 1]])\n",
    "V = np.array([[-4, -2], [-3, -3]])\n",
    "A = np.array([[1, 4], [1, 8]])\n",
    "\n",
    "x0 =  E[:, :-1]\n",
    "lam = np.array([0.5, 0.5])\n",
    "objective(x0, V, A, E, lam)\n",
    "res = scipy.optimize.minimize(objective, x0, method = 'BFGS', args = (V, A, E, lam), options = {'disp': True})\n",
    "x = res.x\n",
    "\n",
    "print(\"Consumption matrix: \")\n",
    "print( consum(x, E) )"
   ]
  },
  {
   "cell_type": "markdown",
   "metadata": {},
   "source": [
    "### m = 3, n = 2\n",
    "\n",
    "We can check that the algorithm works in a setting with more goods than agents:"
   ]
  },
  {
   "cell_type": "code",
   "execution_count": 7,
   "metadata": {},
   "outputs": [
    {
     "name": "stdout",
     "output_type": "stream",
     "text": [
      "Optimization terminated successfully.\n",
      "         Current function value: 1.329515\n",
      "         Iterations: 8\n",
      "         Function evaluations: 45\n",
      "         Gradient evaluations: 9\n",
      "Consumption matrix: \n",
      "[[ 1.69723441  1.30276559]\n",
      " [ 1.47265462  2.52734538]\n",
      " [ 1.34772323  3.65227677]]\n"
     ]
    }
   ],
   "source": [
    "E = np.array([[2, 1], [2, 2], [2, 3]])\n",
    "V = np.array([[-2, -4], [-3, -2], [-5, -2]])\n",
    "A = np.array([[1, 1], [1, 2], [1, 3]])\n",
    "\n",
    "x0 =  E[:, :-1]\n",
    "lam = np.array([0.5, 0.5])\n",
    "res = scipy.optimize.minimize(objective, x0, method = 'BFGS', args = (V, A, E, lam), options = {'disp': True})\n",
    "x = res.x\n",
    "\n",
    "print(\"Consumption matrix: \")\n",
    "print( consum(x, E) )"
   ]
  },
  {
   "cell_type": "markdown",
   "metadata": {},
   "source": [
    "### m = 5, n = 5"
   ]
  },
  {
   "cell_type": "code",
   "execution_count": 12,
   "metadata": {},
   "outputs": [],
   "source": [
    "m, n = 5, 5\n",
    "E = np.random.uniform(0.01, 5, (m, n))\n",
    "V = np.random.uniform(-5, -1.001, (m, n))\n",
    "A = np.random.uniform(1, 3, (m, n))"
   ]
  },
  {
   "cell_type": "code",
   "execution_count": 13,
   "metadata": {},
   "outputs": [
    {
     "name": "stdout",
     "output_type": "stream",
     "text": [
      "Optimization terminated successfully.\n",
      "         Current function value: 3.698716\n",
      "         Iterations: 107\n",
      "         Function evaluations: 2420\n",
      "         Gradient evaluations: 110\n",
      "Consumption matrix: \n",
      "[[ 3.70270958  3.33976585  3.88274306  3.14770283  3.54214685]\n",
      " [ 2.34565267  2.76808966  4.37935899  1.69298758  3.13704377]\n",
      " [ 1.78522301  2.0089305   1.56764613  2.7177349   2.53509534]\n",
      " [ 1.81892515  7.07260702  3.39646574  2.24920332  1.52595427]\n",
      " [ 3.06973191  2.78861986  4.89620603  3.28187768  4.70086454]]\n"
     ]
    }
   ],
   "source": [
    "x0 = E[:, :-1]\n",
    "lam = np.ones(n) * (1/n)\n",
    "res = scipy.optimize.minimize(objective, x0, method = 'BFGS', args = (V, A, E, lam), options = {'disp': True})\n",
    "x = res.x\n",
    "\n",
    "print(\"Consumption matrix: \")\n",
    "print( consum(x, E) )"
   ]
  },
  {
   "cell_type": "markdown",
   "metadata": {},
   "source": [
    "## Question 2 (N)\n",
    "\n",
    "Consider the neoclassical growth model from the lecture. In this question, we extend it so that the production function contains *energy* $m_t$ as a third production factor in addition to capital and labor. Hence, output is given by\n",
    "\n",
    "\\begin{equation}\n",
    "    y_t = f(k_t, h_{y,t}, m_t) = A k_t^\\alpha m_t^\\gamma h_{y,t}^{1-\\alpha-\\gamma}\n",
    "\\end{equation}\n",
    "\n",
    "Energy is itself produced by using a part of the labor supply:\n",
    "\n",
    "\\begin{equation}\n",
    "    m_t = \\rho h_{m,t}\n",
    "\\end{equation}\n",
    "\n",
    "which implies that one unit of labor supply creates $\\rho$ units of energy.\n",
    "\n",
    "Solve the planner problem numerically for $T = 30$. Note that lifetime utility is still given by \n",
    "\n",
    "\\begin{equation}\n",
    "    u(c_t, h_t) = \\frac{c^{1-\\nu}}{1-\\nu} - B \\frac{h_t^{1+\\eta}}{1+\\eta}\n",
    "\\end{equation}\n",
    "\n",
    "with $h_t = h_{y,t} + h_{m,t}$. You can use the parameter values from the lecture, and $\\gamma = 0.05$ and $\\rho = 0.9$. \n",
    "\n",
    "In addition, compute the steady state using a root finding algorithm and verify that the planner's sequences for $k_t$, $h_{y,t}$ and $h_{m,t}$ converge to their steady state values."
   ]
  },
  {
   "cell_type": "markdown",
   "metadata": {},
   "source": [
    "### Answer"
   ]
  },
  {
   "cell_type": "markdown",
   "metadata": {},
   "source": [
    "#### Parameters"
   ]
  },
  {
   "cell_type": "code",
   "execution_count": 14,
   "metadata": {},
   "outputs": [],
   "source": [
    "## utility\n",
    "beta = 0.9      # discount factor\n",
    "nu = 2       # risk-aversion coefficient for consumption\n",
    "eta = 1         # elasticity parameter for labor supply\n",
    "\n",
    "## production\n",
    "alpha = 0.25\n",
    "gamma = 0.05\n",
    "rho = 0.9\n",
    "delta = 0.1\n",
    "## derived\n",
    "A = (1 - beta * (1 - delta))/(alpha*beta) # normalization parameter for production function => steady state k = 1\n",
    "B = (1 - alpha) * A * (A - delta)**nu      # parameter for utility function\n",
    "## initial capital stock\n",
    "k0 = 0.8"
   ]
  },
  {
   "cell_type": "markdown",
   "metadata": {},
   "source": [
    "#### Functions"
   ]
  },
  {
   "cell_type": "code",
   "execution_count": 15,
   "metadata": {},
   "outputs": [],
   "source": [
    "def cd(k, m, hy):\n",
    "    \"\"\"\n",
    "    Evaluates the Cobb-Douglas function with coefficient alpha and shift parameter A, for two inputs (x)\n",
    "    \"\"\"\n",
    "    return A * k**alpha * m**gamma * hy**(1 - alpha - gamma)\n",
    "\n",
    "def u(c, h):\n",
    "    \"\"\"\n",
    "    Utility function\n",
    "    \"\"\"\n",
    "    return c**(1 - nu)/(1 - nu) - B * h**(1 + eta)/(1 + eta)\n",
    "\n",
    "def objective(x):\n",
    "    \"\"\"\n",
    "    Objective function: lifetime utility\n",
    "    \"\"\"\n",
    "    kp = np.exp( x[:int(len(x)/3)] )\n",
    "    hy = np.exp( x[int(len(x)/3): 2 * int(len(x)/3)] )\n",
    "    hm = np.exp( x[2 * int(len(x)/3):] )\n",
    "\n",
    "    k = np.insert(kp[:T-1], 0, k0)\n",
    "    \n",
    "    return - ( beta**(np.array(range(T))) @ u( cd(k, rho * hm, hy) + (1 - delta) * k - kp, hy + hm)\n",
    "              + (beta**T/(1 - beta)) *  u( cd(kp[-1], rho * hm[-1], hy[-1]) - delta * kp[-1] , hy[-1] + hm[-1]) )"
   ]
  },
  {
   "cell_type": "markdown",
   "metadata": {},
   "source": [
    "#### Solving the steady state"
   ]
  },
  {
   "cell_type": "code",
   "execution_count": 16,
   "metadata": {},
   "outputs": [],
   "source": [
    "def cobb_douglas(x, alpha, gamma, A):\n",
    "    \"\"\"\n",
    "    Evaluates the Cobb-Douglas function with coefficient alpha and shift parameter A, for two inputs (x)\n",
    "    \"\"\"\n",
    "    return A * x[0]**alpha * (rho * x[2])**(gamma) * x[1]**(1 - alpha - gamma)"
   ]
  },
  {
   "cell_type": "code",
   "execution_count": 17,
   "metadata": {},
   "outputs": [],
   "source": [
    "def cd_diff(x, alpha, gamma, A):\n",
    "    \"\"\"\n",
    "    Returns the first derivative of the cobb douglas wrt k, hy and hm\n",
    "    \"\"\"\n",
    "    return (alpha * cobb_douglas(x, alpha, gamma, A) / x[0], \n",
    "            (1 - alpha - gamma) * cobb_douglas(x, alpha, gamma, A) / x[1],\n",
    "            gamma * cobb_douglas(x, alpha, gamma, A) / x[2])\n",
    "    "
   ]
  },
  {
   "cell_type": "code",
   "execution_count": 18,
   "metadata": {},
   "outputs": [],
   "source": [
    "def steady(x):\n",
    "    \"\"\"\n",
    "    Returns the vector-valued function consisting of the steady-state conditions \n",
    "    \"\"\"\n",
    "    y = np.zeros(3)\n",
    "    X = np.exp(x)\n",
    "    mp = cd_diff(X, alpha, gamma, A)\n",
    "    \n",
    "    y[0] = beta * (mp[0] + 1 - delta) - 1\n",
    "    y[1] = (cobb_douglas(X, alpha, gamma, A) - delta * X[0])**(-nu) * mp[1] - B * (X[2] + X[1])**eta\n",
    "    y[2] = mp[1] - mp[2]\n",
    "    \n",
    "    return y"
   ]
  },
  {
   "cell_type": "code",
   "execution_count": 21,
   "metadata": {},
   "outputs": [
    {
     "name": "stdout",
     "output_type": "stream",
     "text": [
      "     fun: array([  9.70518538e-07,  -7.92234419e-07,  -3.29659095e-07])\n",
      " message: 'A solution was found at the specified tolerance.'\n",
      "     nit: 14\n",
      "  status: 1\n",
      " success: True\n",
      "       x: array([ 0.22551378,  0.40848182, -2.23057618])\n",
      "Steady state: (K_ss, hy_ss, hm_ss) = [ 1.2529663   1.50453191  0.10746649]\n"
     ]
    },
    {
     "name": "stderr",
     "output_type": "stream",
     "text": [
      "C:\\Users\\schmitt\\Anaconda3\\lib\\site-packages\\scipy\\optimize\\nonlin.py:997: RuntimeWarning: invalid value encountered in true_divide\n",
      "  d = v / vdot(df, v)\n"
     ]
    }
   ],
   "source": [
    "x0 = np.log([1.2, 1.4, 0.2])\n",
    "res_ss = scipy.optimize.root(steady, x0, method = 'broyden1')\n",
    "print(res_ss)\n",
    "\n",
    "kss = np.exp(res_ss.x)[0]\n",
    "hyss = np.exp(res_ss.x)[1]\n",
    "hmss = np.exp(res_ss.x)[2]\n",
    "\n",
    "print( \"Steady state: (K_ss, hy_ss, hm_ss) = {}\".format(np.exp(res_ss.x) ) )"
   ]
  },
  {
   "cell_type": "markdown",
   "metadata": {},
   "source": [
    "#### Solving the model numerically"
   ]
  },
  {
   "cell_type": "code",
   "execution_count": 22,
   "metadata": {},
   "outputs": [
    {
     "name": "stdout",
     "output_type": "stream",
     "text": [
      "Optimization terminated successfully.\n",
      "True\n"
     ]
    }
   ],
   "source": [
    "T = 30\n",
    "\n",
    "## set initial guess    \n",
    "x0 = np.concatenate([np.log( 1.2 ) * np.ones(T), np.log( 1.5 ) * np.ones(T), np.log( 0.09 ) * np.ones(T)])\n",
    "\n",
    "## solve model\n",
    "res = scipy.optimize.minimize(objective, x0, method = 'BFGS', tol = 1e-6)\n",
    "print(res.message)\n",
    "print(res.success)\n",
    "x = res.x\n",
    "kp = np.exp( x[:int(len(x)/3)] )\n",
    "hy = np.exp( x[int(len(x)/3): 2 * int(len(x)/3)] )\n",
    "hm = np.exp( x[2 * int(len(x)/3):] )"
   ]
  },
  {
   "cell_type": "code",
   "execution_count": 23,
   "metadata": {},
   "outputs": [
    {
     "data": {
      "text/plain": [
       "<matplotlib.collections.LineCollection at 0x1d801f1b00>"
      ]
     },
     "execution_count": 23,
     "metadata": {},
     "output_type": "execute_result"
    },
    {
     "data": {
      "image/png": "[encoded data removed]",
      "text/plain": [
       "<matplotlib.figure.Figure at 0x1d8006c978>"
      ]
     },
     "metadata": {},
     "output_type": "display_data"
    }
   ],
   "source": [
    "fig, ax = plt.subplots(3,1)\n",
    "ax[0].plot(kp)\n",
    "ax[1].plot(hy)\n",
    "ax[2].plot(hm)\n",
    "ax[0].hlines(kss, 0, T)\n",
    "ax[1].hlines(hyss, 0, T)\n",
    "ax[2].hlines(hmss, 0, T)"
   ]
  },
  {
   "cell_type": "markdown",
   "metadata": {},
   "source": [
    "## Question 3 (N)\n",
    "\n",
    "In this question, we are going to apply the gradient descent minimization algorithm on a least-squares regression problem. Recall that when using least squares, we minimize the sum of squared residuals. For example, for $m$ observations and four regressors (including a constant), we solve\n",
    "\n",
    "\\begin{equation}\n",
    "    \\min_{b_0, b_1, b_2, b_3} L = \\sum_{i = 1}^m \\left[y_i - ( b_0 + b_1 x_{i1} + b_2 x_{i2} + b_3 x_{i3} )\\right]^2\n",
    "\\end{equation}\n",
    "\n",
    "with the predicted values given by\n",
    "\n",
    "\\begin{equation}\n",
    "    \\hat{y}_i = b_0 + b_1 x_{i1} + b_2 x_{i2} + b_3 x_{i3} . \n",
    "\\end{equation}\n",
    "\n",
    "We refer to $L$ as the *loss function*. Its gradient is given by:\n",
    "\n",
    "\\begin{equation}\n",
    "    \\frac{\\partial L}{\\partial b_j} = -2 \\sum_{i = 1}^m \\left[y_i - \\hat{y}_i\\right] x_{ij} = 2\\mathbf{X}_j' \\cdot (\\hat{\\mathbf{y} } - \\mathbf{y})\n",
    "\\end{equation}\n",
    "\n",
    "for $j=0,1,2,3$. $\\mathbf{X}_j$ denotes the $j$th column in the regression matrix. Hence,\n",
    "\n",
    "\\begin{equation}\n",
    "    \\nabla L = \\left[ \n",
    "        \\begin{array}{c}\n",
    "        \\frac{\\partial L}{\\partial b_0} \\\\\n",
    "        \\vdots \\\\\n",
    "        \\frac{\\partial L}{\\partial b_3}\n",
    "        \\end{array}\n",
    "    \\right] =  2 \\mathbf{X}' \\cdot(\\hat{\\mathbf{y} } - \\mathbf{y}) \n",
    "\\end{equation}\n",
    "\n",
    "with the predicted values given by $\\hat{\\mathbf{y}} = \\mathbf{X} \\mathbf{b}$.\n",
    "\n",
    "Recall that gradient descent uses the familiar update rule\n",
    "\n",
    "\\begin{equation}\n",
    "    \\mathbf{b}^{(k+1)} = \\mathbf{b}^{(k)} + \\alpha^{(k)} \\mathbf{p}^{(k)} = \\mathbf{b}^{(k)} - \\alpha^{(k)} \\nabla  L(\\mathbf{b}^{(k)} )\n",
    "\\end{equation}\n",
    "\n",
    "In other words, the search direction used by gradient descent is the gradient of the objective function (here the loss function) at the current guess for $\\mathbf{b}^{(k)}$."
   ]
  },
  {
   "cell_type": "markdown",
   "metadata": {},
   "source": [
    "As an application, consider the Bundesliga data set used in the *Introduction to Python* section of this class. Let's assume we would like to regress a player's market value on his age, his number of goals and assists. Running the following cell (i) reads in the relevant columns of the data set; (ii) creates a matrix **X** with the explanatory variables (in logs) and a constant; and (iii) creates an array **y** containing the dependent variables (in logs)."
   ]
  },
  {
   "cell_type": "code",
   "execution_count": 24,
   "metadata": {},
   "outputs": [
    {
     "name": "stdout",
     "output_type": "stream",
     "text": [
      "(2, 'value')\n",
      "(4, 'age')\n",
      "(5, 'goals')\n",
      "(6, 'assists')\n",
      "(291, 4)\n",
      "(291, 1)\n",
      "[[ 1.          3.36729583  3.4339872   1.60943791]\n",
      " [ 1.          3.33220451  3.40119738  1.09861229]\n",
      " [ 1.          3.33220451  1.79175947  2.56494936]\n",
      " [ 1.          3.33220451  1.79175947  1.60943791]\n",
      " [ 1.          3.29583687  1.60943791  1.38629436]\n",
      " [ 1.          3.04452244  1.94591015  2.48490665]\n",
      " [ 1.          3.29583687  1.09861229  1.09861229]\n",
      " [ 1.          3.36729583  2.39789527  1.09861229]\n",
      " [ 1.          3.04452244  1.09861229  0.69314718]\n",
      " [ 1.          3.04452244  1.09861229  0.69314718]]\n"
     ]
    }
   ],
   "source": [
    "cols=(2,4,5,6)\n",
    "D = np.loadtxt('BundesligaData.txt', delimiter=';',usecols=(cols), skiprows=1)\n",
    "D[:10, :]\n",
    "\n",
    "description = ['name', 'position', 'value', 'valuemax', 'age', 'goals','assists', 'yellow', 'red', 'shotspergame','passsuccess','aerialswon', 'rating', 'positioncode']\n",
    "for i in cols:\n",
    "    print((i,description[i]))\n",
    "    \n",
    "X = np.column_stack((np.ones( D.shape[0] ), np.log( D[:,1:] + 1 )))\n",
    "## dependent variable\n",
    "y = np.log( D[:,0] )\n",
    "y.shape=(D.shape[0], 1)\n",
    "# Before regressing the values, we should check whether X and y have the right shape\n",
    "print(X.shape)\n",
    "print(y.shape)\n",
    "\n",
    "print(X[:10, :])   "
   ]
  },
  {
   "cell_type": "markdown",
   "metadata": {},
   "source": [
    "(As a side note: in practice, it would be much more convenient to work with the dataset as a *Pandas dataframe*. Since using Pandas is not required for this course, we use a standard Numpy array instead)."
   ]
  },
  {
   "cell_type": "markdown",
   "metadata": {},
   "source": [
    "(a) For comparison, use the standard formula for the OLS estimator to compute $\\mathbf{b}$.\n",
    "\n",
    "(b) Implement the gradient descent algorithm outlined above to find $\\mathbf{b}$. Assume that the step size $\\alpha$ is constant. You may have to play around with $\\alpha$ to find a value that gives you convergence. *Hint*: Recall that in the context of gradient descent, convergence may be slow. When implementing the algorithm above with a **while** loop, you should (as we always do) include a condition that the loop stops after a certain number of iterations, **maxit**. Make sure to set **maxit** sufficiently high in order to get convergence.   "
   ]
  },
  {
   "cell_type": "markdown",
   "metadata": {},
   "source": [
    "#### Answers\n",
    "\n",
    "#### (a)"
   ]
  },
  {
   "cell_type": "code",
   "execution_count": 25,
   "metadata": {},
   "outputs": [
    {
     "name": "stdout",
     "output_type": "stream",
     "text": [
      "[[ 5.69323692]\n",
      " [-1.35906677]\n",
      " [ 0.16772997]\n",
      " [ 0.31647362]]\n"
     ]
    }
   ],
   "source": [
    "## run OLS\n",
    "b = np.linalg.inv((X.T @ X)) @ X.T @ y\n",
    "print(b)"
   ]
  },
  {
   "cell_type": "markdown",
   "metadata": {},
   "source": [
    "#### (b)"
   ]
  },
  {
   "cell_type": "code",
   "execution_count": 26,
   "metadata": {},
   "outputs": [
    {
     "name": "stdout",
     "output_type": "stream",
     "text": [
      "[[ 5.69327902]\n",
      " [-1.35907967]\n",
      " [ 0.16773014]\n",
      " [ 0.31647362]] 9.99972209669e-09 52532\n"
     ]
    }
   ],
   "source": [
    "## initial guess for coefficients\n",
    "b0 = np.array([[13, -0.3, 0.9, 0.6]]).T\n",
    "## set learning rate\n",
    "alpha = 5e-4\n",
    "## parameters for loop\n",
    "it, it_max = 0, 60000\n",
    "dist = 1\n",
    "tol = 1e-8\n",
    "\n",
    "## initialize coeffcient vector as column vector\n",
    "# a = 0.8 * beta\n",
    "b = b0\n",
    "while dist > tol and it <= it_max:\n",
    "    it += 1\n",
    "\n",
    "    ## use gradient descent to get new guess \n",
    "    b_new = b - (alpha) *  X.T @ ( X @ b - y )\n",
    "    \n",
    "    ## find difference between old and new coefficients\n",
    "    dist = np.linalg.norm(b - b_new)\n",
    "    ## update current guess\n",
    "    b = b_new    \n",
    "\n",
    "print(b_new, dist, it)\n"
   ]
  }
 ],
 "metadata": {
  "kernelspec": {
   "display_name": "Python 3",
   "language": "python",
   "name": "python3"
  },
  "language_info": {
   "codemirror_mode": {
    "name": "ipython",
    "version": 3
   },
   "file_extension": ".py",
   "mimetype": "text/x-python",
   "name": "python",
   "nbconvert_exporter": "python",
   "pygments_lexer": "ipython3",
   "version": "3.6.0"
  }
 },
 "nbformat": 4,
 "nbformat_minor": 1
}
