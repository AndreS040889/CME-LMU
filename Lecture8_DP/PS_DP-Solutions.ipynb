{
 "cells": [
  {
   "cell_type": "markdown",
   "metadata": {},
   "source": [
    "# Computational Methods in Economics\n",
    "\n",
    "## Problem Set 6 - Dynamic Programming"
   ]
  },
  {
   "cell_type": "code",
   "execution_count": 1,
   "metadata": {},
   "outputs": [
    {
     "name": "stdout",
     "output_type": "stream",
     "text": [
      "Last update: 2018-01-31 19:16:18.227769\n"
     ]
    }
   ],
   "source": [
    "# Author: Alex Schmitt (schmitt@ifo.de)\n",
    "\n",
    "import datetime\n",
    "print('Last update: ' + str(datetime.datetime.today()))"
   ]
  },
  {
   "cell_type": "markdown",
   "metadata": {},
   "source": [
    "### Preliminaries\n",
    "\n",
    "#### Import Modules"
   ]
  },
  {
   "cell_type": "code",
   "execution_count": 2,
   "metadata": {},
   "outputs": [],
   "source": [
    "import numpy as np\n",
    "import scipy.optimize\n",
    "\n",
    "import matplotlib.pyplot as plt\n",
    "%matplotlib inline\n",
    "import seaborn\n",
    "\n",
    "import numpy as np\n",
    "import scipy.optimize\n",
    "import scipy.linalg\n",
    "\n",
    "import funapprox_cme as fa"
   ]
  },
  {
   "cell_type": "markdown",
   "metadata": {},
   "source": [
    "## Question 1 (A)\n",
    "\n",
    "Consider the following version of the NGM:\n",
    "\n",
    "\\begin{equation}\n",
    "    \\max_{\\left\\{C_t, K_{t+1}, h_{t} \\right\\}_{t = 0}^\\infty} \\sum^\\infty_{t = 0} \\beta^t \\left[\\log(C_t) - B \\frac{h_t^{1+\\eta}}{1+\\eta}\\right]\n",
    "\\end{equation}\n",
    "\n",
    "s.t.\n",
    "\n",
    "\\begin{equation}\n",
    "    C_t + K_{t + 1} =  A_t K_t^\\alpha h_{t}^{1-\\alpha} + (1 - \\delta) K_t\n",
    "\\end{equation}\n",
    "\n",
    "Compared to the standard model that we have seen so far, there are two changes:\n",
    "\n",
    "- The per-period utility function features the logarithm of consumption: \n",
    "\n",
    "\\begin{equation}\n",
    "     u(c_t, h_{t})  = \\left[\\log(C_t) - B \\frac{h_t^{1+\\eta}}{1+\\eta}\\right]\n",
    "\\end{equation}\n",
    "\n",
    "- Productivity $A_t$ depends on time, rather than being constant.\n",
    "\n",
    "(a) Following the lecture, we can see that this version of the model is in general *not stationary*: show that the set of feasible values for $K_{t+1}$ - the correspondence $\\tilde{G}(t, x_t)$ in the notation of the generic intertemporal optimization problem - depends explicitly on time. \n",
    "\n",
    "(b) Assume $A_t = (1 + g) A_{t-1}$ for all $t$, where $g$ is a constant growth rate. Show that under this assumption, we can transform the model into a stationary dynamic optimization problem."
   ]
  },
  {
   "cell_type": "markdown",
   "metadata": {},
   "source": [
    "## Question 2 (A)\n",
    "\n",
    "In the lecture, we have shown that an optimal plan $\\{x_t^*, y_t^*\\}_{t = 0}^\\infty$ that solves a sequential dynamic optimization problem also satisifies the Bellman equation in every period. One way to illustrate this point is to show that both the sequential and the recursive formulation of the problem give rise to the same first-order conditions.\n",
    "\n",
    "(a) Solve for the Euler equation and the intratemporal optimality condition in the sequential version of the general NGM:\n",
    "\n",
    "\\begin{equation}\n",
    "    \\max_{\\left\\{c_t, k_{t+1}, h_{t} \\right\\}_{t = 0}^\\infty} \\sum^\\infty_{t = 0} \\beta^t u(c_t, h_{t}) \n",
    "\\end{equation}\n",
    "\n",
    "s.t.\n",
    "\n",
    "\\begin{equation}\n",
    "    c_t + k_{t + 1} = f(k_t, h_{t}) + (1 - \\delta) k_t\n",
    "\\end{equation}\n",
    "\n",
    "and $k_0$ given.\n",
    "\n",
    "(b) Write down the corresponding Bellman equation and take the first-order conditions for the optimization problem on the right-hand side. Then, compute the derivative of the value function $V$ with respect to the state $k_t$, using the policy functions $\\phi_k$ and $\\phi_h$ on the right-hand side. Show that combining these expressions gives the same optimality conditions as in (a)."
   ]
  },
  {
   "cell_type": "markdown",
   "metadata": {},
   "source": [
    "## Question 3 (N)\n",
    "\n",
    "In problem set 3, we have solved a variant of the NGM in which the production function contains energy $m_t$ as a third production factor in addition to capital and labor. Hence, output is given by\n",
    "\n",
    "\\begin{equation}\n",
    "    y_t = f(k_t, h_{y,t}, m_t) = A k_t^\\alpha m_t^\\gamma h_{y,t}^{1-\\alpha-\\gamma}\n",
    "\\end{equation}\n",
    "\n",
    "Energy is produced by using a part of the labor supply:\n",
    "\n",
    "\\begin{equation}\n",
    "    m_t = \\rho h_{m,t}\n",
    "\\end{equation}\n",
    "\n",
    "which implies that one unit of labor creates $\\rho$ units of energy.\n",
    "\n",
    "Per-period utility is still given by \n",
    "\n",
    "\\begin{equation}\n",
    "    u(c_t, h_t) = \\frac{c^{1-\\nu}}{1-\\nu} - B \\frac{h_t^{1+\\eta}}{1+\\eta}\n",
    "\\end{equation}\n",
    "\n",
    "with $h_t = h_{y,t} + h_{m,t}$. Hence, the planner's problem reads\n",
    "\n",
    "\\begin{equation}\n",
    "    \\max_{\\left\\{c_t, k_{t+1}, h_{y,t}, h_{m,t}\\right\\}} \\sum^\\infty_{t = 0} \\beta^t u(c_t, h_{y,t} + h_{m,t}) \n",
    "\\end{equation}\n",
    "\n",
    "s.t. the resource constraint.\n",
    "\n",
    "Use the dynamic programming algorithm from the lecture to solve the model for the parameter values given below. Derive approximations to the policy functions and simulate the economy for $T = 30$. Compare these time series to their corresponding steady state values."
   ]
  },
  {
   "cell_type": "markdown",
   "metadata": {},
   "source": [
    "#### Parameters"
   ]
  },
  {
   "cell_type": "code",
   "execution_count": 3,
   "metadata": {},
   "outputs": [],
   "source": [
    "## utility\n",
    "beta = 0.9      # discount factor\n",
    "nu = 2       # risk-aversion coefficient for consumption\n",
    "eta = 1         # elasticity parameter for labor supply\n",
    "B = 1\n",
    "\n",
    "## production\n",
    "alpha = 0.25\n",
    "gamma = 0.05\n",
    "rho = 0.9\n",
    "delta = 0.1\n",
    "A = 1\n",
    "\n",
    "## initial capital stock\n",
    "k0 = 0.8"
   ]
  },
  {
   "cell_type": "markdown",
   "metadata": {},
   "source": [
    "### Answer"
   ]
  },
  {
   "cell_type": "code",
   "execution_count": 4,
   "metadata": {},
   "outputs": [],
   "source": [
    "params = {'beta': beta, 'nu': nu, 'eta': eta, 'gamma': gamma,\n",
    "          'alpha': alpha, 'delta': delta, 'A': A, 'B': B, 'rho': rho }"
   ]
  },
  {
   "cell_type": "markdown",
   "metadata": {},
   "source": [
    "#### Auxiliary Functions"
   ]
  },
  {
   "cell_type": "code",
   "execution_count": 5,
   "metadata": {},
   "outputs": [],
   "source": [
    "def f(k, hy, hm, pm):\n",
    "    \"\"\"\n",
    "    Evaluates the Cobb-Douglas function with coefficient alpha and shift parameter A, for three inputs k, hy, hm\n",
    "    \"\"\"\n",
    "    return pm['A'] * k**pm['alpha'] * (pm['rho'] * hm)**(pm['gamma']) * hy**(1 - pm['alpha'] - pm['gamma'])\n",
    "\n",
    "\n",
    "def u(c, hy, hm, pm):\n",
    "    \"\"\"\n",
    "    Utility function\n",
    "    \"\"\"\n",
    "    return c**(1 - pm['nu'])/(1 - pm['nu']) - pm['B'] * (hy + hm)**(1 + pm['eta'])/(1 + pm['eta'])\n",
    "\n",
    "\n",
    "def f_diff(k, hy, hm, pm):\n",
    "    \"\"\"\n",
    "    Returns the first derivative of the cobb douglas wrt k, hy and hm\n",
    "    \"\"\"\n",
    "    return (pm['alpha'] * f(k, hy, hm, pm) / k, \n",
    "            (1 - pm['alpha'] - pm['gamma']) * f(k, hy, hm, pm) / hy,\n",
    "            pm['gamma'] * f(k, hy, hm, pm) / hm)"
   ]
  },
  {
   "cell_type": "markdown",
   "metadata": {},
   "source": [
    "#### Compute Steady State"
   ]
  },
  {
   "cell_type": "code",
   "execution_count": 6,
   "metadata": {},
   "outputs": [
    {
     "name": "stdout",
     "output_type": "stream",
     "text": [
      "     fun: array([  2.49218617e-07,   1.39845157e-06,  -2.46440244e-07])\n",
      " message: 'A solution was found at the specified tolerance.'\n",
      "     nit: 18\n",
      "  status: 1\n",
      " success: True\n",
      "       x: array([ 0.02681043, -0.01566172, -2.65471945])\n",
      "Steady state: (K_ss, hy_ss, hm_ss) = [ 1.02717306  0.98446029  0.07031856]\n"
     ]
    }
   ],
   "source": [
    "def steady(x, pm):\n",
    "    \"\"\"\n",
    "    Returns the vector-valued function consisting of the steady-state conditions \n",
    "    \"\"\"\n",
    "    y = np.zeros(3)\n",
    "    X = np.exp(x)\n",
    "    mp = f_diff(X[0], X[1], X[2], pm)\n",
    "    \n",
    "    y[0] = pm['beta'] * (mp[0] + 1 - pm['delta']) - 1\n",
    "    y[1] = (f(X[0], X[1], X[2], pm) - pm['delta'] * X[0])**(- pm['nu']) * mp[1] - pm['B'] * (X[2] + X[1])**pm['eta']\n",
    "    y[2] = mp[1] - mp[2]\n",
    "    \n",
    "    return y\n",
    "\n",
    "x0 = np.log([1.2, 1.4, 0.2])\n",
    "res_ss = scipy.optimize.root(steady, x0, args = (params), method = 'broyden1', options = {'line_search' : None, 'jac_options': {'alpha': 1}})\n",
    "print(res_ss)\n",
    "\n",
    "kss = np.exp(res_ss.x)[0]\n",
    "hyss = np.exp(res_ss.x)[1]\n",
    "hmss = np.exp(res_ss.x)[2]\n",
    "\n",
    "print( \"Steady state: (K_ss, hy_ss, hm_ss) = {}\".format(np.exp(res_ss.x) ) )"
   ]
  },
  {
   "cell_type": "markdown",
   "metadata": {},
   "source": [
    "#### Choose a grid around the steady state value for capital"
   ]
  },
  {
   "cell_type": "code",
   "execution_count": 7,
   "metadata": {},
   "outputs": [],
   "source": [
    "m = 10\n",
    "k_min = 0.7\n",
    "k_max = 1.3\n",
    "\n",
    "k_grid = fa.chebgrid(k_min, k_max, m)"
   ]
  },
  {
   "cell_type": "markdown",
   "metadata": {},
   "source": [
    "#### Set the degree of approximation and an initial guess for the value function"
   ]
  },
  {
   "cell_type": "code",
   "execution_count": 8,
   "metadata": {},
   "outputs": [],
   "source": [
    "n = m - 1\n",
    "\n",
    "## initial guess for VF\n",
    "V0 = (alpha / (1 - alpha * beta)) * np.log(k_grid )\n",
    "## compute implied basis coefficients\n",
    "a0 = fa.chebapprox(V0, n)"
   ]
  },
  {
   "cell_type": "markdown",
   "metadata": {},
   "source": [
    "#### Define the objective function for the optimization step (= RHS of Bellman equation)"
   ]
  },
  {
   "cell_type": "code",
   "execution_count": 9,
   "metadata": {},
   "outputs": [],
   "source": [
    "def vf_rhs(x, k, a, k_min, k_max, pm):\n",
    "    \"\"\"\n",
    "    RHS of the Bellman equation\n",
    "    \"\"\"\n",
    "    kp = np.exp(x[0])\n",
    "    hy = np.exp(x[1])\n",
    "    hm = np.exp(x[2])\n",
    "    \n",
    "    return (- u(f(k, hy, hm, pm) + (1 - pm['delta']) * k - kp, hy, hm, pm) \n",
    "            - pm['beta'] * np.polynomial.chebyshev.chebval(fa.chebconvert(kp, k_min, k_max), a) )"
   ]
  },
  {
   "cell_type": "markdown",
   "metadata": {},
   "source": [
    "#### Solve model with value function iteration"
   ]
  },
  {
   "cell_type": "code",
   "execution_count": 10,
   "metadata": {},
   "outputs": [],
   "source": [
    "def opt_step(k_grid, obj_fun, x0, a_ch, k_min, k_max, pm):     \n",
    "    \"\"\"\n",
    "    Function that loops over all states (= elements in k_grid) and solves the respective optimization problem (obj_fun, initial guess x0)\n",
    "    for a given vector of Chebyshev basis coefficients a_ch\n",
    "    -> uses Scipy's optimize module\n",
    "    \"\"\"\n",
    "    ## initialize policy and value functions\n",
    "    V = np.zeros(m)\n",
    "    K = np.zeros(m)\n",
    "    Hy = np.zeros(m)\n",
    "    Hm = np.zeros(m)\n",
    "    \n",
    "    ## loop\n",
    "    for (ind, k) in enumerate(k_grid):\n",
    "    ## optimization step\n",
    "        res = scipy.optimize.minimize(obj_fun, x0, args = (k, a_ch, k_min, k_max, pm), method ='BFGS') \n",
    "        V[ind] = - res.fun\n",
    "        K[ind], Hy[ind], Hm[ind]  = np.exp( res.x )\n",
    "        if res.success is not True:\n",
    "            print(res.message)\n",
    "        \n",
    "    return V, K, Hy, Hm"
   ]
  },
  {
   "cell_type": "code",
   "execution_count": 11,
   "metadata": {},
   "outputs": [
    {
     "name": "stdout",
     "output_type": "stream",
     "text": [
      "10 0.758970291246\n",
      "20 0.264589024857\n",
      "30 0.0922540011519\n",
      "40 0.0321669276312\n",
      "50 0.0112159130045\n",
      "60 0.00391074702629\n",
      "70 0.00136359317202\n",
      "80 0.000475455540428\n",
      "90 0.000165781096062\n",
      "100 5.7804293931e-05\n",
      "110 2.01551106684e-05\n",
      "120 7.02765226634e-06\n",
      "130 2.45039080227e-06\n",
      "140 8.54398791717e-07\n",
      "150 2.9791068812e-07\n",
      "160 1.03874786117e-07\n",
      "170 3.62186831742e-08\n",
      "180 1.26287176447e-08\n",
      "183 9.20615410991e-09\n"
     ]
    }
   ],
   "source": [
    "## initialize initial guess for basis coefficients and optimization\n",
    "a_ch = a0.copy()\n",
    "# x0 = np.log([1.2, 1.2, 0.2])\n",
    "x0 = np.log([1, 1, 1])\n",
    "\n",
    "eps = 1\n",
    "it = 0\n",
    "maxit = 200\n",
    "\n",
    "while eps > 1e-8 and it < maxit:\n",
    "    it += 1\n",
    "    ## optimization step\n",
    "    V, K, Hy, Hm = opt_step(k_grid, vf_rhs, x0, a_ch, k_min, k_max, params)\n",
    "    ## fitting step\n",
    "    a_new = fa.chebapprox(V, n)\n",
    "    ## compute convergence criterion\n",
    "    eps = np.linalg.norm(a_new - a_ch)\n",
    "    ## update coefficients\n",
    "    a_ch = a_new.copy()\n",
    "    \n",
    "    if it % 10 == 0:\n",
    "        print(it, eps)\n",
    "\n",
    "print(it, eps)"
   ]
  },
  {
   "cell_type": "markdown",
   "metadata": {},
   "source": [
    "#### Simulation"
   ]
  },
  {
   "cell_type": "code",
   "execution_count": 12,
   "metadata": {},
   "outputs": [],
   "source": [
    "a_k = fa.chebapprox(K, n)\n",
    "a_hy = fa.chebapprox(Hy, n)\n",
    "a_hm = fa.chebapprox(Hm, n)"
   ]
  },
  {
   "cell_type": "code",
   "execution_count": 13,
   "metadata": {},
   "outputs": [],
   "source": [
    "## number of periods\n",
    "T = 30\n",
    "\n",
    "## initialize arrays to keep track of time series\n",
    "kt = np.zeros(T+1)\n",
    "hyt = np.zeros(T)\n",
    "hmt = np.zeros(T)\n",
    "\n",
    "## initial capital stock is given\n",
    "kt[0] = k0\n",
    "\n",
    "## loop over time and use policy function approximations to fill kt and ht\n",
    "for t in range(T):\n",
    "    kt[t+1] = np.polynomial.chebyshev.chebval( fa.chebconvert(kt[t], k_min, k_max), a_k )\n",
    "    hyt[t] = np.polynomial.chebyshev.chebval( fa.chebconvert(kt[t], k_min, k_max), a_hy )\n",
    "    hmt[t] = np.polynomial.chebyshev.chebval( fa.chebconvert(kt[t], k_min, k_max), a_hm )"
   ]
  },
  {
   "cell_type": "code",
   "execution_count": 14,
   "metadata": {},
   "outputs": [
    {
     "data": {
      "text/plain": [
       "<matplotlib.collections.LineCollection at 0xbe6c92f470>"
      ]
     },
     "execution_count": 14,
     "metadata": {},
     "output_type": "execute_result"
    },
    {
     "data": {
      "image/png": "[encoded data removed]",
      "text/plain": [
       "<matplotlib.figure.Figure at 0xbe6c085390>"
      ]
     },
     "metadata": {},
     "output_type": "display_data"
    }
   ],
   "source": [
    "## plot optimal plans and check for convergence to steady state\n",
    "fig, ax = plt.subplots(3,1)\n",
    "ax[0].plot(range(T), kt[:-1])\n",
    "ax[0].hlines(kss, 0, T)\n",
    "ax[1].plot(range(T), hyt)\n",
    "ax[1].hlines(hyss, 0, T)   \n",
    "ax[2].plot(range(T), hmt)\n",
    "ax[2].hlines(hmss, 0, T) "
   ]
  },
  {
   "cell_type": "markdown",
   "metadata": {},
   "source": [
    "## Question 4 (N)\n",
    "\n",
    "In the last problem set, we have seen a variant of the neoclassical growth model with two capital stocks, $k$ and $q$. The production function has the following functional form:\n",
    "\n",
    "\\begin{equation}\n",
    "    f(k, q, h) = A \\left[ (\\omega k^{\\frac{\\sigma - 1}{\\sigma}} + (1 - \\omega) q^{\\frac{\\sigma - 1}{\\sigma}})^{\\frac{\\sigma}{\\sigma-1}}   \\right]^\\alpha h^{1-\\alpha}\n",
    "\\end{equation}\n",
    "\n",
    "As before, we have a Cobb-Douglas production function. The first argument is a CES composite of the two capital stocks, $k$ and $q$. Recall that a CES function allows you to set an elasticity of substitution $\\sigma \\in [0, \\infty)$ different from 1 (which would be the Cobb-Douglas case). For $\\sigma < 1$, the two inputs are considered *complements*, while for $\\sigma > 1$, they are *substitutes*.\n",
    "\n",
    "The resource constraint reads:\n",
    "\n",
    "\\begin{equation}\n",
    "    k_{t+1} + q_{t+1} + c_t = f(k_t, q_t, h_t) + (1 - \\delta) (k_t + q_t)\n",
    "\\end{equation}\n",
    "\n",
    "where we have assumed that both types of capital depreciate with the same rate $\\delta$. \n",
    "\n",
    "In contrast to the previous problem set, the planner's problem has an infinite time horizon:\n",
    "\n",
    "\\begin{equation}\n",
    "    \\max_{\\left\\{c_t, k_{t+1}, q_{t+1}, h_t\\right\\}} \\sum^\\infty_{t = 0} \\beta^t u(c_t, h_t) \n",
    "\\end{equation}\n",
    "\n",
    "s.t. the resource constraint.\n",
    "\n",
    "Use the dynamic programming algorithm from the lecture to solve this model for the parameter values given below. Note that since there are two state variables, $k$ and $q$, the value function here is a function with two arguments. Derive approximations to the policy functions and simulate the economy for $T = 30$. Compare these time series to their corresponding steady state values."
   ]
  },
  {
   "cell_type": "code",
   "execution_count": 15,
   "metadata": {},
   "outputs": [],
   "source": [
    "## utility\n",
    "beta = 0.9      # discount factor\n",
    "nu = 2       # risk-aversion coefficient for consumption\n",
    "eta = 1         # elasticity parameter for labor supply\n",
    "B = 1\n",
    "\n",
    "## production\n",
    "alpha = 0.25\n",
    "delta = 0.1\n",
    "A = 1\n",
    "\n",
    "## CES parameters\n",
    "omega = 0.5\n",
    "sigma = 0.8"
   ]
  },
  {
   "cell_type": "markdown",
   "metadata": {},
   "source": [
    "### Answer"
   ]
  },
  {
   "cell_type": "code",
   "execution_count": 16,
   "metadata": {},
   "outputs": [],
   "source": [
    "params = {'beta': beta, 'nu': nu, 'eta': eta, 'alpha': alpha, \n",
    "          'delta': delta, 'A': A, 'B': B, 'omega': omega, 'sigma': sigma }"
   ]
  },
  {
   "cell_type": "markdown",
   "metadata": {},
   "source": [
    "#### Auxiliary Functions"
   ]
  },
  {
   "cell_type": "code",
   "execution_count": 17,
   "metadata": {},
   "outputs": [],
   "source": [
    "def ces(k, q, pm):\n",
    "    \"\"\"\n",
    "    Implements the CES function\n",
    "    \"\"\"\n",
    "    rho = (pm['sigma'] - 1) / pm['sigma']\n",
    "    return (pm['omega'] * k**rho + (1 - pm['omega']) * q**rho)**(1/rho)\n",
    "\n",
    "def f(k, q, h, pm):\n",
    "    \"\"\"\n",
    "    Evaluates the Cobb-Douglas function with coefficient alpha and shift parameter A, for k, q and h\n",
    "    \"\"\"\n",
    "    return pm['A'] * ces(k, q, pm)**pm['alpha'] * h**(1 - pm['alpha'])\n",
    "\n",
    "\n",
    "def f_diff(k, q, h, pm):\n",
    "    \"\"\"\n",
    "    Returns the first derivative of the cobb douglas wrt k, hy and hm\n",
    "    \"\"\"\n",
    "    rho = (pm['sigma'] - 1) / pm['sigma']\n",
    "    return (pm['alpha'] * pm['A'] * h**(1 - pm['alpha']) * ces(k, q, pm)**(pm['alpha'] - rho) * pm['omega'] * k**(rho - 1) , \n",
    "            (1 - pm['alpha']) * f(k, q, h, pm) / h)\n",
    "\n",
    "def u(c, h, pm):\n",
    "    \"\"\"\n",
    "    Utility function\n",
    "    \"\"\"\n",
    "    return c**(1 - pm['nu'])/(1 - pm['nu']) - pm['B'] * h**(1 + pm['eta'])/(1 + pm['eta'])"
   ]
  },
  {
   "cell_type": "markdown",
   "metadata": {},
   "source": [
    "#### Compute Steady State"
   ]
  },
  {
   "cell_type": "code",
   "execution_count": 18,
   "metadata": {},
   "outputs": [
    {
     "name": "stdout",
     "output_type": "stream",
     "text": [
      "     fun: array([  1.40191458e-07,   3.47020848e-08,  -2.36498902e-07])\n",
      " message: 'A solution was found at the specified tolerance.'\n",
      "     nit: 13\n",
      "  status: 1\n",
      " success: True\n",
      "       x: array([-0.65239895, -0.65239912,  0.04636322])\n",
      "Steady state: (k_ss, q_ss, h_ss) = [ 0.52079492  0.52079483  1.0474548 ]\n"
     ]
    }
   ],
   "source": [
    "def steady(x, pm):\n",
    "    \"\"\"\n",
    "    Returns the vector-valued function consisting of the steady-state conditions \n",
    "    \"\"\"\n",
    "    y = np.zeros(3)\n",
    "    X = np.exp(x)\n",
    "    mp = f_diff(X[0], X[1], X[2], pm)\n",
    "    \n",
    "    y[0] = pm['beta'] * (mp[0] + 1 - pm['delta']) - 1\n",
    "    y[1] = ( f(X[0], X[1], X[2], pm) - pm['delta'] * (X[0] + X[1]))**(- pm['nu']) * mp[1] - pm['B'] * X[2]**pm['eta']\n",
    "    y[2] = pm['omega'] * X[0]**((pm['sigma']- 1)/pm['sigma'] - 1) - (1 - pm['omega']) * X[1]**((pm['sigma']- 1)/pm['sigma'] - 1)\n",
    "    \n",
    "    return y\n",
    "\n",
    "x0 = np.log([0.5, 0.5, 1.2])\n",
    "res_ss = scipy.optimize.root(steady, x0, args = (params), method = 'broyden2' , options = {'line_search' : None, 'jac_options': {'alpha': 1}})\n",
    "print(res_ss)\n",
    "\n",
    "kss = np.exp(res_ss.x)[0]\n",
    "qss = np.exp(res_ss.x)[1]\n",
    "hss = np.exp(res_ss.x)[2]\n",
    "\n",
    "print( \"Steady state: (k_ss, q_ss, h_ss) = {}\".format(np.exp(res_ss.x) ) )"
   ]
  },
  {
   "cell_type": "markdown",
   "metadata": {},
   "source": [
    "#### Choose a grid around the steady state value for capital"
   ]
  },
  {
   "cell_type": "code",
   "execution_count": 19,
   "metadata": {},
   "outputs": [],
   "source": [
    "m = 10\n",
    "k_min, k_max = 0.3, 0.8\n",
    "q_min, q_max = 0.3, 0.8\n",
    "k_grid = fa.chebgrid(k_min, k_max, m)\n",
    "q_grid = fa.chebgrid(q_min, q_max, m)\n",
    "\n",
    "Q_grid, K_grid = np.meshgrid(q_grid, k_grid)"
   ]
  },
  {
   "cell_type": "markdown",
   "metadata": {},
   "source": [
    "#### Set the degree of approximation and an initial guess for the value function"
   ]
  },
  {
   "cell_type": "code",
   "execution_count": 20,
   "metadata": {},
   "outputs": [],
   "source": [
    "## set the degree of approximation\n",
    "n = m - 1\n",
    "\n",
    "## initial guess for VF\n",
    "V0 = (alpha / (1 - alpha * beta)) * np.log(K_grid )\n",
    "## compute implied basis coefficients\n",
    "a0 = fa.chebapprox_2d(V0, [n, n])"
   ]
  },
  {
   "cell_type": "markdown",
   "metadata": {},
   "source": [
    "#### Define the objective function for the optimization step (= RHS of Bellman equation)"
   ]
  },
  {
   "cell_type": "code",
   "execution_count": 21,
   "metadata": {},
   "outputs": [],
   "source": [
    "def vf_rhs(x, k, q, a, k_min, k_max, q_min, q_max, pm):\n",
    "    \"\"\"\n",
    "    RHS of the Bellman equation\n",
    "    \"\"\"\n",
    "    kp = np.exp(x[0])\n",
    "    qp = np.exp(x[1])\n",
    "    h = np.exp(x[2])\n",
    "    \n",
    "    return (- u(f(k, q, h, pm) + (1 - pm['delta']) * (k + q) - kp - qp, h, pm) \n",
    "            - beta * np.polynomial.chebyshev.chebval2d(fa.chebconvert(kp, k_min, k_max),\n",
    "                                                       fa.chebconvert(qp, q_min, q_max), a) )"
   ]
  },
  {
   "cell_type": "markdown",
   "metadata": {},
   "source": [
    "#### Solve model with value function iteration"
   ]
  },
  {
   "cell_type": "code",
   "execution_count": 22,
   "metadata": {},
   "outputs": [],
   "source": [
    "def opt_step(k_grid, q_grid, obj_fun, x0, a_ch, k_min, k_max, q_min, q_max, pm):     \n",
    "    \"\"\"\n",
    "    Function that loops over all states (= elements in k_grid and q_grid) and solves the respective optimization problem (obj_fun, initial guess x0)\n",
    "    for a given vector of Chebyshev basis coefficients a_ch\n",
    "    -> uses Scipy's optimize module\n",
    "    \"\"\"\n",
    "    ## initialize policy and value functions\n",
    "    V = np.zeros((m, m))\n",
    "    K = np.zeros((m, m))\n",
    "    Q = np.zeros((m, m))\n",
    "    H = np.zeros((m, m))\n",
    "    \n",
    "    ## loop\n",
    "    for (ind1, k) in enumerate(k_grid):\n",
    "        for (ind2, q) in enumerate(q_grid):\n",
    "        ## optimization step\n",
    "            res = scipy.optimize.minimize(obj_fun, x0, args = (k, q, a_ch, k_min, k_max, q_min, q_max, pm), method ='BFGS') \n",
    "            V[ind1, ind2] = - res.fun\n",
    "            K[ind1, ind2], Q[ind1, ind2], H[ind1, ind2]  = np.exp( res.x )\n",
    "            if res.success is not True:\n",
    "                print(k, q, res.message)\n",
    "        \n",
    "    return V, K, Q, H"
   ]
  },
  {
   "cell_type": "code",
   "execution_count": 23,
   "metadata": {},
   "outputs": [
    {
     "name": "stdout",
     "output_type": "stream",
     "text": [
      "0.373223304703 0.796922085149 Desired error not necessarily achieved due to precision loss.\n",
      "0.51089138374 0.51089138374 Desired error not necessarily achieved due to precision loss.\n",
      "0.663497624935 0.726776695297 Desired error not necessarily achieved due to precision loss.\n",
      "0.726776695297 0.663497624935 Desired error not necessarily achieved due to precision loss.\n",
      "0.726776695297 0.796922085149 Desired error not necessarily achieved due to precision loss.\n",
      "0.796922085149 0.373223304703 Desired error not necessarily achieved due to precision loss.\n",
      "0.796922085149 0.726776695297 Desired error not necessarily achieved due to precision loss.\n",
      "10 0.746940488195\n",
      "20 0.260682495853\n",
      "30 0.0908979868776\n",
      "40 0.0316942451632\n",
      "50 0.0110511016066\n",
      "60 0.00385328090468\n",
      "70 0.0013435559761\n",
      "80 0.00046846900203\n",
      "90 0.000163345040544\n",
      "100 5.69548941129e-05\n",
      "110 1.98589435101e-05\n",
      "120 6.92438544903e-06\n",
      "130 2.41438386794e-06\n",
      "140 8.41843721847e-07\n",
      "150 2.93532934851e-07\n",
      "160 1.02348511913e-07\n",
      "170 3.56869627506e-08\n",
      "180 1.24430564546e-08\n",
      "183 9.0710161685e-09\n"
     ]
    }
   ],
   "source": [
    "## initialize initial guess for basis coefficients and optimization\n",
    "a_ch = a0.copy()\n",
    "# x0 = np.log([1.2, 1.2, 0.2])\n",
    "# x0 = np.log([1, 1, 1])\n",
    "x0 = res_ss.x\n",
    "\n",
    "eps = 1\n",
    "it = 0\n",
    "maxit = 300\n",
    "\n",
    "while eps > 1e-8 and it < maxit:\n",
    "    it += 1\n",
    "    ## optimization step\n",
    "    V, K, Q, H = opt_step(k_grid, q_grid, vf_rhs, x0, a_ch, k_min, k_max, q_min, q_max, params)\n",
    "    ## fitting step\n",
    "    a_new = fa.chebapprox_2d(V, [n, n])\n",
    "    ## compute convergence criterion\n",
    "    eps = np.linalg.norm(a_new - a_ch)\n",
    "    ## update coefficients\n",
    "    a_ch = a_new.copy()\n",
    "    \n",
    "    if it % 10 == 0:\n",
    "        print(it, eps)\n",
    "\n",
    "print(it, eps)"
   ]
  },
  {
   "cell_type": "markdown",
   "metadata": {},
   "source": [
    "#### Simulation"
   ]
  },
  {
   "cell_type": "code",
   "execution_count": 24,
   "metadata": {},
   "outputs": [],
   "source": [
    "a_k = fa.chebapprox_2d(K, [n, n])\n",
    "a_q = fa.chebapprox_2d(Q, [n, n])\n",
    "a_h = fa.chebapprox_2d(H, [n, n])"
   ]
  },
  {
   "cell_type": "code",
   "execution_count": 25,
   "metadata": {},
   "outputs": [],
   "source": [
    "## number of periods\n",
    "T = 30\n",
    "k0 = 0.33\n",
    "\n",
    "## initialize arrays to keep track of time series\n",
    "kt = np.zeros(T+1)\n",
    "qt = np.zeros(T+1)\n",
    "ht = np.zeros(T)\n",
    "\n",
    "\n",
    "## initial capital stock is given\n",
    "kt[0] = k0\n",
    "qt[0] = k0\n",
    "\n",
    "## loop over time and use policy function approximations to fill kt and ht\n",
    "for t in range(T):\n",
    "    kt[t+1] = np.polynomial.chebyshev.chebval2d( fa.chebconvert(kt[t], k_min, k_max), fa.chebconvert(qt[t], k_min, k_max), a_k )\n",
    "    qt[t+1] = np.polynomial.chebyshev.chebval2d( fa.chebconvert(kt[t], k_min, k_max), fa.chebconvert(qt[t], k_min, k_max), a_q )\n",
    "    ht[t] = np.polynomial.chebyshev.chebval2d( fa.chebconvert(kt[t], k_min, k_max), fa.chebconvert(qt[t], k_min, k_max), a_h )"
   ]
  },
  {
   "cell_type": "code",
   "execution_count": 26,
   "metadata": {},
   "outputs": [
    {
     "data": {
      "text/plain": [
       "<matplotlib.collections.LineCollection at 0xbe6c501978>"
      ]
     },
     "execution_count": 26,
     "metadata": {},
     "output_type": "execute_result"
    },
    {
     "data": {
      "image/png": "[encoded data removed]",
      "text/plain": [
       "<matplotlib.figure.Figure at 0xbe6c070ef0>"
      ]
     },
     "metadata": {},
     "output_type": "display_data"
    }
   ],
   "source": [
    "## plot optimal plans and check for convergence to steady state\n",
    "fig, ax = plt.subplots(3,1)\n",
    "ax[0].plot(range(T), kt[:-1])\n",
    "ax[0].hlines(kss, 0, T)\n",
    "ax[1].plot(range(T), qt[:-1])\n",
    "ax[1].hlines(qss, 0, T)   \n",
    "ax[2].plot(range(T), ht)\n",
    "ax[2].hlines(hss, 0, T) "
   ]
  }
 ],
 "metadata": {
  "kernelspec": {
   "display_name": "Python 3",
   "language": "python",
   "name": "python3"
  },
  "language_info": {
   "codemirror_mode": {
    "name": "ipython",
    "version": 3
   },
   "file_extension": ".py",
   "mimetype": "text/x-python",
   "name": "python",
   "nbconvert_exporter": "python",
   "pygments_lexer": "ipython3",
   "version": "3.6.0"
  }
 },
 "nbformat": 4,
 "nbformat_minor": 1
}
