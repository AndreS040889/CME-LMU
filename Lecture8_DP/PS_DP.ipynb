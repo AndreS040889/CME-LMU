{
 "cells": [
  {
   "cell_type": "markdown",
   "metadata": {},
   "source": [
    "# Computational Methods in Economics\n",
    "\n",
    "## Problem Set 6 - Dynamic Programming"
   ]
  },
  {
   "cell_type": "code",
   "execution_count": 1,
   "metadata": {},
   "outputs": [
    {
     "name": "stdout",
     "output_type": "stream",
     "text": [
      "Last update: 2018-01-21 17:42:36.400096\n"
     ]
    }
   ],
   "source": [
    "# Author: Alex Schmitt (schmitt@ifo.de)\n",
    "\n",
    "import datetime\n",
    "print('Last update: ' + str(datetime.datetime.today()))"
   ]
  },
  {
   "cell_type": "markdown",
   "metadata": {},
   "source": [
    "### Preliminaries\n",
    "\n",
    "#### Import Modules"
   ]
  },
  {
   "cell_type": "code",
   "execution_count": 2,
   "metadata": {
    "collapsed": true
   },
   "outputs": [],
   "source": [
    "import numpy as np\n",
    "import scipy.optimize\n",
    "\n",
    "import matplotlib.pyplot as plt\n",
    "%matplotlib inline\n",
    "import seaborn\n",
    "\n",
    "import funapprox_cme as fa"
   ]
  },
  {
   "cell_type": "markdown",
   "metadata": {},
   "source": [
    "## Question 1 (A)\n",
    "\n",
    "Consider the following version of the NGM:\n",
    "\n",
    "\\begin{equation}\n",
    "    \\max_{\\left\\{C_t, K_{t+1}, h_{t} \\right\\}_{t = 0}^\\infty} \\sum^\\infty_{t = 0} \\beta^t \\left[\\log(C_t) - B \\frac{h_t^{1+\\eta}}{1+\\eta}\\right]\n",
    "\\end{equation}\n",
    "\n",
    "s.t.\n",
    "\n",
    "\\begin{equation}\n",
    "    C_t + K_{t + 1} =  A_t K_t^\\alpha h_{t}^{1-\\alpha} + (1 - \\delta) K_t\n",
    "\\end{equation}\n",
    "\n",
    "Compared to the standard model that we have seen so far, there are two changes:\n",
    "\n",
    "- The per-period utility function features the logarithm of consumption: \n",
    "\n",
    "\\begin{equation}\n",
    "     u(c_t, h_{t})  = \\left[\\log(C_t) - B \\frac{h_t^{1+\\eta}}{1+\\eta}\\right]\n",
    "\\end{equation}\n",
    "\n",
    "- Productivity $A_t$ depends on time, rather than being constant.\n",
    "\n",
    "(a) Following the lecture, we can see that this version of the model is in general *not stationary*: show that the set of feasible values for $K_{t+1}$ - the correspondence $\\tilde{G}(t, x_t)$ in the notation of the generic intertemporal optimization problem - depends explicitly on time. \n",
    "\n",
    "(b) Assume $A_t = (1 + g) A_{t-1}$ for all $t$, where $g$ is a constant growth rate. Show that under this assumption, we can transform the model into a stationary dynamic optimization problem."
   ]
  },
  {
   "cell_type": "markdown",
   "metadata": {},
   "source": [
    "## Question 2 (A)\n",
    "\n",
    "In the lecture, we have shown that an optimal plan $\\{x_t^*, y_t^*\\}_{t = 0}^\\infty$ that solves a sequential dynamic optimization problem also satisifies the Bellman equation in every period. One way to illustrate this point is to show that both the sequential and the recursive formulation of the problem give rise to the same first-order conditions.\n",
    "\n",
    "(a) Solve for the Euler equation and the intratemporal optimality condition in the sequential version of the general NGM:\n",
    "\n",
    "\\begin{equation}\n",
    "    \\max_{\\left\\{c_t, k_{t+1}, h_{t} \\right\\}_{t = 0}^\\infty} \\sum^\\infty_{t = 0} \\beta^t u(c_t, h_{t}) \n",
    "\\end{equation}\n",
    "\n",
    "s.t.\n",
    "\n",
    "\\begin{equation}\n",
    "    c_t + k_{t + 1} = f(k_t, h_{t}) + (1 - \\delta) k_t\n",
    "\\end{equation}\n",
    "\n",
    "and $k_0$ given.\n",
    "\n",
    "(b) Write down the corresponding Bellman equation and take the first-order conditions for the optimization problem on the right-hand side. Then, compute the derivative of the value function $V$ with respect to the state $k_t$, using the policy functions $ \\phi(k_t) \\equiv k_{t +1}$ and $\\pi( k_t) \\equiv h_{t}$ on the right-hand side. Show that combining these expressions gives the same optimality conditions as in (a)."
   ]
  },
  {
   "cell_type": "markdown",
   "metadata": {},
   "source": [
    "## Question 3 (N)\n",
    "\n",
    "In problem set 3, we have solved a variant of the NGM in which the production function contains energy $m_t$ as a third production factor in addition to capital and labor. Hence, output is given by\n",
    "\n",
    "\\begin{equation}\n",
    "    y_t = f(k_t, h_{y,t}, m_t) = A k_t^\\alpha m_t^\\gamma h_{y,t}^{1-\\alpha-\\gamma}\n",
    "\\end{equation}\n",
    "\n",
    "Energy is produced by using a part of the labor supply:\n",
    "\n",
    "\\begin{equation}\n",
    "    m_t = \\rho h_{m,t}\n",
    "\\end{equation}\n",
    "\n",
    "which implies that one unit of labor creates $\\rho$ units of energy.\n",
    "\n",
    "Per-period utility is still given by \n",
    "\n",
    "\\begin{equation}\n",
    "    u(c_t, h_t) = \\frac{c^{1-\\nu}}{1-\\nu} - B \\frac{h_t^{1+\\eta}}{1+\\eta}\n",
    "\\end{equation}\n",
    "\n",
    "with $h_t = h_{y,t} + h_{m,t}$. Hence, the planner's problem reads\n",
    "\n",
    "\\begin{equation}\n",
    "    \\max_{\\left\\{c_t, k_{t+1}, h_{y,t}, h_{m,t}\\right\\}} \\sum^\\infty_{t = 0} \\beta^t u(c_t, h_{y,t} + h_{m,t}) \n",
    "\\end{equation}\n",
    "\n",
    "s.t. the resource constraint.\n",
    "\n",
    "Use the dynamic programming algorithm from the lecture to solve the model for the parameter values given below. Derive approximations to the policy functions and simulate the economy for $T = 30$. Compare these time series to their corresponding steady state values."
   ]
  },
  {
   "cell_type": "code",
   "execution_count": 3,
   "metadata": {
    "collapsed": true
   },
   "outputs": [],
   "source": [
    "## utility\n",
    "beta = 0.9      # discount factor\n",
    "nu = 2       # risk-aversion coefficient for consumption\n",
    "eta = 1         # elasticity parameter for labor supply\n",
    "B = 1\n",
    "\n",
    "## production\n",
    "alpha = 0.25\n",
    "gamma = 0.05\n",
    "rho = 0.9\n",
    "delta = 0.1\n",
    "A = 1\n",
    "\n",
    "## initial capital stock\n",
    "k0 = 0.8"
   ]
  },
  {
   "cell_type": "code",
   "execution_count": null,
   "metadata": {
    "collapsed": true
   },
   "outputs": [],
   "source": []
  },
  {
   "cell_type": "markdown",
   "metadata": {},
   "source": [
    "## Question 4 (N)\n",
    "\n",
    "In the last problem set, we have seen a variant of the neoclassical growth model with two capital stocks, $k$ and $q$. The production function has the following functional form:\n",
    "\n",
    "\\begin{equation}\n",
    "    f(k, q, h) = A \\left[ (\\omega k^{\\frac{\\sigma - 1}{\\sigma}} + (1 - \\omega) q^{\\frac{\\sigma - 1}{\\sigma}})^{\\frac{\\sigma}{\\sigma-1}}   \\right]^\\alpha h^{1-\\alpha}\n",
    "\\end{equation}\n",
    "\n",
    "As before, we have a Cobb-Douglas production function. The first argument is a CES composite of the two capital stocks, $k$ and $q$. Recall that a CES function allows you to set an elasticity of substitution $\\sigma \\in [0, \\infty)$ different from 1 (which would be the Cobb-Douglas case). For $\\sigma < 1$, the two inputs are considered *complements*, while for $\\sigma > 1$, they are *substitutes*.\n",
    "\n",
    "The resource constraint reads:\n",
    "\n",
    "\\begin{equation}\n",
    "    k_{t+1} + q_{t+1} + c_t = f(k_t, q_t, h_t) + (1 - \\delta) (k_t + q_t)\n",
    "\\end{equation}\n",
    "\n",
    "where we have assumed that both types of capital depreciate with the same rate $\\delta$. \n",
    "\n",
    "In contrast to the previous problem set, the planner's problem has an infinite time horizon:\n",
    "\n",
    "\\begin{equation}\n",
    "    \\max_{\\left\\{c_t, k_{t+1}, q_{t+1}, h_t\\right\\}} \\sum^\\infty_{t = 0} \\beta^t u(c_t, h_t) \n",
    "\\end{equation}\n",
    "\n",
    "s.t. the resource constraint.\n",
    "\n",
    "Use the dynamic programming algorithm from the lecture to solve this model for the parameter values given below. Note that since there are two state variables, $k$ and $q$, the value function here is a function with two arguments. Derive approximations to the policy functions and simulate the economy for $T = 30$. Compare these time series to their corresponding steady state values."
   ]
  },
  {
   "cell_type": "code",
   "execution_count": 4,
   "metadata": {
    "collapsed": true
   },
   "outputs": [],
   "source": [
    "## utility\n",
    "beta = 0.9      # discount factor\n",
    "nu = 2       # risk-aversion coefficient for consumption\n",
    "eta = 1         # elasticity parameter for labor supply\n",
    "B = 1\n",
    "\n",
    "## production\n",
    "alpha = 0.25\n",
    "delta = 0.1\n",
    "A = 1\n",
    "\n",
    "## CES parameters\n",
    "omega = 0.5\n",
    "sigma = 0.8"
   ]
  },
  {
   "cell_type": "code",
   "execution_count": null,
   "metadata": {
    "collapsed": true
   },
   "outputs": [],
   "source": []
  }
 ],
 "metadata": {
  "kernelspec": {
   "display_name": "Python 3",
   "language": "python",
   "name": "python3"
  },
  "language_info": {
   "codemirror_mode": {
    "name": "ipython",
    "version": 3
   },
   "file_extension": ".py",
   "mimetype": "text/x-python",
   "name": "python",
   "nbconvert_exporter": "python",
   "pygments_lexer": "ipython3",
   "version": "3.6.0"
  }
 },
 "nbformat": 4,
 "nbformat_minor": 1
}
