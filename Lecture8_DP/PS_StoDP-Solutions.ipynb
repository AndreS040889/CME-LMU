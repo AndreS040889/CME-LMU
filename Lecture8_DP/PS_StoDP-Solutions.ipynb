{
 "cells": [
  {
   "cell_type": "markdown",
   "metadata": {},
   "source": [
    "# Computational Methods in Economics\n",
    "\n",
    "## Problem Set 7: Stochastic Dynamic Programming - Suggested Solutions"
   ]
  },
  {
   "cell_type": "code",
   "execution_count": 1,
   "metadata": {},
   "outputs": [
    {
     "name": "stdout",
     "output_type": "stream",
     "text": [
      "Last update: 2018-02-02 10:39:15.192874\n"
     ]
    }
   ],
   "source": [
    "# Author: Alex Schmitt (schmitt@ifo.de)\n",
    "\n",
    "import datetime\n",
    "print('Last update: ' + str(datetime.datetime.today()))"
   ]
  },
  {
   "cell_type": "markdown",
   "metadata": {},
   "source": [
    "### Preliminaries\n",
    "\n",
    "#### Import Modules"
   ]
  },
  {
   "cell_type": "code",
   "execution_count": 2,
   "metadata": {},
   "outputs": [],
   "source": [
    "import numpy as np\n",
    "import scipy.optimize\n",
    "\n",
    "import matplotlib.pyplot as plt\n",
    "%matplotlib inline\n",
    "import seaborn\n",
    "\n",
    "import funapprox_cme as fa"
   ]
  },
  {
   "cell_type": "markdown",
   "metadata": {},
   "source": [
    "## Question 1 (N)\n",
    "\n",
    "Consider the following *stochastic* version of the NGM:\n",
    "\n",
    "\\begin{equation}\n",
    "    \\max_{\\left\\{c_t, k_{t+1}, h_{t} \\right\\}_{t = 0}^\\infty} \\mathbb{E} \\sum^\\infty_{t = 0} \\beta^t \\left[\\frac{c_t^{1 - \\nu}}{1 - \\nu} - B \\frac{h_t^{1+\\eta}}{1+\\eta}\\right]\n",
    "\\end{equation}\n",
    "\n",
    "s.t.\n",
    "\n",
    "\\begin{equation}\n",
    "    c_t + k_{t + 1} =  z_t A k_t^\\alpha h_{t}^{1-\\alpha} + (1 - \\delta) k_t\n",
    "\\end{equation}\n",
    "\n",
    "with $z_t \\in \\{0.98, 1.02\\}$. Compared to the standard model that we have seen so far, we assume that output is affected by a *productivity shock* $z_t$. In other words, $z_t$ is a discrete random variable (i.e. follows a stochastic process) whose \"support\" consists of two values, a low state $z_0 = 0.98$ and a high state $z_1 = 1.02$.\n",
    "\n",
    "We assume that these states are \"persistent\" in the sense that if the economy is in one state in period $t$, it is more likely to be in the same state in period $t+1$, rather than to moving to a different state. We can formalize this with a *probability transition matrix*:\n",
    "\n",
    "\\begin{equation}\n",
    "    P =  \\left[\\begin{array}{cc}\n",
    "    p_{00} & p_{01} \\\\\n",
    "    p_{10} & p_{11} \\\\\n",
    "    \\end{array}\\right]\n",
    "\\end{equation}\n",
    "\n",
    "The element $p_{ij}$ denotes the constant probability to move from state $i$ to state $j$ between two periods. Hence, it has to hold that $p_{00} + p_{01} = 1$ and $p_{10} + p_{11} = 1$.\n",
    "\n",
    "(a) Think about solving this model using a sequential approach. Why is this much more computationally intensive than for the deterministic model we have seen before? In other words, how many variables would the algorithm have to find when solving the model for a finite number of periods $T$?\n",
    "\n",
    "(b) We now solve the model using dynamic programming, for the parameter values given below:"
   ]
  },
  {
   "cell_type": "code",
   "execution_count": 3,
   "metadata": {},
   "outputs": [],
   "source": [
    "## utility\n",
    "beta = 0.8      # discount factor\n",
    "nu = 2       # risk-aversion coefficient for consumption\n",
    "eta = 1         # elasticity parameter for labor supply\n",
    "\n",
    "## production\n",
    "alpha = 0.25\n",
    "delta = 0.1\n",
    "## derived\n",
    "A = (1 - beta * (1 - delta))/(alpha*beta) # normalization parameter for production function => steady state k = 1\n",
    "B = (1 - alpha) * A * (A - delta)**(-nu)      # parameter for utility function\n",
    "## initial capital stock\n",
    "k0 = 1\n",
    "\n",
    "params = {'beta': beta, 'nu': nu, 'eta': eta, \n",
    "          'alpha': alpha, 'delta': delta, 'A': A, 'B': B }"
   ]
  },
  {
   "cell_type": "code",
   "execution_count": 4,
   "metadata": {},
   "outputs": [],
   "source": [
    "## stochastic states and transition matrix\n",
    "z = [0.98 , 1.02]\n",
    "P = np.array([[0.8, 0.2],\n",
    "                [0.2, 0.8]])"
   ]
  },
  {
   "cell_type": "markdown",
   "metadata": {},
   "source": [
    "Note that this model has two states, $k$ and $z$. However, in contrast to the two-state problem in question 4 in the previous problem set, $z$ is not a continuous variable, but can only take a *discrete* number of values (here 2). Hence, one approach to dynamic programming in this setting is to approximate the value function as a univariate function, but have two \"instances\" of $V$, one when the economy is in state 0 and one in state 1. \n",
    "\n",
    "In other words, we have approximations $\\hat{V}^{(it)}_0(k) = \\hat{V}(k; a^{(it)}_0)$ and $\\hat{V}^{(it)}_1(k) = \\hat{V}(k; a^{(it)}_1)$. This implies that the fitting step in every iteration of our value function iteration algorithm includes finding *two* vectors of basis coefficients.\n",
    "\n",
    "Moreover, note that the continuation value on the right hand side of the Bellman equation is given by the expectation over the possible states. In other words, when we are in state 0, we remain in state 0 with probability $p_{00}$ and move to state 1 with probability $p_{01}$. Hence, the expected continuation value is \n",
    "\n",
    "\\begin{equation}\n",
    "    p_{00} \\hat{V}(k'; a^{(it)}_0) + p_{01} \\hat{V}(k'; a^{(it)}_1)\n",
    "\\end{equation}\n",
    "\n",
    "and analogous if the economy is in state 1. Hence, the full Bellman equation to be used for the VFI algorithm when being in state $j \\in \\{0, 1\\}$ reads \n",
    "\n",
    "\\begin{equation}\n",
    "    \\hat{V}^{(it + 1)}_j(k) \\leftarrow \\max_{k', h} u(z_j f(k, h) + (1 - \\delta) k - k') + \\beta\\left[p_{j0} \\hat{V}^{(it)}_0(k') + p_{j1} \\hat{V}^{(it)}_0(k')\\right]\n",
    "\\end{equation}\n",
    "\n",
    "In other words, we essentially have two Bellman equations, one for each state. \n",
    "\n",
    "Solve the problem and derive the approximate policy functions. Simulate the economy over $T = 80$ periods. To simulate a sequence of shocks, $z_t$, you can use the following code:"
   ]
  },
  {
   "cell_type": "code",
   "execution_count": 5,
   "metadata": {},
   "outputs": [],
   "source": [
    "## number of periods\n",
    "T = 80\n",
    "\n",
    "## initialize array to keep track of time series\n",
    "zt = np.zeros(T+1, dtype=np.int)\n",
    "\n",
    "## initial shock \n",
    "zt[0] = 0\n",
    "\n",
    "## loop over time and draw shocks\n",
    "for t in range(T):\n",
    "    draw = np.random.uniform()       \n",
    "    \n",
    "    if draw < P[zt[t], 0]:\n",
    "        zt[t+1] = 0\n",
    "    else:\n",
    "        zt[t+1] = 1 "
   ]
  },
  {
   "cell_type": "markdown",
   "metadata": {},
   "source": [
    "### Answer"
   ]
  },
  {
   "cell_type": "markdown",
   "metadata": {},
   "source": [
    "#### Auxiliary Functions"
   ]
  },
  {
   "cell_type": "code",
   "execution_count": 6,
   "metadata": {},
   "outputs": [],
   "source": [
    "def u(c, h, pm):\n",
    "    \"\"\"\n",
    "    Evaluates an additive-separable utility function with consumption and labor as arguments\n",
    "    \"\"\"\n",
    "    return c**(1 - pm['nu'])/(1 - pm['nu']) - pm['B'] * h**(1 + pm['eta'])/(1 + pm['eta'])\n",
    "\n",
    "\n",
    "def f(k, h, pm):\n",
    "    \"\"\"\n",
    "    Evaluates a Cobb-Douglas production function with coefficient alpha and shift parameter A, for two inputs k and h\n",
    "    \"\"\"\n",
    "    return pm['A'] * k**pm['alpha'] * h**(1 - pm['alpha'])\n",
    "\n",
    "\n",
    "def f_diff(k, h, pm):\n",
    "    \"\"\"\n",
    "    Evaluates the first derivatives (returned as a tuple) of the Cobb-Douglas function with coefficient alpha and shift parameter A, for two inputs k and h\n",
    "    \"\"\"\n",
    "    return (pm['alpha'] * f(k, h, pm) / k, (1 - pm['alpha']) * f(k, h, pm) / h)"
   ]
  },
  {
   "cell_type": "markdown",
   "metadata": {},
   "source": [
    "#### Choose a grid around the steady state value for capital"
   ]
  },
  {
   "cell_type": "code",
   "execution_count": 7,
   "metadata": {},
   "outputs": [],
   "source": [
    "m = 10\n",
    "k_min = 0.7\n",
    "k_max = 1.3\n",
    "\n",
    "k_grid = fa.chebgrid(k_min, k_max, m)"
   ]
  },
  {
   "cell_type": "markdown",
   "metadata": {},
   "source": [
    "#### Set the degree of approximation and an initial guess for the value function"
   ]
  },
  {
   "cell_type": "code",
   "execution_count": 8,
   "metadata": {},
   "outputs": [],
   "source": [
    "## set the degree of approximation\n",
    "n = m - 1\n",
    "\n",
    "## initial guess for VF\n",
    "V0 = (alpha / (1 - alpha * beta)) * np.log(k_grid )\n",
    "## compute implied basis coefficients\n",
    "a_init = fa.chebapprox(V0, n)"
   ]
  },
  {
   "cell_type": "markdown",
   "metadata": {},
   "source": [
    "#### Define the objective function for the optimization step (= RHS of Bellman equation)"
   ]
  },
  {
   "cell_type": "code",
   "execution_count": 9,
   "metadata": {},
   "outputs": [],
   "source": [
    "def vf_rhs(x, k, z, z_ind, a_0, a_1, k_min, k_max, P, pm):\n",
    "    \"\"\"\n",
    "    RHS of the Bellman equation\n",
    "    \"\"\"\n",
    "    kp = np.exp(x[0])\n",
    "    h = np.exp(x[1])\n",
    "\n",
    "    return (- u(z[z_ind] * f(k, h, pm) + (1 - pm['delta']) * k - kp, h, pm) - pm['beta'] * \n",
    "            ( P[z_ind, 0] * np.polynomial.chebyshev.chebval(fa.chebconvert(kp, k_min, k_max), a_0) \n",
    "              + P[z_ind, 1] * np.polynomial.chebyshev.chebval(fa.chebconvert(kp, k_min, k_max), a_1)  ) )"
   ]
  },
  {
   "cell_type": "markdown",
   "metadata": {},
   "source": [
    "#### Implement optimization step"
   ]
  },
  {
   "cell_type": "code",
   "execution_count": 10,
   "metadata": {},
   "outputs": [],
   "source": [
    "def opt_step(k_grid, obj_fun, x0, z, a_0, a_1, k_min, k_max, P, pm):     \n",
    "    \"\"\"\n",
    "    Function that loops over all states (= elements in k_grid) and solves the respective optimization problem (obj_fun, initial guess x0)\n",
    "    for a given vector of Chebyshev basis coefficients a_ch\n",
    "    -> uses Scipy's optimize module\n",
    "    \"\"\"\n",
    "    ## initialize policy and value functions\n",
    "    V = np.zeros((m, len(z)))\n",
    "    K = np.zeros((m, len(z)))\n",
    "    H = np.zeros((m, len(z)))\n",
    "    \n",
    "    ## loop\n",
    "    for z_ind in range(len(z)):\n",
    "        for (ind, k) in enumerate(k_grid):\n",
    "        ## optimization step\n",
    "            res = scipy.optimize.minimize(obj_fun, x0, args = (k, z, z_ind, a_0, a_1, k_min, k_max, P, pm), method ='BFGS') \n",
    "            V[ind, z_ind] = - res.fun\n",
    "            K[ind, z_ind], H[ind, z_ind] = np.exp( res.x )\n",
    "\n",
    "    return V, K, H"
   ]
  },
  {
   "cell_type": "markdown",
   "metadata": {},
   "source": [
    "#### Solve model with value function iteration"
   ]
  },
  {
   "cell_type": "code",
   "execution_count": 11,
   "metadata": {},
   "outputs": [
    {
     "name": "stdout",
     "output_type": "stream",
     "text": [
      "85 8.02067929568e-09\n"
     ]
    }
   ],
   "source": [
    "## initialize initial guess for basis coefficients and optimization\n",
    "a_0 = a_init.copy()\n",
    "a_1 = a_init.copy()\n",
    "x0 = (0, 0)\n",
    "\n",
    "eps = 1\n",
    "it = 0\n",
    "maxit = 100\n",
    "\n",
    "while eps > 1e-8 and it < maxit:\n",
    "    it += 1\n",
    "    ## optimization step\n",
    "    V, K, H = opt_step(k_grid, vf_rhs, x0, z, a_0, a_1, k_min, k_max, P, params)\n",
    "    ## fitting step\n",
    "    a_0_new = fa.chebapprox(V[:, 0], n)\n",
    "    a_1_new = fa.chebapprox(V[:, 1], n)\n",
    "    ## compute convergence criterion\n",
    "    eps0 = np.linalg.norm(a_0_new - a_0)\n",
    "    eps1 = np.linalg.norm(a_1_new - a_1) \n",
    "    eps = max(eps0, eps1)\n",
    "    ## update coefficients\n",
    "    a_0 = a_0_new.copy()\n",
    "    a_1 = a_1_new.copy()\n",
    "\n",
    "print(it, eps)"
   ]
  },
  {
   "cell_type": "markdown",
   "metadata": {},
   "source": [
    "#### Approximate policy functions"
   ]
  },
  {
   "cell_type": "code",
   "execution_count": 12,
   "metadata": {},
   "outputs": [],
   "source": [
    "a_k, a_h = {}, {}\n",
    "for j in range(len(z)):    \n",
    "    a_k[j] = fa.chebapprox(K[:, j], n)\n",
    "    a_h[j] = fa.chebapprox(H[:, j], n)"
   ]
  },
  {
   "cell_type": "code",
   "execution_count": 13,
   "metadata": {},
   "outputs": [
    {
     "data": {
      "text/plain": [
       "{0: array([  9.84641737e-01,   2.00892049e-01,  -1.01442285e-03,\n",
       "          1.90283771e-04,  -2.08393478e-05,   2.45499806e-06,\n",
       "         -9.35679068e-07,   8.43827871e-07,  -1.16420817e-06,\n",
       "          8.19424475e-07]),\n",
       " 1: array([  1.01360766e+00,   2.04091023e-01,  -1.21577611e-03,\n",
       "          2.06894383e-04,  -2.08518285e-05,   1.31085674e-06,\n",
       "          9.00918277e-07,   3.83204998e-07,   2.78174331e-06,\n",
       "         -1.49324050e-06])}"
      ]
     },
     "execution_count": 13,
     "metadata": {},
     "output_type": "execute_result"
    }
   ],
   "source": [
    "a_k"
   ]
  },
  {
   "cell_type": "markdown",
   "metadata": {},
   "source": [
    "#### Simulate the economy"
   ]
  },
  {
   "cell_type": "code",
   "execution_count": 14,
   "metadata": {},
   "outputs": [],
   "source": [
    "## number of periods\n",
    "T = 80\n",
    "\n",
    "## initialize arrays to keep track of time series\n",
    "kt = np.zeros(T+1)\n",
    "ht = np.zeros(T)\n",
    "zt = np.zeros(T+1, dtype=np.int)\n",
    "\n",
    "## initial capital stock is given\n",
    "kt[0] = k0\n",
    "zt[0] = 0\n",
    "\n",
    "## loop over time and use policy function approximations to fill kt and ht\n",
    "for t in range(T):\n",
    "    kt[t+1] = np.polynomial.chebyshev.chebval( fa.chebconvert(kt[t], k_min, k_max), a_k[zt[t]] )\n",
    "    ht[t] = np.polynomial.chebyshev.chebval( fa.chebconvert(kt[t], k_min, k_max), a_h[zt[t]] )\n",
    "    \n",
    "    draw = np.random.uniform()       \n",
    "    if draw < P[zt[t], 0]:\n",
    "        zt[t+1] = 0\n",
    "    else:\n",
    "        zt[t+1] = 1      "
   ]
  },
  {
   "cell_type": "code",
   "execution_count": 16,
   "metadata": {},
   "outputs": [
    {
     "data": {
      "text/plain": [
       "<matplotlib.collections.LineCollection at 0x84426fa390>"
      ]
     },
     "execution_count": 16,
     "metadata": {},
     "output_type": "execute_result"
    },
    {
     "data": {
      "image/png": "[encoded data removed]",
      "text/plain": [
       "<matplotlib.figure.Figure at 0x84422908d0>"
      ]
     },
     "metadata": {},
     "output_type": "display_data"
    }
   ],
   "source": [
    "## plot optimal plans and check for convergence to steady state\n",
    "fig, ax = plt.subplots(2,1)\n",
    "ax[0].plot(range(T), kt[:-1])\n",
    "ax[0].hlines(1, 0, T)\n",
    "ax[1].plot(range(T), ht)\n",
    "ax[1].hlines(1, 0, T)   "
   ]
  },
  {
   "cell_type": "markdown",
   "metadata": {},
   "source": [
    "## Question 2 (N)\n",
    "\n",
    "In this question, we look at a different application of dynamic programming: modeling job search. More specifically, we look at the famous *McCall job search model* (McCall 1970). The exposition follows the section on quantecon.org; for more information, see https://lectures.quantecon.org/py/mccall_model.html.\n",
    "\n",
    "In any period $t$, an infinitely-lived worker can be in one of two states, employed or unemployed. In the former case, she receives income $y_t = w$ (a wage), in the latter case she receives $y_t = b$, a fixed unemployment benefit. Her lifeftime utility is given by \n",
    "\n",
    "\\begin{equation}\n",
    "{\\mathbb E} \\sum_{t=0}^\\infty \\beta^t u(y_t)\n",
    "\\end{equation}\n",
    "\n",
    "where $\\beta$ is a discount factor.\n",
    "\n",
    "In any period $t$, when the worker is employed, she loses her job with a given probability $\\alpha$. In this case, she has no decision to take. In the other state, if the worker starts period $t$ being unemployed, she receives a job offer with probability $\\gamma$. Moreover, the wage corresponding to the offer is a random variable, drawn from a uniform distribution $p$, with the minimum and maximum level given by $\\underline{w}$ and $\\bar{w}$, respectively. The worker then decides whether or not to accept the offer. If she accepts, she starts the following period being employed, while if she rejects, she remains unemployed."
   ]
  },
  {
   "cell_type": "markdown",
   "metadata": {},
   "source": [
    "How can we write the Bellman equation for this model? As in question 1, we actually need two Bellman equations, one for each state. Let $V(w)$ denote the value of being employed with wage $w$, and let $U$ denote the value of being unemployed. Then, the Bellman equation when being employed reads:\n",
    "\n",
    "\\begin{equation}\n",
    "    V(w) = u(w) + \\beta\\left[(1 - \\alpha) V(w) + \\alpha U \\right] \n",
    "\\end{equation}\n",
    "\n",
    "Again, note that there is no maximization problem on the right-hand side, since the worker has no decision to take: if she doesn't lose her job, she receives the same wage in the following period. \n",
    "\n",
    "When being unemployed, the Bellman equation reads:\n",
    "\n",
    "\\begin{equation}\n",
    "    U = u(b) + \\beta \\left[ (1 - \\gamma) U + \\gamma \\int_{\\underline{w}}^{\\bar{w}} \\max\\left\\{V(w'), U\\right\\}    p(w') dw'\\right] \n",
    "\\end{equation}\n",
    "\n",
    "Consider the two possible cases when starting period $t$ unemployed:\n",
    "\n",
    "- With probability $(1 - \\gamma)$, the worker does not receive a job offer and remains unemployed at the start of period $t + 1$.\n",
    "\n",
    "- With probability $\\gamma$, she receives a job offer, with a wage drawn from distribution $p$. In order to find the expected continuation value, since the wage is a continuous variable, we have to integrate over the range of possible outcomes $[\\underline{w}, \\bar{w}]$. For each wage rate $w'$, the worker would then decide whether to accept the offer (in this case, her continuation  value is $V(w')$) or to reject it, in which case she remains unemployed and has continuation value $U$. The decision is based on what choice gives the higher continuation value.\n",
    "\n",
    "Note that the value $U$ does not depend on any wage rate, and hence is actually a constant, rather than a function."
   ]
  },
  {
   "cell_type": "markdown",
   "metadata": {},
   "source": [
    "Computationally, this problem is in some sense easier than the DP problem in the NGM that we have seen before, mainly because of the optimization problem. In the NGM, we have maximized the RHS of the Bellman equation over continuous variables (capital and labor). Here, the worker faces a discrete choice: accept or reject the job offer. Hence, we do not need to use derivative-based optimization algorithms like BFGS, instead maximization here means essentially comparing the outcomes under the two options.\n",
    "\n",
    "If we treat $w$ as a continuous variable, we would still approximate the value function using Chebyshev polynomials, and then use a numerical integration approach to evaluate the integral on the right-hand side of the second Bellman equation. However, since we have not talked about numerical integration in this class, we use a simpler approach. We assume that the wage can only take a finite number $N$ of values; hence, it is a discrete random variable. For a uniform distribution, the probability of a given value $w_i$ is $1/N$. We can then approximate the integral with a simple sum:\n",
    "\n",
    "\\begin{equation}\n",
    "    U = u(b) + \\beta \\left[ (1 - \\gamma) U + \\gamma \\frac{1}{N} \\sum_{i = 1}^N \\max\\left\\{V(w_i), U\\right\\}\\right] \n",
    "\\end{equation}"
   ]
  },
  {
   "cell_type": "markdown",
   "metadata": {},
   "source": [
    "Use dynamic programming to solve the model for $N = 60$ possible values for the wage, equally spaced in the interval $[10, 20]$ and the parameter values given below. Plot the value functions against the possible wage rates. At what wage level does the worker accept an offer (in other words, what is the so-called *reservation wage*)?"
   ]
  },
  {
   "cell_type": "code",
   "execution_count": 15,
   "metadata": {},
   "outputs": [],
   "source": [
    "def u(c, nu):\n",
    "    return (c**(1 - nu) - 1) / (1 - nu)\n",
    "\n",
    "alpha = 0.2      # Job separation rate\n",
    "beta = 0.98        # Discount factor\n",
    "gamma = 0.7       # Job offer rate\n",
    "b = 6.0      # Unemployment compensation\n",
    "nu = 2.0       # Utility parameter"
   ]
  },
  {
   "cell_type": "markdown",
   "metadata": {},
   "source": [
    "### Answer"
   ]
  },
  {
   "cell_type": "markdown",
   "metadata": {},
   "source": [
    "#### Grid for wage rates"
   ]
  },
  {
   "cell_type": "code",
   "execution_count": 16,
   "metadata": {},
   "outputs": [],
   "source": [
    "n = 60  # number of possible outcomes for wage\n",
    "w_vec = np.linspace(10, 20, n)     # wages between 10 and 20\n",
    "p_vec = np.ones(n) * 1/n"
   ]
  },
  {
   "cell_type": "markdown",
   "metadata": {},
   "source": [
    "#### Value function iteration\n",
    "\n",
    "In our iteration, we update the current guess for the value functions in the following way:\n",
    "\n",
    "\\begin{equation}\n",
    "    V^{(it + 1)} (w) = u(w) + \\beta \\left[(1-\\alpha)V^{(it)} (w) + \\alpha U^{(it)} \\right]\n",
    "\\end{equation}\n",
    "\n",
    "\n",
    "\\begin{equation}\n",
    "    U^{(it + 1)} = u(b) +\n",
    "    \\beta (1 - \\gamma) U^{(it)}\n",
    "     + \\beta \\gamma \\frac{1}{N} \\sum_{i = 1}^N \\max\\left\\{V^{(it)}(w_i), U^{(it)}\\right\\}\n",
    "\\end{equation}"
   ]
  },
  {
   "cell_type": "code",
   "execution_count": 17,
   "metadata": {},
   "outputs": [
    {
     "name": "stdout",
     "output_type": "stream",
     "text": [
      "9.9971160239e-09 907\n"
     ]
    }
   ],
   "source": [
    "V = np.ones(len(w_vec))  # Initial guess of V\n",
    "V_new = np.ones(len(w_vec))    # To store updates to V\n",
    "U = 1                        # Initial guess of U\n",
    "\n",
    "it = 0\n",
    "eps = 1\n",
    "max_it = 1000\n",
    "\n",
    "while eps > 1e-8 and it < max_it:\n",
    "    it += 1\n",
    "    ## loop over possible wage rates to find V(w)\n",
    "    for idx, w in enumerate(w_vec):\n",
    "        V_new[idx] = u(w, nu) + beta * ((1 - alpha) * V[idx] + alpha * U)\n",
    "    ## compute new guess for U\n",
    "    U_new = u(b, nu) + beta * (1 - gamma) * U + beta * gamma * np.sum(np.maximum(U, V) * p_vec)\n",
    "    \n",
    "    ## check for convergence\n",
    "    eps_1 = np.linalg.norm(V_new - V))\n",
    "    eps_2 = np.abs(U_new - U)\n",
    "    eps = max(eps_1, eps_2)\n",
    "    \n",
    "    ## update current guess for value functions\n",
    "    V[:] = V_new\n",
    "    U = U_new\n",
    "\n",
    "    \n",
    "print(eps, it)    "
   ]
  },
  {
   "cell_type": "markdown",
   "metadata": {},
   "source": [
    "#### Plot value functions"
   ]
  },
  {
   "cell_type": "code",
   "execution_count": 18,
   "metadata": {},
   "outputs": [
    {
     "data": {
      "text/plain": [
       "<matplotlib.legend.Legend at 0x687dab20f0>"
      ]
     },
     "execution_count": 18,
     "metadata": {},
     "output_type": "execute_result"
    },
    {
     "data": {
      "image/png": "[encoded data removed]",
      "text/plain": [
       "<matplotlib.figure.Figure at 0x687da1ac18>"
      ]
     },
     "metadata": {},
     "output_type": "display_data"
    }
   ],
   "source": [
    "fig, ax = plt.subplots()\n",
    "ax.plot(w_vec, V, 'b-', lw=2, label='$V$')\n",
    "ax.plot(w_vec, U * np.ones(len(w_vec)), 'g-', lw=2, label='$U$')\n",
    "ax.set_xlim(min(w_vec), max(w_vec))\n",
    "ax.legend(loc='upper left')"
   ]
  },
  {
   "cell_type": "markdown",
   "metadata": {
    "collapsed": true
   },
   "source": [
    "#### Find reservation wage\n",
    "\n",
    "The reservation wage is the smallest wage such $V(w) > U$: "
   ]
  },
  {
   "cell_type": "code",
   "execution_count": 19,
   "metadata": {},
   "outputs": [
    {
     "name": "stdout",
     "output_type": "stream",
     "text": [
      "The reservation wage is 10.85.\n"
     ]
    }
   ],
   "source": [
    "print(\"The reservation wage is {:.2f}.\".format(w_vec[V > U][0], ) )"
   ]
  }
 ],
 "metadata": {
  "kernelspec": {
   "display_name": "Python 3",
   "language": "python",
   "name": "python3"
  },
  "language_info": {
   "codemirror_mode": {
    "name": "ipython",
    "version": 3
   },
   "file_extension": ".py",
   "mimetype": "text/x-python",
   "name": "python",
   "nbconvert_exporter": "python",
   "pygments_lexer": "ipython3",
   "version": "3.6.0"
  }
 },
 "nbformat": 4,
 "nbformat_minor": 1
}
