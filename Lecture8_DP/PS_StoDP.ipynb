{
 "cells": [
  {
   "cell_type": "markdown",
   "metadata": {},
   "source": [
    "# Computational Methods in Economics\n",
    "\n",
    "## Problem Set 7 - Stochastic Dynamic Programming"
   ]
  },
  {
   "cell_type": "code",
   "execution_count": 1,
   "metadata": {},
   "outputs": [
    {
     "name": "stdout",
     "output_type": "stream",
     "text": [
      "Last update: 2018-01-29 11:12:07.067229\n"
     ]
    }
   ],
   "source": [
    "# Author: Alex Schmitt (schmitt@ifo.de)\n",
    "\n",
    "import datetime\n",
    "print('Last update: ' + str(datetime.datetime.today()))"
   ]
  },
  {
   "cell_type": "markdown",
   "metadata": {},
   "source": [
    "### Preliminaries\n",
    "\n",
    "#### Import Modules"
   ]
  },
  {
   "cell_type": "code",
   "execution_count": 2,
   "metadata": {},
   "outputs": [],
   "source": [
    "import numpy as np\n",
    "import scipy.optimize\n",
    "\n",
    "import matplotlib.pyplot as plt\n",
    "%matplotlib inline\n",
    "import seaborn\n",
    "\n",
    "import funapprox_cme as fa"
   ]
  },
  {
   "cell_type": "markdown",
   "metadata": {},
   "source": [
    "## Question 1 (N)\n",
    "\n",
    "Consider the following *stochastic* version of the NGM:\n",
    "\n",
    "\\begin{equation}\n",
    "    \\max_{\\left\\{c_t, k_{t+1}, h_{t} \\right\\}_{t = 0}^\\infty} \\mathbb{E} \\sum^\\infty_{t = 0} \\beta^t \\left[\\frac{c_t^{1 - \\nu}}{1 - \\nu} - B \\frac{h_t^{1+\\eta}}{1+\\eta}\\right]\n",
    "\\end{equation}\n",
    "\n",
    "s.t.\n",
    "\n",
    "\\begin{equation}\n",
    "    c_t + k_{t + 1} =  z_t A k_t^\\alpha h_{t}^{1-\\alpha} + (1 - \\delta) k_t\n",
    "\\end{equation}\n",
    "\n",
    "with $z_t \\in \\{0.98, 1.02\\}$. Compared to the standard model that we have seen so far, we assume that output is affected by a *productivity shock* $z_t$. In other words, $z_t$ is a discrete random variable (i.e. follows a stochastic process) whose \"support\" consists of two values, a low state $z_0 = 0.98$ and a high state $z_1 = 1.02$.\n",
    "\n",
    "We assume that these states are \"persistent\" in the sense that if the economy is in one state in period $t$, it is more likely to be in the same state in period $t+1$, rather than to moving to a different state. We can formalize this with a *probability transition matrix*:\n",
    "\n",
    "\\begin{equation}\n",
    "    P =  \\left[\\begin{array}{cc}\n",
    "    p_{00} & p_{01} \\\\\n",
    "    p_{10} & p_{11} \\\\\n",
    "    \\end{array}\\right]\n",
    "\\end{equation}\n",
    "\n",
    "The element $p_{ij}$ denotes the constant probability to move from state $i$ to state $j$ between two periods. Hence, it has to hold that $p_{00} + p_{01} = 1$ and $p_{10} + p_{11} = 1$.\n",
    "\n",
    "(a) Think about solving this model using a sequential approach. Why is this much more computationally intensive than for the deterministic model we have seen before? In other words, how many variables would the algorithm have to find when solving the model for a finite number of periods $T$?\n",
    "\n",
    "(b) We now solve the model using dynamic programming, for the parameter values given below:"
   ]
  },
  {
   "cell_type": "code",
   "execution_count": 3,
   "metadata": {},
   "outputs": [],
   "source": [
    "## utility\n",
    "beta = 0.8      # discount factor\n",
    "nu = 2       # risk-aversion coefficient for consumption\n",
    "eta = 1         # elasticity parameter for labor supply\n",
    "\n",
    "## production\n",
    "alpha = 0.25\n",
    "delta = 0.1\n",
    "## derived\n",
    "A = (1 - beta * (1 - delta))/(alpha*beta) # normalization parameter for production function => steady state k = 1\n",
    "B = (1 - alpha) * A * (A - delta)**(-nu)      # parameter for utility function\n",
    "## initial capital stock\n",
    "k0 = 1\n",
    "\n",
    "params = {'beta': beta, 'nu': nu, 'eta': eta, \n",
    "          'alpha': alpha, 'delta': delta, 'A': A, 'B': B }"
   ]
  },
  {
   "cell_type": "code",
   "execution_count": 4,
   "metadata": {},
   "outputs": [],
   "source": [
    "## stochastic states and transition matrix\n",
    "z = [0.98 , 1.02]\n",
    "P = np.array([[0.8, 0.2],\n",
    "                [0.2, 0.8]])"
   ]
  },
  {
   "cell_type": "markdown",
   "metadata": {},
   "source": [
    "Note that this model has two states, $k$ and $z$. However, in contrast to the two-state problem in question 4 in the previous problem set, $z$ is not a continuous variable, but can only take a *discrete* number of values (here 2). Hence, one approach to dynamic programming in this setting is to approximate the value function as a univariate function, but have two \"instances\" of $V$, one when the economy is in state 0 and one in state 1. \n",
    "\n",
    "In other words, we have approximations $\\hat{V}^{(it)}_0(k) = \\hat{V}(k; a^{(it)}_0)$ and $\\hat{V}^{(it)}_1(k) = \\hat{V}(k; a^{(it)}_1)$. This implies that the fitting step in every iteration of our value function iteration algorithm includes finding *two* vectors of basis coefficients.\n",
    "\n",
    "Moreover, note that the continuation value on the right hand side of the Bellman equation is given by the expectation over the possible states. In other words, when we are in state 0, we remain in state 0 with probability $p_{00}$ and move to state 1 with probability $p_{01}$. Hence, the expected continuation value is \n",
    "\n",
    "\\begin{equation}\n",
    "    p_{00} \\hat{V}(k'; a^{(it)}_0) + p_{01} \\hat{V}(k'; a^{(it)}_1)\n",
    "\\end{equation}\n",
    "\n",
    "and analogous if the economy is in state 1. Hence, the full Bellman equation to be used for the VFI algorithm when being in state $j \\in \\{0, 1\\}$ reads \n",
    "\n",
    "\\begin{equation}\n",
    "    \\hat{V}^{(it + 1)}_j(k) \\leftarrow \\max_{k', h} u(z_j f(k, h) + (1 - \\delta) k - k') + \\beta\\left[p_{j0} \\hat{V}^{(it)}_0(k') + p_{j1} \\hat{V}^{(it)}_0(k')\\right]\n",
    "\\end{equation}\n",
    "\n",
    "In other words, we essentially have two Bellman equations, one for each state. \n",
    "\n",
    "Solve the problem and derive the approximate policy functions. Simulate the economy over $T = 80$ periods. To simulate a sequence of shocks, $z_t$, you can use the following code:"
   ]
  },
  {
   "cell_type": "code",
   "execution_count": 5,
   "metadata": {},
   "outputs": [],
   "source": [
    "## number of periods\n",
    "T = 80\n",
    "\n",
    "## initialize array to keep track of time series\n",
    "zt = np.zeros(T+1, dtype=np.int)\n",
    "\n",
    "## initial shock \n",
    "zt[0] = 0\n",
    "\n",
    "## loop over time and draw shocks\n",
    "for t in range(T):\n",
    "    draw = np.random.uniform()       \n",
    "    \n",
    "    if draw < P[zt[t], 0]:\n",
    "        zt[t+1] = 0\n",
    "    else:\n",
    "        zt[t+1] = 1 "
   ]
  },
  {
   "cell_type": "code",
   "execution_count": null,
   "metadata": {},
   "outputs": [],
   "source": []
  },
  {
   "cell_type": "markdown",
   "metadata": {},
   "source": [
    "## Question 2 (N)\n",
    "\n",
    "In this question, we look at a different application of dynamic programming: modeling job search. More specifically, we look at the famous *McCall job search model* (McCall 1970). The exposition follows the section on quantecon.org; for more information, see https://lectures.quantecon.org/py/mccall_model.html.\n",
    "\n",
    "In any period $t$, an infinitely-lived worker can be in one of two states, employed or unemployed. In the former case, she receives income $y_t = w$ (a wage), in the latter case she receives $y_t = b$, a fixed unemployment benefit. Her lifeftime utility is given by \n",
    "\n",
    "\\begin{equation}\n",
    "{\\mathbb E} \\sum_{t=0}^\\infty \\beta^t u(y_t)\n",
    "\\end{equation}\n",
    "\n",
    "where $\\beta$ is a discount factor.\n",
    "\n",
    "In any period $t$, when the worker is employed, she loses her job with a given probability $\\alpha$. In this case, she has no decision to take. In the other state, if the worker starts period $t$ being unemployed, she receives a job offer with probability $\\gamma$. Moreover, the wage corresponding to the offer is a random variable, drawn from a uniform distribution $p$, with the minimum and maximum level given by $\\underline{w}$ and $\\bar{w}$, respectively. The worker then decides whether or not to accept the offer. If she accepts, she starts the following period being employed, while if she rejects, she remains unemployed."
   ]
  },
  {
   "cell_type": "markdown",
   "metadata": {},
   "source": [
    "How can we write the Bellman equation for this model? As in question 1, we actually need two Bellman equations, one for each state. Let $V(w)$ denote the value of being employed with wage $w$, and let $U$ denote the value of being unemployed. Then, the Bellman equation when being employed reads:\n",
    "\n",
    "\\begin{equation}\n",
    "    V(w) = u(w) + \\beta\\left[(1 - \\alpha) V(w) + \\alpha U \\right] \n",
    "\\end{equation}\n",
    "\n",
    "Again, note that there is no maximization problem on the right-hand side, since the worker has no decision to take: if she doesn't lose her job, she receives the same wage in the following period. \n",
    "\n",
    "When being unemployed, the Bellman equation reads:\n",
    "\n",
    "\\begin{equation}\n",
    "    U = u(b) + \\beta \\left[ (1 - \\gamma) U + \\gamma \\int_{\\underline{w}}^{\\bar{w}} \\max\\left\\{V(w'), U\\right\\}    p(w') dw'\\right] \n",
    "\\end{equation}\n",
    "\n",
    "Consider the two possible cases when starting period $t$ unemployed:\n",
    "\n",
    "- With probability $(1 - \\gamma)$, the worker does not receive a job offer and remains unemployed at the start of period $t + 1$.\n",
    "\n",
    "- With probability $\\gamma$, she receives a job offer, with a wage drawn from distribution $p$. In order to find the expected continuation value, since the wage is a continuous variable, we have to integrate over the range of possible outcomes $[\\underline{w}, \\bar{w}]$. For each wage rate $w'$, the worker would then decide whether to accept the offer (in this case, her continuation  value is $V(w')$) or to reject it, in which case she remains unemployed and has continuation value $U$. The decision is based on what choice gives the higher continuation value.\n",
    "\n",
    "Note that the value $U$ does not depend on any wage rate, and hence is actually a constant, rather than a function."
   ]
  },
  {
   "cell_type": "markdown",
   "metadata": {},
   "source": [
    "Computationally, this problem is in some sense easier than the DP problem in the NGM that we have seen before, mainly because of the optimization problem. In the NGM, we have maximized the RHS of the Bellman equation over continuous variables (capital and labor). Here, the worker faces a discrete choice: accept or reject the job offer. Hence, we do not need to use derivative-based optimization algorithms like BFGS, instead maximization here means essentially comparing the outcomes under the two options.\n",
    "\n",
    "If we treat $w$ as a continuous variable, we would still approximate the value function using Chebyshev polynomials, and then use a numerical integration approach to evaluate the integral on the right-hand side of the second Bellman equation. However, since we have not talked about numerical integration in this class, we use a simpler approach. We assume that the wage can only take a finite number $N$ of values; hence, it is a discrete random variable. For a uniform distribution, the probability of a given value $w_i$ is $1/N$. We can then approximate the integral with a simple sum:\n",
    "\n",
    "\\begin{equation}\n",
    "    U = u(b) + \\beta \\left[ (1 - \\gamma) U + \\gamma \\frac{1}{N} \\sum_{i = 1}^N \\max\\left\\{V(w_i), U\\right\\}\\right] \n",
    "\\end{equation}"
   ]
  },
  {
   "cell_type": "markdown",
   "metadata": {},
   "source": [
    "Use dynamic programming to solve the model for $N = 60$ possible values for the wage, equally spaced in the interval $[10, 20]$ and the parameter values given below. Plot the value functions against the possible wage rates. At what wage level does the worker accept an offer (in other words, what is the so-called *reservation wage*)?"
   ]
  },
  {
   "cell_type": "code",
   "execution_count": 6,
   "metadata": {},
   "outputs": [],
   "source": [
    "def u(c, nu):\n",
    "    return (c**(1 - nu) - 1) / (1 - nu)\n",
    "\n",
    "alpha = 0.2      # Job separation rate\n",
    "beta = 0.98        # Discount factor\n",
    "gamma = 0.7       # Job offer rate\n",
    "b = 6.0      # Unemployment compensation\n",
    "nu = 2.0       # Utility parameter"
   ]
  },
  {
   "cell_type": "code",
   "execution_count": null,
   "metadata": {},
   "outputs": [],
   "source": []
  }
 ],
 "metadata": {
  "kernelspec": {
   "display_name": "Python 3",
   "language": "python",
   "name": "python3"
  },
  "language_info": {
   "codemirror_mode": {
    "name": "ipython",
    "version": 3
   },
   "file_extension": ".py",
   "mimetype": "text/x-python",
   "name": "python",
   "nbconvert_exporter": "python",
   "pygments_lexer": "ipython3",
   "version": "3.6.0"
  }
 },
 "nbformat": 4,
 "nbformat_minor": 1
}
