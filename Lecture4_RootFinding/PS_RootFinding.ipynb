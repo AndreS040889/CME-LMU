{
 "cells": [
  {
   "cell_type": "markdown",
   "metadata": {},
   "source": [
    "# Computational Methods in Economics\n",
    "\n",
    "## Problem Set - Root Finding"
   ]
  },
  {
   "cell_type": "code",
   "execution_count": 1,
   "metadata": {
    "collapsed": false
   },
   "outputs": [
    {
     "name": "stdout",
     "output_type": "stream",
     "text": [
      "Last update: 2017-11-03 18:08:52.056338\n"
     ]
    }
   ],
   "source": [
    "# Author: Alex Schmitt (schmitt@ifo.de)\n",
    "\n",
    "import datetime\n",
    "print('Last update: ' + str(datetime.datetime.today()))"
   ]
  },
  {
   "cell_type": "markdown",
   "metadata": {},
   "source": [
    "### Preliminaries\n",
    "\n",
    "#### Import Modules"
   ]
  },
  {
   "cell_type": "code",
   "execution_count": 2,
   "metadata": {
    "collapsed": true
   },
   "outputs": [],
   "source": [
    "import numpy as np\n",
    "import scipy.optimize\n",
    "\n",
    "import matplotlib.pyplot as plt\n",
    "%matplotlib inline\n",
    "import seaborn\n",
    "\n",
    "import numpy as np\n",
    "import scipy.optimize\n",
    "import scipy.linalg\n",
    "\n",
    "\n",
    "# import sys\n",
    "from importlib import reload"
   ]
  },
  {
   "cell_type": "markdown",
   "metadata": {},
   "source": [
    "## Question 1 (N)\n",
    "\n",
    "Write a function **mybisect(f, a, b)** in Python that implements the pseudo-code for the bisection method from the lecture. Then, test it on the function \n",
    "\\begin{equation*}\n",
    "    f(x) = \\sin(4 (x - 1/4)) + x + x^{20} - 1,\n",
    "\\end{equation*}\n",
    "i.e. find a root of this function. Compare your result to what SciPy's in-built function returns. \n",
    "\n",
    "*Hint*: most modern programming languages have some type of **while**-loop, which will prove useful here. Moreover, in Python/NumPy, consider using the **abs()** and **np.sign()** functions.  "
   ]
  },
  {
   "cell_type": "code",
   "execution_count": 3,
   "metadata": {
    "collapsed": false
   },
   "outputs": [
    {
     "name": "stdout",
     "output_type": "stream",
     "text": [
      "0.408293504267931\n",
      "0.4082935042806639\n"
     ]
    }
   ],
   "source": [
    "# function to use bisection on\n",
    "def fun(x):\n",
    "    return np.sin(4 * (x - 0.25)) + x + x**20 - 1\n",
    "\n",
    "\n",
    "def mybisect(fun, a, b):\n",
    "    \"\"\"\n",
    "    Implements the bisection method\n",
    "    \"\"\"\n",
    "    # choose tolerance level\n",
    "    tol = 1e-10\n",
    "    # initialize d \n",
    "    d = 1\n",
    "    # while-loop: iterate until d sufficiently small\n",
    "    while abs(d) > tol:\n",
    "        # find intermediate value between a and b\n",
    "        x = (a + b)/2\n",
    "        # evaluate function\n",
    "        d = fun(x)\n",
    "        # find new end points for interval [a,b]\n",
    "        if np.sign(d) == np.sign(fun(a)):\n",
    "            a = x\n",
    "        elif np.sign(d) == np.sign(fun(b)):\n",
    "            b = x\n",
    "    \n",
    "    return x\n",
    "\n",
    "print(mybisect(fun,0,2))        \n",
    "print(scipy.optimize.bisect(fun,0,2))"
   ]
  },
  {
   "cell_type": "markdown",
   "metadata": {},
   "source": [
    "## Question 2 (N)"
   ]
  },
  {
   "cell_type": "code",
   "execution_count": null,
   "metadata": {
    "collapsed": true
   },
   "outputs": [],
   "source": []
  },
  {
   "cell_type": "markdown",
   "metadata": {},
   "source": [
    "## Question 3 (A)"
   ]
  },
  {
   "cell_type": "markdown",
   "metadata": {},
   "source": [
    "## Question 4 (N)"
   ]
  },
  {
   "cell_type": "code",
   "execution_count": null,
   "metadata": {
    "collapsed": true
   },
   "outputs": [],
   "source": []
  }
 ],
 "metadata": {
  "kernelspec": {
   "display_name": "Python 3",
   "language": "python",
   "name": "python3"
  },
  "language_info": {
   "codemirror_mode": {
    "name": "ipython",
    "version": 3
   },
   "file_extension": ".py",
   "mimetype": "text/x-python",
   "name": "python",
   "nbconvert_exporter": "python",
   "pygments_lexer": "ipython3",
   "version": "3.6.0"
  }
 },
 "nbformat": 4,
 "nbformat_minor": 0
}
