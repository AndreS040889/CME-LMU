{
 "cells": [
  {
   "cell_type": "markdown",
   "metadata": {},
   "source": [
    "# Computational Methods in Economics\n",
    "\n",
    "## Problem Set - Root Finding"
   ]
  },
  {
   "cell_type": "code",
   "execution_count": 1,
   "metadata": {
    "collapsed": false
   },
   "outputs": [
    {
     "name": "stdout",
     "output_type": "stream",
     "text": [
      "Last update: 2017-11-11 10:13:59.716031\n"
     ]
    }
   ],
   "source": [
    "# Author: Alex Schmitt (schmitt@ifo.de)\n",
    "\n",
    "import datetime\n",
    "print('Last update: ' + str(datetime.datetime.today()))"
   ]
  },
  {
   "cell_type": "markdown",
   "metadata": {},
   "source": [
    "### Preliminaries\n",
    "\n",
    "#### Import Modules"
   ]
  },
  {
   "cell_type": "code",
   "execution_count": 2,
   "metadata": {
    "collapsed": true
   },
   "outputs": [],
   "source": [
    "import numpy as np\n",
    "import scipy.optimize\n",
    "\n",
    "import matplotlib.pyplot as plt\n",
    "%matplotlib inline\n",
    "import seaborn\n",
    "\n",
    "import numpy as np\n",
    "import scipy.optimize\n",
    "import scipy.linalg\n",
    "\n",
    "\n",
    "# import sys\n",
    "from importlib import reload"
   ]
  },
  {
   "cell_type": "markdown",
   "metadata": {},
   "source": [
    "## Question 1 (N)\n",
    "\n",
    "Write a function **mybisect(f, a, b)** in Python that implements the pseudo-code for the bisection method from the lecture. Then, test it on the function \n",
    "\\begin{equation*}\n",
    "    f(x) = \\sin(4 (x - 1/4)) + x + x^{20} - 1,\n",
    "\\end{equation*}\n",
    "i.e. find a root of this function. Compare your result to what SciPy's in-built function returns. \n",
    "\n",
    "*Hint*: most modern programming languages have some type of **while**-loop, which will prove useful here. Moreover, in Python/NumPy, consider using the **abs()** and **np.sign()** functions.  "
   ]
  },
  {
   "cell_type": "code",
   "execution_count": 3,
   "metadata": {
    "collapsed": false
   },
   "outputs": [
    {
     "name": "stdout",
     "output_type": "stream",
     "text": [
      "0.408293504267931\n",
      "0.4082935042806639\n"
     ]
    }
   ],
   "source": [
    "# function to use bisection on\n",
    "def fun(x):\n",
    "    return np.sin(4 * (x - 0.25)) + x + x**20 - 1\n",
    "\n",
    "\n",
    "def mybisect(fun, a, b):\n",
    "    \"\"\"\n",
    "    Implements the bisection method\n",
    "    \"\"\"\n",
    "    # choose tolerance level\n",
    "    tol = 1e-10\n",
    "    # initialize d \n",
    "    d = 1\n",
    "    # while-loop: iterate until d sufficiently small\n",
    "    while abs(d) > tol:\n",
    "        # find intermediate value between a and b\n",
    "        x = (a + b)/2\n",
    "        # evaluate function\n",
    "        d = fun(x)\n",
    "        # find new end points for interval [a,b]\n",
    "        if np.sign(d) == np.sign(fun(a)):\n",
    "            a = x\n",
    "        elif np.sign(d) == np.sign(fun(b)):\n",
    "            b = x\n",
    "    \n",
    "    return x\n",
    "\n",
    "print(mybisect(fun,0,2))        \n",
    "print(scipy.optimize.bisect(fun,0,2))"
   ]
  },
  {
   "cell_type": "markdown",
   "metadata": {},
   "source": [
    "## Question 2 (N)"
   ]
  },
  {
   "cell_type": "markdown",
   "metadata": {
    "collapsed": true
   },
   "source": [
    "Write a function **mysecant(f, x0)** in Python that implements the pseudo-code for the secant method from the lecture. Again, test it on the function $f$ and compare the result to question 1."
   ]
  },
  {
   "cell_type": "code",
   "execution_count": 17,
   "metadata": {
    "collapsed": false
   },
   "outputs": [
    {
     "name": "stdout",
     "output_type": "stream",
     "text": [
      "0.56032103275\n",
      "0.439946290312\n",
      "0.398938029656\n",
      "0.408647798005\n",
      "0.408297121241\n",
      "0.408293502842\n",
      "0.408293504279\n",
      "Number of iterations = 7\n"
     ]
    }
   ],
   "source": [
    "def g_secant(fun, f_old, x, x_old):\n",
    "    f = fun(x)\n",
    "    fd = (f - f_old) / (x - x_old)\n",
    "\n",
    "    return x - f * fd**(-1), f\n",
    "\n",
    "\n",
    "def my_secant(fun, x):\n",
    "    \n",
    "    eps = 1\n",
    "    tol = 1e-8\n",
    "    it = 0\n",
    "    \n",
    "    x_old = 0.9 * x\n",
    "    f_old = fun(x_old)\n",
    "    \n",
    "#     while eps > tol:\n",
    "#         it += 1\n",
    "#         x_new = g_secant(fun, fun_d, x)\n",
    "#         eps = abs(x - x_new)\n",
    "#         x = x_new\n",
    "#         print(x_new)\n",
    "\n",
    "    while eps > tol and it < 10:\n",
    "        it += 1\n",
    "        x_new, f = g_secant(fun, f_old, x, x_old)\n",
    "        eps = abs(x - x_new)\n",
    "        \n",
    "        f_old = f\n",
    "        x_old = x\n",
    "        \n",
    "        x = x_new\n",
    "        print(x_new)\n",
    "\n",
    "    \n",
    "    print(\"Number of iterations = {}\".format(it) )\n",
    "    \n",
    "    return x\n",
    "\n",
    "x_root = my_secant(fun, 0.01)"
   ]
  },
  {
   "cell_type": "code",
   "execution_count": 18,
   "metadata": {
    "collapsed": false
   },
   "outputs": [
    {
     "name": "stdout",
     "output_type": "stream",
     "text": [
      "0.56032103275\n",
      "0.439946290312\n",
      "0.398938029656\n",
      "0.408647798005\n",
      "0.408297121241\n",
      "0.408293502842\n",
      "0.408293504279\n",
      "Number of iterations = 7\n",
      "0.56032103275\n",
      "0.439946290312\n",
      "0.398938029656\n",
      "0.408647798005\n",
      "0.408297121241\n",
      "0.408293502842\n",
      "0.408293504279\n",
      "Number of iterations = 7\n",
      "0.56032103275\n",
      "0.439946290312\n",
      "0.398938029656\n",
      "0.408647798005\n",
      "0.408297121241\n",
      "0.408293502842\n",
      "0.408293504279\n",
      "Number of iterations = 7\n",
      "1 loop, best of 3: 327 µs per loop\n"
     ]
    }
   ],
   "source": [
    "%timeit -n1 my_secant(fun, 0.01)"
   ]
  },
  {
   "cell_type": "code",
   "execution_count": 21,
   "metadata": {
    "collapsed": false
   },
   "outputs": [
    {
     "name": "stdout",
     "output_type": "stream",
     "text": [
      "0.548611001734\n",
      "0.348816528199\n",
      "0.405928449254\n",
      "0.408314052695\n",
      "0.408293266665\n",
      "0.408293507021\n",
      "0.408293504248\n",
      "Number of iterations = 7\n"
     ]
    }
   ],
   "source": [
    "def g_secant_alt(fun, x):\n",
    "    f = fun(x)\n",
    "    fd = (fun(x + 1e-2) - f) / 1e-2\n",
    "    return x - f * fd**(-1)\n",
    "\n",
    "def my_secant_alt(fun, x):\n",
    "    \n",
    "    eps = 1\n",
    "    tol = 1e-8\n",
    "    it = 0\n",
    "    \n",
    "    \n",
    "    while eps > tol:\n",
    "        it += 1\n",
    "        x_new = g_secant_alt(fun, x)\n",
    "        eps = abs(x - x_new)\n",
    "        x = x_new\n",
    "        print(x_new)\n",
    "    \n",
    "    print(\"Number of iterations = {}\".format(it) )\n",
    "    \n",
    "    return x\n",
    "\n",
    "x_root = my_secant_alt(fun, 0.01)"
   ]
  },
  {
   "cell_type": "code",
   "execution_count": 22,
   "metadata": {
    "collapsed": false
   },
   "outputs": [
    {
     "name": "stdout",
     "output_type": "stream",
     "text": [
      "0.548611001734\n",
      "0.348816528199\n",
      "0.405928449254\n",
      "0.408314052695\n",
      "0.408293266665\n",
      "0.408293507021\n",
      "0.408293504248\n",
      "Number of iterations = 7\n",
      "0.548611001734\n",
      "0.348816528199\n",
      "0.405928449254\n",
      "0.408314052695\n",
      "0.408293266665\n",
      "0.408293507021\n",
      "0.408293504248\n",
      "Number of iterations = 7\n",
      "0.548611001734\n",
      "0.348816528199\n",
      "0.405928449254\n",
      "0.408314052695\n",
      "0.408293266665\n",
      "0.408293507021\n",
      "0.408293504248\n",
      "Number of iterations = 7\n",
      "1 loop, best of 3: 230 µs per loop\n"
     ]
    }
   ],
   "source": [
    "%timeit -n1 my_secant_alt(fun, 0.01)"
   ]
  },
  {
   "cell_type": "markdown",
   "metadata": {},
   "source": [
    "## Question 3 (N)\n",
    "\n",
    "Solve the example about the Cournot Duopoly in M&F, p. ?? ff., in Python using Newton's method, and compare your result to M&F."
   ]
  },
  {
   "cell_type": "markdown",
   "metadata": {},
   "source": [
    "## Question 4 (N)"
   ]
  },
  {
   "cell_type": "code",
   "execution_count": null,
   "metadata": {
    "collapsed": true
   },
   "outputs": [],
   "source": []
  }
 ],
 "metadata": {
  "kernelspec": {
   "display_name": "Python 3",
   "language": "python",
   "name": "python3"
  },
  "language_info": {
   "codemirror_mode": {
    "name": "ipython",
    "version": 3
   },
   "file_extension": ".py",
   "mimetype": "text/x-python",
   "name": "python",
   "nbconvert_exporter": "python",
   "pygments_lexer": "ipython3",
   "version": "3.5.3"
  }
 },
 "nbformat": 4,
 "nbformat_minor": 0
}
