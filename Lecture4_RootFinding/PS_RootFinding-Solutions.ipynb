{
 "cells": [
  {
   "cell_type": "markdown",
   "metadata": {},
   "source": [
    "# Computational Methods in Economics\n",
    "\n",
    "## Problem Set - Root Finding: Suggested Solutions"
   ]
  },
  {
   "cell_type": "code",
   "execution_count": 1,
   "metadata": {
    "collapsed": false
   },
   "outputs": [
    {
     "name": "stdout",
     "output_type": "stream",
     "text": [
      "Last update: 2017-12-04 15:24:40.090714\n"
     ]
    }
   ],
   "source": [
    "# Author: Alex Schmitt (schmitt@ifo.de)\n",
    "\n",
    "import datetime\n",
    "print('Last update: ' + str(datetime.datetime.today()))"
   ]
  },
  {
   "cell_type": "markdown",
   "metadata": {},
   "source": [
    "### Preliminaries\n",
    "\n",
    "#### Import Modules"
   ]
  },
  {
   "cell_type": "code",
   "execution_count": 2,
   "metadata": {
    "collapsed": true
   },
   "outputs": [],
   "source": [
    "import numpy as np\n",
    "import scipy.optimize\n",
    "\n",
    "import matplotlib.pyplot as plt\n",
    "%matplotlib inline\n",
    "import seaborn\n",
    "\n",
    "import numpy as np\n",
    "import scipy.optimize\n",
    "import scipy.linalg\n",
    "\n",
    "\n",
    "# import sys\n",
    "from importlib import reload"
   ]
  },
  {
   "cell_type": "markdown",
   "metadata": {},
   "source": [
    "## Question 1 (N)\n",
    "\n",
    "Write a function **mybisect(f, a, b)** in Python that implements the pseudo-code for the bisection method from the lecture. Then, test it on the function \n",
    "\\begin{equation*}\n",
    "    f(x) = \\sin(4 (x - 1/4)) + x + x^{20} - 1,\n",
    "\\end{equation*}\n",
    "i.e. find a root of this function. Compare your result to what SciPy's in-built function returns. \n",
    "\n",
    "*Hint*: most modern programming languages have some type of **while**-loop, which will prove useful here. Moreover, in Python/NumPy, consider using the **abs()** and **np.sign()** functions.  "
   ]
  },
  {
   "cell_type": "code",
   "execution_count": 4,
   "metadata": {
    "collapsed": false
   },
   "outputs": [
    {
     "name": "stdout",
     "output_type": "stream",
     "text": [
      "0.408293504267931\n",
      "0.4082935042806639\n"
     ]
    }
   ],
   "source": [
    "# function to use bisection on\n",
    "def fun(x):\n",
    "    return np.sin(4 * (x - 0.25)) + x + x**20 - 1\n",
    "\n",
    "\n",
    "def mybisect(fun, a, b):\n",
    "    \"\"\"\n",
    "    Implements the bisection method\n",
    "    \"\"\"\n",
    "    # choose tolerance level\n",
    "    tol = 1e-10\n",
    "    # initialize d \n",
    "    d = 1\n",
    "    # while-loop: iterate until d sufficiently small\n",
    "    while abs(d) > tol:\n",
    "        # find intermediate value between a and b\n",
    "        x = (a + b)/2\n",
    "        # evaluate function\n",
    "        d = fun(x)\n",
    "        # find new end points for interval [a,b]\n",
    "        if np.sign(d) == np.sign(fun(a)):\n",
    "            a = x\n",
    "        elif np.sign(d) == np.sign(fun(b)):\n",
    "            b = x\n",
    "    \n",
    "    return x\n",
    "\n",
    "print(mybisect(fun,0,2))        \n",
    "print(scipy.optimize.bisect(fun,0,2))"
   ]
  },
  {
   "cell_type": "code",
   "execution_count": 16,
   "metadata": {
    "collapsed": false
   },
   "outputs": [
    {
     "name": "stdout",
     "output_type": "stream",
     "text": [
      "1 loop, best of 1: 1.69 ms per loop\n"
     ]
    }
   ],
   "source": [
    "%timeit -r1 -n1 mybisect(fun,0,2)"
   ]
  },
  {
   "cell_type": "markdown",
   "metadata": {},
   "source": [
    "## Question 2 (N)\n",
    "\n",
    "Solve the example about the Cournot Duopoly in M&F, p. 35 ff., in Python using Newton's method, and compare your result to M&F."
   ]
  },
  {
   "cell_type": "code",
   "execution_count": null,
   "metadata": {
    "collapsed": true
   },
   "outputs": [],
   "source": []
  },
  {
   "cell_type": "markdown",
   "metadata": {},
   "source": [
    "## Question 3 (N)\n",
    "\n",
    "Modify the pseudo-code for Newton's method to include backstepping, as outlined in the lecture. Then, include backstepping to the Python function **my_newton**. "
   ]
  },
  {
   "cell_type": "markdown",
   "metadata": {},
   "source": [
    "Pseudo-code for Newton's method with backstepping:\n",
    "\n",
    "(i) Specify tolerance levels $tol1$ and $tol2$ and choose a starting guess $x^{(0)}$.\n",
    "\n",
    "(ii) Compute the suggested step as \n",
    "\n",
    "\\begin{equation}\n",
    " s^{(k)} = - J(x^{(k)})^{-1} f(x^{(k)})\n",
    "\\end{equation}\n",
    "\n",
    "(iii) If $\\left| \\left|\\ f(x^{(k)} + s^{(k)}) \\right| \\right|$ < $\\left| \\left|\\ f(x^{(k)}) \\right| \\right|$, set $x^{(k+1)} = x^{(k)} + s^{(k)}$ and go to (vi).\n",
    "\n",
    "(iv) Otherwise, if $\\left| \\left|\\ f\\left(x^{(k)} + \\frac{s^{(k)}}{2}\\right) \\right| \\right|$ < $\\left| \\left|\\ f(x^{(k)} + s^{(k)}) \\right| \\right|$, set $s^{(k)} = \\frac{s^{(k)}}{2}$ and go back to (iii).\n",
    "\n",
    "(v) Otherwise, set $x^{(k+1)} = x^{(k)} + s^{(k)}$.\n",
    "\n",
    "(vi) Check the stopping rule: if $\\left| \\left|\\ x^{(k+1)} - x^{(k)}) \\right| \\right| < tol1$, stop. If not, go back to (ii).\n",
    "\n",
    "(vii) If $\\left| \\left|\\ f(x^{(k)}) \\right| \\right| < tol2$, report $x^{(k+1)}$ as the solution. Otherwise, report failure. "
   ]
  },
  {
   "cell_type": "code",
   "execution_count": 39,
   "metadata": {
    "collapsed": false
   },
   "outputs": [],
   "source": [
    "def my_newton_bs(fun, fun_d, x,  tol1 = 1e-8,  tol2 = 1e-8, maxit = 100):\n",
    "    \"\"\"\n",
    "    Implements Newton's method for a vector-valued function with backstepping\n",
    "    \"\"\"    \n",
    "    dist = 1\n",
    "    it = 0\n",
    "    \n",
    "    while dist > tol1 and it < maxit:\n",
    "        it += 1\n",
    "        f, J = fun(x), fun_d(x)\n",
    "        ## step (ii): compute suggested step\n",
    "        s = - np.linalg.inv(J) @ f\n",
    "        \n",
    "        ## start backstepping routin\n",
    "        while np.linalg.norm( fun(x + s) ) > np.linalg.norm( fun(x) ): ## step (iii)\n",
    "            if np.linalg.norm( fun(x + 0.5 * s) ) < np.linalg.norm( fun(x + s) ): # step (iv)\n",
    "                s = 0.5 * s\n",
    "            else:   # step (v)\n",
    "                break ## terminate inner while loop \n",
    "        \n",
    "        x_new = x + s\n",
    "        dist = np.linalg.norm(x - x_new)\n",
    "        x = x_new\n",
    "    \n",
    "    print(\"Number of iterations = {}\".format(it) )\n",
    "    \n",
    "    if np.linalg.norm( fun(x) ) < tol2:\n",
    "        return x\n",
    "    else:\n",
    "        print('No solution found!')\n"
   ]
  },
  {
   "cell_type": "markdown",
   "metadata": {},
   "source": [
    "Compare the example from the lecture:"
   ]
  },
  {
   "cell_type": "code",
   "execution_count": 40,
   "metadata": {
    "collapsed": false
   },
   "outputs": [
    {
     "name": "stdout",
     "output_type": "stream",
     "text": [
      "Number of iterations = 24\n",
      "[ 1.57079633  1.        ]\n"
     ]
    }
   ],
   "source": [
    "def fun_vv(x):\n",
    "    \"\"\"\n",
    "    Implements a system of equation in two unknowns, here f(x) = [x2**2 - 1; sin(x1) - x2]\n",
    "    \"\"\"\n",
    "    return np.array( (x[1]**2 - 1 , np.sin(x[0]) - x[1] ) )\n",
    "\n",
    "\n",
    "def fun_J(x):\n",
    "    \"\"\"\n",
    "    Implements the Jacobian system of equation in two unknowns above\n",
    "    \"\"\"\n",
    "    f_00 = 0\n",
    "    f_01 = 2 * x[1]\n",
    "    f_10 = np.cos(x[0])\n",
    "    f_11 = -1\n",
    "    \n",
    "    return np.array([[f_00, f_01], [f_10, f_11]])  \n",
    "\n",
    "        \n",
    "x_init = [1.5,0.9]\n",
    "x = my_newton_bs(fun_vv, fun_J, x_init)\n",
    "print(x)"
   ]
  },
  {
   "cell_type": "markdown",
   "metadata": {},
   "source": [
    "## Question 4 (N)"
   ]
  },
  {
   "cell_type": "markdown",
   "metadata": {
    "collapsed": true
   },
   "source": [
    "Write a function **mysecant(f, x0)** in Python that implements the pseudo-code for the secant method from the lecture. Again, test it on the function $f$ and compare the result to question 1."
   ]
  },
  {
   "cell_type": "code",
   "execution_count": 41,
   "metadata": {
    "collapsed": false
   },
   "outputs": [],
   "source": [
    "def g_secant(fun, f_old, x, x_old):\n",
    "    \"\"\"\n",
    "    Implements the update rule for the secant method\n",
    "    \"\"\"\n",
    "    f = fun(x)\n",
    "    fd = (f - f_old) / (x - x_old)\n",
    "\n",
    "    return x - f * fd**(-1), f\n",
    "\n",
    "\n",
    "def my_secant(fun, x, tol1 = 1e-8,  tol2 = 1e-8, maxit = 100):\n",
    "    \"\"\"\n",
    "    Implements the secant method for a univariate scalar function\n",
    "    \"\"\"        \n",
    "    dist = 1\n",
    "    it = 0\n",
    "    \n",
    "    x_old = 0.9 * x\n",
    "    f_old = fun(x_old)\n",
    "\n",
    "    while dist > tol1 and it < maxit:\n",
    "        it += 1\n",
    "        x_new, f = g_secant(fun, f_old, x, x_old)\n",
    "        dist = abs(x - x_new)\n",
    "        \n",
    "        ## store \"old\" function and x value for next iteration\n",
    "        f_old = f\n",
    "        x_old = x\n",
    "        \n",
    "        x = x_new\n",
    "        print(x_new)\n",
    "\n",
    "    print(\"Number of iterations = {}\".format(it) )\n",
    "    \n",
    "    if abs(fun(x)) < tol2: \n",
    "        return x\n",
    "    else:\n",
    "        print(\"No solution found!\")"
   ]
  },
  {
   "cell_type": "code",
   "execution_count": 42,
   "metadata": {
    "collapsed": false
   },
   "outputs": [
    {
     "name": "stdout",
     "output_type": "stream",
     "text": [
      "0.56032103275\n",
      "0.439946290312\n",
      "0.398938029656\n",
      "0.408647798005\n",
      "0.408297121241\n",
      "0.408293502842\n",
      "0.408293504279\n",
      "Number of iterations = 7\n",
      "1 loop, best of 1: 1.64 ms per loop\n"
     ]
    }
   ],
   "source": [
    "%timeit -r1 -n1 my_secant(fun, 0.01)"
   ]
  },
  {
   "cell_type": "markdown",
   "metadata": {},
   "source": [
    "## Question 5 (N)\n",
    "\n",
    "Solve question 3.7 in M&F, p. 55."
   ]
  },
  {
   "cell_type": "markdown",
   "metadata": {},
   "source": [
    "The problem of agent $i$ is given by\n",
    "\n",
    "\\begin{equation}\n",
    "    \\max U_i(x) = \\sum_{j = 1}^2 a_{ij} (v_{ij} + 1)^{-1} x_{ij}^{v_{ij} + 1} \n",
    "\\end{equation}\n",
    "\n",
    "s.t. $p_1 x_{i1} + p_2 x_{i2} = p_1 e_{i1} + p_2 e_{i2}$. \n",
    "\n",
    "\n",
    "Taking first-conditions gives \n",
    "\n",
    "\\begin{equation}\n",
    "    \\frac{\\partial U_i(x)}{\\partial x_{ij}} = U_{ij}(x) = a_{ij} x_{ij}^{v_{ij}} = \\lambda_i p_j\n",
    "\\end{equation},\n",
    "\n",
    "where $\\lambda_i$ is the Lagrange multiplier corresponding to agent $i$.\n",
    "\n",
    "Hence, we have three first order conditions, for $i \\in \\{1, 2, 3\\}$:\n",
    "\n",
    "\\begin{equation}\n",
    "     \\frac{ a_{i1} x_{i1}^{v_{i1}} }{p_1} - \\frac{ a_{i2} x_{i2}^{v_{i2}} }{p_2} = 0\n",
    "\\end{equation},\n",
    "\n",
    "Moreover, we have three budget constraints:\n",
    "\n",
    "\\begin{equation}\n",
    "    p_1 x_{i1} + p_2 x_{i2} - p_1 e_{i1} - p_2 e_{i2} = 0\n",
    "\\end{equation}\n",
    "\n"
   ]
  },
  {
   "cell_type": "code",
   "execution_count": 59,
   "metadata": {
    "collapsed": false
   },
   "outputs": [],
   "source": [
    "## read parameters\n",
    "A = np.array([ [2.0, 1.5],\n",
    "               [1.5, 2.0],\n",
    "               [1.5, 2.0]  ])\n",
    "\n",
    "V = np.array([ [-2.0, -0.5],\n",
    "               [-1.5, -0.5],\n",
    "               [-0.5, -1.5] ])\n",
    "\n",
    "E = np.array([ [2.0, 3.0],\n",
    "               [1.0, 2.0],\n",
    "               [4.0, 0.0]  ])"
   ]
  },
  {
   "cell_type": "code",
   "execution_count": 15,
   "metadata": {
    "collapsed": false
   },
   "outputs": [
    {
     "name": "stdout",
     "output_type": "stream",
     "text": [
      "     fun: array([ -6.83511188e-08,  -1.11981393e-08,   1.53259966e-07,\n",
      "        -1.98425867e-08,   7.45912609e-08,  -4.01470297e-08,\n",
      "         8.72361124e-07])\n",
      " message: 'A solution was found at the specified tolerance.'\n",
      "     nit: 91\n",
      "  status: 1\n",
      " success: True\n",
      "       x: array([ 0.70116643,  1.09556257,  0.37164299,  0.55655419,  1.26236889,\n",
      "        0.23466476, -1.01622296])\n",
      "[ 2.01610298  2.99086477  1.45011518  1.7446504   3.53378272  1.26448479\n",
      "  0.3619595 ]\n"
     ]
    }
   ],
   "source": [
    "## define residual function\n",
    "\n",
    "def S(z, A, V, E):\n",
    "    \n",
    "    X = np.array([ [np.exp(z[0]), np.exp(z[1])],\n",
    "               [np.exp(z[2]), np.exp(z[3])],\n",
    "               [np.exp(z[4]), np.exp( z[5])]  ])\n",
    "    p1 = np.exp( z[6])\n",
    "    \n",
    "    S = np.zeros(7)\n",
    "    \n",
    "    ### f.o.c.'s\n",
    "    for i in range(3):\n",
    "        S[i] = A[i, 0] * X[i, 0]**V[i, 0] / p1 - A[i, 1] * X[i, 1]**V[i, 1] / (1 - p1)\n",
    "    \n",
    "    ## budget constraints\n",
    "    for i in range(2):\n",
    "        S[3 + i] = p1 * X[i, 0] + (1 - p1) * X[i, 1] - (p1 * E[i, 0] + (1 - p1) * E[i, 1])\n",
    "    \n",
    "    S[5] = sum(X[:, 1]) - sum(E[:, 1])\n",
    "    \n",
    "    ## resource constraint good 1\n",
    "    S[6] = sum(X[:, 0]) - sum(E[:, 0])\n",
    "    \n",
    "    \n",
    "    return S\n",
    "\n",
    "\n",
    "z0 = np.array([0, 0, 0, 0, 0, 0, -0.5])\n",
    "\n",
    "res = scipy.optimize.root(S, z0, method = 'broyden2', args = (A, V, E))\n",
    "print(res)\n",
    "print( np.exp( res.x ) )"
   ]
  },
  {
   "cell_type": "markdown",
   "metadata": {},
   "source": [
    "## Question 6 (A)\n",
    "\n",
    "(a) Show that the update rule for $A^{(k+1)}$ used in Broyden's method,\n",
    "\n",
    "\\begin{equation}\n",
    " A^{(k+1)} = A^{(k)} + \\frac{ \\left( \\mathbf{f}(\\mathbf{x}^{(k+1)}) - \\mathbf{f}(\\mathbf{x}^{(k)}) - A^{(k)} \\mathbf{p}^{(k)} \\right) (\\mathbf{p}^{(k)})^T}{(\\mathbf{p}^{(k)})^T \\mathbf{p}^{(k)}}\n",
    "\\end{equation}\n",
    "\n",
    "satisfies the secant condition,\n",
    "\n",
    "\\begin{equation}\n",
    " A^{(k+1)} \\mathbf{p}^{(k)} = \\mathbf{f}(\\mathbf{x}^{(k+1)}) - \\mathbf{f}(\\mathbf{x}^{(k)}).\n",
    "\\end{equation}\n",
    "\n",
    " and\n",
    "\n",
    "\\begin{equation}\n",
    " A^{(k+1)} \\mathbf{q} = A^{(k)} \\mathbf{q}\\ \\ \\text{for}\\ \\ \\mathbf{q}^{T} \\mathbf{p}^{(k)} = 0\n",
    "\\end{equation}.\n",
    "\n",
    "(b) To prepare question (c), Show that for any vector $\\mathbf{p} \\in \\mathbb{R}^n$, we have \n",
    "\n",
    "\\begin{equation}\n",
    "    \\left| \\left| \\frac{\\mathbf{p}\\ \\mathbf{p}^T}{\\mathbf{p}^T \\mathbf{p} } \\right| \\right| = 1\n",
    "\\end{equation}\n",
    "\n",
    "\n",
    "(c) Using the result from question (b), show that\n",
    "\n",
    "\\begin{equation}\n",
    " A^{(k+1)} \\in \\arg \\min_{A :\\ A \\mathbf{p}^{(k)} = \\mathbf{f}(\\mathbf{x}^{(k+1)}) - \\mathbf{f}(\\mathbf{x}^{(k)})} ||\\ A - A^{(k)} ||\n",
    "\\end{equation}\n",
    "\n",
    "Hint: Use the update rule in (a) to rewrite the distance $||\\ A^{(k+1)}  - A^{(k)} ||$."
   ]
  }
 ],
 "metadata": {
  "kernelspec": {
   "display_name": "Python 3",
   "language": "python",
   "name": "python3"
  },
  "language_info": {
   "codemirror_mode": {
    "name": "ipython",
    "version": 3
   },
   "file_extension": ".py",
   "mimetype": "text/x-python",
   "name": "python",
   "nbconvert_exporter": "python",
   "pygments_lexer": "ipython3",
   "version": "3.6.0"
  }
 },
 "nbformat": 4,
 "nbformat_minor": 0
}
